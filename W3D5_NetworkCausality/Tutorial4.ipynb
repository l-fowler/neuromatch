{
  "cells": [
    {
      "cell_type": "markdown",
      "metadata": {
        "id": "view-in-github",
        "colab_type": "text"
      },
      "source": [
        "<a href=\"https://colab.research.google.com/github/l-fowler/neuromatch/blob/main/W3D5_NetworkCausality/Tutorial4.ipynb\" target=\"_parent\"><img src=\"https://colab.research.google.com/assets/colab-badge.svg\" alt=\"Open In Colab\"/></a>"
      ]
    },
    {
      "cell_type": "markdown",
      "metadata": {
        "execution": {},
        "id": "J0WOttFbo1XI"
      },
      "source": [
        "# Tutorial 4: Instrumental Variables\n",
        "**Week 3, Day 5: Network Causality**\n",
        "\n",
        "**By Neuromatch Academy**\n",
        "\n",
        "**Content creators**: Ari Benjamin, Tony Liu, Konrad Kording\n",
        "\n",
        "**Content reviewers**: Mike X Cohen, Madineh Sarvestani, Yoni Friedman, Ella Batty, Michael Waskom\n",
        "\n",
        "**Post-production team:** Gagana B, Spiros Chavlis"
      ]
    },
    {
      "cell_type": "markdown",
      "metadata": {
        "execution": {},
        "id": "5eWUu0mno1XN"
      },
      "source": [
        "<p align='center'><img src='https://github.com/NeuromatchAcademy/widgets/blob/master/sponsors.png?raw=True'/></p>"
      ]
    },
    {
      "cell_type": "markdown",
      "metadata": {
        "execution": {},
        "id": "RW7XqvYco1XO"
      },
      "source": [
        "---\n",
        "# Tutorial objectives\n",
        "\n",
        "*Estimated timing of tutorial: 1 hour, 5 min*\n",
        "\n",
        "This is our final tutorial on our day of examining causality. Below is the high level outline of what we've covered today, with the sections we will focus on in this notebook in bold:\n",
        "\n",
        "1.   Master definitions of causality\n",
        "2.   Understand that estimating causality is possible\n",
        "3.   Learn 4 different methods and understand when they fail\n",
        "    1. perturbations\n",
        "    2. correlations\n",
        "    3. simultaneous fitting/regression\n",
        "    4. **instrumental variables**\n",
        "\n",
        "### Notebook 4 Objectives\n",
        "\n",
        "In tutorial 3 we saw that even more sophisticated techniques such as simultaneous fitting fail to capture causality in the presence of omitted variable bias. So what techniques are there for us to obtain valid causal measurements when we can't perturb the system? Here we will:\n",
        "\n",
        "- learn about **instrumental variables,** a method that does not require experimental data for valid causal analysis\n",
        "- explore benefits of instrumental variable analysis and limitations\n",
        "    - addresses **omitted variable bias** seen in regression\n",
        "    - less efficient in terms of sample size than other techniques\n",
        "    - requires a particular form of randomness in the system in order for causal effects to be identified"
      ]
    },
    {
      "cell_type": "code",
      "execution_count": 20,
      "metadata": {
        "cellView": "form",
        "execution": {},
        "id": "E4aBdCo5o1XP",
        "colab": {
          "base_uri": "https://localhost:8080/",
          "height": 501
        },
        "outputId": "c0453215-1c2a-4cfc-9937-e4494dc69a51"
      },
      "outputs": [
        {
          "output_type": "execute_result",
          "data": {
            "text/plain": [
              "<IPython.lib.display.IFrame at 0x7fc69766af10>"
            ],
            "text/html": [
              "\n",
              "        <iframe\n",
              "            width=\"854\"\n",
              "            height=\"480\"\n",
              "            src=\"https://mfr.ca-1.osf.io/render?url=https://osf.io/gp4m9/?direct%26mode=render%26action=download%26mode=render\"\n",
              "            frameborder=\"0\"\n",
              "            allowfullscreen\n",
              "        ></iframe>\n",
              "        "
            ]
          },
          "metadata": {},
          "execution_count": 20
        }
      ],
      "source": [
        "# @title Tutorial slides\n",
        "\n",
        "# @markdown These are the slides for the videos in all tutorials today\n",
        "from IPython.display import IFrame\n",
        "IFrame(src=f\"https://mfr.ca-1.osf.io/render?url=https://osf.io/gp4m9/?direct%26mode=render%26action=download%26mode=render\", width=854, height=480)"
      ]
    },
    {
      "cell_type": "markdown",
      "metadata": {
        "execution": {},
        "id": "2SNgJMsDo1XQ"
      },
      "source": [
        "---\n",
        "# Setup"
      ]
    },
    {
      "cell_type": "code",
      "execution_count": 21,
      "metadata": {
        "cellView": "both",
        "execution": {},
        "id": "rFC3OYHvo1XR"
      },
      "outputs": [],
      "source": [
        "# Imports\n",
        "\n",
        "import numpy as np\n",
        "import matplotlib.pyplot as plt\n",
        "from mpl_toolkits.axes_grid1 import make_axes_locatable\n",
        "\n",
        "from sklearn.multioutput import MultiOutputRegressor\n",
        "from sklearn.linear_model import LinearRegression, Lasso"
      ]
    },
    {
      "cell_type": "code",
      "execution_count": 22,
      "metadata": {
        "cellView": "form",
        "execution": {},
        "id": "op7UVBWYo1XS"
      },
      "outputs": [],
      "source": [
        "#@title Figure Settings\n",
        "import ipywidgets as widgets       # interactive display\n",
        "%config InlineBackend.figure_format = 'retina'\n",
        "plt.style.use(\"https://raw.githubusercontent.com/NeuromatchAcademy/course-content/main/nma.mplstyle\")"
      ]
    },
    {
      "cell_type": "code",
      "execution_count": 23,
      "metadata": {
        "cellView": "form",
        "execution": {},
        "id": "913_hzC1o1XT"
      },
      "outputs": [],
      "source": [
        "# @title Plotting Functions\n",
        "\n",
        "def see_neurons(A, ax):\n",
        "    \"\"\"\n",
        "    Visualizes the connectivity matrix.\n",
        "\n",
        "    Args:\n",
        "        A (np.ndarray): the connectivity matrix of shape (n_neurons, n_neurons)\n",
        "        ax (plt.axis): the matplotlib axis to display on\n",
        "\n",
        "    Returns:\n",
        "        Nothing, but visualizes A.\n",
        "    \"\"\"\n",
        "    A = A.T  # make up for opposite connectivity\n",
        "    n = len(A)\n",
        "    ax.set_aspect('equal')\n",
        "    thetas = np.linspace(0, np.pi * 2, n,endpoint=False)\n",
        "    x, y = np.cos(thetas), np.sin(thetas),\n",
        "    ax.scatter(x, y, c='k',s=150)\n",
        "    A = A / A.max()\n",
        "    for i in range(n):\n",
        "        for j in range(n):\n",
        "            if A[i, j] > 0:\n",
        "                ax.arrow(x[i], y[i], x[j] - x[i], y[j] - y[i], color='k', alpha=A[i, j], head_width=.15,\n",
        "                        width = A[i,j] / 25, shape='right', length_includes_head=True)\n",
        "    ax.axis('off')\n",
        "\n",
        "def plot_neural_activity(X):\n",
        "  \"\"\"Plot first 10 timesteps of neural activity\n",
        "\n",
        "  Args:\n",
        "    X (ndarray): neural activity (n_neurons by timesteps)\n",
        "\n",
        "  \"\"\"\n",
        "  f, ax = plt.subplots()\n",
        "  im = ax.imshow(X[:, :10], aspect='auto')\n",
        "  divider = make_axes_locatable(ax)\n",
        "  cax1 = divider.append_axes(\"right\", size=\"5%\", pad=0.15)\n",
        "  plt.colorbar(im, cax=cax1)\n",
        "  ax.set(xlabel='Timestep', ylabel='Neuron', title='Simulated Neural Activity')\n",
        "\n",
        "\n",
        "def compare_granger_connectivity(A, reject_null, selected_neuron):\n",
        "  \"\"\"Plot granger connectivity vs true\n",
        "\n",
        "  Args:\n",
        "    A (ndarray): true connectivity (n_neurons by n_neurons)\n",
        "    reject_null (list): outcome of granger causality, length n_neurons\n",
        "    selecte_neuron (int): the neuron we are plotting connectivity from\n",
        "\n",
        "  \"\"\"\n",
        "  fig, axs = plt.subplots(1, 2, figsize=(10, 5))\n",
        "\n",
        "  im = axs[0].imshow(A[:, [selected_neuron]], cmap='coolwarm', aspect='auto')\n",
        "  plt.colorbar(im, ax = axs[0])\n",
        "  axs[0].set_xticks([0])\n",
        "  axs[0].set_xticklabels([selected_neuron])\n",
        "  axs[0].title.set_text(\"True connectivity for neuron {}\".format(selected_neuron))\n",
        "\n",
        "  im = axs[1].imshow(np.array([reject_null]).transpose(), cmap='coolwarm', aspect='auto')\n",
        "  plt.colorbar(im, ax=axs[1])\n",
        "  axs[1].set_xticks([0])\n",
        "  axs[1].set_xticklabels([selected_neuron])\n",
        "  axs[1].title.set_text(\"Granger causality connectivity for neuron {}\".format(selected_neuron))\n",
        "\n",
        "\n",
        "def plot_performance_vs_eta(etas, corr_data):\n",
        "  \"\"\" Plot IV estimation performance as a function of instrument strength\n",
        "\n",
        "    Args:\n",
        "      etas (list): list of instrument strengths\n",
        "      corr_data (ndarray): n_trials x len(etas) array where each element is the correlation\n",
        "        between true and estimated connectivity matries for that trial and\n",
        "        instrument strength\n",
        "\n",
        "  \"\"\"\n",
        "  corr_mean = corr_data.mean(axis=0)\n",
        "  corr_std = corr_data.std(axis=0)\n",
        "\n",
        "  plt.plot(etas, corr_mean)\n",
        "  plt.fill_between(etas,\n",
        "              corr_mean - corr_std,\n",
        "              corr_mean + corr_std,\n",
        "              alpha=.2)\n",
        "  plt.xlim([etas[0], etas[-1]])\n",
        "  plt.title(\"IV performance as a function of instrument strength\")\n",
        "  plt.ylabel(\"Correlation b.t. IV and true connectivity\")\n",
        "  plt.xlabel(\"Strength of instrument (eta)\")\n",
        "  plt.show()"
      ]
    },
    {
      "cell_type": "code",
      "execution_count": 24,
      "metadata": {
        "cellView": "form",
        "execution": {},
        "id": "GAR_bKzeo1XU"
      },
      "outputs": [],
      "source": [
        "# @title Helper Functions\n",
        "\n",
        "def sigmoid(x):\n",
        "    \"\"\"\n",
        "    Compute sigmoid nonlinearity element-wise on x.\n",
        "\n",
        "    Args:\n",
        "        x (np.ndarray): the numpy data array we want to transform\n",
        "    Returns\n",
        "        (np.ndarray): x with sigmoid nonlinearity applied\n",
        "    \"\"\"\n",
        "    return 1 / (1 + np.exp(-x))\n",
        "\n",
        "\n",
        "def logit(x):\n",
        "    \"\"\"\n",
        "\n",
        "    Applies the logit (inverse sigmoid) transformation\n",
        "\n",
        "    Args:\n",
        "        x (np.ndarray): the numpy data array we want to transform\n",
        "    Returns\n",
        "        (np.ndarray): x with logit nonlinearity applied\n",
        "    \"\"\"\n",
        "    return np.log(x/(1-x))\n",
        "\n",
        "\n",
        "def create_connectivity(n_neurons, random_state=42, p=0.9):\n",
        "    \"\"\"\n",
        "    Generate our nxn causal connectivity matrix.\n",
        "\n",
        "    Args:\n",
        "        n_neurons (int): the number of neurons in our system.\n",
        "        random_state (int): random seed for reproducibility\n",
        "\n",
        "    Returns:\n",
        "        A (np.ndarray): our 0.1 sparse connectivity matrix\n",
        "    \"\"\"\n",
        "    np.random.seed(random_state)\n",
        "    A_0 = np.random.choice([0, 1], size=(n_neurons, n_neurons), p=[p, 1 - p])\n",
        "\n",
        "    # set the timescale of the dynamical system to about 100 steps\n",
        "    _, s_vals, _ = np.linalg.svd(A_0)\n",
        "    A = A_0 / (1.01 * s_vals[0])\n",
        "\n",
        "    # _, s_val_test, _ = np.linalg.svd(A)\n",
        "    # assert s_val_test[0] < 1, \"largest singular value >= 1\"\n",
        "\n",
        "    return A\n",
        "\n",
        "\n",
        "def simulate_neurons(A, timesteps, random_state=42):\n",
        "    \"\"\"\n",
        "    Simulates a dynamical system for the specified number of neurons and timesteps.\n",
        "\n",
        "    Args:\n",
        "        A (np.array): the connectivity matrix\n",
        "        timesteps (int): the number of timesteps to simulate our system.\n",
        "        random_state (int): random seed for reproducibility\n",
        "\n",
        "    Returns:\n",
        "        - X has shape (n_neurons, timeteps).\n",
        "    \"\"\"\n",
        "    np.random.seed(random_state)\n",
        "\n",
        "    n_neurons = len(A)\n",
        "    X = np.zeros((n_neurons, timesteps))\n",
        "\n",
        "    for t in range(timesteps - 1):\n",
        "        # solution\n",
        "        epsilon = np.random.multivariate_normal(np.zeros(n_neurons), np.eye(n_neurons))\n",
        "        X[:, t + 1] = sigmoid(A.dot(X[:, t]) + epsilon)\n",
        "\n",
        "        assert epsilon.shape == (n_neurons,)\n",
        "    return X\n",
        "\n",
        "\n",
        "def get_sys_corr(n_neurons, timesteps, random_state=42, neuron_idx=None):\n",
        "    \"\"\"\n",
        "    A wrapper function for our correlation calculations between A and R.\n",
        "\n",
        "    Args:\n",
        "        n_neurons (int): the number of neurons in our system.\n",
        "        timesteps (int): the number of timesteps to simulate our system.\n",
        "        random_state (int): seed for reproducibility\n",
        "        neuron_idx (int): optionally provide a neuron idx to slice out\n",
        "\n",
        "    Returns:\n",
        "        A single float correlation value representing the similarity between A and R\n",
        "    \"\"\"\n",
        "\n",
        "    A = create_connectivity(n_neurons, random_state)\n",
        "    X = simulate_neurons(A, timesteps)\n",
        "\n",
        "    R = correlation_for_all_neurons(X)\n",
        "\n",
        "    return np.corrcoef(A.flatten(), R.flatten())[0, 1]\n",
        "\n",
        "\n",
        "def correlation_for_all_neurons(X):\n",
        "  \"\"\"Computes the connectivity matrix for the all neurons using correlations\n",
        "\n",
        "    Args:\n",
        "        X: the matrix of activities\n",
        "\n",
        "    Returns:\n",
        "        estimated_connectivity (np.ndarray): estimated connectivity for the selected neuron, of shape (n_neurons,)\n",
        "  \"\"\"\n",
        "  n_neurons = len(X)\n",
        "  S = np.concatenate([X[:, 1:], X[:, :-1]], axis=0)\n",
        "  R = np.corrcoef(S)[:n_neurons, n_neurons:]\n",
        "  return R\n",
        "\n",
        "\n",
        "def print_corr(v1, v2, corrs, idx_dict):\n",
        "    \"\"\"Helper function for formatting print statements for correlations\"\"\"\n",
        "    text_dict = {'Z':'taxes', 'T':'# cigarettes', 'C':'SES status', 'Y':'birth weight'}\n",
        "    print(\"Correlation between {} and {} ({} and {}): {:.3f}\".format(v1, v2, text_dict[v1], text_dict[v2], corrs[idx_dict[v1], idx_dict[v2]]))\n",
        "\n",
        "\n",
        "def get_regression_estimate(X, neuron_idx=None):\n",
        "    \"\"\"\n",
        "    Estimates the connectivity matrix using lasso regression.\n",
        "\n",
        "    Args:\n",
        "        X (np.ndarray): our simulated system of shape (n_neurons, timesteps)\n",
        "        neuron_idx (int): optionally provide a neuron idx to compute connectivity for\n",
        "    Returns:\n",
        "        V (np.ndarray): estimated connectivity matrix of shape (n_neurons, n_neurons).\n",
        "                        if neuron_idx is specified, V is of shape (n_neurons,).\n",
        "    \"\"\"\n",
        "    n_neurons = X.shape[0]\n",
        "\n",
        "    # Extract Y and W as defined above\n",
        "    W = X[:, :-1].transpose()\n",
        "    if neuron_idx is None:\n",
        "        Y = X[:, 1:].transpose()\n",
        "    else:\n",
        "        Y = X[[neuron_idx], 1:].transpose()\n",
        "\n",
        "    # apply inverse sigmoid transformation\n",
        "    Y = logit(Y)\n",
        "\n",
        "    # fit multioutput regression\n",
        "    regression = MultiOutputRegressor(Lasso(fit_intercept=False, alpha=0.01), n_jobs=-1)\n",
        "\n",
        "    regression.fit(W,Y)\n",
        "\n",
        "    if neuron_idx is None:\n",
        "        V = np.zeros((n_neurons, n_neurons))\n",
        "        for i, estimator in enumerate(regression.estimators_):\n",
        "            V[i, :] = estimator.coef_\n",
        "    else:\n",
        "        V = regression.estimators_[0].coef_\n",
        "\n",
        "    return V\n",
        "\n",
        "\n",
        "def get_regression_corr(n_neurons, timesteps, random_state, observed_ratio, regression_args, neuron_idx=None):\n",
        "    \"\"\"\n",
        "    A wrapper function for our correlation calculations between A and the V estimated\n",
        "    from regression.\n",
        "\n",
        "    Args:\n",
        "        n_neurons (int): the number of neurons in our system.\n",
        "        timesteps (int): the number of timesteps to simulate our system.\n",
        "        random_state (int): seed for reproducibility\n",
        "        observed_ratio (float): the proportion of n_neurons observed, must be betweem 0 and 1.\n",
        "        regression_args (dict): dictionary of lasso regression arguments and hyperparameters\n",
        "        neuron_idx (int): optionally provide a neuron idx to compute connectivity for\n",
        "\n",
        "    Returns:\n",
        "        A single float correlation value representing the similarity between A and R\n",
        "    \"\"\"\n",
        "    assert (observed_ratio > 0) and (observed_ratio <= 1)\n",
        "\n",
        "    A = create_connectivity(n_neurons, random_state)\n",
        "    X = simulate_neurons(A, timesteps)\n",
        "\n",
        "    sel_idx = np.clip(int(n_neurons*observed_ratio), 1, n_neurons)\n",
        "\n",
        "    sel_X = X[:sel_idx, :]\n",
        "    sel_A = A[:sel_idx, :sel_idx]\n",
        "\n",
        "    sel_V = get_regression_estimate(sel_X, neuron_idx=neuron_idx)\n",
        "    if neuron_idx is None:\n",
        "        return np.corrcoef(sel_A.flatten(), sel_V.flatten())[1, 0]\n",
        "    else:\n",
        "        return np.corrcoef(sel_A[neuron_idx, :], sel_V)[1, 0]\n",
        "\n",
        "\n",
        "def get_regression_estimate_full_connectivity(X):\n",
        "    \"\"\"\n",
        "    Estimates the connectivity matrix using lasso regression.\n",
        "\n",
        "    Args:\n",
        "        X (np.ndarray): our simulated system of shape (n_neurons, timesteps)\n",
        "        neuron_idx (int): optionally provide a neuron idx to compute connectivity for\n",
        "    Returns:\n",
        "        V (np.ndarray): estimated connectivity matrix of shape (n_neurons, n_neurons).\n",
        "                        if neuron_idx is specified, V is of shape (n_neurons,).\n",
        "    \"\"\"\n",
        "    n_neurons = X.shape[0]\n",
        "\n",
        "    # Extract Y and W as defined above\n",
        "    W = X[:, :-1].transpose()\n",
        "    Y = X[:, 1:].transpose()\n",
        "\n",
        "    # apply inverse sigmoid transformation\n",
        "    Y = logit(Y)\n",
        "\n",
        "    # fit multioutput regression\n",
        "    reg = MultiOutputRegressor(Lasso(fit_intercept=False, alpha=0.01, max_iter=200), n_jobs=-1)\n",
        "    reg.fit(W, Y)\n",
        "\n",
        "    V = np.zeros((n_neurons, n_neurons))\n",
        "    for i, estimator in enumerate(reg.estimators_):\n",
        "        V[i, :] = estimator.coef_\n",
        "\n",
        "    return V\n",
        "\n",
        "\n",
        "def get_regression_corr_full_connectivity(n_neurons, A, X, observed_ratio, regression_args):\n",
        "    \"\"\"\n",
        "    A wrapper function for our correlation calculations between A and the V estimated\n",
        "    from regression.\n",
        "\n",
        "    Args:\n",
        "        n_neurons (int): number of neurons\n",
        "        A (np.ndarray): connectivity matrix\n",
        "        X (np.ndarray): dynamical system\n",
        "        observed_ratio (float): the proportion of n_neurons observed, must be betweem 0 and 1.\n",
        "        regression_args (dict): dictionary of lasso regression arguments and hyperparameters\n",
        "\n",
        "    Returns:\n",
        "        A single float correlation value representing the similarity between A and R\n",
        "    \"\"\"\n",
        "    assert (observed_ratio > 0) and (observed_ratio <= 1)\n",
        "\n",
        "    sel_idx = np.clip(int(n_neurons*observed_ratio), 1, n_neurons)\n",
        "\n",
        "    sel_X = X[:sel_idx, :]\n",
        "    sel_A = A[:sel_idx, :sel_idx]\n",
        "\n",
        "    sel_V = get_regression_estimate_full_connectivity(sel_X)\n",
        "    return np.corrcoef(sel_A.flatten(), sel_V.flatten())[1,0], sel_V"
      ]
    },
    {
      "cell_type": "markdown",
      "metadata": {
        "execution": {},
        "id": "u7niPLeFo1XY"
      },
      "source": [
        "The helper functions defined above are:\n",
        "- `sigmoid`: computes sigmoid nonlinearity element-wise on input, from Tutorial 1\n",
        "- `logit`: applies the logit (inverse sigmoid) transformation, from Tutorial 3\n",
        "- `create_connectivity`: generates nxn causal connectivity matrix., from Tutorial 1\n",
        "- `simulate_neurons`: simulates a dynamical system for the specified number of neurons and timesteps, from Tutorial 1\n",
        "- `get_sys_corr`: a wrapper function for correlation calculations between A and R, from Tutorial 2\n",
        "- `correlation_for_all_neurons`: computes the connectivity matrix for the all neurons using correlations, from Tutorial 2\n",
        "- `print_corr`: formats print statements for correlations\n",
        "- `get_regression_estimate`: estimates the connectivity matrix using lasso regression, from Tutorial 3\n",
        "- `get_regression_corr`: a wrapper function for our correlation calculations between A and the V estimated from regression.\n",
        "- `get_regression_estimate_full_connectivity`: estimates the connectivity matrix using lasso regression, from Tutorial 3\n",
        "- `get_regression_corr_full_connectivity`: a wrapper function for our correlation calculations between A and the V estimated from regression, from Tutorial 3\n",
        "\n"
      ]
    },
    {
      "cell_type": "markdown",
      "metadata": {
        "execution": {},
        "id": "abBSOEhMo1XY"
      },
      "source": [
        "---\n",
        "# Section 1: Instrumental Variables"
      ]
    },
    {
      "cell_type": "code",
      "execution_count": 25,
      "metadata": {
        "cellView": "form",
        "execution": {},
        "id": "m9i842CKo1XZ",
        "colab": {
          "base_uri": "https://localhost:8080/",
          "height": 580,
          "referenced_widgets": [
            "8921e915496048f18e9e9490424214a4",
            "ed8bbbe376a841af86cac1d119a481f3",
            "3ff87ee5acc440059ad64138ac180974",
            "eb0ee955a5914531813766f8d3cc383f",
            "dc37b589edb548cfa97df631af4bf5b5",
            "6258d07f8224484286da3868da19a232"
          ]
        },
        "outputId": "ee26765c-df9f-48f6-b53a-2b0eb59796be"
      },
      "outputs": [
        {
          "output_type": "display_data",
          "data": {
            "text/plain": [
              "Tab(children=(Output(), Output()), _titles={'0': 'Youtube', '1': 'Bilibili'})"
            ],
            "application/vnd.jupyter.widget-view+json": {
              "version_major": 2,
              "version_minor": 0,
              "model_id": "8921e915496048f18e9e9490424214a4"
            }
          },
          "metadata": {}
        }
      ],
      "source": [
        "# @title Video 1: Instrumental Variables\n",
        "from ipywidgets import widgets\n",
        "\n",
        "out2 = widgets.Output()\n",
        "with out2:\n",
        "  from IPython.display import IFrame\n",
        "  class BiliVideo(IFrame):\n",
        "      def __init__(self, id, page=1, width=400, height=300, **kwargs):\n",
        "          self.id=id\n",
        "          src = 'https://player.bilibili.com/player.html?bvid={0}&page={1}'.format(id, page)\n",
        "          super(BiliVideo, self).__init__(src, width, height, **kwargs)\n",
        "\n",
        "  video = BiliVideo(id=\"BV1of4y1R7L1\", width=854, height=480, fs=1)\n",
        "  print('Video available at https://www.bilibili.com/video/{0}'.format(video.id))\n",
        "  display(video)\n",
        "\n",
        "out1 = widgets.Output()\n",
        "with out1:\n",
        "  from IPython.display import YouTubeVideo\n",
        "  video = YouTubeVideo(id=\"0gkav6BS4-w\", width=854, height=480, fs=1, rel=0)\n",
        "  print('Video available at https://youtube.com/watch?v=' + video.id)\n",
        "  display(video)\n",
        "\n",
        "out = widgets.Tab([out1, out2])\n",
        "out.set_title(0, 'Youtube')\n",
        "out.set_title(1, 'Bilibili')\n",
        "\n",
        "display(out)"
      ]
    },
    {
      "cell_type": "markdown",
      "metadata": {
        "execution": {},
        "id": "hs51KNi9o1Xa"
      },
      "source": [
        "If there is randomness naturally occurring in the system *that we can observe*, this in effect becomes the perturbations we can use to recover causal effects. This is called an **instrumental variable**. At high level, an instrumental variable must\n",
        "\n",
        "1. Be observable\n",
        "2. Affect a covariate you care about\n",
        "3. **Not** affect the outcome, except through the covariate\n",
        "\n",
        "It's rare to find these things in the wild, but when you do it's very powerful."
      ]
    },
    {
      "cell_type": "markdown",
      "metadata": {
        "execution": {},
        "id": "lFYEsOw4o1Xa"
      },
      "source": [
        "<figure>\n",
        "<img src=\"https://raw.githubusercontent.com/NeuromatchAcademy/course-content/main/tutorials/W3D5_NetworkCausality/static/image_t4.png\">\n",
        "</figure>"
      ]
    },
    {
      "cell_type": "markdown",
      "metadata": {
        "execution": {},
        "id": "MtPOWN1co1Xb"
      },
      "source": [
        "## Section 1.1: A non-neuro example of an IV\n",
        "A classic example is estimating the effect of smoking cigarettes while pregnant on the birth weight of the infant. There is a (negative) correlation, but is it causal? Unfortunately many confounds affect both birth weight and smoking. Wealth is a big one.\n",
        "\n",
        "Instead of controlling everything imaginable, one can find an IV. Here the instrumental variable is **state taxes on tobacco**. These\n",
        "\n",
        "\n",
        "1.   Are observable\n",
        "2.   Affect tobacco consumption\n",
        "3.   Don't affect birth weight except through tobacco\n",
        "\n",
        "By using the power of IV techniques, you can determine the causal effect without exhaustively controlling for everything.\n"
      ]
    },
    {
      "cell_type": "markdown",
      "metadata": {
        "execution": {},
        "id": "LyGqdbtWo1Xc"
      },
      "source": [
        "Let's represent our tobacco example above with the following notation:\n",
        "\n",
        "- $Z_{\\text{taxes}}$: our tobacco tax **instrument**, which only affects an individual's tendency to smoke while pregnant within our system\n",
        "- $T_{\\text{smoking}}$: number of cigarettes smoked per day while pregnant, our \"treatment\" if this were a randomized trial\n",
        "- $C_{\\text{SES}}$: socioeconomic status (higher means wealthier), a **confounder** if it is not observed\n",
        "- $Y_{\\text{birthweight}}$: child birthweight in grams, our outcome of interest\n",
        "\n",
        "Let's suppose we have the following function for our system:\n",
        "\n",
        "$Y_{\\text{birthweight}} = 3000 + C_{\\text{SES}} - 2T_{\\text{smoking}},$\n",
        "\n",
        "with the additional fact that $C_{\\text{SES}}$ is negatively correlated with $T_{\\text{smoking}}$. \n",
        "\n",
        "The causal effect we wish to estimate is the coefficient $-2$ for $T_{\\text{smoking}}$, which means that if a mother smokes one additional cigarette per day while pregnant her baby will be 2 grams lighter at birth.\n",
        "\n",
        "We've provided a covariance matrix with the desired structure in the code cell below, so please run it to look at the correlations between our variables."
      ]
    },
    {
      "cell_type": "code",
      "execution_count": 26,
      "metadata": {
        "cellView": "form",
        "execution": {},
        "id": "s7Y0Qirvo1Xe",
        "colab": {
          "base_uri": "https://localhost:8080/"
        },
        "outputId": "c46ddcfd-1212-4409-fb3c-20f2b17a5f59"
      },
      "outputs": [
        {
          "output_type": "stream",
          "name": "stdout",
          "text": [
            "Correlation between C and T (SES status and # cigarettes): -0.483\n",
            "Correlation between C and Y (SES status and birth weight): 0.740\n"
          ]
        }
      ],
      "source": [
        "# @markdown Execute this cell to see correlations with C\n",
        "# run this code below to generate our setup\n",
        "idx_dict = {\n",
        "    'Z': 0,\n",
        "    'T': 1,\n",
        "    'C': 2,\n",
        "    'Y': 3\n",
        "}\n",
        "# vars:             Z    T    C\n",
        "covar = np.array([[1.0, 0.5, 0.0],  # Z\n",
        "                  [0.5, 1.0, -0.5],  # T\n",
        "                  [0.0, -0.5, 1.0]])  # C\n",
        "# vars:  Z  T  C\n",
        "means = [0, 5, 2]\n",
        "\n",
        "# generate some data\n",
        "np.random.seed(42)\n",
        "data = np.random.multivariate_normal(mean=means, cov=2 * covar, size=2000)\n",
        "\n",
        "# generate Y from our equation above\n",
        "Y = 3000 + data[:, idx_dict['C']] - (2 * (data[:, idx_dict['T']]))\n",
        "\n",
        "data = np.concatenate([data, Y.reshape(-1, 1)], axis=1)\n",
        "\n",
        "Z = data[:, [idx_dict['Z']]]\n",
        "T = data[:, [idx_dict['T']]]\n",
        "C = data[:, [idx_dict['C']]]\n",
        "Y = data[:, [idx_dict['Y']]]\n",
        "\n",
        "corrs = np.corrcoef(data.transpose())\n",
        "\n",
        "print_corr('C', 'T', corrs, idx_dict)\n",
        "print_corr('C', 'Y', corrs, idx_dict)"
      ]
    },
    {
      "cell_type": "markdown",
      "metadata": {
        "execution": {},
        "id": "l89l6rXFo1Xe"
      },
      "source": [
        "We see what is exactly represented in our graph above: $C_{\\text{SES}}$ is correlated with both $T_{\\text{smoking}}$ and $Y_{\\text{birthweight}}$, so $C_{\\text{SES}}$ is a potential confounder if not included in our analysis. Let's say that it is difficult to observe and quantify $C_{\\text{SES}}$, so we do not have it available to regress against. This is another example of the **omitted variable bias** we saw in the last tutorial.\n",
        "\n",
        "What about $Z_{\\text{taxes}}$? Does it satisfy conditions 1, 2, and 3 of an instrument?"
      ]
    },
    {
      "cell_type": "code",
      "execution_count": 27,
      "metadata": {
        "cellView": "form",
        "execution": {},
        "id": "4j31SNAro1Xe",
        "colab": {
          "base_uri": "https://localhost:8080/"
        },
        "outputId": "a6b5e3c2-84e6-46f3-9a32-6d7bc26d2068"
      },
      "outputs": [
        {
          "output_type": "stream",
          "name": "stdout",
          "text": [
            "Condition 2?\n",
            "Correlation between Z and T (taxes and # cigarettes): 0.519\n",
            "Condition 3?\n",
            "Correlation between Z and C (taxes and SES status): 0.009\n"
          ]
        }
      ],
      "source": [
        "#@markdown Execute this cell to see correlations of Z\n",
        "print(\"Condition 2?\")\n",
        "print_corr('Z', 'T', corrs, idx_dict)\n",
        "print(\"Condition 3?\")\n",
        "print_corr('Z', 'C', corrs, idx_dict)"
      ]
    },
    {
      "cell_type": "markdown",
      "metadata": {
        "execution": {},
        "id": "oA47Wguho1Xe"
      },
      "source": [
        "Perfect! We see that $Z_{\\text{taxes}}$ is correlated with $T_{\\text{smoking}}$ (#2) but is uncorrelated with $C_{\\text{SES}}$ (#3).  $Z_\\text{taxes}$ is also observable (#1), so we've satisfied our three criteria for an instrument:\n",
        "\n",
        "1.   $Z_\\text{taxes}$ is observable\n",
        "2.   $Z_\\text{taxes}$ affects $T_{\\text{smoking}}$\n",
        "3.   $Z_\\text{taxes}$ doesn't affect $Y_{\\text{birthweight}}$ except through $T_{\\text{smoking}}$ (ie $Z_\\text{taxes}$ doesn't affect or is affected by $C_\\text{SES}$)"
      ]
    },
    {
      "cell_type": "markdown",
      "metadata": {
        "execution": {},
        "id": "qSvtkq6Ro1Xf"
      },
      "source": [
        "## Section 1.2: How IV works, at high level\n",
        "\n",
        "The easiest way to imagine IV is that the instrument is **an observable source of \"randomness\"** that affects the treatment. In this way it's similar to the interventions we talked about in Tutorial 1.\n",
        "\n",
        "But how do you actually use the instrument? The key is that we need to extract **the component of the treatment that is due only to the effect of the instrument**. We will call this component $\\hat{T}$.\n",
        "$$\n",
        "\\hat{T}\\leftarrow \\text{The unconfounded component of }T\n",
        "$$\n",
        "Getting $\\hat{T}$ is fairly simple. It is simply the predicted value of $T$ found in a regression that has only the instrument $Z$ as input.\n",
        "\n",
        "Once we have the unconfounded component in hand, getting the causal effect is as easy as regressing the outcome on $\\hat{T}$."
      ]
    },
    {
      "cell_type": "markdown",
      "metadata": {
        "execution": {},
        "id": "mooJlLpTo1Xf"
      },
      "source": [
        "## Section 1.3: IV estimation using two-stage least squares\n",
        "\n",
        "The fundamental technique for instrumental variable estimation is **two-stage least squares**. \n",
        "\n",
        "We run two regressions:\n",
        "\n",
        "1. The first stage gets  $\\hat{T}_{\\text{smoking}}$ by regressing $T_{\\text{smoking}}$ on $Z_\\text{taxes}$, fitting the parameter $\\hat{\\alpha}$:\n",
        "\n",
        "\\begin{equation}\n",
        "\\hat{T}_{\\text{smoking}} = \\hat{\\alpha} Z_\\text{taxes}\n",
        "\\end{equation}\n",
        "\n",
        "2. The second stage then regresses $Y_{\\text{birthweight}}$ on $\\hat{T}_{\\text{smoking}}$ to obtain an estimate $\\hat{\\beta}$ of the causal effect:\n",
        "\n",
        "\\begin{equation}\n",
        "\\hat{Y}_{\\text{birthweight}} = \\hat{\\beta} \\hat{T}_{\\text{smoking}} \n",
        "\\end{equation}\n",
        "\n",
        "The first stage estimates the **unconfounded component** of $T_{\\text{smoking}}$ (ie, unaffected by the confounder $C_{\\text{SES}}$), as we discussed above. \n",
        "\n",
        "Then, the second stage uses this unconfounded component $\\hat{T}_{\\text{smoking}}$ to estimate the effect of smoking on $\\hat{Y}_{\\text{birthweight}}$. \n",
        "\n",
        "We will explore how all this works in the next two exercises.\n"
      ]
    },
    {
      "cell_type": "markdown",
      "metadata": {
        "execution": {},
        "id": "YFL_l6glo1Xf"
      },
      "source": [
        "### Section 1.3.1: Least squares regression stage 1"
      ]
    },
    {
      "cell_type": "code",
      "execution_count": 28,
      "metadata": {
        "cellView": "form",
        "execution": {},
        "id": "ttsYf-eEo1Xg",
        "colab": {
          "base_uri": "https://localhost:8080/",
          "height": 581,
          "referenced_widgets": [
            "01002aa3db684c3eaff8be473f7fd8ce",
            "65062ebe728f4a6bba5a7092f08a8ac1",
            "554e38ffdc4940a2bbc2e35a87379651",
            "98f73e5c53974b90a521363856a2e63a",
            "6c4de2a37ec7476ea77349b90e64c521",
            "701f171269a343d4afdbf82a1ece6e92"
          ]
        },
        "outputId": "ab625678-7d2e-4c95-d926-41ed6e3f2eaa"
      },
      "outputs": [
        {
          "output_type": "display_data",
          "data": {
            "text/plain": [
              "Tab(children=(Output(), Output()), _titles={'0': 'Youtube', '1': 'Bilibili'})"
            ],
            "application/vnd.jupyter.widget-view+json": {
              "version_major": 2,
              "version_minor": 0,
              "model_id": "01002aa3db684c3eaff8be473f7fd8ce"
            }
          },
          "metadata": {}
        }
      ],
      "source": [
        "# @title Video 2: Stage 1\n",
        "from ipywidgets import widgets\n",
        "\n",
        "out2 = widgets.Output()\n",
        "with out2:\n",
        "  from IPython.display import IFrame\n",
        "  class BiliVideo(IFrame):\n",
        "      def __init__(self, id, page=1, width=400, height=300, **kwargs):\n",
        "          self.id=id\n",
        "          src = 'https://player.bilibili.com/player.html?bvid={0}&page={1}'.format(id, page)\n",
        "          super(BiliVideo, self).__init__(src, width, height, **kwargs)\n",
        "\n",
        "  video = BiliVideo(id=\"BV1jK4y1x7q5\", width=854, height=480, fs=1)\n",
        "  print('Video available at https://www.bilibili.com/video/{0}'.format(video.id))\n",
        "  display(video)\n",
        "\n",
        "out1 = widgets.Output()\n",
        "with out1:\n",
        "  from IPython.display import YouTubeVideo\n",
        "  video = YouTubeVideo(id=\"4WT0KrySRTg\", width=854, height=480, fs=1, rel=0)\n",
        "  print('Video available at https://youtube.com/watch?v=' + video.id)\n",
        "  display(video)\n",
        "\n",
        "out = widgets.Tab([out1, out2])\n",
        "out.set_title(0, 'Youtube')\n",
        "out.set_title(1, 'Bilibili')\n",
        "\n",
        "display(out)"
      ]
    },
    {
      "cell_type": "markdown",
      "metadata": {
        "execution": {},
        "id": "-ad_Rcfuo1Xg"
      },
      "source": [
        "#### Coding Exercise 1.3.1: Compute regression stage 1\n",
        "\n",
        "Let's run the regression of $T_{\\text{smoking}}$ on $Z_\\text{taxes}$ to compute $\\hat{T}_{\\text{smoking}}$. We will then check whether our estimate is still confounded with $C_{\\text{SES}}$ by comparing the correlation of $C_{\\text{SES}}$  with $T_{\\text{smoking}}$ vs $\\hat{T}_{\\text{smoking}}$.\n",
        "\n",
        "### Suggestions\n",
        "\n",
        "- use the `LinearRegression()` model, already imported from scikit-learn\n",
        "    - use `fit_intercept=True` as the only parameter setting\n",
        "- be sure to check the ordering of the parameters passed to `LinearRegression.fit()`"
      ]
    },
    {
      "cell_type": "code",
      "execution_count": 29,
      "metadata": {
        "execution": {},
        "id": "01n00ivro1Xg",
        "colab": {
          "base_uri": "https://localhost:8080/"
        },
        "outputId": "52ab86e0-d5ad-4d85-c58b-790ece8135f8"
      },
      "outputs": [
        {
          "output_type": "stream",
          "name": "stdout",
          "text": [
            "Correlation between T and C: -0.483\n",
            "Correlation between T_hat and C: 0.009\n"
          ]
        }
      ],
      "source": [
        "def fit_first_stage(T, Z):\n",
        "    \"\"\"\n",
        "    Estimates T_hat as the first stage of a two-stage least squares.\n",
        "\n",
        "    Args:\n",
        "        T (np.ndarray): our observed, possibly confounded, treatment of shape (n, 1)\n",
        "        Z (np.ndarray): our observed instruments of shape (n, 1)\n",
        "\n",
        "    Returns\n",
        "        T_hat (np.ndarray): our estimate of the unconfounded portion of T\n",
        "    \"\"\"\n",
        "\n",
        "    ############################################################################\n",
        "    ## Insert your code here to fit the first stage of the 2-stage least squares\n",
        "    ## estimate.\n",
        "    ## Fill out function and remove\n",
        "    # raise NotImplementedError('Please complete fit_first_stage function')\n",
        "    ############################################################################\n",
        "\n",
        "    # Initialize linear regression model\n",
        "    stage1 = LinearRegression(fit_intercept=True)\n",
        "\n",
        "    # Fit linear regression model\n",
        "    stage1.fit(Z, T)\n",
        "\n",
        "    # Predict T_hat using linear regression model\n",
        "    T_hat = stage1.predict(Z)\n",
        "\n",
        "    return T_hat\n",
        "\n",
        "\n",
        "# Estimate T_hat\n",
        "T_hat = fit_first_stage(T, Z)\n",
        "\n",
        "# Get correlations\n",
        "T_C_corr = np.corrcoef(T.transpose(), C.transpose())[0, 1]\n",
        "T_hat_C_corr = np.corrcoef(T_hat.transpose(), C.transpose())[0, 1]\n",
        "\n",
        "# Print correlations\n",
        "print(\"Correlation between T and C: {:.3f}\".format(T_C_corr))\n",
        "print(\"Correlation between T_hat and C: {:.3f}\".format(T_hat_C_corr))"
      ]
    },
    {
      "cell_type": "markdown",
      "metadata": {
        "execution": {},
        "id": "Tgl8-QXAo1Xg"
      },
      "source": [
        "[*Click for solution*](https://github.com/NeuromatchAcademy/course-content/tree/main//tutorials/W3D5_NetworkCausality/solutions/W3D5_Tutorial4_Solution_009bc559.py)\n",
        "\n"
      ]
    },
    {
      "cell_type": "markdown",
      "metadata": {
        "execution": {},
        "id": "J0t3vzFBo1Xg"
      },
      "source": [
        "You should see a correlation between $T$ and $C$ of `-0.483` and between $\\hat{T}$ and $C$ of `0.009`."
      ]
    },
    {
      "cell_type": "markdown",
      "metadata": {
        "execution": {},
        "id": "pdlVSKSmo1Xh"
      },
      "source": [
        "### Section 1.3.2: Least squares regression stage 2"
      ]
    },
    {
      "cell_type": "code",
      "execution_count": 30,
      "metadata": {
        "cellView": "form",
        "execution": {},
        "id": "gPOGk25jo1Xh",
        "colab": {
          "base_uri": "https://localhost:8080/",
          "height": 581,
          "referenced_widgets": [
            "e3b65be538354357b4e66fa08e88618e",
            "79853b5a88b8418ea2f4b1ed4903eba1",
            "232f10f00c6e4406aae9e1a9f06ecdc2",
            "7629eb76c1544a25bf91296b6bd669ab",
            "ddf58342cc4b4a1cb4d22bc2c65efabd",
            "433cfb720e8b45e2a705b2414a616150"
          ]
        },
        "outputId": "9d07e75e-c637-4e15-b4c8-286bdc915dc1"
      },
      "outputs": [
        {
          "output_type": "display_data",
          "data": {
            "text/plain": [
              "Tab(children=(Output(), Output()), _titles={'0': 'Youtube', '1': 'Bilibili'})"
            ],
            "application/vnd.jupyter.widget-view+json": {
              "version_major": 2,
              "version_minor": 0,
              "model_id": "e3b65be538354357b4e66fa08e88618e"
            }
          },
          "metadata": {}
        }
      ],
      "source": [
        "# @title Video 3: Stage 2\n",
        "from ipywidgets import widgets\n",
        "\n",
        "out2 = widgets.Output()\n",
        "with out2:\n",
        "  from IPython.display import IFrame\n",
        "  class BiliVideo(IFrame):\n",
        "      def __init__(self, id, page=1, width=400, height=300, **kwargs):\n",
        "          self.id=id\n",
        "          src = 'https://player.bilibili.com/player.html?bvid={0}&page={1}'.format(id, page)\n",
        "          super(BiliVideo, self).__init__(src, width, height, **kwargs)\n",
        "\n",
        "  video = BiliVideo(id=\"BV1Kv411q7Wx\", width=854, height=480, fs=1)\n",
        "  print('Video available at https://www.bilibili.com/video/{0}'.format(video.id))\n",
        "  display(video)\n",
        "\n",
        "out1 = widgets.Output()\n",
        "with out1:\n",
        "  from IPython.display import YouTubeVideo\n",
        "  video = YouTubeVideo(id=\"F-_m_Vgv75I\", width=854, height=480, fs=1, rel=0)\n",
        "  print('Video available at https://youtube.com/watch?v=' + video.id)\n",
        "  display(video)\n",
        "\n",
        "out = widgets.Tab([out1, out2])\n",
        "out.set_title(0, 'Youtube')\n",
        "out.set_title(1, 'Bilibili')\n",
        "\n",
        "display(out)"
      ]
    },
    {
      "cell_type": "markdown",
      "metadata": {
        "execution": {},
        "id": "VXl-tCTOo1Xh"
      },
      "source": [
        "#### Coding Exercise 1.3.2: Compute the IV estimate\n",
        "\n",
        "Now let's implement the second stage! Complete the `fit_second_stage()` function below. We will again use a linear regression model with an intercept. We will then use the function from Exercise 1 (`fit_first_stage`) and this function to estimate the full two-stage regression model. We will obtain the estimated causal effect of the number of cigarettes ($T$) on birth weight ($Y$).\n",
        "\n"
      ]
    },
    {
      "cell_type": "code",
      "execution_count": 31,
      "metadata": {
        "execution": {},
        "id": "RgywB3_5o1Xh",
        "colab": {
          "base_uri": "https://localhost:8080/"
        },
        "outputId": "e83b3dba-8e0e-482a-eaf7-6a5f0a42d709"
      },
      "outputs": [
        {
          "output_type": "stream",
          "name": "stdout",
          "text": [
            "Estimated causal effect is: -1.984\n"
          ]
        }
      ],
      "source": [
        "def fit_second_stage(T_hat, Y):\n",
        "    \"\"\"\n",
        "    Estimates a scalar causal effect from 2-stage least squares regression using\n",
        "    an instrument.\n",
        "\n",
        "    Args:\n",
        "        T_hat (np.ndarray): the output of the first stage regression\n",
        "        Y (np.ndarray): our observed response (n, 1)\n",
        "\n",
        "    Returns:\n",
        "        beta (float): the estimated causal effect\n",
        "    \"\"\"\n",
        "    ############################################################################\n",
        "    ## Insert your code here to fit the second stage of the 2-stage least squares\n",
        "    ## estimate.\n",
        "    ## Fill out function and remove\n",
        "    # raise NotImplementedError('Please complete fit_second_stage function')\n",
        "    ############################################################################\n",
        "\n",
        "    # Initialize linear regression model\n",
        "    stage2 = LinearRegression(fit_intercept=True)\n",
        "\n",
        "    # Fit model to data\n",
        "    stage2.fit(T_hat, Y)\n",
        "\n",
        "    return stage2.coef_\n",
        "\n",
        "\n",
        "# Fit first stage\n",
        "T_hat = fit_first_stage(T, Z)\n",
        "\n",
        "# Fit second stage\n",
        "beta = fit_second_stage(T_hat, Y)\n",
        "\n",
        "# Print\n",
        "print(\"Estimated causal effect is: {:.3f}\".format(beta[0, 0]))"
      ]
    },
    {
      "cell_type": "markdown",
      "metadata": {
        "execution": {},
        "id": "WJ54jK_fo1Xi"
      },
      "source": [
        "[*Click for solution*](https://github.com/NeuromatchAcademy/course-content/tree/main//tutorials/W3D5_NetworkCausality/solutions/W3D5_Tutorial4_Solution_6b49df33.py)\n",
        "\n"
      ]
    },
    {
      "cell_type": "markdown",
      "metadata": {
        "execution": {},
        "id": "OWQsD1VKo1Xi"
      },
      "source": [
        "You should obtain an estimated causal effect of `-1.984`. This is quite close to the true causal effect of $-2$!"
      ]
    },
    {
      "cell_type": "markdown",
      "metadata": {
        "execution": {},
        "id": "aNMS3DyDo1Xi"
      },
      "source": [
        "---\n",
        "# Section 2: IVs in our simulated neural system\n",
        "\n",
        "*Estimated timing to here from start of tutorial: 30 min*\n",
        "\n"
      ]
    },
    {
      "cell_type": "code",
      "execution_count": 32,
      "metadata": {
        "cellView": "form",
        "execution": {},
        "id": "rO38FwDRo1Xj",
        "colab": {
          "base_uri": "https://localhost:8080/",
          "height": 581,
          "referenced_widgets": [
            "5cecdfe748064132b9ebe7bf53aecc0b",
            "ff287ac0ebc343908506c736d7a43de5",
            "5015b2b7e8484e5a9770e7a348f67d50",
            "8b30394664ad4c029fabb6587249d57b",
            "c2fb40df6e334346a4f78c95af3dfdbe",
            "4bc26b35f69c4c80bcc4ef4f2068768a"
          ]
        },
        "outputId": "5aa5019e-6529-4825-8ca6-092aac0b10e6"
      },
      "outputs": [
        {
          "output_type": "display_data",
          "data": {
            "text/plain": [
              "Tab(children=(Output(), Output()), _titles={'0': 'Youtube', '1': 'Bilibili'})"
            ],
            "application/vnd.jupyter.widget-view+json": {
              "version_major": 2,
              "version_minor": 0,
              "model_id": "5cecdfe748064132b9ebe7bf53aecc0b"
            }
          },
          "metadata": {}
        }
      ],
      "source": [
        "# @title Video 4: IVs in simulated neural systems\n",
        "from ipywidgets import widgets\n",
        "\n",
        "out2 = widgets.Output()\n",
        "with out2:\n",
        "  from IPython.display import IFrame\n",
        "  class BiliVideo(IFrame):\n",
        "      def __init__(self, id, page=1, width=400, height=300, **kwargs):\n",
        "          self.id=id\n",
        "          src = 'https://player.bilibili.com/player.html?bvid={0}&page={1}'.format(id, page)\n",
        "          super(BiliVideo, self).__init__(src, width, height, **kwargs)\n",
        "\n",
        "  video = BiliVideo(id=\"BV1nA411v7Hs\", width=854, height=480, fs=1)\n",
        "  print('Video available at https://www.bilibili.com/video/{0}'.format(video.id))\n",
        "  display(video)\n",
        "\n",
        "out1 = widgets.Output()\n",
        "with out1:\n",
        "  from IPython.display import YouTubeVideo\n",
        "  video = YouTubeVideo(id=\"b6a3Mrefk44\", width=854, height=480, fs=1, rel=0)\n",
        "  print('Video available at https://youtube.com/watch?v=' + video.id)\n",
        "  display(video)\n",
        "\n",
        "out = widgets.Tab([out1, out2])\n",
        "out.set_title(0, 'Youtube')\n",
        "out.set_title(1, 'Bilibili')\n",
        "\n",
        "display(out)"
      ]
    },
    {
      "cell_type": "markdown",
      "metadata": {
        "execution": {},
        "id": "LPQN71beo1Xj"
      },
      "source": [
        "Now, say we have the neural system we have been simulating, except with an additional variable $\\vec{z}$. This will be our instrumental variable. \n",
        "\n",
        "We treat $\\vec{z}$ as a source of noise in the dynamics of our neurons:\n",
        "\n",
        "\\begin{equation}\n",
        "\\vec{x}_{t+1} = \\sigma(A\\vec{x}_t + \\eta \\vec{z}_{t+1} + \\epsilon_t)\n",
        "\\end{equation}\n",
        "\n",
        "- $\\eta$ is what we'll call the \"strength\" of our IV\n",
        "- $\\vec{z}_t$ is a random binary variable, $\\vec{z}_t \\sim Bernoulli(0.5)$\n",
        "\n",
        "Remember that for each neuron $i$, we are trying to figure out whether $i$ is connected to (causally affects) the other neurons in our system *at the next time step*. So for timestep $t$, we want to determine whether $\\vec{x}_{i,t}$ affects all the other neurons at $\\vec{x}_{t+1}$. For a given neuron $i$, $\\vec{z}_{i,t}$ satisfies the 3 criteria for a valid instrument. \n",
        "\n",
        "\n",
        "**What could $z$ be, biologically?**\n",
        "\n",
        "Imagine $z$ to be some injected current through an *in vivo* patch clamp. It affects each neuron individually, and only affects dynamics through that neuron.\n",
        "\n",
        "The cool thing about IV is that you don't have to control $z$ yourself - it can be observed. So if you mess up your wiring and accidentally connect the injected voltage to an AM radio, no worries. As long as you can observe the signal the method will work."
      ]
    },
    {
      "cell_type": "markdown",
      "metadata": {
        "execution": {},
        "id": "wsEkrwCoo1Xj"
      },
      "source": [
        "<figure>\n",
        "<img src=\"https://raw.githubusercontent.com/NeuromatchAcademy/course-content/main/tutorials/W3D5_NetworkCausality/static/neuron_iv.png\">\n",
        "</figure>"
      ]
    },
    {
      "cell_type": "markdown",
      "metadata": {
        "execution": {},
        "id": "wsSkOoSqo1Xj"
      },
      "source": [
        "## Section 2.1: Simulate a system with IV"
      ]
    },
    {
      "cell_type": "markdown",
      "metadata": {
        "execution": {},
        "id": "NkroStnfo1Xk"
      },
      "source": [
        "### Coding Exercise 2.1: Simulate a system with IV\n",
        "\n",
        "Here we'll modify the function that simulates the neural system, but this time make the update rule include the effect of the instrumental variable $z$."
      ]
    },
    {
      "cell_type": "code",
      "execution_count": 33,
      "metadata": {
        "execution": {},
        "id": "Tb3jdfoXo1Xk",
        "colab": {
          "base_uri": "https://localhost:8080/",
          "height": 430
        },
        "outputId": "e69a7c87-b930-4c31-ead5-b355ba5205e2"
      },
      "outputs": [
        {
          "output_type": "display_data",
          "data": {
            "text/plain": [
              "<Figure size 576x432 with 2 Axes>"
            ],
            "image/png": "[encoded data removed]"
          },
          "metadata": {
            "image/png": {
              "width": 558,
              "height": 413
            },
            "needs_background": "light"
          }
        }
      ],
      "source": [
        "def simulate_neurons_iv(n_neurons, timesteps, eta, random_state=42):\n",
        "    \"\"\"\n",
        "    Simulates a dynamical system for the specified number of neurons and timesteps.\n",
        "\n",
        "    Args:\n",
        "        n_neurons (int): the number of neurons in our system.\n",
        "        timesteps (int): the number of timesteps to simulate our system.\n",
        "        eta (float): the strength of the instrument\n",
        "        random_state (int): seed for reproducibility\n",
        "\n",
        "    Returns:\n",
        "        The tuple (A,X,Z) of the connectivity matrix, simulated system, and instruments.\n",
        "        - A has shape (n_neurons, n_neurons)\n",
        "        - X has shape (n_neurons, timesteps)\n",
        "        - Z has shape (n_neurons, timesteps)\n",
        "    \"\"\"\n",
        "    np.random.seed(random_state)\n",
        "    A = create_connectivity(n_neurons, random_state)\n",
        "\n",
        "    X = np.zeros((n_neurons, timesteps))\n",
        "    Z = np.random.choice([0, 1], size=(n_neurons, timesteps))\n",
        "    for t in range(timesteps - 1):\n",
        "\n",
        "      ############################################################################\n",
        "      ## Insert your code here to adjust the update rule to include the\n",
        "      ## instrumental variable.\n",
        "      ##  We've already created Z for you. (We need to return it to regress on it).\n",
        "      ##  Your task is to slice it appropriately. Don't forget eta.\n",
        "      ## Fill out function and remove\n",
        "      # raise NotImplementedError('Complete simulate_neurons_iv function')\n",
        "      ############################################################################\n",
        "\n",
        "      IV_on_this_timestep = (eta * Z[:, t + 1])\n",
        "\n",
        "      X[:, t + 1] = sigmoid(A.dot(X[:, t]) + IV_on_this_timestep + np.random.multivariate_normal(np.zeros(n_neurons), np.eye(n_neurons)))\n",
        "\n",
        "    return A, X, Z\n",
        "\n",
        "\n",
        "# Set parameters\n",
        "timesteps = 5000  # Simulate for 5000 timesteps.\n",
        "n_neurons = 100  # the size of our system\n",
        "eta = 2  # the strength of our instrument, higher is stronger\n",
        "\n",
        "# Simulate our dynamical system for the given amount of time\n",
        "A, X, Z = simulate_neurons_iv(n_neurons, timesteps, eta)\n",
        "\n",
        "# Visualize\n",
        "plot_neural_activity(X)"
      ]
    },
    {
      "cell_type": "markdown",
      "metadata": {
        "execution": {},
        "id": "Zgxtc29Xo1Xk"
      },
      "source": [
        "[*Click for solution*](https://github.com/NeuromatchAcademy/course-content/tree/main//tutorials/W3D5_NetworkCausality/solutions/W3D5_Tutorial4_Solution_69480bae.py)\n",
        "\n"
      ]
    },
    {
      "cell_type": "markdown",
      "metadata": {
        "execution": {},
        "id": "35Gf8Nido1Xk"
      },
      "source": [
        "## Section 2.2: Estimate IV for simulated neural system"
      ]
    },
    {
      "cell_type": "markdown",
      "metadata": {
        "execution": {},
        "id": "_6pK0aEQo1Xk"
      },
      "source": [
        "Since you just implemented two-stage least squares, we've provided the network implementation for you, with the function `get_iv_estimate_network()`. Now, let's see how our IV estimates do in recovering the connectivity matrix."
      ]
    },
    {
      "cell_type": "code",
      "execution_count": 34,
      "metadata": {
        "execution": {},
        "id": "9uj9QJ3go1Xk"
      },
      "outputs": [],
      "source": [
        "def get_iv_estimate_network(X, Z):\n",
        "    \"\"\"\n",
        "    Estimates the connectivity matrix from 2-stage least squares regression\n",
        "    using an instrument.\n",
        "\n",
        "    Args:\n",
        "        X (np.ndarray): our simulated system of shape (n_neurons, timesteps)\n",
        "        Z (np.ndarray): our observed instruments of shape (n_neurons, timesteps)\n",
        "\n",
        "    Returns:\n",
        "\n",
        "        V (np.ndarray): the estimated connectivity matrix\n",
        "    \"\"\"\n",
        "    n_neurons = X.shape[0]\n",
        "    Y = X[:, 1:].transpose()\n",
        "\n",
        "    # apply inverse sigmoid transformation\n",
        "    Y = logit(Y)\n",
        "\n",
        "    # Stage 1: regress X on Z\n",
        "    stage1 = MultiOutputRegressor(LinearRegression(fit_intercept=True), n_jobs=-1)\n",
        "    stage1.fit(Z[:, :-1].transpose(), X[:, :-1].transpose())\n",
        "    X_hat = stage1.predict(Z[:, :-1].transpose())\n",
        "\n",
        "    # Stage 2: regress Y on X_hatI\n",
        "    stage2 = MultiOutputRegressor(LinearRegression(fit_intercept=True), n_jobs=-1)\n",
        "    stage2.fit(X_hat, Y)\n",
        "\n",
        "    # Get estimated effects\n",
        "    V = np.zeros((n_neurons, n_neurons))\n",
        "    for i, estimator in enumerate(stage2.estimators_):\n",
        "        V[i, :] = estimator.coef_\n",
        "\n",
        "    return V"
      ]
    },
    {
      "cell_type": "markdown",
      "metadata": {
        "execution": {},
        "id": "GvcfLzrjo1Xl"
      },
      "source": [
        "Now let's see how well it works in our system."
      ]
    },
    {
      "cell_type": "code",
      "execution_count": 35,
      "metadata": {
        "cellView": "form",
        "execution": {},
        "id": "24i29UWNo1Xo",
        "colab": {
          "base_uri": "https://localhost:8080/",
          "height": 353
        },
        "outputId": "b3cf6926-d833-4515-f846-9a562d2f1c5f"
      },
      "outputs": [
        {
          "output_type": "stream",
          "name": "stdout",
          "text": [
            "IV estimated correlation: 0.916\n"
          ]
        },
        {
          "output_type": "display_data",
          "data": {
            "text/plain": [
              "<Figure size 720x360 with 4 Axes>"
            ],
            "image/png": "[encoded data removed]"
          },
          "metadata": {
            "image/png": {
              "width": 701,
              "height": 318
            },
            "needs_background": "light"
          }
        }
      ],
      "source": [
        "#@markdown Execute this cell to visualize IV estimated connectivity matrix\n",
        "n_neurons = 6\n",
        "timesteps = 10000\n",
        "random_state = 42\n",
        "eta = 2\n",
        "\n",
        "A, X, Z = simulate_neurons_iv(n_neurons, timesteps, eta, random_state)\n",
        "V = get_iv_estimate_network(X, Z)\n",
        "print(\"IV estimated correlation: {:.3f}\".format(np.corrcoef(A.flatten(), V.flatten())[1, 0]))\n",
        "\n",
        "fig, axs = plt.subplots(1, 2, figsize=(10, 5))\n",
        "\n",
        "im = axs[0].imshow(A, cmap=\"coolwarm\")\n",
        "fig.colorbar(im, ax=axs[0],fraction=0.046, pad=0.04)\n",
        "axs[0].title.set_text(\"True connectivity matrix\")\n",
        "axs[0].set(xlabel='Connectivity from', ylabel='Connectivity to')\n",
        "\n",
        "im = axs[1].imshow(V, cmap=\"coolwarm\")\n",
        "fig.colorbar(im, ax=axs[1],fraction=0.046, pad=0.04)\n",
        "axs[1].title.set_text(\"IV estimated connectivity matrix\")\n",
        "axs[1].set(xlabel='Connectivity from')\n",
        "\n",
        "plt.show()"
      ]
    },
    {
      "cell_type": "markdown",
      "metadata": {
        "execution": {},
        "id": "5yYfCIldo1Xo"
      },
      "source": [
        "The IV estimates seem to perform pretty well! In the next section, we will see how they behave in the face of omitted variable bias."
      ]
    },
    {
      "cell_type": "markdown",
      "metadata": {
        "execution": {},
        "id": "1VAkG0Lfo1Xo"
      },
      "source": [
        "---\n",
        "# Section 3: IVs and omitted variable bias\n",
        "\n",
        "*Estimated timing to here from start of tutorial: 40 min*\n"
      ]
    },
    {
      "cell_type": "code",
      "execution_count": 36,
      "metadata": {
        "cellView": "form",
        "execution": {},
        "id": "zox3329Eo1Xo",
        "colab": {
          "base_uri": "https://localhost:8080/",
          "height": 581,
          "referenced_widgets": [
            "422cf9cde5164fe79c6f5db1bb251c74",
            "cf6d3d40c0aa4c67b4cb3a4f7910aa15",
            "72aa99856b904c77951aa343bac5e8a5",
            "d3fcced306714f678340c89f3f5170a8",
            "85f7f295b7bb4bf3bf69f42e96686040",
            "2d159e477b3a481392d09d57430ebfc4"
          ]
        },
        "outputId": "6aa1ec1f-f5fb-412d-e21f-ba61f06c500e"
      },
      "outputs": [
        {
          "output_type": "display_data",
          "data": {
            "text/plain": [
              "Tab(children=(Output(), Output()), _titles={'0': 'Youtube', '1': 'Bilibili'})"
            ],
            "application/vnd.jupyter.widget-view+json": {
              "version_major": 2,
              "version_minor": 0,
              "model_id": "422cf9cde5164fe79c6f5db1bb251c74"
            }
          },
          "metadata": {}
        }
      ],
      "source": [
        "# @title Video 5: IV vs regression\n",
        "from ipywidgets import widgets\n",
        "\n",
        "out2 = widgets.Output()\n",
        "with out2:\n",
        "  from IPython.display import IFrame\n",
        "  class BiliVideo(IFrame):\n",
        "      def __init__(self, id, page=1, width=400, height=300, **kwargs):\n",
        "          self.id=id\n",
        "          src = 'https://player.bilibili.com/player.html?bvid={0}&page={1}'.format(id, page)\n",
        "          super(BiliVideo, self).__init__(src, width, height, **kwargs)\n",
        "\n",
        "  video = BiliVideo(id=\"BV1pv411q7Hc\", width=854, height=480, fs=1)\n",
        "  print('Video available at https://www.bilibili.com/video/{0}'.format(video.id))\n",
        "  display(video)\n",
        "\n",
        "out1 = widgets.Output()\n",
        "with out1:\n",
        "  from IPython.display import YouTubeVideo\n",
        "  video = YouTubeVideo(id=\"zceWyoQn09s\", width=854, height=480, fs=1, rel=0)\n",
        "  print('Video available at https://youtube.com/watch?v=' + video.id)\n",
        "  display(video)\n",
        "\n",
        "out = widgets.Tab([out1, out2])\n",
        "out.set_title(0, 'Youtube')\n",
        "out.set_title(1, 'Bilibili')\n",
        "\n",
        "display(out)"
      ]
    },
    {
      "cell_type": "markdown",
      "metadata": {
        "execution": {},
        "id": "QTuYDh-ao1Xr"
      },
      "source": [
        "## Interactive Demo 3: Estimating connectivity with IV vs regression on a subset of observed neurons\n",
        "\n",
        "Change the ratio of observed neurons and look at the impact on the quality of connectivity estimation using IV vs regression. Which method does better with fewer observed neurons?\n",
        "\n"
      ]
    },
    {
      "cell_type": "code",
      "execution_count": 39,
      "metadata": {
        "cellView": "form",
        "execution": {},
        "id": "_nB886ofo1Xs",
        "colab": {
          "base_uri": "https://localhost:8080/",
          "height": 363,
          "referenced_widgets": [
            "fc597f36fc344fc7bc1876a0428001a5",
            "a6a60c6bd35042fbb185a8c832e7547f",
            "0cfa2db4ce784e9bba84340f064a7ae6",
            "8b050933b24a4a4a92ba53d338d8318e",
            "2452650e28854ee9885a4a33f9bb47ae",
            "7fe255753d444ae4815c66af6c727d09",
            "0e78c74083684d8b9c3abb655a2dc934"
          ]
        },
        "outputId": "a9203aa5-1c86-4e71-eff0-47b960553075"
      },
      "outputs": [
        {
          "output_type": "display_data",
          "data": {
            "text/plain": [
              "interactive(children=(Dropdown(description='ratio', options=(0.2, 0.4, 0.6, 0.8, 1.0), value=0.2), Output()), …"
            ],
            "application/vnd.jupyter.widget-view+json": {
              "version_major": 2,
              "version_minor": 0,
              "model_id": "fc597f36fc344fc7bc1876a0428001a5"
            }
          },
          "metadata": {}
        }
      ],
      "source": [
        "# @markdown Execute this cell to enable demo. This simulation will take about a minute to run!\n",
        "n_neurons = 30\n",
        "timesteps = 20000\n",
        "random_state = 42\n",
        "eta = 2\n",
        "A, X, Z = simulate_neurons_iv(n_neurons, timesteps, eta, random_state)\n",
        "\n",
        "\n",
        "reg_args = {\n",
        "    \"fit_intercept\": False,\n",
        "    \"alpha\": 0.001\n",
        "}\n",
        "\n",
        "@widgets.interact\n",
        "def plot_observed(ratio=[0.2, 0.4, 0.6, 0.8, 1.0]):\n",
        "  fig, axs = plt.subplots(1, 3, figsize=(15, 5))\n",
        "  sel_idx = int(ratio * n_neurons)\n",
        "  n_observed = sel_idx\n",
        "  offset = np.zeros((n_neurons, n_neurons))\n",
        "  offset[:sel_idx, :sel_idx] =  1 + A[:sel_idx, :sel_idx]\n",
        "  im = axs[0].imshow(offset, cmap=\"coolwarm\", vmin=0, vmax=A.max() + 1)\n",
        "  axs[0].title.set_text(\"True connectivity\")\n",
        "  axs[0].set_xlabel(\"Connectivity to\")\n",
        "  axs[0].set_ylabel(\"Connectivity from\")\n",
        "  plt.colorbar(im, ax=axs[0],fraction=0.046, pad=0.04)\n",
        "\n",
        "  sel_A = A[:sel_idx, :sel_idx]\n",
        "  sel_X = X[:sel_idx, :]\n",
        "  sel_Z = Z[:sel_idx, :]\n",
        "\n",
        "  V = get_iv_estimate_network(sel_X, sel_Z)\n",
        "  iv_corr = np.corrcoef(sel_A.flatten(), V.flatten())[1, 0]\n",
        "\n",
        "  big_V = np.zeros(A.shape)\n",
        "  big_V[:sel_idx, :sel_idx] =  1 + V\n",
        "\n",
        "  im = axs[1].imshow(big_V, cmap=\"coolwarm\", vmin=0, vmax=A.max() + 1)\n",
        "  plt.colorbar(im, ax=axs[1], fraction=0.046, pad=0.04)\n",
        "  c = 'w' if n_observed < (n_neurons - 3) else 'k'\n",
        "  axs[1].text(0,n_observed + 2, \"Correlation : {:.2f}\".format(iv_corr), color=c, size=15)\n",
        "  axs[1].axis(\"off\")\n",
        "\n",
        "\n",
        "  reg_corr, R = get_regression_corr_full_connectivity(n_neurons,\n",
        "                                  A,\n",
        "                                  X,\n",
        "                                  ratio,\n",
        "                                  reg_args)\n",
        "\n",
        "\n",
        "  big_R = np.zeros(A.shape)\n",
        "  big_R[:sel_idx, :sel_idx] =  1 + R\n",
        "\n",
        "  im = axs[2].imshow(big_R, cmap=\"coolwarm\", vmin=0, vmax=A.max() + 1)\n",
        "  plt.colorbar(im, ax=axs[2], fraction=0.046, pad=0.04)\n",
        "  c = 'w' if n_observed<(n_neurons-3) else 'k'\n",
        "  axs[1].title.set_text(\"Estimated connectivity (IV)\")\n",
        "  axs[1].set_xlabel(\"Connectivity to\")\n",
        "  axs[1].set_ylabel(\"Connectivity from\")\n",
        "\n",
        "  axs[2].text(0, n_observed + 2,\"Correlation : {:.2f}\".format(reg_corr), color=c, size=15)\n",
        "  axs[2].axis(\"off\")\n",
        "  axs[2].title.set_text(\"Estimated connectivity (regression)\")\n",
        "  axs[2].set_xlabel(\"Connectivity to\")\n",
        "  axs[2].set_ylabel(\"Connectivity from\")"
      ]
    },
    {
      "cell_type": "markdown",
      "metadata": {
        "execution": {},
        "id": "zrW67iP1o1Xs"
      },
      "source": [
        "We can also visualize the performance of regression and IV as a function of the observed neuron ratio below.\n",
        "\n",
        "**Note** that this code takes about a minute to run!"
      ]
    },
    {
      "cell_type": "code",
      "execution_count": 40,
      "metadata": {
        "cellView": "form",
        "execution": {},
        "id": "zNn72Myto1Xt",
        "colab": {
          "base_uri": "https://localhost:8080/",
          "height": 519
        },
        "outputId": "118eabb8-355c-4577-c32e-05b503ffa6d7"
      },
      "outputs": [
        {
          "output_type": "stream",
          "name": "stdout",
          "text": [
            "1.0\n",
            "0.8\n",
            "0.6\n",
            "0.4\n",
            "0.2\n"
          ]
        },
        {
          "output_type": "display_data",
          "data": {
            "text/plain": [
              "<Figure size 576x432 with 1 Axes>"
            ],
            "image/png": "[encoded data removed]"
          },
          "metadata": {
            "image/png": {
              "width": 594,
              "height": 413
            },
            "needs_background": "light"
          }
        }
      ],
      "source": [
        "# @markdown Execute this cell to visualize connectivity estimation performance\n",
        "def compare_iv_estimate_to_regression(observed_ratio):\n",
        "  \"\"\"\n",
        "  A wrapper function to compare IV and Regressor performance as a function of observed neurons\n",
        "\n",
        "  Args:\n",
        "        observed_ratio(list): a list of different observed ratios (out of the whole system)\n",
        "  \"\"\"\n",
        "\n",
        "  #Let's compare IV estimates to our regression estimates, uncomment the code below\n",
        "\n",
        "  reg_corrs = np.zeros((len(observed_ratio),))\n",
        "  iv_corrs = np.zeros((len(observed_ratio),))\n",
        "  for j, ratio in enumerate(observed_ratio):\n",
        "      print(ratio)\n",
        "      sel_idx = int(ratio * n_neurons)\n",
        "\n",
        "      sel_X = X[:sel_idx, :]\n",
        "      sel_Z = X[:sel_idx, :]\n",
        "      sel_A = A[:sel_idx, :sel_idx]\n",
        "\n",
        "      sel_reg_V = get_regression_estimate(sel_X)\n",
        "      reg_corrs[j] = np.corrcoef(sel_A.flatten(), sel_reg_V.flatten())[1, 0]\n",
        "\n",
        "      sel_iv_V = get_iv_estimate_network(sel_X, sel_Z)\n",
        "      iv_corrs[j] = np.corrcoef(sel_A.flatten(), sel_iv_V.flatten())[1, 0]\n",
        "\n",
        "  # Plotting IV vs lasso performance\n",
        "  plt.plot(observed_ratio, reg_corrs)\n",
        "  plt.plot(observed_ratio, iv_corrs)\n",
        "  plt.xlim([1, 0.2])\n",
        "  plt.ylabel(\"Connectivity matrices correlation with truth\")\n",
        "  plt.xlabel(\"Fraction of observed variables\")\n",
        "  plt.title(\"IV and lasso performance as a function of observed neuron ratio\")\n",
        "  plt.legend(['Regression', 'IV'])\n",
        "\n",
        "n_neurons = 40  # the size of the system\n",
        "timesteps = 20000\n",
        "random_state = 42\n",
        "eta = 2  # the strength of our instrument\n",
        "\n",
        "A, X, Z = simulate_neurons_iv(n_neurons, timesteps, eta, random_state)\n",
        "\n",
        "observed_ratio = [1.0, 0.8, 0.6, 0.4, 0.2]\n",
        "\n",
        "compare_iv_estimate_to_regression(observed_ratio)"
      ]
    },
    {
      "cell_type": "markdown",
      "metadata": {
        "execution": {},
        "id": "TpD7DJ4_o1Xt"
      },
      "source": [
        "We see that IVs handle omitted variable bias (when the instrument is strong and we have enough data).\n",
        "\n",
        "**The costs of IV analysis**\n",
        "\n",
        "- we need to find an appropriate and valid instrument\n",
        "- Because of the 2-stage estimation process, we need strong instruments or else our standard errors will be large"
      ]
    },
    {
      "cell_type": "markdown",
      "metadata": {
        "execution": {},
        "id": "_Tm_OSCHo1Xu"
      },
      "source": [
        "---\n",
        "# Section 4: Thinking about causality in your work\n",
        "\n",
        "*Estimated timing to here from start of tutorial: 50 min*"
      ]
    },
    {
      "cell_type": "markdown",
      "metadata": {
        "execution": {},
        "id": "8-yC0Dyvo1Xu"
      },
      "source": [
        "## Think 4!: Discussion questions\n",
        "\n",
        "Please discuss the following in groups for around 10 minutes.\n",
        "\n",
        "*   Think back to your most recent work. Can you create a causal diagram of the fundamental question? Are there sources of bias (omitted variables or otherwise) that might be a threat to causal validity?\n",
        "*   Can you think of any possibilities for instrumental variables? What sources of observed randomness could studies in your field leverage in identifying causal effects?\n",
        "\n",
        "\n"
      ]
    },
    {
      "cell_type": "markdown",
      "metadata": {
        "execution": {},
        "id": "NFbTAvI9o1Xu"
      },
      "source": [
        "---\n",
        "# Summary\n",
        "\n",
        "*Estimated timing of tutorial: 1 hour, 5 min*\n"
      ]
    },
    {
      "cell_type": "code",
      "execution_count": 41,
      "metadata": {
        "cellView": "form",
        "execution": {},
        "id": "YHTEXvKIo1Xu",
        "colab": {
          "base_uri": "https://localhost:8080/",
          "height": 581,
          "referenced_widgets": [
            "5be68b0ee5b141848e12a07aa3cbe544",
            "3bfd8f05edf5452abb344f46fda1445e",
            "60c2ecd18b5b46f1b2bbde806485381c",
            "d7a28f21d5a14f659205bc4ce66679ac",
            "7bcc010b4e224e2cae551587899ed955",
            "48a5e9927cc24e3c976a1f39a790bd8b"
          ]
        },
        "outputId": "5e40ad3b-b8d9-4657-96cd-8a7d98d39ef4"
      },
      "outputs": [
        {
          "output_type": "display_data",
          "data": {
            "text/plain": [
              "Tab(children=(Output(), Output()), _titles={'0': 'Youtube', '1': 'Bilibili'})"
            ],
            "application/vnd.jupyter.widget-view+json": {
              "version_major": 2,
              "version_minor": 0,
              "model_id": "5be68b0ee5b141848e12a07aa3cbe544"
            }
          },
          "metadata": {}
        }
      ],
      "source": [
        "# @title Video 6: Summary\n",
        "from ipywidgets import widgets\n",
        "\n",
        "out2 = widgets.Output()\n",
        "with out2:\n",
        "  from IPython.display import IFrame\n",
        "  class BiliVideo(IFrame):\n",
        "      def __init__(self, id, page=1, width=400, height=300, **kwargs):\n",
        "          self.id=id\n",
        "          src = 'https://player.bilibili.com/player.html?bvid={0}&page={1}'.format(id, page)\n",
        "          super(BiliVideo, self).__init__(src, width, height, **kwargs)\n",
        "\n",
        "  video = BiliVideo(id=\"BV1Gt4y1X76z\", width=854, height=480, fs=1)\n",
        "  print('Video available at https://www.bilibili.com/video/{0}'.format(video.id))\n",
        "  display(video)\n",
        "\n",
        "out1 = widgets.Output()\n",
        "with out1:\n",
        "  from IPython.display import YouTubeVideo\n",
        "  video = YouTubeVideo(id=\"1qxW8CPW77U\", width=854, height=480, fs=1, rel=0)\n",
        "  print('Video available at https://youtube.com/watch?v=' + video.id)\n",
        "  display(video)\n",
        "\n",
        "out = widgets.Tab([out1, out2])\n",
        "out.set_title(0, 'Youtube')\n",
        "out.set_title(1, 'Bilibili')\n",
        "\n",
        "display(out)"
      ]
    },
    {
      "cell_type": "markdown",
      "metadata": {
        "execution": {},
        "id": "kpXpulYso1Xv"
      },
      "source": [
        "In this tutorial, we:\n",
        "\n",
        "* Explored instrumental variables and how we can use them for causality estimates\n",
        "* Compared IV estimates to regression estimates"
      ]
    },
    {
      "cell_type": "markdown",
      "metadata": {
        "execution": {},
        "id": "eM0C4GSEo1Xv"
      },
      "source": [
        "---\n",
        "# Bonus"
      ]
    },
    {
      "cell_type": "markdown",
      "metadata": {
        "execution": {},
        "id": "ix8z-UzHo1Xv"
      },
      "source": [
        "---\n",
        "## Bonus Section 1: Exploring Instrument Strength"
      ]
    },
    {
      "cell_type": "markdown",
      "metadata": {
        "execution": {},
        "id": "i5Tkjb-Zo1Xv"
      },
      "source": [
        "### Bonus Exercise 1: Exploring instrument strength\n",
        "\n",
        "Explore how the strength of the instrument $\\eta$ affects the quality of estimates with instrumental variables. \n",
        "\n"
      ]
    },
    {
      "cell_type": "code",
      "execution_count": 43,
      "metadata": {
        "execution": {},
        "id": "TCeqbHO4o1Xw",
        "colab": {
          "base_uri": "https://localhost:8080/",
          "height": 484
        },
        "outputId": "6a01eaef-4b11-44ce-9ffd-5272bef9ce67"
      },
      "outputs": [
        {
          "output_type": "stream",
          "name": "stdout",
          "text": [
            "Trial 1 of 3\n",
            "Trial 2 of 3\n",
            "Trial 3 of 3\n"
          ]
        },
        {
          "output_type": "display_data",
          "data": {
            "text/plain": [
              "<Figure size 576x432 with 1 Axes>"
            ],
            "image/png": "[encoded data removed]"
          },
          "metadata": {
            "image/png": {
              "width": 546,
              "height": 413
            },
            "needs_background": "light"
          }
        }
      ],
      "source": [
        "def instrument_strength_effect(etas, n_neurons, timesteps, n_trials):\n",
        "  \"\"\" Compute IV estimation performance for different instrument strengths\n",
        "\n",
        "  Args:\n",
        "    etas (list): different instrument strengths to compare\n",
        "    n_neurons (int): number of neurons in simulation\n",
        "    timesteps (int): number of timesteps in simulation\n",
        "    n_trials (int): number of trials to compute\n",
        "\n",
        "  Returns:\n",
        "    ndarray: n_trials x len(etas) array where each element is the correlation\n",
        "        between true and estimated connectivity matrices for that trial and\n",
        "        instrument strength\n",
        "  \"\"\"\n",
        "\n",
        "  # Initialize corr array\n",
        "  corr_data = np.zeros((n_trials, len(etas)))\n",
        "\n",
        "  # Loop over trials\n",
        "  for trial in range(n_trials):\n",
        "    print(\"Trial {} of {}\".format(trial + 1, n_trials))\n",
        "\n",
        "    # Loop over instrument strengths\n",
        "    for j, eta in enumerate(etas):\n",
        "      ########################################################################\n",
        "      ## TODO: Simulate system with a given instrument strength, get IV estimate,\n",
        "      ## and compute correlation\n",
        "      # Fill out function and remove\n",
        "      # raise NotImplementedError('Student exercise: complete instrument_strength_effect')\n",
        "      ########################################################################\n",
        "\n",
        "      # Simulate system\n",
        "       A, X, Z = simulate_neurons_iv(n_neurons, timesteps, eta, trial)\n",
        "\n",
        "      # Compute IV estimate\n",
        "       iv_V = get_iv_estimate_network(X, Z)\n",
        "\n",
        "      # Compute correlation\n",
        "       corr_data[trial, j] =  np.corrcoef(A.flatten(), iv_V.flatten())[1, 0]\n",
        "\n",
        "  return corr_data\n",
        "\n",
        "\n",
        "# Parameters of system\n",
        "n_neurons = 20\n",
        "timesteps = 10000\n",
        "n_trials = 3\n",
        "etas = [2, 1, 0.5, 0.25, 0.12]  # instrument strengths to search over\n",
        "\n",
        "# Get IV estimate performances\n",
        "corr_data = instrument_strength_effect(etas, n_neurons, timesteps, n_trials)\n",
        "\n",
        "# Visualize\n",
        "plot_performance_vs_eta(etas, corr_data)"
      ]
    },
    {
      "cell_type": "markdown",
      "metadata": {
        "execution": {},
        "id": "xv1ARBQ9o1Xw"
      },
      "source": [
        "[*Click for solution*](https://github.com/NeuromatchAcademy/course-content/tree/main//tutorials/W3D5_NetworkCausality/solutions/W3D5_Tutorial4_Solution_71c2c0b4.py)\n",
        "\n"
      ]
    },
    {
      "cell_type": "markdown",
      "metadata": {
        "execution": {},
        "id": "JAuW2NYno1Xw"
      },
      "source": [
        "---\n",
        "## Bonus Section 2: Granger Causality\n",
        "\n",
        "Another potential solution to temporal causation that we might consider: [*Granger Causality*](https://en.wikipedia.org/wiki/Granger_causality).\n",
        "\n",
        "But, like the simultaneous fitting we explored in Tutorial 3, this method still fails in the presence of unobserved variables.\n",
        "\n",
        "We are testing whether a time series $X$ Granger-causes a time series $Y$ through a hypothesis test:\n",
        "\n",
        "- the null hypothesis $H_0$: lagged values of $X$ do not help predict values of $Y$ \n",
        "\n",
        "- the alternative hypothesis $H_a$: lagged values of $X$ **do** help predict values of $Y$ \n",
        "\n",
        "Mechanically, this is accomplished by fitting autoregressive models for $y_{t}$. We fail to reject the hypothesis if none of the $x_{t-k}$ terms are retained as significant in the regression. For simplicity, we will consider only one time lag. So, we have:\n",
        "\n",
        "\\begin{align}\n",
        "H_0: y_t &= a_0 + a_1 y_{t-1} +\\epsilon_t \\\\\n",
        "H_a: y_t &= a_0 + a_1 y_{t-1} + b_1 x_{t-1} +\\epsilon_t\n",
        "\\end{align}"
      ]
    },
    {
      "cell_type": "code",
      "execution_count": 44,
      "metadata": {
        "cellView": "form",
        "execution": {},
        "id": "2GBE2Og9o1Xw",
        "colab": {
          "base_uri": "https://localhost:8080/"
        },
        "outputId": "8263bf7c-0919-440a-dafc-26de62fc6013"
      },
      "outputs": [
        {
          "output_type": "stream",
          "name": "stderr",
          "text": [
            "/usr/local/lib/python3.7/dist-packages/statsmodels/tools/_testing.py:19: FutureWarning: pandas.util.testing is deprecated. Use the functions in the public API at pandas.testing instead.\n",
            "  import pandas.util.testing as tm\n"
          ]
        }
      ],
      "source": [
        "# @markdown Execute this cell to get custom imports from stats models\n",
        "# we need custom imports from stats models\n",
        "!pip install statsmodels --quiet\n",
        "from statsmodels.tsa.stattools import grangercausalitytests\n",
        "import pandas.util.testing as tm"
      ]
    },
    {
      "cell_type": "markdown",
      "metadata": {
        "execution": {},
        "id": "ZlBmep71o1Xw"
      },
      "source": [
        "### Bonus Section 2.1: Granger causality in small systems\n",
        "\n",
        "We will first evaluate Granger causality in a small system.\n",
        "\n"
      ]
    },
    {
      "cell_type": "markdown",
      "metadata": {
        "execution": {},
        "id": "dr9U7k0Fo1Xx"
      },
      "source": [
        "#### Bonus Coding Exercise 2.1: Evaluate Granger causality\n",
        "\n",
        "Complete the following definition to evaluate the Granger causality between our neurons. Then run the cells below to evaluate how well it works. You will use the `grangercausalitytests()` function already imported from statsmodels. We will then check whether a neuron in a small system Granger-causes the others.\n"
      ]
    },
    {
      "cell_type": "code",
      "execution_count": 45,
      "metadata": {
        "execution": {},
        "id": "aEkcxYt5o1Xx",
        "colab": {
          "base_uri": "https://localhost:8080/",
          "height": 358
        },
        "outputId": "c563f7e7-6e8c-4bb0-86db-43291a5a7806"
      },
      "outputs": [
        {
          "output_type": "display_data",
          "data": {
            "text/plain": [
              "<Figure size 720x360 with 4 Axes>"
            ],
            "image/png": "[encoded data removed]"
          },
          "metadata": {
            "image/png": {
              "width": 707,
              "height": 341
            },
            "needs_background": "light"
          }
        }
      ],
      "source": [
        "def get_granger_causality(X, selected_neuron, alpha=0.05):\n",
        "  \"\"\"\n",
        "  Estimates the lag-1 granger causality of the given neuron on the other neurons in the system.\n",
        "\n",
        "  Args:\n",
        "      X (np.ndarray): the matrix holding our dynamical system of shape (n_neurons, timesteps)\n",
        "      selected_neuron (int): the index of the neuron we want to estimate granger causality for\n",
        "      alpha (float): Bonferroni multiple comparisons correction\n",
        "\n",
        "  Returns:\n",
        "      A tuple (reject_null, p_vals)\n",
        "      reject_null (list): a binary list of length n_neurons whether the null was\n",
        "          rejected for the selected neuron granger causing the other neurons\n",
        "      p_vals (list): a list of the p-values for the corresponding Granger causality tests\n",
        "  \"\"\"\n",
        "  n_neurons = X.shape[0]\n",
        "  max_lag = 1\n",
        "\n",
        "  reject_null = []\n",
        "  p_vals = []\n",
        "\n",
        "  for target_neuron in range(n_neurons):\n",
        "    ts_data = X[[target_neuron, selected_neuron], :].transpose()\n",
        "\n",
        "    ########################################################################\n",
        "    ## Insert your code here to run Granger causality tests.\n",
        "    ##\n",
        "    ## Function Hints:\n",
        "    ##     Pass the ts_data defined above as the first argument\n",
        "    ##     Granger causality -> grangercausalitytests\n",
        "    ## Fill out this function and then remove\n",
        "    # raise NotImplementedError('Student exercise: complete get_granger_causality function')\n",
        "    ########################################################################\n",
        "    res = grangercausalitytests(ts_data, maxlag=max_lag, verbose=False)\n",
        "\n",
        "    # Gets the p-value for the log-ratio test\n",
        "    pval = res[1][0]['lrtest'][1]\n",
        "\n",
        "    p_vals.append(pval)\n",
        "    reject_null.append(int(pval < alpha))\n",
        "\n",
        "  return reject_null, p_vals\n",
        "\n",
        "\n",
        "# Set up small system\n",
        "n_neurons = 6\n",
        "timesteps = 5000\n",
        "random_state = 42\n",
        "selected_neuron = 1\n",
        "\n",
        "A = create_connectivity(n_neurons, random_state)\n",
        "X = simulate_neurons(A, timesteps, random_state)\n",
        "\n",
        "# Estimate Granger causality\n",
        "reject_null, p_vals = get_granger_causality(X, selected_neuron)\n",
        "\n",
        "# Visualize\n",
        "compare_granger_connectivity(A, reject_null, selected_neuron)"
      ]
    },
    {
      "cell_type": "markdown",
      "metadata": {
        "execution": {},
        "id": "RoNM3-Y6o1Xx"
      },
      "source": [
        "[*Click for solution*](https://github.com/NeuromatchAcademy/course-content/tree/main//tutorials/W3D5_NetworkCausality/solutions/W3D5_Tutorial4_Solution_2e17e047.py)\n",
        "\n",
        "*Example output:*\n",
        "\n",
        "<img alt='Solution hint' align='left' width=1384.0 height=683.0 src=https://raw.githubusercontent.com/NeuromatchAcademy/course-content/main/tutorials/W3D5_NetworkCausality/static/W3D5_Tutorial4_Solution_2e17e047_0.png>\n",
        "\n"
      ]
    },
    {
      "cell_type": "markdown",
      "metadata": {
        "execution": {},
        "id": "WimS1H2Wo1Xx"
      },
      "source": [
        "Looks good! Let's also check the correlation between Granger estimates and the true connectivity.\n"
      ]
    },
    {
      "cell_type": "code",
      "execution_count": 46,
      "metadata": {
        "execution": {},
        "id": "oAp7cuKwo1Xx",
        "colab": {
          "base_uri": "https://localhost:8080/"
        },
        "outputId": "e7ce0092-1d33-441b-98d4-0d5ab0612c45"
      },
      "outputs": [
        {
          "output_type": "execute_result",
          "data": {
            "text/plain": [
              "1.0"
            ]
          },
          "metadata": {},
          "execution_count": 46
        }
      ],
      "source": [
        "np.corrcoef(A[:,selected_neuron], np.array(reject_null))[1, 0]"
      ]
    },
    {
      "cell_type": "markdown",
      "metadata": {
        "execution": {},
        "id": "uf11j6UWo1Xy"
      },
      "source": [
        "When we have a small system, we correctly identify the causality of neuron 1."
      ]
    },
    {
      "cell_type": "markdown",
      "metadata": {
        "execution": {},
        "id": "Y_aaUS67o1Xy"
      },
      "source": [
        "### Bonus Section 2.2: Granger causality in large systems"
      ]
    },
    {
      "cell_type": "markdown",
      "metadata": {
        "execution": {},
        "id": "vgj44E0io1Xy"
      },
      "source": [
        "We will now run Granger causality on a large system with 100 neurons. Does it still work well? How does the number of timesteps matter?"
      ]
    },
    {
      "cell_type": "code",
      "execution_count": 47,
      "metadata": {
        "cellView": "form",
        "execution": {},
        "id": "-ZJQOH1Uo1Xy",
        "colab": {
          "base_uri": "https://localhost:8080/",
          "height": 358
        },
        "outputId": "21c7c749-5890-42ce-af78-aee74f525256"
      },
      "outputs": [
        {
          "output_type": "display_data",
          "data": {
            "text/plain": [
              "<Figure size 720x360 with 4 Axes>"
            ],
            "image/png": "[encoded data removed]"
          },
          "metadata": {
            "image/png": {
              "width": 710,
              "height": 341
            },
            "needs_background": "light"
          }
        }
      ],
      "source": [
        "# @markdown Execute this cell to examine Granger causality in a large system\n",
        "n_neurons = 100\n",
        "timesteps = 5000\n",
        "random_state = 42\n",
        "selected_neuron = 1\n",
        "A = create_connectivity(n_neurons, random_state)\n",
        "X = simulate_neurons(A, timesteps, random_state)\n",
        "\n",
        "# get granger causality estimates\n",
        "reject_null, p_vals = get_granger_causality(X, selected_neuron)\n",
        "compare_granger_connectivity(A, reject_null, selected_neuron)"
      ]
    },
    {
      "cell_type": "markdown",
      "metadata": {
        "execution": {},
        "id": "kcSwcRbeo1Xy"
      },
      "source": [
        "Let's again check the correlation between the Granger estimates and the true connectivity. Are we able to recover the true connectivity well in this larger system?"
      ]
    },
    {
      "cell_type": "code",
      "execution_count": 48,
      "metadata": {
        "execution": {},
        "id": "ToDUjH49o1Xz",
        "colab": {
          "base_uri": "https://localhost:8080/"
        },
        "outputId": "e7715532-9562-40cc-dd09-4426a920e116"
      },
      "outputs": [
        {
          "output_type": "execute_result",
          "data": {
            "text/plain": [
              "0.019416331902158156"
            ]
          },
          "metadata": {},
          "execution_count": 48
        }
      ],
      "source": [
        "np.corrcoef(A[:,selected_neuron], np.array(reject_null))[1, 0]"
      ]
    },
    {
      "cell_type": "markdown",
      "metadata": {
        "execution": {},
        "id": "UDqi6KCFo1X0"
      },
      "source": [
        "**Notes on Granger Causality**\n",
        "\n",
        "Here we considered bivariate Granger causality -- for each pair of neurons $A, B$, does one Granger-cause the other? You might wonder whether considering more variables will help with estimation. *Conditional Granger Causality* is a technique that allows for a multivariate system, where we test whether $A$ Granger-causes $B$ conditional on the other variables in the system. \n",
        "\n",
        "Even after controlling for variables in the system, conditional Granger causality will also likely perform poorly as our system gets larger. Plus, measuring the additional variables to condition on may be infeasible in practical applications, which would introduce omitted variable bias as we saw in the regression exercise.\n",
        "\n",
        "One takeaway here is that as our estimation procedures become more sophisticated, they also become more difficult to interpret. We always need to understand the methods and the assumptions that are made."
      ]
    }
  ],
  "metadata": {
    "colab": {
      "collapsed_sections": [],
      "name": "W3D5_Tutorial4",
      "provenance": [],
      "include_colab_link": true
    },
    "kernel": {
      "display_name": "Python 3",
      "language": "python",
      "name": "python3"
    },
    "kernelspec": {
      "display_name": "Python 3",
      "name": "python3"
    },
    "language_info": {
      "codemirror_mode": {
        "name": "ipython",
        "version": 3
      },
      "file_extension": ".py",
      "mimetype": "text/x-python",
      "name": "python",
      "nbconvert_exporter": "python",
      "pygments_lexer": "ipython3",
      "version": "3.7.13"
    },
    "widgets": {
      "application/vnd.jupyter.widget-state+json": {
        "8921e915496048f18e9e9490424214a4": {
          "model_module": "@jupyter-widgets/controls",
          "model_name": "TabModel",
          "model_module_version": "1.5.0",
          "state": {
            "_dom_classes": [],
            "_model_module": "@jupyter-widgets/controls",
            "_model_module_version": "1.5.0",
            "_model_name": "TabModel",
            "_titles": {
              "0": "Youtube",
              "1": "Bilibili"
            },
            "_view_count": null,
            "_view_module": "@jupyter-widgets/controls",
            "_view_module_version": "1.5.0",
            "_view_name": "TabView",
            "box_style": "",
            "children": [
              "IPY_MODEL_ed8bbbe376a841af86cac1d119a481f3",
              "IPY_MODEL_3ff87ee5acc440059ad64138ac180974"
            ],
            "layout": "IPY_MODEL_eb0ee955a5914531813766f8d3cc383f",
            "selected_index": 0
          }
        },
        "ed8bbbe376a841af86cac1d119a481f3": {
          "model_module": "@jupyter-widgets/output",
          "model_name": "OutputModel",
          "model_module_version": "1.0.0",
          "state": {
            "_dom_classes": [],
            "_model_module": "@jupyter-widgets/output",
            "_model_module_version": "1.0.0",
            "_model_name": "OutputModel",
            "_view_count": null,
            "_view_module": "@jupyter-widgets/output",
            "_view_module_version": "1.0.0",
            "_view_name": "OutputView",
            "layout": "IPY_MODEL_dc37b589edb548cfa97df631af4bf5b5",
            "msg_id": "",
            "outputs": [
              {
                "output_type": "stream",
                "name": "stdout",
                "text": [
                  "Video available at https://youtube.com/watch?v=0gkav6BS4-w\n"
                ]
              },
              {
                "output_type": "display_data",
                "data": {
                  "text/plain": "<IPython.lib.display.YouTubeVideo at 0x7fc69762cd50>",
                  "text/html": "\n        <iframe\n            width=\"854\"\n            height=\"480\"\n            src=\"https://www.youtube.com/embed/0gkav6BS4-w?fs=1&rel=0\"\n            frameborder=\"0\"\n            allowfullscreen\n        ></iframe>\n        ",
                  "image/jpeg": "/9j/4AAQSkZJRgABAQAAAQABAAD/2wCEAAUDBBAOCg8QCg4QDQoODQ4NCwoKCwoLDwoLCgsKDQoNDQoNChALDQoQCgoKDRUNDhERExMTCgsWGBYSGBASExIBBQUFCAcIDwkJDxISERUSEhUVEhYVFRUVEhIVEhUVFRIWEhIVFhIVFxIXFRUSFRYVFRUVFxUVFRUSFRUVEhUSEv/AABEIAWgB4AMBIgACEQEDEQH/xAAdAAEAAwADAQEBAAAAAAAAAAAABQYHAwQIAgEJ/8QAXBAAAgEDAgMDCAQICgUJBgYDAQIDAAQRBRIGITETIkEHFBZRUmGR0ggjMnEVGDNCcoGisTRTVWJzk5Shs9UkQ2PR4jY3dZKyweHw8Rclg7S1xXR2goaV0wkmVP/EABsBAQACAwEBAAAAAAAAAAAAAAABBQIDBAYH/8QANBEAAgECBAMHAwMEAwEAAAAAAAECAxEEEiExQVFhBRNxgZGx8CIywRSh0UJSsuEVYvEG/9oADAMBAAIRAxEAPwDxlSlKAUpSgFKUoBSlKAUpSgFKUoBSlKAUpSgFKUoBSlKAUpSgFKUoBSlKAUpSgFKUoBSlKAUpSgFKUoBSlKAUpSgFKUoBSlKAUpSgFKUoBSlKAUpSgFKUoBSlKAUpSgFKUoBSlKAUpSgFKUoBSlKAUpSgFKUoBSlKAUpSgFKUoBSlKAUpSgFKUoBSlKAUpSgFKUoBSlKAUpSgFKUoBSlKAUpSgFKUoBSlKAUpSgFKUoBSlKAUpSgFKUoBSlKAUpSgFKUoBSp/0Uk9pPi/yU9FJPaT4v8AJQEBSp/0Uk9pPi/yU9FJPaT4v8lAQFKn/RST2k+L/JT0Uk9pPi/yUBAUqf8ARST2k+L/ACU9FJPaT4v8lAQFKn/RST2k+L/JT0Uk9pPi/wAlAQFKn/RST2k+L/JT0Uk9pPi/yUBAUqf9FJPaT4v8lPRST2k+L/JQEBSp/wBFJPaT4v8AJT0Uk9pPi/yUBAUqf9FJPaT4v8lPRST2k+L/ACUBAUqf9FJPaT4v8lPRST2k+L/JQEBSp/0Uk9pPi/yU9FJPaT4v8lAQFKn/AEUk9pPi/wAlPRST2k+L/JQEBSp/0Uk9pPi/yU9FJPaT4v8AJQEBSp/0Uk9pPi/yU9FJPaT4v8lAQFKn/RST2k+L/JT0Uk9pPi/yUBAUqf8ARST2k+L/ACU9FJPaT4v8lAQFKn/RST2k+L/JT0Uk9pPi/wAlAQFKn/RST2k+L/JT0Uk9pPi/yUBAUqf9FJPaT4v8lPRST2k+L/JQEBSp/wBFJPaT4v8AJT0Uk9pPi/yUBAUqf9FJPaT4v8lPRST2k+L/ACUBAUqf9FJPaT4v8lPRST2k+L/JQEBSp/0Uk9pPi/yU9FJPaT4v8lAQFKn/AEUk9pPi/wAlPRST2k+L/JQEBSp/0Uk9pPi/yU9FJPaT4v8AJQEBSp/0Uk9pPi/yU9FJPaT4v8lAQFKn/RST2k+L/JT0Uk9pPi/yUBAUqf8ARST2k+L/ACU9FJPaT4v8lAQFKn/RST2k+L/JT0Uk9pPi/wAlAQFKn/RST2k+L/JT0Uk9pPi/yUBc6UpWRiKVWOKdVkjlAjbC7AcbUPMlvEqT4Con0hm9v9iP5KgmxfaVQvSGb2/2I/kp6Qze3+xH8lLixfaVQvSGb2/2I/kp6Qze3+xH8lLixfaVQvSGb2/2I/kp6Qze3+xH8lLixfaVQvSGb2/2I/kp6Qze3+xH8lLixfaVQvSGb2/2I/kp6Qze3+xH8lLixfaVQvSGb2/2I/kp6Qze3+xH8lLixfaVQvSGb2/2I/kp6Qze3+xH8lLixfaVQvSGb2/2I/kp6Qze3+xH8lLixfaVQvSGb2/2I/kp6Qze3+xH8lLixfaVQvSGb2/2I/kp6Qze3+xH8lLixfaVQvSGb2/2I/kp6Qze3+xH8lLixfaVQvSGb2/2I/kp6Qze3+xH8lLixfaVQvSGb2/2I/kp6Qze3+xH8lLixfaVQvSGb2/2I/kp6Qze3+xH8lLixfaVQvSGb2/2I/kp6Qze3+xH8lLixfaV1tKlLRIW5sVBJ5DJI58hyrs1JApSlAKUpQClKUApSlAKUpQClKUApSlAKUpQClKUApSlAKUpQClKUApSlAUrjf8ALj9AfvaoKp3jf8uP0B+9q+eBeFpr+9itbJQ9zMWESM6xglI3kbLsQo7iMefqrEyISlTvHfCVxp95JbX8ZiuY8bkyrAq6hkZXUlWRlIIIPuOCCB27HgK5k0mXUURTp8M4tpZDIgYTMISAIs7yMTxd4DHM+o0BV6UpQClKUApSlAKUpQClKvfkM8nLaxqS2kcywM0cknauhkAEQBI2hlOTnrmgKJSu5rlh2NxLETuMUrxFgMbjE7KSB4A7c4rp0ApVy8mHkwvtVkK6ZbtKEI7WYlY4od3TfM5CbsZOwEuQDhTitMn+iVqu1jC1nO6jnDBeqXBHh9ZGiA/ewHvoDAaV29Z054J5IZ12TwyPFKmVbZLE5SRdykqcOpGVJBxyJrqUApSlAKUpQClKUApWh615L2i4bttWM6tHc3TWotRGwaMp553zLu2kf6IeQH549VQ+o+T66j0iHUZEUadcTG3hlEiFmlXzjIMQO9R/o03MjHdHrFAVSlKUApSlAaNof5CP9Bf3V3K6eh/kI/0F/dXcrIgUpShApSlAKUpQClKUApSlAKUpQClKUApSlAKUpQClKUApSlAKUpQClKUBSuN/y4/QH72rQPob/wDK3T/05v8A5O5rP+N/y4/QH72rQPob/wDK3T/05v8A5O5rEyN7+kLocXEWnXdxYoBrmiXVza3Vunee4s7e4nCYH223Ro08fXvrdxqGJzWY8H/82eo/9Mx/9jSqiNE8p0mj8aX1wu5rZtSvYr2BcfXWz3k27APLtUOJEOR3k2khWbO7fSI4St7Tg3UX01lawv8AULbUbZYhhI0uxYKyoc4MZkheRQAoVZVTHcyQMB8nPkvsk0UatxHNcJYST9hY2mnCIz3siM4kbfIDGkQMMy4O0/VOdynYH4/LJ5MLSPSbfVdAlnl0ueVreaC+VO3srgbyoZol2GMhGTnnB7LDydqNu56JxdN6B2E+k2VrqUlk5t760vLRr02wTtQ0qwpKrBsNDISNx7O4DEAKxGIceeWu/wBQ0aW2On2lvphljeWbTrG5gSOVXUpmTzh4FZmCqdy5PIUBtfE1hofoRp3nD6gukG9fsJoUs/O3uQ2pbxNmIx9hu84C4G7Cw++sR4m8l9m3Cx1TS5biRotRltbmO5aDbHbGWUWr7EhVlnMMlgWBcjdM5AAwKuPGtqz+TDTDGpdYtSlaYopbskM2rqGcgd1d8sS5OBmRB+cK4vofL59p2taO+C11Z+c2iSYCpdW5CBiSOR7drJvWBASOhoDo8LfR9jm4Ol1R5ZV1ARz3VvbholiNnZyKsrPEYjMzGOOdw6uq9+DkR9ql8CeTuCXhzUdTvXlUW0kVtYRwPEomvJdvaCVXiYmJFnt3wjKxUS+oV6V0jiuODjW20hSW06HSBozISNjTNbpcvIR4yOIoYCTz3bvWScn+lRY/grRtK0VXDyxiXUL5gv2p55JUtyCDtwoe7THM7Ui5+LAdOx8k+m6bpVrecUzXRnvl7S00zTFhEnYbVbfM8wx9iSJiu6MqXC98hgIryoeSa0/Aq6tw7cTT6YJBDeW16IhcWEzFQN7RgRsu+SFCgBI7aJg0iuSt5+m5btd2OkahaAyac1kIzJGCyW8jdmyrIRkI5JaPBx3oHXqMV+cEWzWHk41Fr9TF5/dKtjFMNjT7xaKsiIeeMQzyDIBK2xYZG0kCG8nfkMsLjhqDVNQvZbRBcSC+cmN0FtE88apbwi3MrXckqwIMuwG9ztbAUz/0Wo9PHGkQ0Jp3svMJctfbRKZwpEhO1VXaQEPIAcz06CH4l/5sLL/pV/8AtajUV9AT/lRH/wDhbj/sLQHDwZ5I47u41G/1mZ7PQbW4ue0uI9olupu2kCQ229GUsHZQW2tlisagli0eI6w0ZmfzYOtvvbsVndJJBHk7BI6RojSbcZKqoznAr2DxpFHxPpD2mmsLXWNHmnb8Dq/ZwahGshjaeNScGVvzZXJMck0qOQtwsx8cXdsyOySKySIxR43UqyOhIdWQgMrBgQQRkEGgPV/0h9RfRuE9J06wPYG9hafUZYWKvMwjt3njL7Q5jlmuSCcg7LeOP7BK15S0+8eKRXhdo5VOUkidkZD61dSGB94NeufLJoT8QcJaZe6WDcXenxG3vbWEbpN3ZW63OIhlzIkkEcixjvNFcBufLPljROFbm4nMNtbTTXAOGhigld0J9tAuU6Hm2AMH1UBPeTWCwnuppOIrq4ji2NKDap21xe3LyLle0kR0ViGkcyS8iR1yeepXXkx0jUNDvr3h2S9iuNNRXuLXUzbESw7WcuOxDbWaNJtpD43QFSihg9ff0cPJZCbbVbvU7Rr650rMcejq5G+5jEhk7Xs8l1Vo9oA3KQs3dfCitJ8lmsz3XC/EEk2lWumQHT2Fu2n6e1kLvZbX5m3uzFpxEOzw3Re1k9ZwBg/kc8mMF9omsXdw8yz6dCslukLxLG7NHcMRKrQs7LmJfsMnU/q/PoqeTKDWdUltr15o4ks5LhWtWiRzJHNbIoJkhkXZtmYkAA5C8/Xf/onWzS8NcSxQqZJ2tItsSKWZ8wX+0KoGWYlSAoyScDxFWH//AB++T+7iv7i9uYWgtDaSW0RuFaJp5ZJraQmKNlBaJFhYNJ0yygZIbaBjX0Z/JUmsX0q3Urw2VrbtcXLW6h5pFBCrHECrAOclt2x/sY2ksMcPlF/ALWbNov4SivlaMLFqPmZiljJbtWzDvYSAbTzZRz5A+EX5FOItQsbtrzRo3keBNt1sgknj83lYErcKgyIWeJe9lcMi4YHFbvxvb2evcLXmrPYLpmp2jjN1DhYdQbdGHBO1RKztJsywLpJ2Q3sCykDFPJjZ6KLR5ddnvTdCcpFYaZHCC0ASIiV5507LaztImxXVx2efzhVp8uXkvsYdFs9V0KWdrC7maBre+7MywzAXBwCigYU2syEEvzCkOwarPwbwlb6fwjb6qNNTV9Ru53iAu1lntrCJZbmNWe1jO2TL2yqS+0hpsB1xtexfSEeaXyf6e9zZR2Ev4TDyWdraNZxQRlNVWJ/NjzjWQNG25vtNKD+cKAqvHH/Njpf/AEvJ/wDeaq3FPBCx8D2N+Lm6aSfUHgNk84a0iCnUvrIrfswVmPm4728/lJeXe5Wnjj/mx0v/AKXk/wDvNfvHX/Nhpf8A0tJ+/WqA0HWrDQ/Qaw85e/XSjfns5oUs/Onuwuo7xJmIxm3B85C4G7Cw8+tY/D5KLK74avtQ0mS6a5sLuRWt7lrciTTxLmGXs0hV1lFnIjuS5G63ucLgrizcT2Ty+TCwMKlxBqkkk5QZ7GPfqabn9S754Rn/AGi1C/Qe4oSLWZLK7Aay1SB7SaJ8bWlCSGEODzIZWngC+JuRQFb+j35MoL+O/udTeWLS9PtWmlktWjSSSc5aKJDLDIhzHFNkYzuMI/OrJK9T/SG0pdA4Zh0eJw91fXc13eyrjv29vMotsqTldwjtMAct1tP0zXligNG0P8hH+gv7q7ldPQ/yEf6C/uruVkQKUpQgUpSgFKUoBSlKAUpSgFKUoBSlKAUpSgFKUoBSlKAUpSgFKUoBSlKApXG/5cfoD97VwcIcRzWV3HcWUnZXURJilCxvsLoyN3ZFZDlHYcwetc/G/wCXH6A/e1QVYmR29Z1J555Jp23zzSPLNJhV3yyuXkbaoCjLsTgADnyFWGTyj3p0sae1wx0wNuFqUhIUiTtRiQx9sB2pLbQ+Mk8qqdKAtHk78oN7pkrSaXcvbu4AkChHSULnbvhkRonK7mwWUldzYxk5nfKD5btU1K3MGo3hltiysYVgtYVZkOVJ7GBGOG58yazqlAX3yb+WHUtLiaPTLtoYXbe0Rit503kAF1WeJwjEBclcZ2rnOBURw5x7d2uoNe2s5iv3aVnnCRHe1zuM2Y2jMRDFicbcA4IwQMVmlATTcVXB1Dz0ynz/AM48685wmfORJ2ok2bez/Kc9u3b4Yxyr7464vudQujcajMZ7llVTIyxp3Y12ooSNFjUAeyBkkk8yTUFSgL75OfLFqWmRmPTbx4YWO4wskE8YbxKxzxSKjHxKBScDOcCo3yi+UW91ORX1S5e4ZARGrBI0jz9opBEiQqzYGWVQW2rknAxw6L5P7+4hWW1sLueB87J7eyupY32MyNtkSIo2HVlODyKsOoruf+yrVP5Lv/8A+Ovf/wCigOjc8c3TaYlg0xOmxymeO27OHCzEyEt2oj7Y85ZORYjvdOQri4D4xudPuhcadL2FyFZBKEikwkgw42yo6cx7qjdZ0uWCVorqKSCdMb4Z43ikTcoZd0bqHXKsrDI6EHxrp0BN6Dxbc218Lu1maK9EjSCdNoO+Td2mV27CrbmBQqVIYgjBxX5xpxRPfXTXF84luXA7SURQwmTYoVSywxohbaANxGTgZJxULSgLP5PfKBeabK0ml3L27uAJAmx0lC529pDIrQybdzY3qcbmxjJrRNW+lNrcse3zwRjGGaC1tUds/wA/sSyn3ptNYpSgLfwH5Tb/AE+6knsLqSO4mz5w77J/OCzFi0qTK6SSb2Y9owLAu+CNxzYo/pCayLw3P4QkNwYjD3o7ZohGWViFtDCbVW3Ip3rGG5dcE1mEaEkBQSxIAAGSSeQAA5kk+Fd7X9EmtpTHeQS284AYw3MMkDhW+yTHIqtgjocc6AsHCXlNvrO+lu7K5aG7nLtcSKkJWYzOXffA0ZgI3ksBswpPdxU7N5fNXa9F01+5ulha3V+ytdiQyvE8qpb9h5ujO8MRZ1QM3ZpknArMqs3k34DutTuWg06MSzpE0zI0sUWIo2RWbdI6qcNInIHPP3GgOTyc+UO90yV5NLuDbySKFkISGQOqklQySxuhwSccvE1KeUfyyalqcQj1K8aaBTuEKxwQIWHQskESByPAvuxk4xVBpQGgeTryzanpkBh028aG3Zi5iaK2nVXPUoJ4ZNmep2YyeZzXInlu1Xze6ha+kkgvu088SdIJzKJ4hFKFeWJniUwgIFiKBQq7cYGM7pQFiveN7qTTIrCSYnToZTPDbdnCAkzdtl+0EfbH+ETcixHf6chj9vuOLqTTIrCSYtpsEpnhtuzhAjmbtsv2gjEx/hE3JmI7/TkMVylAXrya+V3UdLjdNLumgikbe8RjgmQybQu8JNE6rIVCgsoBYIgOQoFSPkRUXvEtvNqN1Hbr52b68vbiaC1G6KQ3D4dnjRZJZwqAR81MmQMKcZpSgNN+k/x3+E9fuZ0bfbI3m9oQQV83tsqrIR1SSTtJxn+ONZlSlAaNof5CP9Bf3V3K6eh/kI/0F/dXcrIgUpShApXcttOZl3clT23IQH7iTz/VXfXh1iO6ysfUrZI/V1x7xWDqRTs2ZqnJ8CEpXbu7BkOGBFdSsk09jFqwpSlSQKUpQClAKEUApSlAKUpQClKUApSlAKUpQClKUApSlAUrjf8ALj9AfvaoKp3jf8uP0B+9qgqxMhSlKAUpSgFKUoBSlKAuHD3lQ1G1t1hs7+5gtk3dnDDcSRom92d9qqwAy7sxx4sa9I/TU8oN9Z3GnCxvbi3EunpJKIJ5EEkm85dgDzfHiedePq9N/T8/hOl/9GJ/2zQGdcEcEy61batf3l6/nGn2y3MhmjNw97iG42o0xnQx4S0VA2H5MOXdwej5C/Jd+FmvB5x5v5pZvd57Dt+27Mgdn+Xj2Zz9rvfdWlfRDtmk0TiWOJS8z6aojiQFnkPY6kMIg7zMSVAABJLAdSKsH0LuCLqC21W6uYHgtpNOmghM6tE07hd7tHGwDNEgUAyfZ3OACSG2gQ/0WeAdNutD1aW+njNwlq3aGWwmmbRUCXey7jcNid2VTJ2cWGXsAM5IrNNA8lC3+trY6DeC/hMYkfUJLWeySGNcdszwSFpcISqg/nM6AYzmtD+iBbtJo3EscSl5n0sCOJAWeQ9hqIARB3mYsygAAklgPGvn6BF0n4TvYMhLq602aO0diAS6sjOiEnJYqO1wPC3cn7NAdLSvIfpl5M1ppGvJcasok7OKWxmht7t4QxdIrney4wpO9DLuVSyhl5im+RPyPPqeszafcSmyngSdpSYRcFJbWVIpIignjGd7HvByO745zXe+jXwbdniuziEMsU1rdpJeBonHm0Vud8wmyMRh0RowWxuMigZJGd08h+qxz+UrU5LYhojDcqHXo7QtZxSMpHIqZI3IYciCCOtAYNx35ObXT1gjTVEuNdF1DHdWVtA7RWAYSdp/peTDNNDcJGjICpyxBUbSakfpK8LzpxMltqmoi6mkFqkmpz28dokMUxChnijkZBHEpLFs8wD0rJeGzm7hz17ePJPj9YtepvpBcEpqnlEhs5pDFFPBF2kibdwjhtZ5nVCwKiRliKKxDAFgcNjBAqHCXkK0u/ke10rXfONVWN5ER9NuIIJuy+0qyu/QEr31L8tzBWAOOz9AO3KcR3KuMOmnXKsp/NZbi0DD9RBFap5BEii4qe10/QhZWtobmKTUpxez3B2B0jc3Mj9lGs/IhMOCr904GaoP0NIyvGOohgQwtr8FSMEEXtsCCPAg+FAeWKUpQClKUApSlAKUpQClKUBo2h/kI/0F/dXcrp6H+Qj/AEF/dXft4izBVGWJAAHiT0FSQdnSdOaV8L06sxzhR6ycf3VY47JETcoGOYU4DNIRnc2eZXmCoA58iT0qasdDKokSci4DMV5F92erc8LtUnPqPIZxnvarpPZHKrzC9nEox9WABk/pHln7/dyqq+KzOy2LXD4Syu9yi3FnIzh51KxjmituUDxG0eJ/TP8A4cKX0auxKkE9GWR5PX1VpMePhU9bcBXFy25m7NfAjJPx6/Cv3WPJPtGO0Yt455/+n6q1qrHi/Q6P0tTgvUibfWMsO1YPEw5N1C49YwXDD1dPHlXQ1Sw2nkc+rl4V09Z4JlhyVOR6jnn9/h/61x8PXjZCXB+rJ25x+SflgjnnZ0zn1+FddGaWsWcNejJaSVj8pXLeQlXKt1Bwaunk201V/wBIkw20Hs4yuRuBALHljl4ermfCuyU0o3OKMW3Y49F8ncrqGndIAcbVlOCc9AxAOzI6Eg8/DkasWp8JWiqEQt2mQWcktkL9pQxTkSQeYX1evFVy+43ZnJC5GM7gOgJ6HnnpjmefI+qo+z41YKzSysxxuCZIUbiCucc8hsHJGfvwDXDKpUkzqVOCLT2MKPsTskJGWR4kkOASEJcqBjryKk+vn07sPCsEg/1RJXGEUwnI6NuEhGeWPs+v7qpllxJHJHhpFQtnv7C78+eVTntPQ7jn9fh1jqQgBaBZJ+mxpgQjMDgMUBLsQe7htuD1z1rmfeXsm0zasltkd3ivhZY0LwMxCHE8Egw8OThXBwO0hJ/OwMZHUcxVKu/DnFO9T5yAZ0PaAuefYvkOgyo7uN3dIKkAnIySYnjLTkUrJAAIZPzUbcqt7vEAjntPNSCDjlXbh68r5J78zmq0lbNH0K9SlK7TmFKUoBSlKAUpSgFKUoBSlKApXG/5cfoD97VBVO8b/lx+gP3tUFWJkKUpQClKUApSlAKUpQCrFxxxvdX7RNqE5naGMRQlljXs4gchRsRcjPicmq7SgLBwDxpdadc9vps7W9xtKF0CMHRiCUeN1aN03KrbXUjKqeoBqzah5ctWkneWW/kaWSBrZyUgC+bylTIiQiLsowxVSTGqk7VyeQrOaUBP8BcZ3WnXPb6bO1vcbShdAjBo2ILI8bq0boWVW2upGUU9VBHPxVx9eXd+Ly6uHa/GzbdRBLd0MQxGU7BYwjL4FQDVZpQGpa39IXWZ7cwzajIYWXawjjtoXZfEGeKBJyCOR7/MEg5zVM4E4yudPuDNp0xguCjRmRVjY9m5UsuHRlwSinOM8qgKUByW8xVgynDKQyn1MpyD+oirHxB5QLy5v1vLi5dtQTZ2d0uyJ07H8nt7NVAI9w++qxSgNP1r6QGszvE02oy7oHEkXZpbwrvX7JkjihRJvEYlDg5PLmajP/bBqX4SkvhdkajLF2EtysNspeECMbOzWERAYij5hQe6OdUOlAKUpQClKUApSlAKUpQClKUBo2h/kI/0F/dVz8mKg3yhhnuvj7wp+HLNUzQ/yEf6C/uqx8FzhL2FicASKCT0Ablz93OoqK8WuhlTdpJ9T0B5OOGu0v5GfOxU5DJI3sEGQD0AVQoHhtPrObhecIxdp38kDovgTknn6xzNfnkxwZpNnQKPjk/35z/dXJxbxfFA7Zy5H2hGu7Hr+8j3VSygra8z0VGbWx17+AJyUAD1DlVZ1jnzrsWvGMNySIw6kfxiFa6V/dKEJJ6df1VpkjvptWuUriBMjB8azniTTTG6tjkzjp6vzuXrxirVq/HMJkKqrNjxAUc/dk10uIb+KW0BidSRIvcyu9STjBTOeZ5Z6VspRlFnFi5wnF2ZAcWxd9G8XQZ/SUkHPq5AVdOC9O3acSCRzIIyoDBwcn3FSSOZ54PLlypHE0uSgznCDmPhz94Kmrp5D5O2mNq57jjeuOo2kbz9wUnHqJq0yt0kUF0qrK7d8Hyq4O1sNz5BgMHJzkgDBHPn4fqz0dS4ZJcI6jeQSFXOFXngkZxyyPV1FesNS4aV+nLlgHA7oxywMY5e8eA8BiqJN5O2EjMWMjt1k5Kdo5BcDA+HLkvqFVlWvkLenhVIw/QOB03AHPJuZH532QRnw8enq99aFqPCYWOIkExoykJgAsB1A9QAJIHrGetaDofBPZcyPfjr/wCRUnrkQMZGOnTpyrgnjJSkb/0kYx0MB1uyBkbLANGoDfeU6gE5ZSwI55OC58a/Fsz2EiDGwnZgcwCCrRMPUuAG5dMMPHFSPH1jubIG1hnJHXC8z4ZOB3h/+v3V1tIVl5EbgRzYHmpjznkOXPBBA6fcas4ttJlXJW0KARSuzqoxNJ/SP0/SP91darlO6K1ilKVJApSlAKUpQClKUApSlAQmuaD2sm7ft7oGNuehJ67h666Hoj/tP2P+OrVSoJuVX0R/2n7H/HT0R/2n7H/HVqpQXKr6I/7T9j/jrS/Iv9HOXVkmaC7jhEDIrCWKRtxkViCNreG3x9dV6vV30DP4Pf8A9LB/hy0Bmf4kF1/KEH9RN81PxILr+UIP6ib5q9yVDcZcTw2Vv214xSEPHHuVHkO+4kSKIbUUtzkdRnHLOTUEnjT8SC6/lCD+om+an4kF1/KEH9RN81ex9c4sggure3lc+d3RYW8EaPIzLGMyyMEUiOFB1kfC88ZzU7QHhv8AEguv5Qg/qJvmp+JBdfyhB/UTfNXuSlAeG/xILr+UIP6ib5qfiQXX8oQf1E3zV7kpQHhv8SC6/lCD+om+an4kF1/KEH9RN81e5KrnCnF8d1c3kMaur2M628zSBAru8McoMe1ySmyRR3gpznlQHj78SC6/lCD+om+an4kF1/KEH9RN81eydJ4rgmnuoo3+tsmRLvcrIsTSxCZO+wCMOyIYlSQPHFfvBfFEN9biezZntmZ1jlaOSMS9mxVnj3qpeIsCBIBtbBwTQHjX8SC6/lCD+om+an4kF1/KEH9RN81e5KUB4b/Eguv5Qg/qJvmp+JBdfyhB/UTfNXt6/uQkbuckIrOQMZIRSSBnlnAqpaN5SbeWwsroiWOLUJIYbVGiaRxLdb+yWQQ71jXuNmRjsXllhmgPJ34kF1/KEH9RN81PxILr+UIP6ib5q9yUoDw3+JBdfyhB/UTfNT8SC6/lCD+om+avclKA8N/iQXX8oQf1E3zV54vOCikjKZQSjshIQ8yjFSft9OVf1rr+Yuufwib+ml/xHqUCk+iP+0/Y/wCOnoj/ALT9j/jq1UoRcqvoj/tP2P8Ajp6I/wC0/Y/46tVKC5w2MGyNVznaoGemcD1Vb/JToCXeoxwyuyK24gx7dxdBlANwIxnvHl0Vqq1WTyX6n2Gp28mcYk2ZPMDt0eLJ9wMmf1VjUvlduRso27yOba6v6m+a9w3cfg+8S0YxTrGJFkSWTM5X63aGGCu4KVxzAL+qorX9MYxZt0iEeFKkpFmXcFOeeCMqzntDu545HJxq3BCttbtye1fvMH6oQ7rtx4AAKQPU3qqq8UcMKnKF3iQfZiVkZEA6BVlR9iDoETCgYAAAqmz5opno1QUZygn86GScL6JgStehQkaO7yxjs2jC7mbZNHtZQIwDyYc88qqvG+g3cKQSXs7FJAoktS7/AFLSp9WG73fO/arDwLY5it14f0ESkrLI8sYIdo3MMadxgRv7OKPcgYDKsSD4g1BeXKzEqFGIbmNuOW7kSOfX1YNFNrXqbXh0049Ofy5iemQTqMxFQmCThY+u0YGMAjv55+rHIV22jaRFJUCeOeKZVdcqWgYysc+yY42BweYNTui6cCgO5yMfxjerxP2v76lLCxVUmdVy4iZQzMznv4AUM7EgF9vIEDkPVWXe6nPPCtQ12fUz7iS3ACt0diSVGCir1CoeuASRU15ELoprNsQcAuyueg2NG+7Pu5A/qqvcRMwcLJ9pFAIPgzd8j78MAfeK7fDl0IzG6gGXtQu5snbzjIwNwxuQyL8eYqypJ92r8imxGXv3k2T9tz1Vd8d25cpHKu8fm9CfuJ7p/UahOKOOUhGSc+5SMtnp9wyeprPeIuFZSQVwrl2zGEyCh5IAOQXA3ZYnGDXJxBwSyafZyxyMzNF9ap2qI47lo5A690fk12rlskjBJ7pNU9SlB6tl1TqTW0SfTyosTzjVFyMhnLNjlyCqvXBHxqWj4zt5Ackq4C74irkqshcRlgF7oYxuBuxzU1Q9P4HDoqzNGyq7MsryhAd+MkjkWOAORJHKpyHg0Qzg28jYMex+9hW2tuj5lNxVS0hAVgO8fteHLKlQurt+JslKuk7JXIPi5S0gNuC0feK9shDbh+aMA/Vtlhl8Dr6s10OGdFLS77iTskUECNIRIzqQA27E+1QMD1nKmtXudLXzdkHJmO5nAALOTls4xyOelRFlpkkU+Fx5qUCyOyDAYq5kw2MiTmO6DzGPeRnLFWhaGn7s10cEpVb1LPi+CPOvEEBS5lVvtLLICR44duY9x6/rro13uIL0S3Ejr9lnJTPsDkmffsAz7810a9JC+VX3sjzlSyk8u13bwFK+ZHAGScD1muHzxcZzy9eGx8cVsSb2NUpxju0jsUrihnDfZP7x/ca5AahqxkmnsftKUoBSlKAUpSgFKUoBSlKAV6u+gZ/B7/8ApYP8OWvKNervoGfwe/8A6WD/AA5agk9MVkf0uCfwA20At55p+0MxUE/hG1wCwVioz1IVseo9K1yqz5TODk1GzNvK7RoZYJd8YUtutZ45kHeBGC0YB9xNQSZp9HC7WW+1GTU8jihZjFfQS4xaWCuWsIrH16aY2STtAA0kjbn3ZjZvrRrafWNT1Ptb+7s7SwuhY2dtpk4tT2kUKPPczybGadmeRdkb/VhVOVfOavPG/k6jur62vIpHtdRtThLq3CEz27ZL2twjArLbMxJ2nBUlipUsTUbrvkvc309zpmoXGnS3fZ+fRwR2lxFcPCmxJVjuYH7G4MeFZ4yN21SRnJIGYajx9fvwwSLgDVbXWk0tr5UMSXRh1COESPGh/JyRuodUPPD4xnlZtNtLrT+JbCGTUbq/j1G2vWu0vWh7NJ7KOCRJLaCKJEtlJkYdmuRjqSedWs+SC3XSYbCF5UhhuYbozMyyzXFxDci5eSaRlwzyzAliAMA4UKAAJ/XeDUm1SzvWdllskuUjiULskF8kaOXJG7KiMEYI6nNAZb5IbO7v9R1GW51K6W0sdduYrayt3SNXEHYt2dxIY2eSz2OirbqUA+tJLbhtq/lH4t7Njd6VqOqXMkeowxvIyN+CjHNepDPaL/o8drKiAlBJGZHDAfWd7Nbx5PuCksTeGJ3k89v57+TtNv1clyIw0abVH1aiIYzk8zk1nB+jwosGso9SvE01ZO2srNRabbObzjzhWMvYdtcIsxJEcr7e8T9oKwA7vEzzahxHJYi7ns9PsrGG5kXT5TbTXV1dSyCPfcgFxbRxR/k027mY7iw7o+Po42LxX2txyzPcumpRg3E6xLJKPMbbYXESJGXCbVLKq7tucAk1N8S+StpbuG7t9QuLTVEtVs7m8gitGF9CpDEy20kLW6y9rucMijbuxjCriV8lvk6j003Jimmna7mWeWS8kEshlWJI3ZpcAszlN55AAsQoVQFAHnPyjX7pq+rJc74+HZdVsY9curVn7ZLdtOgEMTqqho7CWcok0sbb9pKAd7D7j5cOJHstFhGkNHC9xPZ2FlPGkbxWkd26RpLHGPqmRIAdg+z9jqBg2TR+AoY7jUJH+uTU2Rrm3mVGjCx2wtzGF296N4x3g2c5NV2w8jEC6TNp0s88unPJvtFaQCbTNsnawrbXQXftilCMnabiMENuVitAV3XrafRtR0wxX93eWl/eCwvLbUphdEyTxO0FzA+xWgKPGd8afVlWGFTGT+cH6fdX2t6l22o3UNjY6lD2FnaOkfassFrM0c0rRs5sT9k28ezf2su4nugWnQ/Jc/nsFzqeoXGoyWm82MU8dpbxW7ypsaVo7eBO2uBHlVkkJ27mIGcEWThDhBLW5vZkdna+uFuJFcLiNlhjhCpgZ27YweeTkmgMi4Xs7nVra/vpdRu7Yrc3tvYWtnJGlvb21mzRJ29o8Tx3M0hRmdpc8m7nZ8sQula7Nb8McLebStF2+q6VbT9mcdtbT+c9rE/rjbauR7hWgz+RICW5FtqN5a6dezPcXem27QKjzT47fs7kwm5hhkI78cTrkFgCoxiSbyQwnT9Mte2k7PSry1vIJMR7p3se17NJO7tCN2pztAPIYoCraxaXd9xPfWiajcWenRWVnLIlkyJMXm84AEM7xuIFYrukdF3tsjAKgtVcg4+vYeGZVS4aTUF1qTRbfUblVkdEN92KXEowFkmWEsNxHNghOeedv0vg9I9Vub0OxluoIIHiIXYi2hlKFTjduPatnJ8BVN4p8nFrBol9BcpdXlrc3ct7JHZxmS5jmu7qOQNbJEN5MMu2QcmO1GyHGVIEDr2jXGnato8cOp31xbXV3LHdQX1wlwJmS0mkD9p2Syqu5ecIbsx3dqrjnu1eZeEuGDc69p0lv+FbqKyaaa61PiCOe37JGtXht7S1ilt4A8jzMJJXWPd3ELO/IL6aoBX8xdc/hE39NL/iPX9Oq/mLrn8Im/ppf8R6lEM6dKUqSBSlKAU/85Hh+ulKA9PeSPyoedlRKhW4ijC3Eg2lZy2Asg57gx7LLAjlnkT4SHlN1ghE2EAOxDOSAI1QEuxJ5dBy++sD8j2qiK/AY4WZTFk/mueaH4jH/wCqt0nsVniaN+8FZWAPMHkN4x7JHgfXjwqjxkHCbS2ep6Ps+rnipN6rT+D4SeNrYdjtmQjDBSsgb3HGVOT1z6qyvyiPLIAJMIFOUSMhQmzkg5AYwD0Fbhp+mi3tsWxEcYyREVUqmQQQB1C8yQM8unTlWbcb3ssoIMwVgxP1McYJywYglw/LkOmKwtY780pJpe5n/D+q4dUGCGO07WB2k9M4PLJruajr2yCUJzbco5+vcDzHuIHwr70ezSCN5AoLnJ3nqz4IBJ93gOlUq8uPqsZyWfJ9+Bz/AGjgfca2UYZ6luBxYyq4U9XqdKeYsxZySzElmPUk8yT+upTg+YC7gEmDC1xAJVIBBTtVDH1hgrNgjBGTURSrq2ljzd9bnrfXtNU3AWRzsdtrKzkjaft5Gdp7ueoP99dvX+KrYLsdgijkGyBgKMADw8KzjhXiPzoQTTE90bJgoLHt4woY7QCe+h7QD3keFSN9axzqJbZHmiclUZECjcGZX7xIwQ6lTnxUjwrz9am5Zk9LM9bSqxtFx5Locen6mqSN2ZLQBiEcAAleozgc8EkZ91TNlqq558weh61SNfvTFEAIhvOAsfbLvYkAjChfURXZ0hzjJGDjmuc8wB4/ecZ9wrhasjplVuaPYPuHI58Qfcen66oPle4uaGxMUQYSTl42c4wsRLdrtI/OI7g9QYn1Zs/D9xjA/wDPrrIfL8T57H7PYAjn4tNPnl4eH91deCoxnUV+GpVY2vKFN246GdVxzTAdTz8B66+Lyfavv8B/58KjYznr9o+7r/416mnTzavY8nicSqast/Y7E0+4fZzjwz/u611vOvWoA93L++u7FaFU3Hx9fLI8ffUXcOM8vhXXGKWiKfP3sm3r1PmUYP8ANrn3EdOR+FdeRu7X3LJke+smkzZdqxNWU+5ff4/fXPVc06fa4Ph0P3GrHXDVhlZcUKmeOu4pSlazcKUpQClKUApSlAK9XfQM/g9//Swf4cteUa9XfQM/g9//AEsH+HLUEnpilKVBIpSlAKjuJdSaG3eSKCS6ddu22tux7SXc6qdnayxxd0MXO5xyVsZOAZGlAZF/7bG8+8z/AAPqPn3m/nfm/wD7rz5r2vY9ru/CWzb23cxnPuxzrS+GdSae3SSWCS1dt2ba57HtI9rso3djLJF3gocbXPJ1zg5Ayo/84f8A+2P/ALzXD5QLbz/iyDTr1n/BcekvqBto5ZYVvLo3otwsxjdWlijjG8RZxknIIOKA22led9O3Wk/EVhbSyNp9vpiXVrFJNLMdOlubO57WGOZ3aVY27NJljLYXOVA3MTVTwkIOH9H1IXF1Jqxl0gi6kvLnC291JbI1qLYS+b+bCF9hGzc+GLlt7ZA9ZV1NavxDBJKwJWKN5WVcZKxIzEDJA3EKQMkVhfFHGA0PXdQa6Zjp99p7ajZrJINv4R09ezurWEE5Dzq0Mp8MsMeOLZwZoEttwtIt6zPfy2l1dXryHLedXkcs0ynwAjLiIBeWIhQF44D4kS+sILqFWSK4iWZEl2h1VxkBgrMu77ia5tC1gyyTq0EsIgl7JZJ0VVuhtVu1gIYloe9tycHKtyqo/Rp/5M6b/wDgof8AsVmt7ev+DeLjvbMc932R3tmIDTIGGw5yuGJPdxzNAejaVgHld1Fl07hkLIVeTWdFDgSENLGYZO0DYOXQlk3ZyMlc9RW/0ApSlAKUpQCv5i65/CJv6aX/ABHr+nVfzF1z+ETf00v+I9SiGdOlKVJApSlAKUpQErwa2L+2yMjzq3yD0I7ePP8AdXqHX4/NLgnA7GQlYz7JPWNifeSQSeY+6vM/DOnsstrM6MYZL6GCLHLtZBLGWAYgjaoIyfvHhXsLX4lfckqho2JyrgMDz5cjVZj7NpFx2amk34FKn4iV1IIwpHTwbPU1nvEM8eC2emeQP7xnr0qy8X8DsufNZCgI7sbgsB9zZ3Dp7+tY3xLpM6swlYDnz27jy6Y59Bgj11XpSbsy4VdRWiODXdYaVuziAUHly6AZwfh1P/iKitdtwku1egRP+wuT95OT+uu9pdgF95zzJroccakUuEztMbRLyYHO5HcNg5yCFZOmPfXfhXlnZcipxkXOnmlzOlSu3qViU2H8yRA6H+afA8uoI/WMHxrqVZppq6KZqzsWbyc8Tea3IL87dyomUc9uD3JAPaQknHipYeIreeIraNRvRSY5Qr92RuzY82DKnNF3btxK43cickA15grZ/I3xevmLW8x70TEwlsfkn5sq5PMo5Jx4B19VceKpaOS8yy7PxOWWR7cPE7dlbRgns4kX+jQD4t9o/rP3YrtJFtznpXzqPESL9kL7zjmf99Qs+s7z6h4DpmvPTjJyL2dZNFot7nvgL08aqH0grPu2kuOTM1uX8A7ZkhVvUGIkUH1kZ9Yn9Gk5inlYuF/BEiyYOWj258HSVGUj3gKT+o1tw1ZwrRtzt6nLiKKlRlfx9Dz1HbmSUheZ29wfcN2PvJ5ffgVYfRGZo0aKLfuUOoXrtIGDtzuGOmfWDX35NNNE17aRqSJJbgAkYPLtIzj7+z3/AKytex+HvJ1BZptt1ABJZmPMsWOTk+odMV6DHdo/pkkld2PG4Ts5YypKU3ZJtb6+h4b1TTZUGZlYD1MrAD4+NQUy46fCvb3G3DMUyMJYlOeW7aM48fDocVgXE/klQyAWkjJyJKSd8DHTDfaH680wfbdOppNZX+x01v8A5+tS1pvMuWz/AIMbc46eNcZerjrfk/miHPDevb/6dKgrjRHUd5fhz/u61bQxFOavFplZUozpffFryIrHOrHp8u5AfHofvFQU1uVPeGPv5V39Al+0P1/9x/7qV1eNzbhZ2nYlqUpXEWIpSlAKUpQClKUAr1d9Az+D3/8ASwf4cteUa9XfQM/g9/8A0sH+HLUEnpilKVBIpSq15UeLl07TLi7kXeIIiyRbtvbTMQlvEG2sVMk7xx52tjfnBxigLLSqX5FuPRqmmJciI28u+SK5tHbc1rcQSMkkTkqp3YCvgqpw65APKrMuswlkUTR75GZYkEseZXiBMiou7LMoBLAZIwc0BH+iMH4U8/2t595n5jv3tt827ft9vZ/Z3dtz3dccq6fHnANvfNE8/axXVuWNteWc8trPAJRiVVmjYExuowyNlT6q7vAmry3FoslzEkEzNIGhhuY7tFEcrohFxGAjFkVWIA7pYqeYrGpfpA3UentqE+lKdHjuXt557fUUeeER3Jtu080ktY1cGbaoUS574yQMkAahw35M7S2tbmGJZG89Di+ubi4mnuLsyRGItJdSO0hIjJCgEBcsQAWYnnvPJ/bPp1vZsreaWptjAokYMvmBQ22X+02DGmc9cc6ntT1eKGMPcSxwxkgCSeRIlJbmBucgbiPDrXLNeoqB2dVjO3bIzqFbfjZhicHdkY9eRQGZeWvgZ9S1HSUa3DWNtdve3d4zxgx+bx/6PbLEW3ulxMV7TC4Cwrzya03VLJZYXjk/JyI0bgHBKSKVbB8DgnnXHaatE8rxxyxvNH+ViSRGeL9OMMWXn6wKj+H9XkkmulmjSOOCUJDIlzHMZozGrM8kagG3YMSux+ZC56GgKhofkWtbcRrb3GoxxRbeygXWNRESLGQVQQ9v2fZ8sbMYxkYqy2nAlsq3q9mXj1F3e+jkdmWUzQrDIBzyimJQuFI9fWpbS9chmZlt54pWT7awzRyFP0grEr+uvy912CNSZZ4kVX7NmkmiQLLjPZkswAkxz2nnQGeaV5A9PjNuxFxNJZzwTWUl1e3E5tBZktBBDvfbHaBtpMKABuzj3Z2LjVK6UurRLKsTSxidxujhaVBJIozkrGW3svI8wPA10I9Xl/CTQGJPNRarMLnzmMyGYzFDEbPHaCIIA3bk7STtxmgJylRsuvwDZunhHasUizNEO1dTtKx5bvsG5ELk55VJUApSlAK/mLrn8Im/ppf8R6/p1X8xdc/hE39NL/iPUohnTpSlSQKUoaAVyW0DO6rGC0jsFRB1Z3ICqPeWIH66sHDPBFxc4KqIoT0nuG7NDjGdowXfr+YpHvrZOEOFrPTcTbhdXIGUu5MJHEwGcQxlsbiRgOxYgZ+znFa5VFE2QpykfPli4UFpaaYkbd3TZ7eebC/lnSUyXRwGOCTIX6e49RjQxrCyoGQgggEEH11WtRvhcxNnvB1OQSchyOn6LKeWPGMj11mGmatJYyFGJaAPjoR2e7mMD2D3gP0feM1dZNs9DhaWSlmfOxudxOCnPqKxvynQ759yjChcYHifGrnpfEIkTKNyIqt8VIW8a57nQoooFvb93NU3yjw74gcZZDlcdeeAR+sDp6wKv+svsUKPvqg8S3w7TavMj7fXkfzVz6zz6dMY65x0YeMnNNHLi5RVNp8ixaVbLLpSLLKqTwY2Bwx7QSACRMqpOQQuOv2DUM1jj7ZHuC8yffg4wK6lhEcZY5x08AuOuOWBy5eFfGqXXd5Z58s55+4D93QVbQhlR5+cszPwyAthTnB7zeC+7HRnPgP/ABInuH5Nl3Y7OQa+tf8AqR3Ebv8AeORJPjg+s1VLa4MZKOeZZSY881YA7W8dpBfBzjK7getfcmoMZrdvESjYBnpvZunrxjn1NTJ2i/AiH3I9O8d8JIXLwgKSe8AABnxIHhVOtdKCvzPSrRZcXho8T9SBhx16fnDpn3jr6qhYdRhDktIAPeR+7OT+qvP16Tbuj0FKpDiyTsVAPL4Vm3l21/JSBfDvv7i2QvwTcf8A4gq1ahxdGisUBcjoByHu54z/AHVjnFt8ZLkuw+13iwxgg8uWefI5GPAKKzwOFfeZ5bL3NGPxa7vJHj7Fv+jfb7tbtB7EvafcAp3E+oYA+NenPKX5TDAW81hedFyGkjR3DN6kwMFR4v8AZ9WeeMU+iDoW7VGc/mW8rHPgGMCDPLIJLsR+jW4eUjiVLb6uC2kuJGHeeKJ+yiJ6CSfb2MeAMne6nGMbiQDs7VkpYlRy5kktL25lV2PFrDuSdm23e17bcPIzHT/LSZ5gj2kyHP2iNwxnmWUDIHxqT1y5RZS/QYGAfAsPV685rM7HjiSa870DREMQDh2VgMk82jRlOATgj4HAOieWq0EWnJL+cR3hnxABFc9fDxhVjFRy34XuXOCrN0pTc89uNrbK+xlnHPEkvabLWBmx1co77jy5DaPDNUTUb24Vszxsn810Kj39Rmtn0vX5IbSM2Np5zM8ZkkbDssQ8AdqlmlY5woxgLkkZUNmnEWu3Mj5urbAJOU2sDz68ic/3VcYOf9KhFJaXvq/Io8fSu3J1JN7r6XlV+q0Krr8okUOP0SD+aRzH9x/uqO0d8Sj35HxH+8Crg+nh7dwqlfzl3jB5DOMffkVSrP7a48CP31a05KUGipySpyTlx1LPSlK5CzFKUoBSlKAUpSgFervoGfwe/wD6WD/DlryjXq76Bn8Hv/6WD/DlqCT0xSlKgkVhfl9v5rnWNPsLK2N55sw1i/thOlqrR27mLT0edwYirXZaRoSCSIFOMcxulR1loUMdzLPHGq3M4jWeYDvSrApWFSfZUM2AMDmaAwnyNajPZ8UXttf23mMWrqdRsrc3ENwvnkAC6iqSxgBpZRm4Zcd1Yl+8yP0WeDLXsZ7x4EkvzqeoKl1MqySW6JeXKBLd2BMEZDylhHjcZZM5zy2LVuHYJp4Jp4ke4tmdrWZh37dpQqy7G6gOqqGHQgDNcmg6JFbRlLWNYo2d5WRBgGSZi8r/AKTOSx95oDMvof8A/JuD+nvv/qV5WD22jOnC73z3m+1tNTu7h9DvuzWyvux1CULExiEdw0pkKyokrzRtIiKY8Hl7E4c0OG1gENpGsMClmWKMYVWldnkIHraR2Y+8mqnF5GNKEvafg21Mu7fveBHy5O4sQ+QTu58x1oDH+LO2v+KowLeym36JDNZWWvGdolS5kZr1oYkgkia7zsjkJUN2aDqoOPzyh8Fz2fBptLyRAw1O3ERsJZSLSC51OB4oopJYxIrRdqwUkHACda33jXgm0v1RdQto7gRtuiaRe/CxxkxyqRImdq52sM7VznArhsvJ9ZR2YtY7WJbMSLN5uFO0zI6ush55aQOituJJyooDJde4SttO4r4eTTIEtlmj1aK5MK4e6SCxiki84lOZJ3Evf7SVmYtzJNfNnxBBZjime+j7a0S7RZrcAHt0msLWLsiDy2u0oQk8gGJrX+NtFL9ncW1vBPqdru8xN5JJCsYuOzS8AnSKRo2e2DKDsYFggOBk1WfJnwJIseoNrEcDyanctNPZxFriGKDsIoY4WkkiQytsjJZtijLchyoDNNHsjDxXoxa0sNPa4s9QHm2kyhy0CwRSQpOy2sCOFYMUKKVykuCQua/eFuBLS6m4kmvbdLiVL67jh84USrbjzK3dnhjbKxTs23MyAPiOMZG2tY0nyOaXD2XYWEEbQzC4hkjVldJ1+y3bBu1YD2GYr7qs9jw5BGJ+ziVRdO0l1tH5eSRAjs/PmxRQp9wFAeW4uC7WLhLSLtIVOotdaPKdQcb7gE3NtGqLctmVYEhVIkhUhFWNAByzWuWQ/wD97m//AC/D/wDU560F+ELY2kdsYE80hMZht8HZEbdg0BUZ5bGUEerArtrocIuzciNfPDCLc3GO+YFcyLHn2BIS2PWaA8maJ5P7N+BtQu5rdJb0jUWS5nUSvbebX12IltmYEwRhgzlY9u5pJC2d2K9ZcKylrOBmJLNBEWYnJZmjUkk+JJOa6kHB9qtk1osCCxcSCS2A7jid2ebIz+e7sx97Gpm1gCIqoMIqhVUdFVQAoHuAAFAclKUoBX8xdc/hE39NL/iPX9Oq/mLrn8Im/ppf8R6lEM6dK/Y0JIAGSSAAOpJOAB7yeVajwvootV+rXtNQZQO3IDLaNIjnZCpBHbjaN0zAnJxGMd9olLKZ06bm7IqFlwjJgNc/6PGcECVT2jgkgbYftcyMZfaPvqX0+SGGZUghBc42zzlZJAwxzUbTCnXlhSffVvl4TdpWMpADbZTnGS6SDJLtufcVPsiune6DGL9iJCBGY8flF3d0AnO85B3D+6uPvs5b1MNHC2Ss2+LXVrRH3cQncpkeR2ZQxBOMM0YK7cd5MbiAVwceNV7Xbo7nAJKxxtuZncgSSSBeTOxxyJ9/2j4mtcu+G13Rskgw4H5zoM5VeRDE+B+IqN4p4Xjijm3bnZxu5FmCKZFx3j/Obdyx0FaoTi2Yxrzh9tl14+u5n/k04qJjCyNzQ4fvAmQDmgGG6lVByeZZW5gGpnyr87GW5hVWkSLPMAgrJhjIB6gBu8MEH766a8Po8JMSOsx2AOMcmzjOM+J8eWMg+FcfFUjrYPbKe0vbmM5iGT5ta7sXUjY6PJnai9NuSN2DWUbZmzfiq0nRgnyfvYpXk44mYqFYntME8ujoCq7uvJtxwRy/N9daRb3G/rULw55Nz2EbpJEd0ZjDESK0Lg/zRzU4LEN4AdCAamE22sjR3UiIyYy7MIlIZQwK72Bx1GfWDXNWyuV4k4Sq8tpblH431Qbh2cblB+VmbKBQR9XtBxkZYEjDHGM9cDPpMCU4OcMoJPPcQrsxyCc95/WfCto1nhxRDNc3EiBUyyAOZDOqrlBtKhEBXGT3idxHLqcR0wFiTjnuYkAchkL+oDrirDC2toVWKlJv6mT89yBAeXP/ALJ8D1+ycgV0pB3gfAYwDk5J5Z68+RPxNNQlGyMeJ2g45cup5DwyM1+sMsP0gTnpgEe7piutnGdCxg7zk8yXY88dCzHny6867sNvm4gX1d74ba+NNHcHvUczgcyBnA9WfXXe4fi3X6/zUH9+fVy6CtFd2gzOmvqRq1mhKYAB5dDy/wC410Z9OJPKPJ8TkAf9/wC6p/R7SpaeNYoizdFBJx7hk/3VVqeljtaMo4zJjxGNqsRuZV3Hr9gFjjPicYH5tVVzlSjEx5GC/IFQxGSDjlHhQGxzwT6qmL67MsrOx5sScHw9Q6eAwK6OokEDKhh0VT+cxzhAeuTtYk+Cq59QNnTjlikcM5Znc9b/AEeuFPN7jUGAIiZoorfP8VC1xG2DjJy0S5JySVJJJJq2cYzsilVO0EHmDjGep9VRf0dNSaawieQ7m82SKU4AzPbTXCSMVH2TICkmOneNc/lcv1jTcxxy5D1nwGK8vis0p/Vve3poehwigqjUFaL+rwvr+Sj8N8JRTXO92Z2U57xGM8+uFHLNcH0jlHmiIBleeauHk9nVbYy3EiW6sy8pSq4XwGScZP31T/pEXkXZptbKNzGWHNeXMEcsYPWlFzdeN+DOys42kuj9jKPJRPuBikyQOQIJBIOeec1edV4ahVCyxln9bEsenvPKsihuDaSxyQvu3vtZOR3KRnII5ZXAz99a9dawHt94PUcwPA4q0xsJKopx2fucOBlFwdOS1j7cDO7yId4HkOmPV41kVtHz7vUEEfqYVrGq3oYEfnE/vrPuzBmdgMI3QDwCtjn/AD2MYfA6AmrjBNxi7nnu1I56kcvX55HapSlZgUpSgFKUoBSlKAVffJT5WrrSklWxS3YTMjSedxTyEGMMF29ndRADDHOc+HSqFSgNz/Go1T+KsP7Le/5nT8ajVP4qw/st7/mdYZSoJNz/ABqNU/irD+y3v+Z0/Go1T+KsP7Le/wCZ1hlKA3P8ajVP4qw/st7/AJnT8ajVP4qw/st7/mdYZSgNz/Go1T+KsP7Le/5nT8ajVP4qw/st7/mdYZSgNz/Go1T+KsP7Le/5nT8ajVP4qw/st7/mdYZSgNz/ABqNU/irD+y3v+Z0/Go1T+KsP7Le/wCZ1hlKA3P8ajVP4qw/st7/AJnT8ajVP4qw/st7/mdYZSgNz/Go1T+KsP7Le/5nT8ajVP4qw/st7/mdYZSgNz/Go1T+KsP7Le/5nT8ajVP4qw/st7/mdYZSgNz/ABqNU/irD+y3v+Z0/Go1T+KsP7Le/wCZ1hlKA3P8ajVP4qw/st7/AJnWIXUxd2ZsbmZmOOmXYscZJOMn11x0oCycBWh7Xtf4tl2Ag96Rsk45dViSRvv2VtGqXqRrG0G1IS2e2c5JV8Y5k4yY5Fz6/wBVZjY2fY2q5yHFu9ywIYEtcKFiKsB9nsmi9WDu9RNVmfid5rZUZ+cLFVwOZDqGQg9EGUK5Az3R1rkqJyk+RcRjTjhof3Zn5ppGra/xVGswVe8+0b+0J3ENy7sYUuQDg4ITlVN13jFjcuQp70anBSMc43Bxt37sfV45k8iedVDSdQLXWRyB5cuZbcD1b7R5np7uQFcPmLNzK9El5kqOiMw6sD1JrTTjGLaZ34qnOvTjOKb3/B6I0Di/tbSEiLo5wDC3TvMRkyYAxgVB+Vji5jNsBCKY2AG4KAeyBXupuk+0RyzVb8ntoTYMMY2uGUkgAZQA+PtZz/5xweUeA9tG5Kr9ZHnqeW7afD1DpURyRkcSwdaS+1+3uVbQeLZMFDKMEMOb3PXGRgAY6r1Prr81TiIpJFcbhuJxcFTLulVspNukzvLbWz96iq5p8AEg74646HxOD4++paeyDQOpcHDHACnxBPifWBUynGMy1o9n1auFlGyur21XR8/E1XgHiuRonQGNio3L3l7xzhsDYGI+yQf55qh+XJzdT2s5UZYi1nPXu796kns17oBm9fJhz6VweSmU5XDLkHsu9uH2h3c8veo+8LX5q1q4lnR2BG5ezQyM/wBa+4FlZkyq7NwA5dF6ZqYuMKl0VEsHUcdvY5ePuLHks1hbl2nPw8W7uCDjHZoBgjPeqj6GvN8+zz9xB548SMeH+6nE0uZ+mFUbFX3DHeBzjn1z91cumnm4PJjGcnBAYd3Dch158wM+7rXfh4KMdOOpV4hvM0+Gh1b2bvRZ/ne/91d1D18eTE4/mqT4nGMio2aLDxhuodufUMuSVZTnDKfWKkYm5N+iwAx/MYeo/wDn41mzUcllHy+77/D15qa8ntsWupW67SFB65woPLHq51ERAeHI/wB/XPif7vuqw+TaEkSuAe8TzOcFEzI362JROXPAP6uXE6xsbaW9zW9KjO0YB5rn7J6Yz0xnI8fGoHyvahst0iHJ5Dk48I0Iz/1n2j3hXqe0mJm7M7jsL7Ng8RGOec9SWjPT2uprJfKDrfb30rqe4p7KL1bIcru6/ZZ+0fPqcequelRWa5tqVHYhLg8vu6kfHp6v93vr60xMsWb83Krkjm2R2jZzz5gRg8+Scjg105XJO0HDE4B9WBl25n8xSCOXJ3i9RqQgQDCr9kAADwAGMDp6q7jlPQv0UuKFVns2UiVma4jkDd1lCwCSIoeYYLGzgjkRvyBgZsPlJBm1ZY5TiGJY5ME8pHldwCSfzV2Dl4lxXnXhbiQ2l1FcJzaJwxQct6c1lTPhvjZkz4b69T6/aw3scFzDtlgkTaTgESQTjBDD1gnBU9CGB6GvP9o0+6qqpwd/UvOzJ5048V7E7JpSiJVdY9g54l2n4buXqrJ/KPosM+5JxGkSA9m4kAG7rgKGwenxq9cH+Ti2s0kMURmikZWZHYyvBtIyIy5J7PaPsfDqagOMNLsJk2mGQFYnG0xSx98cl3EfVZwTg5wcDPTFcVJqE7xbtztr6XLCKzxakr9N188jzbq+hxxNmORAf0lz8c+4V3ODriWSU4bMADCUj7O0I5znpkMBgj148a5ONtFty22CPsYlYkbdpdgwTuk/ZB3KehbqTkZIrlu7hYLbs4uW/unHgBzYfrPX18zXpnPPTS3b5rY8+8P3NVv7YrWye75WIJ5+rZ8OX34IH9+KjUbCBfzR0A9Z61yS3ORgfZH95rirptbQ44yT1XqKUpUgUpSgFKUoBSlKAUpSgFKUoBSlKAUpSgFKUoBSlKAUpSgFKUoBSlKAUpSgFKUoBXd0HTTPcxQp9qaVIgR4dq6rn9QOf1V0qt3kjj/94K/8SjygkEgNt2ITjwDyA591Q9jKKu7Gl+WpBHAewHZs8iQ4yABHhj3VYbDlFUEd0HxzWC6jpxhnKv3dyBjjOC2d0e0Hx2hgV6gye47dU8qeu9ppzmYZIuFEb788gGBw/wCccggqxyOVff4JjvNI84U5ljVo1kbo+0hFLcuUihM5AzzXqOVcTnlWpZuDjJJ9H5GV8KzYuOWFUkd5ubHHMY8fa6VJaYy73ADH6qTG5gOZjfnjn6zVatI2SbL5BEijLEDHf6AHqQcggeKmrtp+istyO42CWXLSJFyIZeakHoD4H1VHdLNd8i1/5N9woxWzfo+m3Bl14IkCWD5XxXqxPhGPBRy5jx8KiuO58AckH5PwJ/PcnPPGfv8AVVx0TQ2NoQFTnt/PZvtLH4xtjqPVUbxvwpKUB2gHs1xiGQ5IL/xi46EePgKwUYKRwvH1Wt/2X8GMtckTfm8n9kcsMKkor4gP9nG8fmL6/wDxxU5LwjL2jdeUh/1duvR+f5wPhjmK7jcIS9/17gfydqcc/wBPrnHPl1pUjDMvnEssDjaypT1fHj/1ZU+DL3ZdlSFIMgOMYzj6wcwR/FVduILTdethR7XdBwSAqjJyeanaeY/OqDn4XkS7iO3Ks0YOUTmCXQ8oWLdG/vNX3ia0aG3ubhlTCQAp3Jhh3UqACcD8oifaJ/urOUY3Kr9ZUWjfsYJqV4POJARmMMVUZ5gR90MrAeO3PTxrsIwXoGJKkBWKEMuM8nU58PZH3ioaziJPu8WJ5+NWryb8Pm/1OKFOzWKP66dpSyr5vAydqndBYs+5YwB4v1AGasMypxu9kVNpVJ6atv8AdkRo9o7yEIrSxnLIFVnAJb8xlGUl54IGPHcDVqteCbvmBaXJVjiMtZ3C5ZgowWMYT7RxnI6E4Fe149UtrYBYFjWNQFRERERQuAMIqgf+ldqbiyPbnauAOecDd+vNU9TtRxdsv7ljHsybPB2r6c8EjpPGYZkDb42XGCgyfHBHjlcg5zVx8nx+oUDug7EJO7JyqggdACGlB3D1geBr1Hx09tfWEkXYKXlRkGVztZgQrbs90BjncqlgAcYODXn/AIW0WS2Yx3IKyLtyBzBI3EMjADcrZ+0Bjun1csni4VbW35GqWFnSeqdjs69xCYbOWSP7QX6vLbyss4VUIOcbUZiSo5dxx4VjEIwvLAAGMHwHrPLkAASfuNajxto810YYLaNj3+1nlxlIY1zGhkfHJWeViB49m55BWI59L0jT40aFts132ZZL65Yi1+yp2NEWVOyYc1kchWDDG/kD10n9N0v9LqcOIqxhK0n/ALMo0c7stzJYYQHqsYPd5eBZiXI9bY8KlUtHP2Uds8xtVjkDrgAeHjVwTiMIjQ3s8KxF9pht7ZJmt92frkdIhHgZXKZw6nlggg1ax1h45Xg7ZUDuU7ZoBGxjcdGKp2ixSjaGQN+dzON1dcaUn8e3oV0seltH+To32hzlAxiaNGJVXnKQhyv2gvaMpYj+aD41vv0RoJUt7pJJFe135SNSx2Sg7Loxs2N8eDAxZAU3N9oszVk2javB2DQhA89zGoE87uqW94DtXs4442d327AZHKruDE8sA6j5B9TjTiI2dvnsLbSpLUklcTXMV1bS3UyqOgkneVsHmMYri7Ro3oTi+GvkuP4Ozs7GylXi1ZdOPHjt1N01G7MRA8JAQp8N6jmP1jnWVcZLMxPPCnI2ge7xPTOeVaprdueyIILKpDoVGWjZTlSB1OD6vDIrM+J+JYgzbpF3c+TMQAQTju4z0615TD3zaK57aEklvbqY/Pw82Wkk5JH6+WM9APeeQqg8WX2SFHh1+88zVu8o3G6sOzgOVzk48T6z8ThfDJrNokLNlvXzNexwVKds9TTkjyHa+Kg33VHXmyQU4IH8wfHc2f18xXI3LGeWemfHHXHr51GXd7lGBUFQ4w2O8CIyMB8fZyAdvjjwriunyka95iAxwxyEDEEbR+byyT6+vKu7ublVDFuKtYmKV1Fvu0fGBDGvXslDbIxgdHYMzfe/MnwrntHDuTuZIVGWbskYhfzTtMoBkY45bgOZ8Bz1ulJG5Y2HG5yUpStZ2ClT/A/Dq3ckyGdYHjtLi5iVo3lN09pG0rQIqEEOYklbd3iBE2FboOtoPDFzcrus7W4uI+f1ltbTzJkdR2kcZTOeWM5oCJpXY1GxkikKTxvDKBkxTxvE4BzgmN1Dgcj1Hga69AKUpQClKUApSlAKUpQClKUApSvzNAftKV2LWwkdXaON3SJQ0zxxu6woTgNIyqVjQnkGYgZoDr0pSgFKUoBSlKAUpSgFaD5JIgI53PVikS56HCySOM+HSOs+rTOBe5Zwg4+tmnkwfFUVYhz657rdPX91aa7ahoWPZUYSxMc+2pCeVJdli65ILMm0eDFdxc+ojv8Ah4muTyBa9izmtpBmJzvwT9nuDJBPIdP+sFHLINdDyqSd3AJAwxKsMjJb2h7l8cVW/JnqHZSvgcxAwweYJYgDunqueo/31wwvKnZl123RhHFXpvSy9vnIk7m1iklkJbmGLcgS+MlnXPRcEM2eedx5jArYdOkIZGVFQYR89CSyxuc7fHmSc+1XnPS9aMTsVJG8uVP2tpDZiIB8cqRz5EOOXKrrqOtt3SWH5ND3Y+02nswMd8gDBBHL1VtcGmkVNL6oStzX5PUugTE2zAugxjPMfmu3rPqUVCcfXKiBS02cKMhBnqR4oCepx0586z/gnXmaE7WYkoxwFVOZVXAyAcflKi/KbfnzXnvPdT7cueYKcsYHxBrWqX1mvWx2L7UUE0g3yflCR3ZAPtjPVB66+rvVE3ON0nLb7fgQTywfXWR6xcfXP3V/KN1Mnr/T9wpf3Pfk7q+Bxl+fMfzs9OVZVIK6+ci0wV1Sn8/pkabqF+u1SruGVlwWDH/WIw6rgDI8fd+vu+XvXgNIaJZl3zzx5XKg9nGUmY4Bzs37R0P2gKyDzjMTd0DBiwVaTI/0iEcsuR0JH66lOI7hLi4AkeQrEhQdW2Mzc1UgbmlZuigEfVjIGM1vhQzTXTUpq08qZQI7vYO6pfPMsVYD3YHX41uf0XNHR0urq7Jijdks43XC9nGqrNdAZ7oZn81XeenPr0rPtQ4UUr9Wrk+JLgn3g/WbT/f+qvQfkx4Sc8OW0KqY9zSySuE3MFmu5e/sH2mWIoceyn3VnjdKbSMuzUpVk3pYvk9xZSoCyq4AwO+eezljduBbGPEmqzqmmRvkwSPbnPJVJkjI8MxSEqPvjKk+uu3HoGnwWpgXcwUsxWeU7mlkOXYqNuNzEtgDGWOBUDYcMxIwMMskYPWPtZHT/qMxUfqxVFiIrn6HoaOZJ6OxPaBp8ynJkjkx7AkU/wDULHb9241z6z9auyRRkc43A70b8vsnqUboy/DnX5HpzKmUlGOo3ZXP3Z5109NuY1ctc5eNVZ5VVtoZfsjvE8mLsqhfzjgDxxxwhJzWXcnEVIQoylPaxXr/AFGS1vOzji3yGZoLYlhtuoZFRWLLk5LTN2ZlCYjViOYd2rKvKNcW6XVpMEE27dJdQLJiFJlndHt1H2u6EXc2MMHUjkcCVl4llvXlEzmO7Cyx2zoVA2Mjie2LjujMOQm0DcQreIqi8RWQjtvrkdZe1R0QnARJUmWbch5qxmtlI8cdfCvZYehlf1aPZ247/PU+Z1a2dvdpttX4fPYlvKrfxfhO5/0ZFVyrRiJ5ECK0aFCoK4OVI8MZri4rtUvJ42s9yzebwI1tLIZZZpowUZo3xsI7NEG1iGJHJa++PtZg8+tZktU7LzW23wdoSJSqlG3uADvwAM88FFJzjFRmtTQoWa3MisSAiOMtGdituE4YEtvJHNSQByI5Vvpx+mOjTt4+uphOVm7cX8sTlvrKxKIZrSM3MbwZkCvC8AjdG7IjYTvciQyswBJduuBiW8iWudlxLAWTsopmmREycItyjlQrMAzIZVTGfWKrnBWpMiO7JFNI0kSxPOA7xztInZyM3aK4iDYy7gx7lUHqQ0ZHY3EReVUfsoJIyHOSvaQyRshDjIzhQcrywx8DWutSU4Sg+Ka34tG3C1XTqxnyd9uCfge+7ibFZ35U3RoGMi7iBgDGc+r3iuzwPxct3aJIp57QT8PGutxXch059PEV4CEZQqWlumfTKSTjdapo803nDu6TkuM9AB0zVe4stOx5eJrbtYtdis+OXRfeazO8sFaUyTL2iRgHsy+0SSytiNWx3jHtSViBgns8ZAJNeuwOJlUkr7Hme18PToUnJLV8TPJWdYwhyFbvhWzg5A7wz7vzh4V+rcMGwpO5hs3LkEocArgHJB6Y8akZoGkvkVtq9rKq5G3ZGJJNhPJiERTnlnkFrs8RW6QELAzPNHKc3H2FfbyAijBLbTjcHJ5gDpV5dbHlL7He0xJEHY3MrwQGYdqF2vI5iyoCxAbhtHLLNjOOpGK7LcUNtNvGGlgafcFuezdpMttQNhe0B6nCFcE10+G9KQyI93L2SkTSsojMr7Y9nZsVPLvyS4G7+LJ8RXc0ea2hjmlCySSpFIkHbFUXt7hBBG/ZjmezMk0wHh2Yz0rVJR5X9rmCvdK/z+CJpSlch6I3vyQce+bwQXWqvb3FvbhdN061gtbWTULdsKDKH2pKlqLUurZdjISg27my/S8vvFam5vIpRqFpqEE6RWkEd6DYm2jf8sLdUjaEy22JFC78l4+8MMKpnAtss+k6jAkMb38YgvreXsg1w0FvJtv44pPtAJEySiNebBp+R5YqPaS3Nwu5nuLqZ0jVpZGlkmkcrHCpkkYsxJ2INx5DaOQFCS7cFcWG6ZLHWJGuLKZxFBczkyz6XcSnbDPBcNmXse0ZFkhdihTOAMENRdasHgmlimGJYZJIpQM4EkDsj4JGSu5Tg+IxWocOeS+581mC2FwuuWl9auhnKpbvayB+Sl/9GmEc8O92ViNkqEMwDLVR8sdwsmqXEiXUV6ZSrvd2kDW8MkjRqHEcZkkyoIxvDsHOWySTQFu13yU2tmYDqeqrbx3FvFNEI7GeeTdICZd8cchEdvGSmJmOZCXAVdhJjrzyPzrrRsFljbEPnRvjlIlscZa4ZdxZQG+r2Anv47207xzfSbvklu7MwusijRrNS0Tq4D77wlSVJAfayHb1wy+utS1LjW2i4iHaTxLb3Wgw2nnn1U8VtO7yyRGUHdF2W3G5XBXvx7htJNCDH77gS2ktbiXSNQ89azjE13BJZTWbG3yQ9xC0kjCSNDzZDhlXBJyVVonyhcHGyisnMva+e2MV5tEezse2GeyzvbfgEd/u5590VpPEUWoQWdybq+0mCGS2lixZR6YZdRSVMNBB2Fks22Qct5K7e6xxjK/PGXD41XTNMltLuzjS006OzvheXSwNaS26oGZkKlihw5HQkBCu4PkAQtr5GS2r29iLobrjTlv+383zsLib6ns+3G7vxflNy8m+zy59XTvJXHPcpb2eoxT3aCSTUmW3nS206GBV7WQXrkJchZWEY7MLuLAnYAxGuW2tW44vsnjuYmtl0JI1uDLGqkjzx1DEthZDEVfYTkBhyrGfo863DE11b3sgt4dQ06Wz87fkttLImI2kJ5LGQzgsSACEzgZIEnYk8m1vPbzvo2oi+mtYjNPavZT2byQJ+UltzI7dqo9gDPNeeWUN9Q+TKCPTrO91DUVtrW7RzsWzmuZQ6PhEjjicmRTGGd5SFCEIuHLjFm8nuh/gQ3N5qNzaM5spreztLO6W5e8mnaIgqFUEW47Ncuw5B8nbt51nypXiNoOhJHIrvHb3qyIjqzRntrUAOoOVJKNjdjO1vVQg72veSS2s5U/COrRxWtwFawmis553uYnVCZZIlfbbwKZFG9nYNzPdwcR6+Ryf8MzWLyxoltEbifUHUiKO02IwmKbs7jvC9mWHeWTvbVL1+/SKvUkg0sROshXRLZHEbq5R9rDawUna+QRtPPlWqcX8S2r69qNtJcxRw6lpMVpHfdojww3HZSdmJJFbaqMs5JJIHJB+eKAznh/yUWt4ZjpmqLOlvbyTSrLYT28u6NcxbY5JAHt3YMDIDmMhAVbeCJ204W088KqzX6oh1IM2o/gm6d0mNoN1n2Ibt2QDLdqG7M46Zrt+RrhEabcXb6jeWazPplzHDbwXkcxdD2byys2FCIOyQIGwz7pDtHZmq55P7Vb7hmSxhmgi1CPUVu1gu50t+3gNskRMbvyZgxfI8NozjcuRJC6Z5O4EsorrVr8WUFyX8xjSzmu5rmKMgduYUcGKHmrc85Dx8wWUG7+SfhmNbfXLeC9gnt5NPtmGojfHFHHIb0u0yHLxPEqszx5YgbfE4HT17Rhq+m6ctlcWyXunW5sbyzurmOE4h7NEnhfJSSFuyLb1JUh155UiuvwdYxWVjrsDXdtPI2nW+Htpg0bTFrsSQxO23tnRnjUsgxmRRyOQBBXNW8nlu2mzXelah58to0YvIXsp7J41nYKkqCVyzR5J5EDkknPKlazqtP8AJPfImh66sjojyW9mIkd1VpSJroEIpOWILoCFzjcvrrMKAUpSgFKUoBSlKAVt9pws6x2QA5C1V2VgHXdMpkPRt6HMgzgY5czjNYvptr2kqJ7bomefLewXwBPjXo2912JrxezYoE3KM4ZMIuF7ykrjkBzI6iubEytE7sBFuorc0Yp5VrMhO9le6OveUnBPdkXmevTHL11megzlZcDGXBQBuQIbkOZ6c8c/cPVXqHyo2KyQEsmWK85IjgkbRgttIz+vPSvLnE9r2d04XIAY9ev2mXn8D8DWqk1JWOvGVZKtn5M6+qhVjGMhtxAH81RyPryfVWgXkK9kp3dUx9k+Bz4kc+9Wa6iTt55wCMfr9R+799aLLfZt48bR3M8lXxCe730qqV426nf2bUotVc60ywt69GjQfJaV7F+ZwEyeQ8UQdcn2K+PKOitajAZj158s4K9O7nxzn/fXV8j94WVwWP5HPIY5iSYH831AV2+PJibYc26N6xzDL/dgGteSeYn9Thkvt/Zflsz/AFy3+sb6tsl26ljzLffivi+jy0n1Z/NHV/Ej3+6vvXrd+0+y5758GPiKjZYX7+VfmR4N4MtROnK61+XR34bG0lTlaP8Aj/a+h2rOEFHHZkcozkFuW24hOepz0zUlsVM9mPrGlfaDjlhjuY+7AH34UdM5hNH3BjkMMhR+cP8AXxe+p7biRznJDuB1/PwSffkYGfv99d+GTTa6Hm+0a0KqWVW16fhIsmjW68t5yARuz44PeJ8MdeQ5ACvSvDd0I9OhyxiPYxuApzt3qHCMD1A3beX6vCvJuoXu22m29Vt5T92Yyqn/AK7D41ufDPE8dzp0JB3P2cauOeNyIATuHPwNY455Ul4mrs1Jyb8Cc1rjxEH+ldk2ThDKqPknoACCc+4dKiY9Rt5B3oI9x57rVjA3uJ7JlJ/XmuK9miRu7GC/tlckesDlnr+qqrxGN/e5RFeYlZgrYHUJzADYzjOefLlnIoasE+Op6GMkl8/BaNXvkxhA4Hs7i2R95HWo38M28ukXK3IMTds6Q3NuA8hjtWjYtIo+1CJ3Qcu7kLnBFVfhfjOOW7EDFnUY33W3b2YGN/aKcZIXqwGd3dwTmpDQpoNSu5Y4mFncRTOEtjkQzW8UrSu6khWjmbadxGD08OQ6cFh7NzmnZWd+Xz/08929jFOMaVNpt3uufD+eJSfLXp0VvcgWcgeGdUuLmBd22OWUFgV5/kT2hK4+zj3CqRdy7zIZ2dt0WEk+32k0TRbQWP5hh3HPXJUnOTVj8qlnK9zLP2bIkcmx15MsUUruYCCAMxNJ2wDeB2g8zzhNUuVnkOGWJV2LIqA7CFQRmZV5ZYsRlR03E9M49NQ+xJu+m54+f3NpWXmfHEV3BJbWvZpIJUQRzSM4YP33ICx9RgH1jrivvV9KWSC4mgl3LDLGDHIuyRln3KrKAdpwUwQOfQ10EWPsMF33rMnPaCnZ4k3HGc7s7eXjk+qpnStP3adfNGyyERwSELkPGEuo1ZypXmv1m07Ty3A9Kyf0rS+/u0IO8vU+uENYlh0+4McjIGmtUxzwwVppGGCpB5hSRkfrzX3YCKSOWOXMckksRimh7JExICrB4twVolYg5Ru73u6eWOhpvEcqacIkYdm10ZGVlRstHFGFzuOcD1YxVx1LWLefTFM1uYbxPOYluLMKquyQo8DSwnvd1m5kcgM+8DCV09t3uvnQPfdfHqSPkT1iS1mMFx3QcPGxztljfIWSNiBuhbGVYf7xWwXMm5uXT/urAdU0e42CdUc2ymKeJ0kEiWi3jRSOowRtjMkjqVC4zgn7Oa3Lg6NmjUsc8gTXmO1qEYz71Na7+J7rsDFudJ02vt9jucQ6AZkVcgIoLSN0AVRliT0ACgknwANZNqvGFrFpjuESSeW8V7aGZnBENqNsbGFPDduYh2AHaMOpGb55ZeL/ADWWCE7uz7txd7MgvAWMccQ9oFg8jJ4rEPAmvP8A5TdHW3njt+0ErxpvmeEh133AR0CuPtYh7IfePfgdfY+F+hSnfXVeC39dPKxU9uY9Vazpx2jdPxt+NV4lbuNQMjPJJzcnd3QqruJz9kDG3HQD3VKcPBp7+ITOXZ5U3s7FmZmPMknJJyfVXxqcESwQKgdppN0spfCgKzFIlVep5KWLH2gB41ceB9eaDWZXgSOLY8pC9mG7NLaOTAQsN2/anhzY+FegnK0W4rgzzrafmR9joAVrgXEyW3ZmOLEu+Ri0uZGARPEALndnB5HoTVp8n9nZrewLua72u7YePs4pLnsmMDdmcl44vrTgjLO8XQA1VeHeGZJoo5HdI4pp5XaeeYLyjHfZh+UODnoSST+uuLVNHdAy7gkolWBcllMjzKzNzPNYVjkyWbwx6xWuSU04uXp6eP7mEW4yTS4rf5YjqUpXKeiO3o2pyQTpNbO0VxE2+KWMgMjAEZGQQQQSpVgVZWZSCCQblLxTYTtvvdPkhuSdzzaPdi2SaTOS3mc0EsULE4JMLDJJOBVCpQHoDyU+Vxu3NpZiKxtZo7plvNUvri8eO882draZ7id1gWMyxxhoFj2kuxBLHvY9xbxGLlIR5ra20kIkWSWwt47bzsyOpDSJGBHlAmF2gDvuRgEKIClCQK/AK/aUIPwLQrX7SgPzFftKUB+BfVTFftKAmtK4SuZoTLBAzw98hl2AydiN0xijLCWbYPtGJW24OcYrjXhi48184ELeahS/a938kH2NKI93amASd0zBdgOQW5Gr35O+JrSBbNpXWN4e3W5D2DXczPO9wI5ILp2KW1qsMsJZIAku6OfuyGXdUHqV/ayQxu1xOs0Wmw6ebS3jaIzNbQi3JNywMXmE0QMrxsN5Mjpt57qAhNU4OuYYw81u6RlkXorMrygmFJIlYyxSOAdqSKrNjkDUhqnk/uIrbtJ4mWU3cNnFbBFlaaW4iunIDRyNidGtkjNuV35nTO3kGvXpxZxPK8DI6m9sby3t009oZGisLwzGG5vpGeee9MTj6yV2i3ROwfMm0RfDXE1pZFDFNJd/+847twbZottv5lqdsxxI+HvVa9R2HJGKoFc94qBTbngm6EyRNbOZpFkaFE2S9qLdS04Ro2ZGeNVJZASy8gQCQDy3/Al5HG0klswiSMymTdCwMSLmSSMrIe1jRebtFuCDO7bVpHF0ESLFE8bIItRYtY6f5jEs17pctnbBYzmdpS5XtJDtRVEQG/YWqM0biaFDZ7i2LfS9QtJMITtnvPwz2IX1qfPbfLDkMtn7JoCr3WgTI8qvEyvboslwDt+pjkMSozHOMMZ4QME57RcZqOrR+NtR26Raq6PHf3cUC3ayqVL2ejvcQ6fJtbD7Z1eE7iO9+DlIJBGc4oBSlKAUpSgFKUoCf8n0eb2M+Ee6T9cakr+3spd6sRcMw5ENjchKHvNnoO7jl6vGu3wD3VuHBAKxqgLdPrWYkerpF41FtF3xlPtEuTGcYXwPLK/ZA8Kr8VVs7Hq+w+zu9pqonxf8LYsuocSsQy7s7mAIz2WTyGcjMbdANxA6VknF11vlDn85n/ORs7m3DmoHrPWrXNcBsEHoSxVsg93LHmAfCq/rmmf6LkY3LhhzHPm2cePTNTTaVjhx+Gnnk1tqzrG0TapU4YEZBHIsxA6jljn6q06w4QkFnDjn3MAqkB5bUx32ZWPh1/8AGsTj1BguAeXXHvHSvSXD+rIdNjLOykDaVXJHd3KT0xzCA/rNZVc0beJqw81PNZf0ezRN+Rzg+Tnlm5owCh1G3vk55MRnn4ev31NcRcEu0ILOwHfUgzPjBzjkFb1A9OpPrr48jetRb8Zfq4OSvRgpH53jzNWLiTWIhB+d1YZ3R+IbP+srTKUsxosjJOI+BvrGPI9882lfJ7wPhD15+v8AfUDd8E4D81+0OrvnmR/M6f8AjV61bWoN57pPfH+sh5bipH+u/XVU1fiCEGQbcjep5SJz6eqT7jSblmXziWeDS7md+v8AiyO0vg3ByCAQF+xK/XtY+mYxz5+sdOtc3H9gLeSMMW7Rkdm3lT9Ws0gUkhyc57v6hzruaLrcJ6A8yg3b1OPrF/2meoB6c60PzK2lktXnBd4pmKbo84YSSFc5jJxuw3LHNF+6tjrSpyTKpwUk0eeuILj/AEa5Ph2Kr/15oF+FVjhHjm5swRbPhSc7HBYA+sDIxWteWvh2NZJfNSNk4cNFhl2yqyyoVG0AIWUZHIA58DywaS2I8PHH3EdQR1De44NdrnGtFM5FmpS0NKsfLTd5O9YnGDklZBy8T+UIz78CurrnlHmuEUbEiOcPIjOzFT4AscJy8Rz58sVRJl2qBy3NzPuXkVB9RJ548AF9dWjgbTBLewq32ftMCVwwCk4LHugZGOeR1rV+mpXvY2PF1VFrMzUPIXpdzaO5jAjkaMKVuIwyyvMpZEALAERwGSRsNkYIxzr98ocsSXEl5p6kQzJJa3MZDgRXUyusjLuGQjKCwQ7SDuA5CpDyL8eywWt48qLNawwsVjlGRHNcyLFGqvg7dxkdip8Izjxrn4O0y1u7C6ihle1Yxg9jcyDsXuO0TzYrMc4ckSLn1TN4cxus6c3KS0VldbO+9+J52VR1NL6u7s+Hg9uhn/C+uTlewjcmNu7sYghhuVuzO77SMU/JnHNuXM1Vb4DtWMfKPJKgEnaM8hz58unOp13kspdksbRXsUySAyDkOxZXRWToyl1U5BII5VGa3seeV4F7OFmZ0h3A9mrsSqKfFVzj7hVjG17peZzxTTd35BrdNsn1oJAVlwGw+WAIBOCCN2f1GpzSeHJmsJp4sNAkOZjE+WRTNCuHjHe2bwG55Xu58Kq1lFlH7wBCg4ORuAYAgetvHH31onBEEtvpU9wgIScC1WVcMOZLSqwztHIbSHH5wIIrGrJxWm91uS1be/xFRsdbIgSNkjdA7Ph055cBTl1IbGFHLNaJA1nPYRoA1nNJPOUY5mt2fsVChuZMedyrkDI5HpWYWl2m4CSMMAOqnYft5Jz0zjI6er1Vod7pdu8FkLecxSyBiYbtSOcrGPIlVSNpZCMnlzBxjNYVUtN1ruvP5sRrd6Lz8eBz8P6ND+BJHuu3F19UbVYt5hdBuZS+0GL7aPv7QgqqKR3uTbdwbchIA7DupHuP3KuTz+4GvLuo2E9s8kUqyJsdN6Zbbgh2XODsIKsxB6YLVtkmvoLaOGYN2VzGyXEqdYICuwv7zvcAe4OfCqbtPCuo4pO9234Ky2PQdkYyNClUk9LJebbe/m7eBVtX1oXcYu5SvnEMhSOF2z52bm4cwOu5B9XGzvEg8AikgLuqkW+gRy3ZRrxZJHmESyrE7CaSRlUuvj2e5zjlzC8sVLSqJrx+ymhWG2DRxTu4jV3KuvaqoQ7ii5PdAG4gqcEVJcO6LFbQz3JvIGkggZbeOEyOxubgNDEwycdwtK+ccsA1aRtTjpdclba+y2+X6FE3KT134vmRWmm0l1c92aS1E0UNttMcW6GAbAxGQBv2B8DH2jnma5tC11Y7nU57WJUCxXBhkYmRoPOZkiTY27Zv2u3e59TjOK73kx06zjulLTzN2KPITDb8i0arswx7wyVfGRzOB1POvNqMMej3QjjYzXd3EkcsjoTHb25llOEzuDEsiluh/UKlq7sk3pFa9XqZQ1d9N3bpZaHQ0XT2aGJnjZrcMiPyHfFzOV2xqxw0jbWUYwc451JcVW0zTzySqWKzOjTMuFMqyKs7Bm5Be0Xs1wM4XHKozhrWpoZ7Z03PJEd1sj5Ze27ywlUY7SVlfcOXJgKs3lKvJHi063UsY0tULKP9dcTSu1zK/MCR2lLMXPLJPM8zW1uSmtuPl8+bGq0XF3epVaVTPSuT2U+D/PT0rk9lPg/z1xHo7FzpVM9K5PZT4P8APT0rk9lPg/z0Fi50qmelcnsp8H+enpXJ7KfB/noLFzpVM9K5PZT4P89PSuT2U+D/AD0Fi50qmelcnsp8H+enpXJ7KfB/noLFzpVM9K5PZT4P89PSuT2U+D/PQWLnSqZ6Vyeynwf56elcnsp8H+egsXOlUz0rk9lPg/z09K5PZT4P89BYudKpnpXJ7KfB/np6Vyeynwf56Cxc6VTPSuT2U+D/AD09K5PZT4P89BYujHPXmeXM8+gAHwAA+4CvyqZ6Vyeynwf56elcnsp8H+egsXOlUz0rk9lPg/z09K5PZT4P89BYudKpnpXJ7KfB/np6Vyeynwf56Cxc6VTPSuT2U+D/AD09K5PZT4P89BY1bhInsZwCBnss5zzx2/j0GAT1I61X9TuQrMVzzyqmNgRtGc4ZTjpkfrFQdp5S5UhMccFuu5VEkgW5ZpSm7azB7pogw3t9hFHPpUDc8Rs3WOLPrCyD1eqXHh++uepTzSvwLfC49UKGWL+rX5fzZaI9WwG5AkgKu8DkX+0c9cbA4/WK7V1cAxgYXJPQZ5AY8N368n2qpVvxAykFUQFSSPyvMnHX63mBgV3k41lBBCR8hjpKR0IPIy48aiVHkjT+vm92dO0st0+0fZ3c/coOT/dyrQLyXFtjap7wIJL5/P8AANjHOs5s9bdGLAKS3XcGPr6d73135eL5Cm1o4iOXeKyZOCSP9bjxx0rKpGTStzGCrU4ued2vFpacfI2TyJzHtvsr68BemQM/3ffVo4oci3PJftN0TPPY5xzU+FYHw95RZrdt0UcOf5yS+oj82YcsGpC/8rlxIhVobfBO7Ijnzkrt/wD+j1eusJQm3sZ5qH937Mt91MSVPd59mfsJ7Ef83rVX1Wc7n+zncP8AVx+JH82oL09l5fVQ8tuO5J+YAB/rfUorpXXFTsTmOIZwThH8P/iVDhNyvY7IYnDRpOOZ314PlYtOh3J58l6p+YntjpgZHTwrTortgsB2Lt7UnI3c/rHzkl+fOsHtOKXTpHF4dVf80gjpIPEVM/8AtMn7v1cPdbcDtmOTknnmfpkmspwk+BX5qS4/sy4+VOcmReRI7Ug5ZsEmMZ9WMe4moHTsEhsBSUZScbgQFJyd2ckEePTJxjJqta3xpLMwMiRght3cWQcwMeMh5YrqJxK4UAKgwRzw+eXhkydD0PuJqckstiaNalCed621S5nVmXLE/rP6+Z/fWteRPyfy38U5ijLdjEQNpVAZHVzGrOwIxhXI5HntHLmax3zw5PIc/v8A99XjgTyt3VjbtDbrGYmLswc3Qy0iqpY9lcxqSEQKCQcDOOZzW6blb6NysnHMmmXvgjVbeO0nstQjkjna43vdQgFouxTYiOucsqyF25ZHezzqU1/h7stDQ2sqzpdXPbOEysgggUrGrxE7WxJuyQOqrWFXvErvIX2qrHrtMpyTnJJeVnJOTnnXa1DjSaQqSEXZGsadmrrhE9ffySTkknOSxre3HMmm97tcL/PYqnhKr4Lay6fz/s0bjW6afSoJZjvlWd4C0gPaIIYoiq9oeZQrIO6x/NGM4OKGuMYJwQMr7z6j6uVfd95RZpLBLV44SiSNIs+yQTEyY3KzibYychyZSRjkarp1ZvUv34b5q2060UrdX7mSwdS2vv0LBp0JZiBjO1j3iF+yCTzPjgHlVy4M4kkt7VFQ7ojPK8sD96KbMUKbXTHM7C3Mc+nI45Zf+GW3ZwufuPiMe1Xc0Xil4S2EjkR1KvHKrlTkHDYWRWDqTkMCCOfgSDM60JLXUSwdV7aFjvDH2w3KUUrkiMhsZ3HkCenMcifCrfxzpChYfN7iOVUtozsb6p13NvwUI2E5fPrrKdU4jeSUuVRScd1e0IAAAwN8jP4eLGuTU+KZJGyyoO6qgAScgigD7UhPQev4VHfRundmv9DVstvXY0PyhQzwzbJe0QvBbuyszkMCjYPNm3LzYA59dWbjzU44rCCIb/wiUYXSr0IYs1qC5OQ0ZfayqOvaDkTmsok8otw0kLSbZFhWJVikMzRyJbPuRJFM2ShJIIUryJAxUdrfFks8xklC9oxyxHad5iSSxzITuJPrrWpxbjm4e5msHUSaVrP8fPlzReFOFma3di8KMZuwxNMEYGJe0lP2SNhJRc56irHd8IhbINJeWyq822PbJM+7slwzYC9PzunVqxVeKJAirtTapYjutklyCxJ3de6o+4Cu1f8AGsrxRoUjVIgwXYsg3byCzNmUjdyAyAOQrJ1bv7uPI1vAVG22l6mrcOWMCQXDSXi7iojXs4ZJCT9pj315LvIXPjk9Ko2vTIXWO2ZmjUkB5QqDvEDdtBIUYGST4YqurxhKITGAgQtuJHaZJ9/1mPD1VxaTxRJExaNU3FSu5kLFdwwSuW5N6jWSqxTbu2TDA1Ful6l30q77W9hFzKVgjCL2njFEgLDYoHXlnlzJ++tB4w1+0/BUYswwuyPNtxUGQW5ZmlZ5eiyOQq4X81yCeeBg8fFEm/cQjNtC95W5KqhVGAw6KAM1IxceyCJYzFCyq7PuZZt7M+OrrOGwMcgMe/NYTnCTT10exKwdZXso7WKjSlK5y5FKUoBSlKAUpSgFKUoBSlKAUpSgFKUoBSlKAUpSgFKUoBSlKAUpSgFKUoBSlKAUpSgFKUoBSlKAUpSgFKUoBSlKAUpSgFKUoBSlKAUpSgFKUoBSlKAUpSgFKUoBSlKAUpSgFKUoBSlKAUpSgFKUoBSlKAUpSgFKUoBSlKAUpSgFKUoBSlKAUpSgFKUoBSlKAUpSgFKUoBSlKAUpSgFKUoBSlKAUpSgFKUoBSlKAUpSgFKUoBSlKAUpSgFKUoBSlKAUpSgFKUoBSlKAUpSgFKUoBSlKAUpSgFKUoBSlKAUpSgFKUoBSlKAUpSgFKUoBSlKAUpSgFKUoBSlKAUpSgFKUoBSlKAUpSgFKUoBSlKAUpSgFKUoBSlKAUpSgFKUoBSlKA/9k=\n"
                },
                "metadata": {}
              }
            ]
          }
        },
        "3ff87ee5acc440059ad64138ac180974": {
          "model_module": "@jupyter-widgets/output",
          "model_name": "OutputModel",
          "model_module_version": "1.0.0",
          "state": {
            "_dom_classes": [],
            "_model_module": "@jupyter-widgets/output",
            "_model_module_version": "1.0.0",
            "_model_name": "OutputModel",
            "_view_count": null,
            "_view_module": "@jupyter-widgets/output",
            "_view_module_version": "1.0.0",
            "_view_name": "OutputView",
            "layout": "IPY_MODEL_6258d07f8224484286da3868da19a232",
            "msg_id": "",
            "outputs": [
              {
                "output_type": "stream",
                "name": "stdout",
                "text": [
                  "Video available at https://www.bilibili.com/video/BV1of4y1R7L1\n"
                ]
              },
              {
                "output_type": "display_data",
                "data": {
                  "text/plain": "<__main__.BiliVideo at 0x7fc69762cc50>",
                  "text/html": "\n        <iframe\n            width=\"854\"\n            height=\"480\"\n            src=\"https://player.bilibili.com/player.html?bvid=BV1of4y1R7L1&page=1?fs=1\"\n            frameborder=\"0\"\n            allowfullscreen\n        ></iframe>\n        "
                },
                "metadata": {}
              }
            ]
          }
        },
        "eb0ee955a5914531813766f8d3cc383f": {
          "model_module": "@jupyter-widgets/base",
          "model_name": "LayoutModel",
          "model_module_version": "1.2.0",
          "state": {
            "_model_module": "@jupyter-widgets/base",
            "_model_module_version": "1.2.0",
            "_model_name": "LayoutModel",
            "_view_count": null,
            "_view_module": "@jupyter-widgets/base",
            "_view_module_version": "1.2.0",
            "_view_name": "LayoutView",
            "align_content": null,
            "align_items": null,
            "align_self": null,
            "border": null,
            "bottom": null,
            "display": null,
            "flex": null,
            "flex_flow": null,
            "grid_area": null,
            "grid_auto_columns": null,
            "grid_auto_flow": null,
            "grid_auto_rows": null,
            "grid_column": null,
            "grid_gap": null,
            "grid_row": null,
            "grid_template_areas": null,
            "grid_template_columns": null,
            "grid_template_rows": null,
            "height": null,
            "justify_content": null,
            "justify_items": null,
            "left": null,
            "margin": null,
            "max_height": null,
            "max_width": null,
            "min_height": null,
            "min_width": null,
            "object_fit": null,
            "object_position": null,
            "order": null,
            "overflow": null,
            "overflow_x": null,
            "overflow_y": null,
            "padding": null,
            "right": null,
            "top": null,
            "visibility": null,
            "width": null
          }
        },
        "dc37b589edb548cfa97df631af4bf5b5": {
          "model_module": "@jupyter-widgets/base",
          "model_name": "LayoutModel",
          "model_module_version": "1.2.0",
          "state": {
            "_model_module": "@jupyter-widgets/base",
            "_model_module_version": "1.2.0",
            "_model_name": "LayoutModel",
            "_view_count": null,
            "_view_module": "@jupyter-widgets/base",
            "_view_module_version": "1.2.0",
            "_view_name": "LayoutView",
            "align_content": null,
            "align_items": null,
            "align_self": null,
            "border": null,
            "bottom": null,
            "display": null,
            "flex": null,
            "flex_flow": null,
            "grid_area": null,
            "grid_auto_columns": null,
            "grid_auto_flow": null,
            "grid_auto_rows": null,
            "grid_column": null,
            "grid_gap": null,
            "grid_row": null,
            "grid_template_areas": null,
            "grid_template_columns": null,
            "grid_template_rows": null,
            "height": null,
            "justify_content": null,
            "justify_items": null,
            "left": null,
            "margin": null,
            "max_height": null,
            "max_width": null,
            "min_height": null,
            "min_width": null,
            "object_fit": null,
            "object_position": null,
            "order": null,
            "overflow": null,
            "overflow_x": null,
            "overflow_y": null,
            "padding": null,
            "right": null,
            "top": null,
            "visibility": null,
            "width": null
          }
        },
        "6258d07f8224484286da3868da19a232": {
          "model_module": "@jupyter-widgets/base",
          "model_name": "LayoutModel",
          "model_module_version": "1.2.0",
          "state": {
            "_model_module": "@jupyter-widgets/base",
            "_model_module_version": "1.2.0",
            "_model_name": "LayoutModel",
            "_view_count": null,
            "_view_module": "@jupyter-widgets/base",
            "_view_module_version": "1.2.0",
            "_view_name": "LayoutView",
            "align_content": null,
            "align_items": null,
            "align_self": null,
            "border": null,
            "bottom": null,
            "display": null,
            "flex": null,
            "flex_flow": null,
            "grid_area": null,
            "grid_auto_columns": null,
            "grid_auto_flow": null,
            "grid_auto_rows": null,
            "grid_column": null,
            "grid_gap": null,
            "grid_row": null,
            "grid_template_areas": null,
            "grid_template_columns": null,
            "grid_template_rows": null,
            "height": null,
            "justify_content": null,
            "justify_items": null,
            "left": null,
            "margin": null,
            "max_height": null,
            "max_width": null,
            "min_height": null,
            "min_width": null,
            "object_fit": null,
            "object_position": null,
            "order": null,
            "overflow": null,
            "overflow_x": null,
            "overflow_y": null,
            "padding": null,
            "right": null,
            "top": null,
            "visibility": null,
            "width": null
          }
        },
        "01002aa3db684c3eaff8be473f7fd8ce": {
          "model_module": "@jupyter-widgets/controls",
          "model_name": "TabModel",
          "model_module_version": "1.5.0",
          "state": {
            "_dom_classes": [],
            "_model_module": "@jupyter-widgets/controls",
            "_model_module_version": "1.5.0",
            "_model_name": "TabModel",
            "_titles": {
              "0": "Youtube",
              "1": "Bilibili"
            },
            "_view_count": null,
            "_view_module": "@jupyter-widgets/controls",
            "_view_module_version": "1.5.0",
            "_view_name": "TabView",
            "box_style": "",
            "children": [
              "IPY_MODEL_65062ebe728f4a6bba5a7092f08a8ac1",
              "IPY_MODEL_554e38ffdc4940a2bbc2e35a87379651"
            ],
            "layout": "IPY_MODEL_98f73e5c53974b90a521363856a2e63a",
            "selected_index": 0
          }
        },
        "65062ebe728f4a6bba5a7092f08a8ac1": {
          "model_module": "@jupyter-widgets/output",
          "model_name": "OutputModel",
          "model_module_version": "1.0.0",
          "state": {
            "_dom_classes": [],
            "_model_module": "@jupyter-widgets/output",
            "_model_module_version": "1.0.0",
            "_model_name": "OutputModel",
            "_view_count": null,
            "_view_module": "@jupyter-widgets/output",
            "_view_module_version": "1.0.0",
            "_view_name": "OutputView",
            "layout": "IPY_MODEL_6c4de2a37ec7476ea77349b90e64c521",
            "msg_id": "",
            "outputs": [
              {
                "output_type": "stream",
                "name": "stdout",
                "text": [
                  "Video available at https://youtube.com/watch?v=4WT0KrySRTg\n"
                ]
              },
              {
                "output_type": "display_data",
                "data": {
                  "text/plain": "<IPython.lib.display.YouTubeVideo at 0x7fc697630750>",
                  "text/html": "\n        <iframe\n            width=\"854\"\n            height=\"480\"\n            src=\"https://www.youtube.com/embed/4WT0KrySRTg?fs=1&rel=0\"\n            frameborder=\"0\"\n            allowfullscreen\n        ></iframe>\n        ",
                  "image/jpeg": "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\n"
                },
                "metadata": {}
              }
            ]
          }
        },
        "554e38ffdc4940a2bbc2e35a87379651": {
          "model_module": "@jupyter-widgets/output",
          "model_name": "OutputModel",
          "model_module_version": "1.0.0",
          "state": {
            "_dom_classes": [],
            "_model_module": "@jupyter-widgets/output",
            "_model_module_version": "1.0.0",
            "_model_name": "OutputModel",
            "_view_count": null,
            "_view_module": "@jupyter-widgets/output",
            "_view_module_version": "1.0.0",
            "_view_name": "OutputView",
            "layout": "IPY_MODEL_701f171269a343d4afdbf82a1ece6e92",
            "msg_id": "",
            "outputs": [
              {
                "output_type": "stream",
                "name": "stdout",
                "text": [
                  "Video available at https://www.bilibili.com/video/BV1jK4y1x7q5\n"
                ]
              },
              {
                "output_type": "display_data",
                "data": {
                  "text/plain": "<__main__.BiliVideo at 0x7fc6976307d0>",
                  "text/html": "\n        <iframe\n            width=\"854\"\n            height=\"480\"\n            src=\"https://player.bilibili.com/player.html?bvid=BV1jK4y1x7q5&page=1?fs=1\"\n            frameborder=\"0\"\n            allowfullscreen\n        ></iframe>\n        "
                },
                "metadata": {}
              }
            ]
          }
        },
        "98f73e5c53974b90a521363856a2e63a": {
          "model_module": "@jupyter-widgets/base",
          "model_name": "LayoutModel",
          "model_module_version": "1.2.0",
          "state": {
            "_model_module": "@jupyter-widgets/base",
            "_model_module_version": "1.2.0",
            "_model_name": "LayoutModel",
            "_view_count": null,
            "_view_module": "@jupyter-widgets/base",
            "_view_module_version": "1.2.0",
            "_view_name": "LayoutView",
            "align_content": null,
            "align_items": null,
            "align_self": null,
            "border": null,
            "bottom": null,
            "display": null,
            "flex": null,
            "flex_flow": null,
            "grid_area": null,
            "grid_auto_columns": null,
            "grid_auto_flow": null,
            "grid_auto_rows": null,
            "grid_column": null,
            "grid_gap": null,
            "grid_row": null,
            "grid_template_areas": null,
            "grid_template_columns": null,
            "grid_template_rows": null,
            "height": null,
            "justify_content": null,
            "justify_items": null,
            "left": null,
            "margin": null,
            "max_height": null,
            "max_width": null,
            "min_height": null,
            "min_width": null,
            "object_fit": null,
            "object_position": null,
            "order": null,
            "overflow": null,
            "overflow_x": null,
            "overflow_y": null,
            "padding": null,
            "right": null,
            "top": null,
            "visibility": null,
            "width": null
          }
        },
        "6c4de2a37ec7476ea77349b90e64c521": {
          "model_module": "@jupyter-widgets/base",
          "model_name": "LayoutModel",
          "model_module_version": "1.2.0",
          "state": {
            "_model_module": "@jupyter-widgets/base",
            "_model_module_version": "1.2.0",
            "_model_name": "LayoutModel",
            "_view_count": null,
            "_view_module": "@jupyter-widgets/base",
            "_view_module_version": "1.2.0",
            "_view_name": "LayoutView",
            "align_content": null,
            "align_items": null,
            "align_self": null,
            "border": null,
            "bottom": null,
            "display": null,
            "flex": null,
            "flex_flow": null,
            "grid_area": null,
            "grid_auto_columns": null,
            "grid_auto_flow": null,
            "grid_auto_rows": null,
            "grid_column": null,
            "grid_gap": null,
            "grid_row": null,
            "grid_template_areas": null,
            "grid_template_columns": null,
            "grid_template_rows": null,
            "height": null,
            "justify_content": null,
            "justify_items": null,
            "left": null,
            "margin": null,
            "max_height": null,
            "max_width": null,
            "min_height": null,
            "min_width": null,
            "object_fit": null,
            "object_position": null,
            "order": null,
            "overflow": null,
            "overflow_x": null,
            "overflow_y": null,
            "padding": null,
            "right": null,
            "top": null,
            "visibility": null,
            "width": null
          }
        },
        "701f171269a343d4afdbf82a1ece6e92": {
          "model_module": "@jupyter-widgets/base",
          "model_name": "LayoutModel",
          "model_module_version": "1.2.0",
          "state": {
            "_model_module": "@jupyter-widgets/base",
            "_model_module_version": "1.2.0",
            "_model_name": "LayoutModel",
            "_view_count": null,
            "_view_module": "@jupyter-widgets/base",
            "_view_module_version": "1.2.0",
            "_view_name": "LayoutView",
            "align_content": null,
            "align_items": null,
            "align_self": null,
            "border": null,
            "bottom": null,
            "display": null,
            "flex": null,
            "flex_flow": null,
            "grid_area": null,
            "grid_auto_columns": null,
            "grid_auto_flow": null,
            "grid_auto_rows": null,
            "grid_column": null,
            "grid_gap": null,
            "grid_row": null,
            "grid_template_areas": null,
            "grid_template_columns": null,
            "grid_template_rows": null,
            "height": null,
            "justify_content": null,
            "justify_items": null,
            "left": null,
            "margin": null,
            "max_height": null,
            "max_width": null,
            "min_height": null,
            "min_width": null,
            "object_fit": null,
            "object_position": null,
            "order": null,
            "overflow": null,
            "overflow_x": null,
            "overflow_y": null,
            "padding": null,
            "right": null,
            "top": null,
            "visibility": null,
            "width": null
          }
        },
        "e3b65be538354357b4e66fa08e88618e": {
          "model_module": "@jupyter-widgets/controls",
          "model_name": "TabModel",
          "model_module_version": "1.5.0",
          "state": {
            "_dom_classes": [],
            "_model_module": "@jupyter-widgets/controls",
            "_model_module_version": "1.5.0",
            "_model_name": "TabModel",
            "_titles": {
              "0": "Youtube",
              "1": "Bilibili"
            },
            "_view_count": null,
            "_view_module": "@jupyter-widgets/controls",
            "_view_module_version": "1.5.0",
            "_view_name": "TabView",
            "box_style": "",
            "children": [
              "IPY_MODEL_79853b5a88b8418ea2f4b1ed4903eba1",
              "IPY_MODEL_232f10f00c6e4406aae9e1a9f06ecdc2"
            ],
            "layout": "IPY_MODEL_7629eb76c1544a25bf91296b6bd669ab",
            "selected_index": 0
          }
        },
        "79853b5a88b8418ea2f4b1ed4903eba1": {
          "model_module": "@jupyter-widgets/output",
          "model_name": "OutputModel",
          "model_module_version": "1.0.0",
          "state": {
            "_dom_classes": [],
            "_model_module": "@jupyter-widgets/output",
            "_model_module_version": "1.0.0",
            "_model_name": "OutputModel",
            "_view_count": null,
            "_view_module": "@jupyter-widgets/output",
            "_view_module_version": "1.0.0",
            "_view_name": "OutputView",
            "layout": "IPY_MODEL_ddf58342cc4b4a1cb4d22bc2c65efabd",
            "msg_id": "",
            "outputs": [
              {
                "output_type": "stream",
                "name": "stdout",
                "text": [
                  "Video available at https://youtube.com/watch?v=F-_m_Vgv75I\n"
                ]
              },
              {
                "output_type": "display_data",
                "data": {
                  "text/plain": "<IPython.lib.display.YouTubeVideo at 0x7fc697621450>",
                  "text/html": "\n        <iframe\n            width=\"854\"\n            height=\"480\"\n            src=\"https://www.youtube.com/embed/F-_m_Vgv75I?fs=1&rel=0\"\n            frameborder=\"0\"\n            allowfullscreen\n        ></iframe>\n        ",
                  "image/jpeg": "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\n"
                },
                "metadata": {}
              }
            ]
          }
        },
        "232f10f00c6e4406aae9e1a9f06ecdc2": {
          "model_module": "@jupyter-widgets/output",
          "model_name": "OutputModel",
          "model_module_version": "1.0.0",
          "state": {
            "_dom_classes": [],
            "_model_module": "@jupyter-widgets/output",
            "_model_module_version": "1.0.0",
            "_model_name": "OutputModel",
            "_view_count": null,
            "_view_module": "@jupyter-widgets/output",
            "_view_module_version": "1.0.0",
            "_view_name": "OutputView",
            "layout": "IPY_MODEL_433cfb720e8b45e2a705b2414a616150",
            "msg_id": "",
            "outputs": [
              {
                "output_type": "stream",
                "name": "stdout",
                "text": [
                  "Video available at https://www.bilibili.com/video/BV1Kv411q7Wx\n"
                ]
              },
              {
                "output_type": "display_data",
                "data": {
                  "text/plain": "<__main__.BiliVideo at 0x7fc697621e50>",
                  "text/html": "\n        <iframe\n            width=\"854\"\n            height=\"480\"\n            src=\"https://player.bilibili.com/player.html?bvid=BV1Kv411q7Wx&page=1?fs=1\"\n            frameborder=\"0\"\n            allowfullscreen\n        ></iframe>\n        "
                },
                "metadata": {}
              }
            ]
          }
        },
        "7629eb76c1544a25bf91296b6bd669ab": {
          "model_module": "@jupyter-widgets/base",
          "model_name": "LayoutModel",
          "model_module_version": "1.2.0",
          "state": {
            "_model_module": "@jupyter-widgets/base",
            "_model_module_version": "1.2.0",
            "_model_name": "LayoutModel",
            "_view_count": null,
            "_view_module": "@jupyter-widgets/base",
            "_view_module_version": "1.2.0",
            "_view_name": "LayoutView",
            "align_content": null,
            "align_items": null,
            "align_self": null,
            "border": null,
            "bottom": null,
            "display": null,
            "flex": null,
            "flex_flow": null,
            "grid_area": null,
            "grid_auto_columns": null,
            "grid_auto_flow": null,
            "grid_auto_rows": null,
            "grid_column": null,
            "grid_gap": null,
            "grid_row": null,
            "grid_template_areas": null,
            "grid_template_columns": null,
            "grid_template_rows": null,
            "height": null,
            "justify_content": null,
            "justify_items": null,
            "left": null,
            "margin": null,
            "max_height": null,
            "max_width": null,
            "min_height": null,
            "min_width": null,
            "object_fit": null,
            "object_position": null,
            "order": null,
            "overflow": null,
            "overflow_x": null,
            "overflow_y": null,
            "padding": null,
            "right": null,
            "top": null,
            "visibility": null,
            "width": null
          }
        },
        "ddf58342cc4b4a1cb4d22bc2c65efabd": {
          "model_module": "@jupyter-widgets/base",
          "model_name": "LayoutModel",
          "model_module_version": "1.2.0",
          "state": {
            "_model_module": "@jupyter-widgets/base",
            "_model_module_version": "1.2.0",
            "_model_name": "LayoutModel",
            "_view_count": null,
            "_view_module": "@jupyter-widgets/base",
            "_view_module_version": "1.2.0",
            "_view_name": "LayoutView",
            "align_content": null,
            "align_items": null,
            "align_self": null,
            "border": null,
            "bottom": null,
            "display": null,
            "flex": null,
            "flex_flow": null,
            "grid_area": null,
            "grid_auto_columns": null,
            "grid_auto_flow": null,
            "grid_auto_rows": null,
            "grid_column": null,
            "grid_gap": null,
            "grid_row": null,
            "grid_template_areas": null,
            "grid_template_columns": null,
            "grid_template_rows": null,
            "height": null,
            "justify_content": null,
            "justify_items": null,
            "left": null,
            "margin": null,
            "max_height": null,
            "max_width": null,
            "min_height": null,
            "min_width": null,
            "object_fit": null,
            "object_position": null,
            "order": null,
            "overflow": null,
            "overflow_x": null,
            "overflow_y": null,
            "padding": null,
            "right": null,
            "top": null,
            "visibility": null,
            "width": null
          }
        },
        "433cfb720e8b45e2a705b2414a616150": {
          "model_module": "@jupyter-widgets/base",
          "model_name": "LayoutModel",
          "model_module_version": "1.2.0",
          "state": {
            "_model_module": "@jupyter-widgets/base",
            "_model_module_version": "1.2.0",
            "_model_name": "LayoutModel",
            "_view_count": null,
            "_view_module": "@jupyter-widgets/base",
            "_view_module_version": "1.2.0",
            "_view_name": "LayoutView",
            "align_content": null,
            "align_items": null,
            "align_self": null,
            "border": null,
            "bottom": null,
            "display": null,
            "flex": null,
            "flex_flow": null,
            "grid_area": null,
            "grid_auto_columns": null,
            "grid_auto_flow": null,
            "grid_auto_rows": null,
            "grid_column": null,
            "grid_gap": null,
            "grid_row": null,
            "grid_template_areas": null,
            "grid_template_columns": null,
            "grid_template_rows": null,
            "height": null,
            "justify_content": null,
            "justify_items": null,
            "left": null,
            "margin": null,
            "max_height": null,
            "max_width": null,
            "min_height": null,
            "min_width": null,
            "object_fit": null,
            "object_position": null,
            "order": null,
            "overflow": null,
            "overflow_x": null,
            "overflow_y": null,
            "padding": null,
            "right": null,
            "top": null,
            "visibility": null,
            "width": null
          }
        },
        "5cecdfe748064132b9ebe7bf53aecc0b": {
          "model_module": "@jupyter-widgets/controls",
          "model_name": "TabModel",
          "model_module_version": "1.5.0",
          "state": {
            "_dom_classes": [],
            "_model_module": "@jupyter-widgets/controls",
            "_model_module_version": "1.5.0",
            "_model_name": "TabModel",
            "_titles": {
              "0": "Youtube",
              "1": "Bilibili"
            },
            "_view_count": null,
            "_view_module": "@jupyter-widgets/controls",
            "_view_module_version": "1.5.0",
            "_view_name": "TabView",
            "box_style": "",
            "children": [
              "IPY_MODEL_ff287ac0ebc343908506c736d7a43de5",
              "IPY_MODEL_5015b2b7e8484e5a9770e7a348f67d50"
            ],
            "layout": "IPY_MODEL_8b30394664ad4c029fabb6587249d57b",
            "selected_index": 0
          }
        },
        "ff287ac0ebc343908506c736d7a43de5": {
          "model_module": "@jupyter-widgets/output",
          "model_name": "OutputModel",
          "model_module_version": "1.0.0",
          "state": {
            "_dom_classes": [],
            "_model_module": "@jupyter-widgets/output",
            "_model_module_version": "1.0.0",
            "_model_name": "OutputModel",
            "_view_count": null,
            "_view_module": "@jupyter-widgets/output",
            "_view_module_version": "1.0.0",
            "_view_name": "OutputView",
            "layout": "IPY_MODEL_c2fb40df6e334346a4f78c95af3dfdbe",
            "msg_id": "",
            "outputs": [
              {
                "output_type": "stream",
                "name": "stdout",
                "text": [
                  "Video available at https://youtube.com/watch?v=b6a3Mrefk44\n"
                ]
              },
              {
                "output_type": "display_data",
                "data": {
                  "text/plain": "<IPython.lib.display.YouTubeVideo at 0x7fc697621290>",
                  "text/html": "\n        <iframe\n            width=\"854\"\n            height=\"480\"\n            src=\"https://www.youtube.com/embed/b6a3Mrefk44?fs=1&rel=0\"\n            frameborder=\"0\"\n            allowfullscreen\n        ></iframe>\n        ",
                  "image/jpeg": "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\n"
                },
                "metadata": {}
              }
            ]
          }
        },
        "5015b2b7e8484e5a9770e7a348f67d50": {
          "model_module": "@jupyter-widgets/output",
          "model_name": "OutputModel",
          "model_module_version": "1.0.0",
          "state": {
            "_dom_classes": [],
            "_model_module": "@jupyter-widgets/output",
            "_model_module_version": "1.0.0",
            "_model_name": "OutputModel",
            "_view_count": null,
            "_view_module": "@jupyter-widgets/output",
            "_view_module_version": "1.0.0",
            "_view_name": "OutputView",
            "layout": "IPY_MODEL_4bc26b35f69c4c80bcc4ef4f2068768a",
            "msg_id": "",
            "outputs": [
              {
                "output_type": "stream",
                "name": "stdout",
                "text": [
                  "Video available at https://www.bilibili.com/video/BV1nA411v7Hs\n"
                ]
              },
              {
                "output_type": "display_data",
                "data": {
                  "text/plain": "<__main__.BiliVideo at 0x7fc69764b190>",
                  "text/html": "\n        <iframe\n            width=\"854\"\n            height=\"480\"\n            src=\"https://player.bilibili.com/player.html?bvid=BV1nA411v7Hs&page=1?fs=1\"\n            frameborder=\"0\"\n            allowfullscreen\n        ></iframe>\n        "
                },
                "metadata": {}
              }
            ]
          }
        },
        "8b30394664ad4c029fabb6587249d57b": {
          "model_module": "@jupyter-widgets/base",
          "model_name": "LayoutModel",
          "model_module_version": "1.2.0",
          "state": {
            "_model_module": "@jupyter-widgets/base",
            "_model_module_version": "1.2.0",
            "_model_name": "LayoutModel",
            "_view_count": null,
            "_view_module": "@jupyter-widgets/base",
            "_view_module_version": "1.2.0",
            "_view_name": "LayoutView",
            "align_content": null,
            "align_items": null,
            "align_self": null,
            "border": null,
            "bottom": null,
            "display": null,
            "flex": null,
            "flex_flow": null,
            "grid_area": null,
            "grid_auto_columns": null,
            "grid_auto_flow": null,
            "grid_auto_rows": null,
            "grid_column": null,
            "grid_gap": null,
            "grid_row": null,
            "grid_template_areas": null,
            "grid_template_columns": null,
            "grid_template_rows": null,
            "height": null,
            "justify_content": null,
            "justify_items": null,
            "left": null,
            "margin": null,
            "max_height": null,
            "max_width": null,
            "min_height": null,
            "min_width": null,
            "object_fit": null,
            "object_position": null,
            "order": null,
            "overflow": null,
            "overflow_x": null,
            "overflow_y": null,
            "padding": null,
            "right": null,
            "top": null,
            "visibility": null,
            "width": null
          }
        },
        "c2fb40df6e334346a4f78c95af3dfdbe": {
          "model_module": "@jupyter-widgets/base",
          "model_name": "LayoutModel",
          "model_module_version": "1.2.0",
          "state": {
            "_model_module": "@jupyter-widgets/base",
            "_model_module_version": "1.2.0",
            "_model_name": "LayoutModel",
            "_view_count": null,
            "_view_module": "@jupyter-widgets/base",
            "_view_module_version": "1.2.0",
            "_view_name": "LayoutView",
            "align_content": null,
            "align_items": null,
            "align_self": null,
            "border": null,
            "bottom": null,
            "display": null,
            "flex": null,
            "flex_flow": null,
            "grid_area": null,
            "grid_auto_columns": null,
            "grid_auto_flow": null,
            "grid_auto_rows": null,
            "grid_column": null,
            "grid_gap": null,
            "grid_row": null,
            "grid_template_areas": null,
            "grid_template_columns": null,
            "grid_template_rows": null,
            "height": null,
            "justify_content": null,
            "justify_items": null,
            "left": null,
            "margin": null,
            "max_height": null,
            "max_width": null,
            "min_height": null,
            "min_width": null,
            "object_fit": null,
            "object_position": null,
            "order": null,
            "overflow": null,
            "overflow_x": null,
            "overflow_y": null,
            "padding": null,
            "right": null,
            "top": null,
            "visibility": null,
            "width": null
          }
        },
        "4bc26b35f69c4c80bcc4ef4f2068768a": {
          "model_module": "@jupyter-widgets/base",
          "model_name": "LayoutModel",
          "model_module_version": "1.2.0",
          "state": {
            "_model_module": "@jupyter-widgets/base",
            "_model_module_version": "1.2.0",
            "_model_name": "LayoutModel",
            "_view_count": null,
            "_view_module": "@jupyter-widgets/base",
            "_view_module_version": "1.2.0",
            "_view_name": "LayoutView",
            "align_content": null,
            "align_items": null,
            "align_self": null,
            "border": null,
            "bottom": null,
            "display": null,
            "flex": null,
            "flex_flow": null,
            "grid_area": null,
            "grid_auto_columns": null,
            "grid_auto_flow": null,
            "grid_auto_rows": null,
            "grid_column": null,
            "grid_gap": null,
            "grid_row": null,
            "grid_template_areas": null,
            "grid_template_columns": null,
            "grid_template_rows": null,
            "height": null,
            "justify_content": null,
            "justify_items": null,
            "left": null,
            "margin": null,
            "max_height": null,
            "max_width": null,
            "min_height": null,
            "min_width": null,
            "object_fit": null,
            "object_position": null,
            "order": null,
            "overflow": null,
            "overflow_x": null,
            "overflow_y": null,
            "padding": null,
            "right": null,
            "top": null,
            "visibility": null,
            "width": null
          }
        },
        "422cf9cde5164fe79c6f5db1bb251c74": {
          "model_module": "@jupyter-widgets/controls",
          "model_name": "TabModel",
          "model_module_version": "1.5.0",
          "state": {
            "_dom_classes": [],
            "_model_module": "@jupyter-widgets/controls",
            "_model_module_version": "1.5.0",
            "_model_name": "TabModel",
            "_titles": {
              "0": "Youtube",
              "1": "Bilibili"
            },
            "_view_count": null,
            "_view_module": "@jupyter-widgets/controls",
            "_view_module_version": "1.5.0",
            "_view_name": "TabView",
            "box_style": "",
            "children": [
              "IPY_MODEL_cf6d3d40c0aa4c67b4cb3a4f7910aa15",
              "IPY_MODEL_72aa99856b904c77951aa343bac5e8a5"
            ],
            "layout": "IPY_MODEL_d3fcced306714f678340c89f3f5170a8",
            "selected_index": 0
          }
        },
        "cf6d3d40c0aa4c67b4cb3a4f7910aa15": {
          "model_module": "@jupyter-widgets/output",
          "model_name": "OutputModel",
          "model_module_version": "1.0.0",
          "state": {
            "_dom_classes": [],
            "_model_module": "@jupyter-widgets/output",
            "_model_module_version": "1.0.0",
            "_model_name": "OutputModel",
            "_view_count": null,
            "_view_module": "@jupyter-widgets/output",
            "_view_module_version": "1.0.0",
            "_view_name": "OutputView",
            "layout": "IPY_MODEL_85f7f295b7bb4bf3bf69f42e96686040",
            "msg_id": "",
            "outputs": [
              {
                "output_type": "stream",
                "name": "stdout",
                "text": [
                  "Video available at https://youtube.com/watch?v=zceWyoQn09s\n"
                ]
              },
              {
                "output_type": "display_data",
                "data": {
                  "text/plain": "<IPython.lib.display.YouTubeVideo at 0x7fc69760f510>",
                  "text/html": "\n        <iframe\n            width=\"854\"\n            height=\"480\"\n            src=\"https://www.youtube.com/embed/zceWyoQn09s?fs=1&rel=0\"\n            frameborder=\"0\"\n            allowfullscreen\n        ></iframe>\n        ",
                  "image/jpeg": "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\n"
                },
                "metadata": {}
              }
            ]
          }
        },
        "72aa99856b904c77951aa343bac5e8a5": {
          "model_module": "@jupyter-widgets/output",
          "model_name": "OutputModel",
          "model_module_version": "1.0.0",
          "state": {
            "_dom_classes": [],
            "_model_module": "@jupyter-widgets/output",
            "_model_module_version": "1.0.0",
            "_model_name": "OutputModel",
            "_view_count": null,
            "_view_module": "@jupyter-widgets/output",
            "_view_module_version": "1.0.0",
            "_view_name": "OutputView",
            "layout": "IPY_MODEL_2d159e477b3a481392d09d57430ebfc4",
            "msg_id": "",
            "outputs": [
              {
                "output_type": "stream",
                "name": "stdout",
                "text": [
                  "Video available at https://www.bilibili.com/video/BV1pv411q7Hc\n"
                ]
              },
              {
                "output_type": "display_data",
                "data": {
                  "text/plain": "<__main__.BiliVideo at 0x7fc69483d550>",
                  "text/html": "\n        <iframe\n            width=\"854\"\n            height=\"480\"\n            src=\"https://player.bilibili.com/player.html?bvid=BV1pv411q7Hc&page=1?fs=1\"\n            frameborder=\"0\"\n            allowfullscreen\n        ></iframe>\n        "
                },
                "metadata": {}
              }
            ]
          }
        },
        "d3fcced306714f678340c89f3f5170a8": {
          "model_module": "@jupyter-widgets/base",
          "model_name": "LayoutModel",
          "model_module_version": "1.2.0",
          "state": {
            "_model_module": "@jupyter-widgets/base",
            "_model_module_version": "1.2.0",
            "_model_name": "LayoutModel",
            "_view_count": null,
            "_view_module": "@jupyter-widgets/base",
            "_view_module_version": "1.2.0",
            "_view_name": "LayoutView",
            "align_content": null,
            "align_items": null,
            "align_self": null,
            "border": null,
            "bottom": null,
            "display": null,
            "flex": null,
            "flex_flow": null,
            "grid_area": null,
            "grid_auto_columns": null,
            "grid_auto_flow": null,
            "grid_auto_rows": null,
            "grid_column": null,
            "grid_gap": null,
            "grid_row": null,
            "grid_template_areas": null,
            "grid_template_columns": null,
            "grid_template_rows": null,
            "height": null,
            "justify_content": null,
            "justify_items": null,
            "left": null,
            "margin": null,
            "max_height": null,
            "max_width": null,
            "min_height": null,
            "min_width": null,
            "object_fit": null,
            "object_position": null,
            "order": null,
            "overflow": null,
            "overflow_x": null,
            "overflow_y": null,
            "padding": null,
            "right": null,
            "top": null,
            "visibility": null,
            "width": null
          }
        },
        "85f7f295b7bb4bf3bf69f42e96686040": {
          "model_module": "@jupyter-widgets/base",
          "model_name": "LayoutModel",
          "model_module_version": "1.2.0",
          "state": {
            "_model_module": "@jupyter-widgets/base",
            "_model_module_version": "1.2.0",
            "_model_name": "LayoutModel",
            "_view_count": null,
            "_view_module": "@jupyter-widgets/base",
            "_view_module_version": "1.2.0",
            "_view_name": "LayoutView",
            "align_content": null,
            "align_items": null,
            "align_self": null,
            "border": null,
            "bottom": null,
            "display": null,
            "flex": null,
            "flex_flow": null,
            "grid_area": null,
            "grid_auto_columns": null,
            "grid_auto_flow": null,
            "grid_auto_rows": null,
            "grid_column": null,
            "grid_gap": null,
            "grid_row": null,
            "grid_template_areas": null,
            "grid_template_columns": null,
            "grid_template_rows": null,
            "height": null,
            "justify_content": null,
            "justify_items": null,
            "left": null,
            "margin": null,
            "max_height": null,
            "max_width": null,
            "min_height": null,
            "min_width": null,
            "object_fit": null,
            "object_position": null,
            "order": null,
            "overflow": null,
            "overflow_x": null,
            "overflow_y": null,
            "padding": null,
            "right": null,
            "top": null,
            "visibility": null,
            "width": null
          }
        },
        "2d159e477b3a481392d09d57430ebfc4": {
          "model_module": "@jupyter-widgets/base",
          "model_name": "LayoutModel",
          "model_module_version": "1.2.0",
          "state": {
            "_model_module": "@jupyter-widgets/base",
            "_model_module_version": "1.2.0",
            "_model_name": "LayoutModel",
            "_view_count": null,
            "_view_module": "@jupyter-widgets/base",
            "_view_module_version": "1.2.0",
            "_view_name": "LayoutView",
            "align_content": null,
            "align_items": null,
            "align_self": null,
            "border": null,
            "bottom": null,
            "display": null,
            "flex": null,
            "flex_flow": null,
            "grid_area": null,
            "grid_auto_columns": null,
            "grid_auto_flow": null,
            "grid_auto_rows": null,
            "grid_column": null,
            "grid_gap": null,
            "grid_row": null,
            "grid_template_areas": null,
            "grid_template_columns": null,
            "grid_template_rows": null,
            "height": null,
            "justify_content": null,
            "justify_items": null,
            "left": null,
            "margin": null,
            "max_height": null,
            "max_width": null,
            "min_height": null,
            "min_width": null,
            "object_fit": null,
            "object_position": null,
            "order": null,
            "overflow": null,
            "overflow_x": null,
            "overflow_y": null,
            "padding": null,
            "right": null,
            "top": null,
            "visibility": null,
            "width": null
          }
        },
        "fc597f36fc344fc7bc1876a0428001a5": {
          "model_module": "@jupyter-widgets/controls",
          "model_name": "VBoxModel",
          "model_module_version": "1.5.0",
          "state": {
            "_dom_classes": [
              "widget-interact"
            ],
            "_model_module": "@jupyter-widgets/controls",
            "_model_module_version": "1.5.0",
            "_model_name": "VBoxModel",
            "_view_count": null,
            "_view_module": "@jupyter-widgets/controls",
            "_view_module_version": "1.5.0",
            "_view_name": "VBoxView",
            "box_style": "",
            "children": [
              "IPY_MODEL_a6a60c6bd35042fbb185a8c832e7547f",
              "IPY_MODEL_0cfa2db4ce784e9bba84340f064a7ae6"
            ],
            "layout": "IPY_MODEL_8b050933b24a4a4a92ba53d338d8318e"
          }
        },
        "a6a60c6bd35042fbb185a8c832e7547f": {
          "model_module": "@jupyter-widgets/controls",
          "model_name": "DropdownModel",
          "model_module_version": "1.5.0",
          "state": {
            "_dom_classes": [],
            "_model_module": "@jupyter-widgets/controls",
            "_model_module_version": "1.5.0",
            "_model_name": "DropdownModel",
            "_options_labels": [
              "0.2",
              "0.4",
              "0.6",
              "0.8",
              "1.0"
            ],
            "_view_count": null,
            "_view_module": "@jupyter-widgets/controls",
            "_view_module_version": "1.5.0",
            "_view_name": "DropdownView",
            "description": "ratio",
            "description_tooltip": null,
            "disabled": false,
            "index": 2,
            "layout": "IPY_MODEL_2452650e28854ee9885a4a33f9bb47ae",
            "style": "IPY_MODEL_7fe255753d444ae4815c66af6c727d09"
          }
        },
        "0cfa2db4ce784e9bba84340f064a7ae6": {
          "model_module": "@jupyter-widgets/output",
          "model_name": "OutputModel",
          "model_module_version": "1.0.0",
          "state": {
            "_dom_classes": [],
            "_model_module": "@jupyter-widgets/output",
            "_model_module_version": "1.0.0",
            "_model_name": "OutputModel",
            "_view_count": null,
            "_view_module": "@jupyter-widgets/output",
            "_view_module_version": "1.0.0",
            "_view_name": "OutputView",
            "layout": "IPY_MODEL_0e78c74083684d8b9c3abb655a2dc934",
            "msg_id": "",
            "outputs": [
              {
                "output_type": "display_data",
                "data": {
                  "text/plain": "<Figure size 1080x360 with 6 Axes>",
                  "image/png": "iVBORw0KGgoAAAANSUhEUgAACEwAAAJ0CAYAAAAC4iSHAAAABHNCSVQICAgIfAhkiAAAAAlwSFlzAAAWJQAAFiUBSVIk8AAAADh0RVh0U29mdHdhcmUAbWF0cGxvdGxpYiB2ZXJzaW9uMy4yLjIsIGh0dHA6Ly9tYXRwbG90bGliLm9yZy+WH4yJAAAgAElEQVR4nOzdd9wcZb3///fnDqkEQkKVlgBSDR0LohI7omJDQRGMiKAcPYrHdixfcjzK8WcDxGNDmkcQRbEhiKJSxAYoAtIxAUINEFJITz6/P65Z9trJlrn2ntm9y+v5eMzj3nv2M9dcO7sz+9mZa67L3F0AAAAAAAAAAAAAAACjyUC/KwAAAAAAAAAAAAAAANBrNJgAAAAAAAAAAAAAAACjDg0mAAAAAAAAAAAAAADAqEODCQAAAAAAAAAAAAAAMOrQYAIAAAAAAAAAAAAAAIw6NJgAAAAAAAAAAAAAAACjDg0mAAAAAAAAAAAAAADAqEODCQAAAAAAAAAAAAAAMOrQYAIAAAAAAAAAAAAAAIw6NJgAAAAAAAAAAAAAAACjDg0mAAAAAAAAAAAAAADAqEODCQAAAAAAAAAAAAAAMOrQYAIAAAAAAAAAAAAAAIw6NJgAAAwZZjbbzDyb5vV43TOidbuZzejl+gEAo1fu+2dWv+uDwTGzK6P3c06/64PRrd85rpnNi9Y9u5fr7hcze0P0mk/pd306MbNnmtmqrL6X9bs+wEhFvjeykO9hKCHf673hlu9haOj3vlolMzsne03rzOx5/a5PN2gwgVGjycGozGlGv18fAADASGVmc8jXAABDnZlNlHRq9u9jkj7fJja+uHBu7rkTct9hrxlkvd6fK+8ltefc/W5J387+PcTMXjeYdQHdIt8DAAwHKfkeMIr8P0krJJmkr5nZsGt/MOwqDAAY+nInOq7sd33KNJJbggIAusf3Qzm4+xJozsxmxftHv+tTthF0Z+KHJE3PHn/Z3Rd3Wc73JS2L/n/noGrVuPxcSb/PPf85SSuzx18ysw0GuT5gRCLfKwf5HtAc+d6wUVa+B4wY7n6/6o2w95d0dB+r0xV+AGE0WS7p8gJxB0uakD1eKOmvBcsGAABAbxTJ6fLI1wAAlTGzqZI+nP27SNLXuy3L3Reb2Y9VP9H4WjPbzN0f66Jee0vaN5p1jrs3XIRx94eyXi5OkPRMhQYWZ3ZVeaA85HsAgCGlzHwPGIG+JOm9ksZKOtnMLnD31X2uU2E0mMCo4e6PSDqkU5yZzVO9heBN7t5xGQDlcPdzJZ3bp3XPU+gyCgAwxI20/Mzd+f4BUIl+57juPqNf6+6D90vaJHt8dgl3G56leoOJsZLeLum0Lso5Nnq8Tq1/b52u0GBCkj5hZme7+9ou1geUgnwPAIoh3+upsvM9jCL93ler5u73m9nFko6QtIPCb5mz+1ur4hiSAwAAAAAAAOiSmY2X9G/RrG+3ik1wtaS7o/+Th+Uws3GSjopm/SbrLnc97n6bpD9k/86Q9IbU9QEAAIxUFeV7wEgT91J3Ut9q0QUaTAAAAAAAAADdO1zSFtnjv7r77YMtMBs245xo1l5mtn9iMYdJ2jT6v9MdXudFj09MXBcAAMBIVnq+B4xAv5M0P3s808xe1M/KpKDBBNAlM/NompXNm2Rm7zSzS83sX2a2LHt+TrTc7Gi5eQXXNSO3vhkFl5tqZu8zs0uy+iw1s6fMbK6Z/cjMjjGzyofmMbM9zewzZnaNmd1vZsuzab6ZXWFmc8xs384lSWa2pZl91Mx+ly2/wswWmtltZnaWmb06oV7N3sMNzOzNZvaLbDutMLPHzOzPZvYpM5tSoNxZcdnR/E3M7P1m9gcze8jMVmZ/L8s+N2OK1j0qcxsz+0i2He/NPnOLzewuM/s/M3uDmSV382RmG5vZCdnn5G4ze9LMVpvZE2Z2vZl9y8zelLWsjZebl73mk6PZB+e2dTzNzi3fdv8ws09Hzz+S8vnN9qN10fKvafJ8y/0s+5y6pLm5oue2eG1XZsttZWarovlHKYGZ/T5a9qcpywIAijGzCWZ2dPS9t8TM1mZ5031ZDnOGmR1uZpNyy3b1/ZArY72cpElM0+8pM5tiId+72sweyL5zHjazn5rZy9uU9UUzu8lCfrjczO4xs2+a2TMTtttWZvYOCznYX81sQbb+pdl2uzTLUzbtUM7T3/+5p+LvwHia16E8M7NXZ/nKLRZyudp2udbMTjazbYu+zqjcmWZ2uoW8c4mF/OifZvY1M9sntbzBsJATn2T1PH9J9hoXmNmfsnoeYgXySzMbb2bHmtmPbf3fDD8xs+PMbELBel0ZvU9zovkHmdnZZnZ7Vv7ibNt9tehnrtl+YiXk7k3WMzHbHhdZOB4syvaR+8zsl2Z2ouWOAwXLHWNmbzSzM7PP5QIL+fViM7vVzC40s+Pz+4uZnZvtG79vsz3i6dxcXKcc94W55/dKeE1m4dhRW/ZLTWLmRc/Pzj339O8m1YfFlKRzWr2+aNmbo/nxXUxF6n1ytOwjFnphGKx3RI8vKqG8mnMlxcNipPYyEcc/LqnT74mfRuubZWbbJ64PGLKMfI98r9jrJd/rXBb5XutyyffI9+I6tDqm167Z/M7C+fwVzbZdVI5ZNce7A8zsG2Z2R7bPNj3eWYt9vkl5zfbfjtfLmpTzIjM7zcz+nr13q8zsUTO7zsw+b2a7Jb7OV1j4DrvJwnWkNRb290eyMs+zcB1kyw7ldJ1HRGV0e51vr+y1X5/bJjeY2Res+LW1yq9bZY2+fxzNeker2CHH3ZmYmKJJ0jxJnk1XtonzaJolaT9Jd+Tm16Y50XKzo/nzCtZpRq68GQWWOUnSwhb1iac7JT23om25pULysK5APRq2U4vyPixpSYFy/ihplwL1y7+H07Nl25X9iKQDOpQ7K14mmje/Q9l/kbRZwW27gaTPSVpWYHtcL2nnguWapA9JeqLgezYvt/y8gsvVptm55We3KjvaF+LP02sSPo+fzr2PG6TsZ5LmJL62K6NlfxjNvzqhzrvmyjykin2ViYmJaahP+WNwyWUfKOlfCcf3H7arW8r3Q1RGQ07Sop7rfU9ldb+3w/o+lyvnfZJWtIlfIenNBbbb2QoX1Yq85qWS3tumrNmJ23Bem7KerZD7dCpjmaRPJHxO/kvS6jblrZX03wo3JVwZzZ9T8ud1rKRTJD3V7ectV94hKpa/3Sfp1QXq1/DaJU1S6JKzXdmrJL2rQNkN+4lKyt1z6zhK0gMFtscDRbZHVO6r1Pq3YrN9cNdo2XMLLlebzu107Mg9b2o8Bn4p4XW9MFf2nk1i4s/X7NxzsxJfm0fLnhjNXypp44J1HiPp/mjZz5ewX06TtCYqc4+Cy8Xb5tw2cb+M4p6QNL5g+Vvn6nV6weXi/eo/Brt9mJiKTiLfa3rMFvles7LI9zp83nLlke81roN8j3yvm/0yOd9r9r5IermkB1u89tlNyij9eJdtnzPU/ppN8vEut/wsFbxeFi3/TElXFHitaySdrty5/SblbZmre6fp0TZlDSqPKLqvNonfUKHHuU7fxeskfVfS5A7lzYqXi+aVdt0qK/MV0bILO71XQ2Wq/M5yYJTYUdKXJW2S/X+fQqIwQdIuvayIhTvuz5J0TO6pe7N6SdLOkraKHv/ezA5z9ytKrMeeCid2tmtSj/kKX2xbZuuvtVDbRC2Y2bckHZ+bPV/SPQpfHDMVtrcUvsCuNbNXuvvfClZ5C4XuR2t30NTew7GS9srWUYu73Mye5e4PFynYzF4o6XJJ4xS+JG5TSOY3ycquvf7nSPqpmb3I3de1KW+yQiu9V+Seuksh4RoraTeFRE6S9pf0RzN7qbvf1KbcsZLOl/Tm3FOLs7IXSdpY4SL+Rtlz+ffsKoX39ZmSdsrmLZT01xarfaBVfZpx93lmdrWkg7NZx0i6pODiR0ePL3D3NSnrVhg/+HJJEyXFXUldLWl5k/h4W39d9e36QjPb3cMYwZ3En/m52foBACXJ7kz4taTJ0ewlCj/qn5Q0XtJmCt9rY7Pn8730Deb7YTBmSrpQIUdZJ+lWSQsUcpVnRXGfMLOH3P1rZvZhSV/M5q+QdIvC691J9RxovKQLzOwud7+xzfr3UuO2uE8hD1ma1WkX1buB31DS181sE3f/nyZlPaD6d9wro/nXKVwczHukWYXM7HWSvq/wXtQsUci9lirkKHsonDCcKOlzZjbD3fM5Zr7c0yR9IDf7foUTJhtK2lNhu31KFfbiaOHuuZ+pngfVPK6QEy+VNFUhD6xtg3b59TEKF0Liu0WeVNherpDz1d7D7ST9zMze7e7nFKzygEKj0VoPcE8o7FursrJrv0fGSvqOmc1396K5Tum5u5mdIuk/c7MfUsjBViuc3Jqezd9aYXsc6+7f7VDuhxT2u/izsVrS7Qr77KSs7Nr2GK/Gz/DNCvvHNIUTpjWtttXN7eqT5+5uZt9VvYe4t5nZx9x9bbvlMvFvzhvdPWndCp+J2us4WPXfc7eo8++E/5P0eYXfJRsqXPz4RoF1HiqpdgeeS/pWQn1bOUT1/ehRd7+1hDJjZynUWwr7+Osl/aDAcseocf8+q+D6fq/wm1oK+++XCy4HDEnke+R75HvkezXke+R7g1BGvvc8hc90rbeLuxWub9TOtzeo4nhnZibpe5KOzD11r8L+NUnhu2eiwvEuuUfsTNL1MjM7UNIv1DiU3HKF771FCvvGTIWbSMdI+ndJO2fXtNY7x2+hV+zfqvG7crXC8WlB9v9UhWtTtWNJ02N7SXlEMjPbRGHfeU7uqdq1pc1Vf/9N4drH7mb2CndfWHAdpV63ilyrsL3HZmU9XyFnGtr63WKDiWmoTequh4nF2d+rJe2bixsnafvo/9nRcvMK1mlGbn0z2sR+Phd7tqRnNol7scIXztMt6CQ9o6RtuKnWb7l8jpr0cqDwhXS4pMskndqivPfmyvqnpBflYjZWaAket/T8l6SNCr6HC2rveZP3cIKkz+biz2xT7qwWZX8zv40VEuVLcvFHddi+349i10j6gqStczEDCifS4hbTd0jasE25X8vV42aFHzz5nhgGJB0g6SuS7mtR1pyonJb7UZPlOu4fko6NYpZL2qRAuQfmXts+3e5nReOaLPfPaJnTCsSPl/RYtMzHy9g/mZiYmIbjpIruOJT0k6jchyW9Mf+9l8WNk/RShRMt321RVlffD9my8XKzCpZf+444q0l+8SyFk3NxnvdyhbsSVij02jUpt8zr1XgX22871PmPCjnJmyRNaRFzoEJjyjhv2W+w26LFcvtkeUE+jxmTi9taIT+O13Ncm3LflIu9XdLBuZgpCncBrsum+Pt7TkmfVZP081xdrlG4aDOQi90gm3+mpD+3KG9vSSujsp5Q6CpzbK6ct+VezyrlcuVcuVdGsbUceK6kw+J6Zq/nLbnP3J2SrOBno7TcPVvmPbn4n6l5vrifGu9yXK4md9lF8Yc3qfeJanJ3nKQdJH0k217N1j0rLivhszMjV4f1jk0KJzTjmI69mmXb+clomQ+2iJsXxcxuU16huNwyX4+WubHgMvFvr1+VtH/Gd9X+ImG5+DWf2yZurMJxPKneavweuD6hXodFy62UNK6M7cTE1GkS+V6z8sn3Gpcj36vHku+R7yUdm0S+N9j9Mznfa/K+1K4h/US56zUK10i2iv6v6niXv87yN0nPaVKXjyscCwof71q81iLXy7ZVfX93hcYVb1UuB1Vo4PD/qbFnjM+2qMsHophVkj6qJteJFI5TeyvkIDe1KKsveYRCg8n8MWuHXMz2kn6Ui7uoTZmzcrGlXrfKLf+3Ip+boTT1vQJMTENtUncNJlyhlVnHEwmqsMGEQivF+Avj3R3KnaLGRhP/W9I2/G6uvscWXG69LoOyL8KlUVn/lDS1TRnH5tb9xYT38OfNvuyi+O9EsUskTWwRl//icUkfbVPuuNz70PIHq6QjorhVkg7tsE23U/giry3zkRZxL8nV91etXl+n9yybP6fIftTN/qHQqjj+sXV8gXK/EcW3Sn6K7meF4pos975omSckTegQf1Tuvd6i6HZkYmJiGmmTKjiBrnByMO6q+OUFlxvTYn5X3w/ZsvFyswqW75L+p02Zu6mxS+GVCnniq9osc3wUv07S9Daxbbt6zG3n+Ef2+YPdFk2WGVBjw8QrCnzPnhLFL2iW9yhcpIwbn94jafM2ZX5A679Hc0r6vOZz3LNbfRaLvE9qPAm8VG0ubCicQFocxV/XJvbKXD3nStqyTfzbc/EvLPjZKDN3n67Gk5FNT7pF8eMU7sCvxf+yRdxUhbuh4m2xY8F9Zr3Pryo8gZ7FXRPFXFCg3Ph3yWq1yFVV7Qn0mbnX1naoSYXfRnF3tm8ouh07lHtjVObnEpaLX/O5HWK/HMWulbRth/iDctumZTf5LfaJeNlnl7GdmJg6TSLfa1a+i3yvtgz5XuL7JPK9OG66yPck8r3B7J/J+V6T98UVbipt2WgoW66q491kNTaA+bva32z61ib1n9MmPh9b9HrZZdEyN0ma1iE+/h5bJWmbJjHx0B5F36/1jrfqUx6hxiEtXKFX8KafG4VGH+fl4psOJ6QKr1s1WfacaLmmx9ChNlXWfRQwyqxWGIdtVZ/r8XGFA6Qk/Z+7n9ku2N0XSTohmjXbzDZqFV+Eme2g0DK55hvufnaRZd19aZPZx6neLZIUGl+07FIoW9cv4uXNbMNW8ZElColau2EavhA9nixp3wLlStK17v6FVk9mn5vTolkHmlmr7q4+Hj3+vLtf2m7F7n6/Qsvlmve3CP1k9PhBSW9192bdSubLb/aeVcrdl0j6aTQrP/xMAzMbp5Dg15xXRb0K+K7CD1Qp/KB6S4f4uPu0n7j7o5XUCgCGITPzxOm0JsVsrtCbT801Rdbtxbot7YU7JX261ZPufrvCSb6acZLOcffL2pQZf1eZwgW3VuUXygGy3OqkaNZhbfKcbh2m0BWlFIYCO9LdV3RY5tMKQ45JofvMtzaJeb3CHTs1/+buC5rESZLc/XRJfyhU4wRmNqDGHPAfkk4o8lls9j6Z2QGqd7cvSZ/xNsPYufs/FC5i1RxgZi0/GznHu3vTLrUzF6ixK94XFiy3zNz9JNW7Br7G3T/VbsVZ7n6swh20kvQqM9upSej7FHrBk8IFqbe6+7/alZ2Vv6bA57cKcVfTry/wuzDOwX/Vj1zV3W9R47H7hFaxmeNU7x73QTX+buxK1q3xbtGsuwdbZgvxcBoDCncIt/PO6PEKhTvEi7pP4RxHzcyEZYHSkO9JIt+Lke+1rhP5XkC+1xn5XhdKzPcWSHq/Z1eT26jqePc2hRtoa47PzrM35e7fV+jVoBuFrpeZ2T4Kw53UlnmLuzcbpimu17cl/S77d6yafybiYeIH893frzwiHiLqEYXGz00/N9n8f1P4vNd8sOB6yrxulRfvJ8Pi9wQNJoByXJpdmO4bM5sm6bXRrC8VWc7dr1Fo/SqFMaoObBNexBGqj220WtJ/D7K8N0SP/+DufymwTPzaN1EYfqSTCwt8Gd+p0FtDzbNaxeZ8vUDMVdHjiQrdpDXIEoh9sn9XSzq94Pp/qHCSTJK2M7OGccLMbCuFHiZqTm3XKGWIiBP8g8xsve0Vea1CAwUptDA+v7JateHui3PrbpngZ2OjxeOifrOqegHAKJZvGFi0IeRQcXaHk4eS9Ofc/99uF5ydhInHsd6jVWwKd79LYdxlKZzILKXcyOzo8bnu/liBOq1VGLu15mVNwt4YPb7L3X9VoC5nFIhJ9RyFsVVrPuvuq1sFFxC/rmUqNg7wt1S/uCI15uit3OXuv2kX4GH80/ikU9H8upTcPbs4EZ8ILvobaq7q9TaFrlfzjooeX+bu+f1xqIl/M0yU9OZWgWa2pcJdTzX9apAsNf7WOiIb+3092Ym9d0WzvlPgGFrE1mo8idppLO6ueBgnO/4MzW4Vm90wEDfOvtjdn0xYl6vxdcwouiwwBJHv5ZDvrYd8r458r7Fs8j3yvZqy8r0LCjZEmx09LvN495ro8fXufl2BunytQEwzRa+XzY4eX5I1BCwi/jw2e63x9/9gvvt7nkeY2SQ17ntnZtcVWso+V9+KZr3EzDZuFR8p5bpVC/Ojx9uY2QYFl+sbGkwA5bi63xVQaJ1b26cfdfebEpb9R/T4gEHW4+Do8R/c/aFuC8p6BtgvmlW0Reg1Cq0va4o0Arm2YNnxgX6TgssUKXt+7v9mZcfb9u/u/niTmPW4+0qF8Rdr8u/xwbn/f1ik3D67Qo2tJtv1MhE/92t3f7hlZPXiJOT5ZtaqdWXcmOJOd/99izgAGK0uT5xuyxeQXTyKW7xfYGbNfmgPVX8qEBN/562SdEOBZeLcbWrLqIiZ7Wtm7zOzr5vZhWb2SzP7VTypscewbYuUW3Ddpsa71NqesM3plAM/N3pc5OS5VO9OtExxrrZSoWviwYhz46va3VVU4+5PKeRfzcpopd/5dZGy91T9c+6SfluwXKnN5yc7wbxrNGvI59ceeh+M7yBrl1+/TaF7Win87hr0nXuD8GOFu66kcAPA0S3iXiNpm+zxWoUuvMuwee7/thd2BinuufGZZvaiFnGHKwxjWHNWi7h24t/TW3SxPFAG8j3yvdq6yffSke/Vke9lyPe6Vla+1/EaUg+Pd0X3g2vU2PNYUUWvl8XHvm5f6/7ZdovFjUFONrN3m9l4JepTHvFs1fc9qfi+F+/bA2p8v1sp67pVM/HviTGSNi24XN8M+RYdwDDRsautHtgrejwh+6FS1J7R43wCkGr36PH1gyxrOzW23vxHq8CYu7uZ3az6HfrPLLBY0YvoT0WPJxVcpmPZ7v5U7nu9Wdnxezw98T2eHj3Ov8fxe7bA3e9LKLcv3H2tmZ2v+nAjR6ux60BJkpltJulV0ax+toaWu99kZteq3uXlCcoNk2JmE9T4gyVuHQoAkOTuh3SOKuQLqt+FN0PSb8zsfoWTpddI+nN2t9xQVCR3WRY9frzg3TXxMm1zHTM7TNLn1ZhLFFH0B3YR20qaFv3/STP7QKvgnHi5hvwou/thh2jWzUUKdPclZjYvt+xgxdv3pk7dmhYQ58aF8uvauhW6rc6X0Upf8+uCZcf59RpJP17/XFtL8TZol19Lg/9d1CvfVX0ouxeZ2XR3v7dJXJyr/iBroN0X7r7azL6j+hCDJ6j5nXBxg+Qye4jMD//YcVjDQbhQ0qnROt+p5iej4+E45qqxu/6i4u+CIkNcAqUj35NEvldDvpeOfK+OfK8R+V66svK9IteQqjreTVBjI9j1Ghk24+4rzexfamwcVETH15o1cohvJjzOzF5XsPyJ0eNxCkPjLIrmna7wGR6ncH3p25K+ZGaXK+TPf1a4IbXI0Bm9ziPi444rHJeLuFXhGFe77v9MdW6EUtZ1q2aW5f4f8r8paDABlKNtlzg9ErfQ2ljSK7ssp2mXVgniL+bBjmuWb+XecgzBJuLYIq3lu0n6CmXXXSaUzcqO3+MtVd57XOZ71kvnqd5gYkcze4G758eRfKvCWGZSSJq6HXetTF9XvcHE0Wb2MXePE4jDVX9PVkg6t4d1A4BRxd3PNLMdFMYLrn33bifp3dkkM3tQ4Q6vs9x9KJ0ESz2J2s1J15a5jpl9VvUTVqmS7+xoI3+XQtGxlvPy+VE+fyzUs1cUW+YJ9LJztfi1Dcv8usSy48/PWFWTX0vDJ8e+XOGk2VYK2+toSZ+NA7Ie0vaJZsVD5fXLtxSO42MkzTSz57v7H2tPmtn2anxvqxzurvAVmFTZBbofSXpHNuvNZvb+uGvnbHz1uOeJcwqMk91MZa8D6DXyvY7I9+rI98j32iHf66+RkO8VuYZU1fEu34it8HBtauwpoKgir3WKGq9R79cqsGBZTzeYcPdbzOxIhc/u5Gz2xgrD0NSGollsZldkMT9vlTP3IY+Ij71Ls6G0OsoaFi1S/TPU8Rhe4nWrwcQNGQzJAZRjXb8roPJaaA32uDAhelzoYN5G/sdVyg+/+GA/oWXU8FLVe1zme9Yz7v5PSX+LZjXrRi6e98OiCUbFfqT6j6gpqrfqrolbQ/+o03iNAIDBcfdPKHRXeb4ax+yt2VrSeyRdZ2Y/NLMy75YblrK7PuKT5w9I+ozC2KE7KnQFv4G7W22S1OyupTKUlR/lf8yPy/3fbR5ahrJztTjH7vZ1jc3GCB7uepFfS8Mkx87usLogmtWsu+N3RI/vdPci3cVXKrt78JJo1gm5kHer/h7dq+JdrhfxVO7/iU2jyhMPr7GhpLfknp+t+vFsnbpvfB2/jvxrBIYd8r105Hsdke8NH+R7EfK9rpSV7xW5hlTV8a7XevlapSbXtNz9J5J2kfRFNQ7tXbOxpDdK+qmkv5nZHq0K73Ee0e3xWxpa18Ty+8mQ/01BgwlgeCiSnMatAm+Kf7AkTrMHWde4xeFge6vIt3TcqGlUcxu3KWe4il/HzwfxHs/JlVvme9ZrcQvnN8djkZnZbmocr62vw3HUZN0qxic6n07ws8TsBdFzVbaGBgBk3P1v7v52hbuEDpL0UYVxIvNj/b5Z0qUj5MThYHw6enydpGe5+8nu/lt3n+vuS5t0bZmSx6XI53n7dZsj5crJ3xHTbR5ahrJztXibdfu6lhTsvnSoi7fF4kHk17Ny5ebvwhpOOXacX+9iZk+PfWtmAwrjWTeL7bevR4/fYmZTpae7W39X9NyZ7l7mDQ/5u3bzd5uWyt2vkXRnNOvY2oPs/YkvcPxmEF1RD9deCIGWyPeSke+1R743fJDvrY98L00v872qjnf5clMu6BfpbaYb+Tq9cRD757xmK3D3h9z9o+6+jaRnKZyH/57Wb0Cxj6Srsp5KmuphHtHt8VsaWtfE4v1krdJ6ceoLGkwAvRe3ChvbMqpRkS+leLyhLYtXp3QPRY9Tx7bKy5+Y2Slh2Th2pJzgqeo9jt+z7bMxzYaLCyStzh5vIumw6Lm4d4l73P3antWqs2+p3tL2uWa2d/Y4bh19yxCrMwCMeO6+2t3/6O5fdPfDJG0m6U1qHN/zQK3fO9CoYWabS9o/mvUxd1/UKj5bZrLKHcc6lh9zs5Qcyd2XqHHMzUJdLmfjsM4oo8lr72AAACAASURBVA6RMvNrqTE3Jr+u29jMyuod4KHc/2W8bz3h7v9Q41jncU79MoW7p6Qwnu7/9apeBfxGUm3s4Amq1/u1kp6RPV6jxobLZXhQjXdybVty+c2cEz0+yMx2zh6/TKF74Jqzuyk8O45tHc2a1005wFBFvtcZ+V575HvDDvleDvlesl7me1Ud71aocZ/evchy2c2JO5ZRhyZ1ekqNvTVUek3L3W9192+7+9EK7+HzJf0yCtlM0qcKlFN1HhG/T+PMrNDnzcy2UH34kXw5/RDX+wF3X9O3mhREgwmg9+LWy1OzJLuTPQvE/DF6vGU2rlI/xF10HVzw9TXl7gskxXfEPL/Icma2qRqT1KE0/uRgxO/xPiUm+PF7Nk4Ft3MHcSveKsfxXaDGLtaOkZ7+8XpUNL/M1tD5FsrJr8/d71VjQnZC1lAl7gbvW13UDQBQIndf5e4XS3qxGlvDNxv3dtDfD8NE/o6LvxZY5vkq/tszHje04zZ098fVeLf1gQXXU0Q89NdzW0Y12kPl310Z52rbmdlgT1jdED1Oyfvi2JGSX+e7F35eSeXeosY7jWaVUGbDMWYwv7MKiHPnI8ys1mV5fDL9Sne/r8R1Dur3g7u7GntnOz73V5J+5u75k9CDkq03Pjn6zDLLb+E8hbu0at6Z+yuF76yfdln+dDXe3HFzl+UAwwL5XlPke+2R7w0v5HvNke+lrbcn+V7Fx7u/RI9fWnCZF6r4Tb/diK93lPla2/LgTwo3X14dPdXsu79TWSl5RBE35P4vegzPx/X7GB7vJ8Pi9wQNJoDei8fzm6hiX7BvLBBznRoPyMelVKpE8cXr7SUdOsjyrooeH16w94O3q/H4dnWrwGHmCtV7Uxiv8DrLcIOkx6L/31tCmfGYVFWP4xsPtXFIdifEi1X/gV92a+iyxq2Lu5E7SqE73VpvMk9paLXgBoBRzd0fkRT3+rNVk7Bej2PfL92cLHlX55CndZNDXBY9foeZlXVCJ85DX2lmRbpePapzSLLfqZ4DSoPP1eLXtbuZ7d8yMpP1hrV3NOuqVrHDibs/qMa760r5DZXdPfPbaNax8dBxXerlMeZ8hbvzJGlTSa/O7hx+QxRTdvfMZfx+OEfS8uzxHmZ2jKRXRM9XNdzdddHjvSpax9Pc/SE1HveOMbPNJL0+mne+h6EAuxHv66sk3dRlOcCwQr7XgHyvPfK9YYR8ryXyvTS9zPeqOt5dEj0+wMyeXWCZ95W07lbi1/qGgsfg0mRDt8SNjJt99xctq0geUaScf0maH806ulVsTjw03yOS7uhm/SWKv0+uaxk1hNBgAui929TY3VvbrnnM7IWSXt2p0CxJOzWa9UEz27erGg7OJZLuif4/w8wGM4bbmdHjzSX9Z7vgrHeJT0az/uDutw5i/UNG1ptC3Djgs+3G1Uood42kr0WzDjezw1rFFxR3S7dTxS2if6H6uIEbKIyzF7eGvsbd55a4viclrYj+37lVYAeXq76vbCzpS9FzF3bq7hIAMDhdfDfFXRs+0eT5sr4fhrr8WJ8vahdsZi9VGMOzqDiHKLoNT1P9BPN0Sf+dsL52zlX9Dsjxkv6rXXDWVeb7S1r307Ic8Pxo1geKnPRu4wdq7PXuS+32h+y5L0ezlioMizZSfDF6fKSZDbbBd81p0eNtJJ0yyPLy3T5XdozJTvb9Opp1jKTDJU3K/n9K0o9KXm03+34Dd18o6cJo1jdVP+91txovapTpyujxcyr+7VMTdzW9jcLwGxNaPJ8qvsP62kE0vAD6jnyva+R7LZDvDVvkeznke8mujB5Xne9Vdby7QFJ8vvnbZtaytxwzO1LS60padytnqf59u5Gk/y2j0MT3p+V3fwV5RFHxNbHXmNmL2wWb2YvU2Hj6zKxnlL4wsw0lPSua9ft+1SUFDSaAHssuTset1j5iZs9qFpu18vuRindR9VXVx/GaJOk3ZtaxsYWZbWJm7zWzX3eK7cTd10r6aDRrB0lXdupKzsyeY2aHNynvajUeUD9lZu/Mx2VlbKbQYGPz2uLq8ENnGPov1XuD2ELSVWbWsSs5M9vSzD5mZue3CDldUtzF2g/M7K0dytzMzD7a4um466hpauwetlTZCbwfRLOOUxg3rOY8lSj7jN8YzTqxYM8n+XLy3cjFLasZjgMAqvciM7vMzF5hZmPaBZrZa9XYxep6P/bK+n4Y6rIuWePGsV/KGqyux8xmSfqx0rpbjXOIY81sasvIep3mqfEE78fM7Cudhi8zswEze7GZ/Sw7wZAv92415hjvM7OmJ8jNbCuF4bYmN3u+BJ9R/eTWWEm/NrOXtVvAzLYzs/XuCHL3pWrcXrMkfavZnUtmtoFCr1hxl62njbCGnd9X/U6gAUkXmdk7O50cM7NJZnaUmeW7TJUkuftVCg17az5kZl9od+ehmY0zs3eZ2Ywm5T2oxjGNP9jp2DVI8R2Fh6rx7rKLs89RmeLteIQVHKu3ibgXt/gY8O0KTxpernoX05tJmlnRemKXKNw5VvPa6PEN7j6YXiHiE7KXDqIcYCgg3+sC+R75nsj3JJHvke816Fm+V+Hxbqkab0bdR+G6TUNPE2a2oZl9TOHz4Wrs1bxU7r5E0ieiWUea2ffNbJNOy5rZs83su2b2tiZP32Rms7ML9+3K2FHSidGs/Hd/qXlEgq9LWhD9f5G1aERn4abpuHHT45LOGMS6y/AC1XurWqTGoVeGrA36XQFglPqiQs8SYxTuLP+zmf2vQkvFZZK2VehVohZzrqTZnQp19yVm9jqFBHCqQndal5jZdZJ+ptCV5kKFO082VWjl9TyFA/lYNQ4X0jV3v9jMviLpQ9msfSTdZmYXSfqNpPsVxlzdUtJ+Cq91psJF+2YtV2dL+rvChfcBSWdnF/O/L2muQuOQ5yuMV7Z5tNzp7n5FGa9pqHD3+VnDkssVWr7PkPQnM/udwsms2xS+hDZU2BZ7SjpI9bEkm3an5+5PmtlbFL7IJyp8Ri4wsw8qvCf/VGiZPkXS7pIOVujubLmkLzQp7w4zu17SAdmss8zsPxUa9MR3KH3V3X/X1cZodJ6k92SP44R1uaSLSig/73uqj3n4CkkPmdmNCtuolpjf4u6f6lDO2QqthOMTLH9z92HRTRUA9IuZ/apz1Hq+6e5xo1WTdEg2PZKVeb1CbrFIITfaUSFPeZ3qjc3vUfgeaKas74eh7suqn6TaQ9LNZvZ1hTFRVyncBfM6he5cTSFHman1x8Nu5nuSjswe7yVpvpn9TeHujNo2fNTdj88t98ksvna32EmSjjaz7yuMW/ywQv65icL7up/Ce7RlFn+qmvuAwsXDWtxXzewNWT3/pZBzvUAhD52mMN7sEkmDuSNwPe4+N2s0fJHC74NpCo2jf6uQ59+p8DtiqsK2fqlCjn+zGnsSqzlF0qtU/7y+W9ILzOw72TKu8FvhODXmVtcpnMwfMdx9nZm9SeHzO13ht8XZCg3bf6QwtvnjCseEqQq58HMUtvGkpoXWvUNhm+2U/f8RhZPDF2Tre1wh995BYczew7J1tOop8HuSPpw9ni3pUDO7WeEu0JrfuftXO77wzn6mcCycImmcGj/TZXfPLIU73j6mcMx4hqR7sn1/gaLxrt399c0Xf/r567Pfv/GJ35UK3TdXwt0fz36P1S5qvVoVj9Pr7mvM7P9U/zzEuu5dwsJNCLVt56rmtxRQCPle35Hvke+NGOR7LZHvFdSHfK+q4903Fc7r13o930/SX81snqR5Cp/3PVVviPI/CtcVDs7+Xzm4l7U+d/9WdtH/hGzWkQq9KvxAYaj1BxS+d6YofMfsK+nlCvuyFIY0ypup8Hn4XzP7jcK+eJvqvT5srdB70tGqN4JbpfB6Y1XkER25+2Nm9i6FfdQUruX9Ocv/L5X0qMK1n0MUjkG1xgku6d3u/mi36y7Jq6LHF2c3kQ997s7ExBRNCl8Mnk1XtonzaJrVxXo+nCuj1XSWQkIVz5vRoexnSrqlYPnxNK/kbfn/FJKdous/rU1ZMxXGbipa1hmSBjrUL/k9VGjUUltmTouYWXHZCdurcH0UEsL7u3iPW36mo3IfSijvyTZl7aPQG0a75Wfnlpnd7edRYVyufPnnJyw/o+h+ptDg8FeD2dZRWefmlnt3mfshExMT00iYJM3p4jsvP30wV+asLsq4V9JuberZ1fdD7vlZLcou/D0VLZP8vZr7Xjq3RYwpNKgsss1uUDiJMy+aN7tDHb7Tocymr0XhJMHXuvx8NN3uWbkzFU7idSrjUYWTWldG8+aUvC8cqvoFmSLTjW3KmqLQmLZoWX+QNLVD/ZJfuxr37/X2j5T9ZDD1UTi5eHU3n58O5W6hcEdNSpn7tChrI4UT+u2WPTe3zIzc8x2PHdGy325S/v3q8DsrV8a8aNlO+/6nB7Oto3Jm55Yr/JtgEPvm26P1XdfFtjm3i3Xu1mQbLZe0ySBex3FF9kcmpiomke91dcwW+V7K1HS7Z+WS74WJfK/F1KFc8r3i+/6oyfcG875ky1d1vBuTldvuus06SZ/NYv8czT+xzP03WtYUGoms7eK1rveZ66KM5ZLe2KScWV2U1TKPSP1MKDRsWVlwvaskva1DeQ2vJ+H9KfzeZu/l/UXjh9LEkBxAn7j7lyQdpfXHBayZL+k4d3+XwoElpey7FVoHvkfS7Z3CFboT/IzqLSRL4e6fUehh4BJJ7VqRLVPovq9lqzt3v0WhdeOX1TgGX94Nkg519/e7+7o2ccOahx4IdldolXtfh/A1Ci1PPyapWRdVzcr9nOpDfzQNVUje/7NlgPuNCi3VT5Z0jcIPzyrHv23W8rmK1tDy0CryUIXt+ROFVqVPKXFfzfw9erxEoecUAED1blZo3Pln1ccHbWWBQo9Ke7p7y9yq5O+HIcvDr+AjFLZfq7xsoaTPSzrQ3Z9MLP84Sa9R+E6s3cHXcRu6+2p3f5/CnVu/UOe842GFXOEQhVylVbm3KJwY/6HCCZy8tQr57r4+uG7wO3L3SyXtqjC265I2oWsVXtPn2pS1SOGuuRPVPp+crzBW9ywPYwaPSB7GcZ6lcEfT9er8mbtd4bfJPh3KfVTSCxUuRN/Zocz7FPabe5o96aHL2gMV7r66TOG9Wd6hzMFoNrTd96r6neXu/62wrc5WvYe7btb199z/vRju7kcKF9Ek6QAz273qFWbfR/nubS9OPebmvD16/I1BlAMMFeR7XSLfWw/53ghAvtcU+V5xPc33Kjzerc3KfY7CdrtL4frMYkm3KvQutL+7f8rDUFRbRosvyJdXBg8+p3D95/ysPu0sVHg/3qTQc0nevyn0xNDuGCpJKxS+h/Z094ubPF96HpHC3X+g8N10cZv1r1HoiWJvd2+2LXrtYIUe9KXweWra4/lQZFmLDwB9ko0Td6DCl8EmCgfWOyVdU1ZiYmbbKXS/tkW2jpUKXyp3S7rZ3Z9os3gpzGwjhWRoe4Uu5dYovNbbFYYgKNydUzbe3kGSdlYYM2y5wvit13oYZ3HUMbOdFRqnbKbQeny5Qpdvdyq8x52Sg2ZlDig0vJmp0MXTWIXE6V8K4+I+0mZxFJR1PVfrhu8b7n5iu3gAQPmysUD3VuilawuFbihXKDQevEXhrq3h0YVgj5nZZIWuLHdR6LZzgcIdRle5e6cTCpUys9qwbTMUurAcUDhhcp+k29z9ri7K3ELSSxROAKxV6B70Gnd/qKRqp9RlrEKOv7NCrjYg6UmFHP/61JPdZra3wsngLbJZCxQ++ze2XmrkMrPNFX5zPEOh2+Q1Ctv3XwpdrT/cZvF25e6kcHJyC4U7CJ9SuAPnJnfvdIIdBWTDQ56U/Xuruz+rR+s9WeEOWin0nnhSm/Ahx8x2Vf2Gi/sk7ZidJAdGBPK97pHvke+NVOR7w9dozPeqON4VWOeWCg0xanbObtatlJmNk/Rche/szRSuSyxVOB7frvB6O147M7MxCsNK7aJwTJ+scFxfqNBb9fXuvrR1CQ1l9TWPMLONFRojbKdwjW+RwnHlqqxx3JCQDUf01uzf4939zH7WJwUNJgAA6BMze65CC9Wavau+UwEAAAAYqbITmfMVGulL0r+7+xk9WvdUhTvNpyicwNze3dv1jjikmNnXJb03+/c97t6LOzUBAACSkO/1jpl9UmFoDkl62N2f0c/6YGgzs20Ves8ZpzA0yS7uXmWP46ViSA4AAPrnk9Hjq2gsAQAAAAzKe1U/eb5E0rm9WnF2l+8Xs3+nqN74YMgzs60kvTP79x6FbrIBAACGIvK9QTAzKxi3vxrPXZMfopP/UGgsIUmfGU6NJSQaTAAA0BdmdqKk10azWo45CfSamU0ys1eZ2afM7GIzu9fMPJvmDLLsbczsRDO7yMzuNrPl2TTXzL5vZi8p6WUAAIBRxMwOVL2LZEk6o5uhCQfpVIW7qSTpw1nXucPBJyVNyB5/pN9d7A9F5McAAPQf+V4pzjOzr5jZgdmQFQ3MbFMz+5ikqxWGYZLCsBNf7WUlMfTl8uNLJX0genr6IMvueX68QdkFAgCA9ZnZkZKOVBhzbVdJO0VPX+ruv+lLxYDmniPp0rILNbPtFH5Uxq3Zl2X/z8imI83sbIVx7hg3GwAANGVmMxW6CDaFMYn3VT3HeFD1u/96xt2XmdlJki5WGG/545I+0et6pMjGWT8h+/dyd/9JP+szhJEfAwDQY+R7lZgm6WhJJ0labmZ3SnpC0hhJW0raRY15ySpJ73D3R3pdUQx57fJj77bQfuXHNJgAAKA3dpP0uibz50o6rsd1AYpYKOlv0XSqpK0GWeYYheT2t5K+K+kKd3/QzAYU9pFTFPaTYxV++H56kOsDAAAj12Zqnl+vkHSUuz/Z4/pIkrIGB4W6Oh4K3L02zjA6Iz8GAKC3yPfKty56PFHS3m1i75E0293/UG2VMIyNmPzY3Ltu5AEAAArKumk9Oft3laR5kn4u6X/c/Yk+VQtoyszG5Fvnmtk8he7U/svd53RZ7hRJO7n731o8bwotkw+RtFTS5u6+opt1AQCAkc3MZkn6ffbvWkmPZP+f4u639qteGJnIjwEA6D3yvfKZ2YaSXinpxQo9duyg0OvEWEmLJD0q6S+SLpP0I3q3QisjLT+mhwkAAHogSxDm9LkaQCFV/Rhy90UKrY1bPe9Zd2qHSJosaXdJf6+iLgAAYHhz9ys1fO/swzBDfgwAQO+R75XP3Z9SGE7k4n7XBcPbSMuPBwZbAAAAAFCiuEXwmL7VAgAAABgayI8BAACAutLzYxpMAAAAYCiZlf1dJenOPtYDAAAAGApmZX/JjwEAAIAK8mOG5OjAzDaS9B+S3qQwls9ahY1/oaQz3H1VH6sHAACGODM7X9JuFa9mhqR5nYLcff+K6zEoZraDpPdk//7A3Rf3sz4AAAAoH/lxceTHAAAAI1+P8mNpBOTIVeXHNJhow8ymS7pS4QMkScskjZd0QDYdZWYvdfeFJa3vfEly96PKKA8AAAwJu0nabyeNr6Twe7RSCjnKsGZmEyVdJGmSpMckfby/NQIAAEBFyI8LID8GAAAYNSrNj6WRkSNXmR/TYKIFM9tA0i8UGks8JOkYd7/CzAYkvVnSmZL2lfQ9Sa8uabW77bnl1P0e+shRbyu6wA2nXp+0gv1POiC5Uugv3mP02uG3H9/vKgB9de0vDrayy9xJ43X6BtPLLlaS9IE19+oerbx9KLf87STLuy6QtL+k1ZKOcvcH+1srDCW3vellnhJ/z8/uTyr/oM++LCl+wT/uSYqfutMzkuKfeiStPfame++SFL/ojrlJ8ZI0cYtpSfF/OeWqpPgXnPKqpPirP3JpUvzBX3ltUvyt3786KX6HF++eFJ9q/l/uTorf7f+9Pyl+0c9/nhSfau2q1cnLTN5uq6T4gfHjkuLXLl/ROSjymmvfkhQPjDRl58jkx+2RH6OTee9+fVJ+fMs5tyWVP9TOL6588qmkeF+XtHk0YdrkpHhJ8jVrk+Lv/FXae7Dra2YmxaeeQ041duO0IeI32TVtm07ecqOk+MUPpt1Q/Iy9t0mKHzsp7aLlwrmPJsUve2J5UrwkbXfgTsnLpFi7Iq0z9SPmva+imgDDw3DKj6XhnyNXnR/TYKK1d0jaM3v8Jnf/kyS5+zpJP8gaTlwg6dCsl4nf9qmeAABgqDPJxpbeDiNYKyntXNCQYmZjJJ0v6fWS1kh6m7v/ur+1AgAAQKXIj1siPwYAABiFqsyPpWGdI/ciPx4os7AR5h3Z39/XGkvkXCipdmvWMb2pEgAAwMiRJbvfk/QWhbT97e7+o/7WCgAAAOgP8mMAAACgrlf5MT1MNGFmkyQdlP17WbMYd3cz+5Wk90p6Ra/qBgAAhh8zaWCDaloIm2lYtg6OWgYfoXqy+4P+1goAAAC9QH68PvJjAACA0avK/LhW/nDLkXuZH9PDRHO7q75tbmkTV3tuKzNLG9QXAABglMqS3QvUmOxe2N9aAQAAAP1BfgwAAADU9To/poeJ5raOHj/QJi5+bmtJT7QKNLMbCqx3twIxAABguDGTja2onapVOLZdBaKWwW9RGHOOO+cAAABGG/Ljp5EfAwAAoNL8OCt/uOhHfkwPE81tFD1e1iYufm6jllEAAADDjJlNNbPNapPqeeOkeL6ZTc4tN8fMPJtm5J6rjTl3hEKy+zZOBgMAAGA4ID8GAAAA6kZSfkwPEz3i7vt3isl6odivB9UBAAC9VOUYdNU1Dv67pOlN5n8km2rOkzS7YJkHSToye+ySzjCzM9rEf4ATxgAAACMQ+XEN+TEAAACqzY+z8iswYvJjGkw0tyR6PKlNXPzckpZRAAAAkBp7NxsracsO8RMrrAsAAADQb+THAAAAQF1f8mMaTDT3YPR4G0k3tYjbpsUyAAAATzOTbGw1zXirGn7O3Wd0udwcSXNaPHelqrznDwAAAMMC+fHTz10p8mMAAIBRr8r8uFZ+2UZSfkyDieZuk7ROoRXLTEmXtYibmf192N2f6EXFAADAMDQ8uxwGAAAAqkF+DAAAANQNzyE5RoyBziGjj7svk3Rt9u8hzWLMzCS9Mvv3172oFwAAAAAAAAAAAAAAKAc9TLR2nqQXSnqxmT3X3f+Se/7NknbMHn+3pzWL7H/SAZWWf8Op1yfFV12fkaDqbTrU3rOhVh8A6Auz6rpUq6rPYWAI2fbgfZLi16xckxS/waS04Q7v+eW9SfEHn/H8pPiHb5ybFL/lW/ZIil92basRB1vbaPozkuKnv3KbzkGRqz9yaVL8S846Kin+d+86Pyn+hZ9/ZeegyNL7H0mKf+KetPgNxqf9dF/1l2s7B0XWrlqdFL/h1psnxY/faoukeEm6/Xu/SYqfNG1SUvzEaZOT4gGUjPwYGJSxk8YnxU8/JC2XS1X1+T8bSNuvx2+yYVL8yiefSorvZh1b75P2Htx01t+T4rd43tSk+Ef/vDApftrMKUnx4yePS4qfe8n8pPjNn51Wn5WLlyfFr1mRlh+vWbk2KX7aDpsmxUvSkvmPJ8WvW5NWp9TjCoCSVZkfZ+WjNXqYaO08STcrdFLyYzN7qSSZ2YCZvVnSmVncZe7+2z7VEQAAAAAAAAAAAAAAdIEeJlpw9zVmdpik30uaIekKM1um0MhkQhb2d0lptzYBAIBRx1TdGHS0DQYAAMBwQ34MAAAA1FWZH9fKR2v0MNGGu8+TtJekz0i6RZJLWi3pBkkflvQ8d0/ruwoAAAAAAAAAAAAAAPQdPUx04O5LJJ2cTQAAAOlMsjFVjdFcTbEAAABAZciPAQAAgLoq8+OsfLRGDxMAAAAAAAAAAAAAAGDUoYcJAACAqpk0wB10AAAAQEB+DAAAANRVmR9n5aM1epgAAAAAAAAAAAAAAACjDj1MAAAA9IAN0IwXAAAAqCE/BgAAAOrIj/uHHiYAAAAAAAAAAAAAAMCoQw8TAAAAFTMz2Zhq2qma0fIYAAAAwwv5MQAAAFBXZX5cKx+t0cMEAAAAAAAAAAAAAAAYdehhAm3tf9IB/a7CiFP1Nh1q79lQqw8A9MvAGFrxAt1aMnd+UvxW++2YFL/wtrlJ8Xu+Y2ZS/NI77kmK32zXrZPil/35T0nxkzbbKCleku78+XVJ8RM2Hp8Uv89790qKX7tocVL8rK++Pil+g62ekRQ/MGFCWvkT07bPurVrk+LHb5P2GVr1ZNr2XLlwSVL86iVPJcVL0tQZmyXFb/WS5yXF33/JVUnxAMpHfgx076lHFyXFT9tpy6T41UtXJMXvekRa/r3iiaVJ8RM22TAp/r4/3JUUv/0Ldk6Kl6RF8x5Nil/+ZNo2nf7SbZLi7/7JfUnxk3dOy1+nTp+WFL/hFlPSyt9h86T4xQ8sTIofv/HEpPixk9Ly9UX3p9Vn3Zq0/F6SVi9fnRQ/beetkuKfuOvhpHgA5SM/7h96mAAAAAAAAAAAAAAAAKMOPUwAAABUzSQbqKiFMA2PAQAAMNyQHwMAAAB1VebHWflojQYTAAAAFTNV16UauS4AAACGG/JjAAAAoK7K/LhWPlpjSA4AAAAAAAAAAAAAADDq0MMEAABA1cxkVbUQNtoHAwAAYJghPwYAAADqqsyPs/LRGj1MAAAAAAAAAAAAAACAUYceJgAAAHrABminCgAAANSQHwMAAAB15Mf9w5YHAAAAAAAAAAAAAACjDj1MAAAAVM0kG6hqjOZqigUAAAAqQ34MAAAA1FWZH2flozV6mAAAAAAAAAAAAAAAAKMOPUwAAABUzCQNjKmmGS+NgwEAADDckB8DAAAAdVXmx7Xy0RoNJgAkueHU65Pi9z/pgIpq0hupr7cbw30bAQBQtY122DYpfsWjjyfFT9tn16T4x66/NSl+4mbjkuIHxo1Nih83dUpS/IrHnkyKl6Rt9p+eFD9xi2lJ8QNj036aXvWhXyTF7/S67ZLitz5wj6T4az5+eVL8jEO3ToqfMGVSUvxGMCw77gAAIABJREFUixcnxT9847yk+AW3PpEU76s9KV6SnnXkXknx8y+9OnkdAAAMVxttu2naAuvSvosHxqXlZqldiG8waXxSfKptn7NDpeVL0pQZW6TFV1SPuvuSopfetSIp/vFNFiTF3/79u5Pip+45OSl+7IZpv5l83bqk+FVPrUqKf+gPab9BH1JavCTt+2/7JMUvfyztN0Hqa9aEtHAAGMpoMAEAAFA1swrHaKZ9MAAAAIYZ8mMAAACgrsr8OCsfrQ30uwIAAAAAAAAAAAAAAAC9Rg8TAAAAPWADtFMFAAAAasiPAQAAgDry4/5hywMAAAAAAAAAAAAAgFGHHiYAAAB6oNIx6AAAAIBhhvwYAAAAqCM/7h96mAAAAAAAAAAAAAAAAKMOPUwAAABUzEwaGFNNC2Gj4TEAAACGGfJjAAAAoK7K/LhWPlqjhwkAAAAAAAAAAAAAADDq0MMEAABA5azCMehoHgwAAIDhhvwYAAAAqKsyPw7lozUaTAAAAFTNJBuoqGMvcl0AAAAMN+THAAAAQF2V+XFWPlpjSA4AAAAAAAAAAAAAADDq0MMEgCT7n3RAv6swKDecen1S/FB8vSPhNQCjUbVdqgEj2w3f+E1S/PbP2z4pfuWipUnxTy1YkhQ/afMpSfFrV69Jil/x+Nyk+ElbbZoUL0mP33pvUvyG22yRFL925aqk+D3ftUdS/GN3PJIU/+Cfbk2KP/DTL0qKX/bowqT4CZtunBT/1L0PJMXf9+uHk+Jf9OXXJMUvf2hBUrwkLbznoaT4x+9+Iil+x5fsmhSvO9PCAXRGfgx075Gb7k+KX75weVL8jIN3SYpf9lhafrzx9uOT4lMte2xxUvzkradVVJPIOk8KX7U07T2r2qqn0n6j7HrEjknxAxuMSYrfYMLYpPjUu7ZvOvOWpPjU86+P3/FgUrwkrVuzNin+3mvSfsNtf1Da72ilpd8ACiA/7h96mAAAAAAAAAAAAAAAAKMOPUwAAABUzSpsIUzDYwAAAAw35McAAABAXZX5cVY+WqOHCQAAAAAAAAAAAAAAMOrQwwQAAEDFTFZZC2GjeTAAAACGGfJjAAAAoK7K/LhWPlqjhwkAAAAAAAAAAAAAADDq0MMEAABAD9gA7VQBAACAGvJjAAAAoI78uH/Y8gAAAAAAAAAAAAAAYNShhwkAAICqmTQwpqJx4hh+DgAAAMMN+TEAAABQV2V+nJWP1uhhAgAAAAAAAAAAAAAAjDr0MNGCmc2WdE6B0Je7+xUVVwcAAAxzNkAzXgAAAKCG/BgAAACoIz/uHxpMdLZO0oI2z6/sVUUAAAAAAAAAAAAAAEA5aDDR2f3uPqPflQBQjv1POqDfVRi0kfAagNHGzGQD1YyEZkbLY4x8G289OSl+gwnjkuLv++PcpPgdX7p7UvzAuLFJ8evWrEuKX/rwk0nxU3bdISlekrbYd+ek+OWPLkyKHzMhbRste2xJUvyT89Li93jf4Unx13/me0nx+73/0KT4Zfc/mBQ/8RmbJ8UfePKspPiFt/4rKX7qbjOS4iVp0b2PJsXv8uq9kuIn7bh9UrzuTAsH0B75MTA4W+yxdVL8E/c8khQ/93d3JMVPf8FOSfGpVi9dkRSfmk/3wpIHn0iK32jbTSuqSXembLtRUvxDNz6cFL/zoXskxS9N3J4Tp6X9ptzlzWm/mZbMfzwpftNd0/bhbtax40vT9stxG09KilfaWwCggyrz41r5aK26LQ8AAAAAAAAAAAAAADBE0cMEAABADzAGHQAAAFBHfgwAAADUkR/3Dz1MAAAAAAAAAAAAAACAUYceJjrb3MxukLSrpDGSHpL0R0nfcfcr+1kxAAAwTFiFLYRpeAwAAIDhhvwYAAAAqKsyP87KR2s0mOhskqT9JC2UtKGkHbLpKDM7R9Lx7r6mUyFZo4tOdhtMRQEAwFBlsoGqOvYi2wUAAMBwQ34MAAAA1FWZH4fy0RpDcrT2oKT/krS3pAnuPk2h8cRBkq7IYt4p6dT+VA8AAAAAAAAAAAAAAHSLHiZacPdfS/p1bt5aSX80s1dKuljS6ySdaGZfdfe7OpS3f6d1Zr1Q7Nd9rQEAwFBVaZdqAAAAwDBDfgwAAADUkR/3Dz1MdMHd10n6cPbvgKTX9rE6AAAAAAAAAAAAAAAgET1MdMnd7zazxyRtJmnHftcHAAAMXWaqbAw6o+ExAAAAhhnyYwAAAKCuyvy4Vj5ao4cJAAAAAAAAAAAAAAAw6tBgoktmtpNC7xKSNLefdQEAAMOAWTVTJVW1SWb2KjP7lJldbGb3mpln05yS1rGlmX3ZzO4ws+Vm9oSZXWNmx5nR5hkAAGDEIz/Or4P8GAAAYDSrKj+uIJUcafkxQ3I0YWbm7t7ueUlfzP5dJ+mSsta97JFluuHU68sqbtD2P+mASstPfa2p9enFtqx6G402VX8mhqLR+JoBDHnPkXRpVYWb2f6SLpe0aTZrqaSNJL0gmw43s8PcfVVVdcDwsuDvC5PiF927JCl+6k6bJMWPGZf2M2r1kmVJ8Q/deG9S/B4fPCop/oo3nJ4U341ZZ7wxKf7hP96UFD+wwZik+Of+52uT4lfff39S/G6H7Z0Uv+SutPf4+q/8NSl+r3fPTIrfcKtpSfFrVqxOilcX3YreeVHafQm7HpF2rmRV4n4pvSQxHsAIQ36MIeW2n/wzKX75/LSPzsRtxyXFDyTmx6keujEtN9v+BTsnxQ/Fc8gL/jm/opoEYyal5WdjJ45Nil98R1qu9ci2ae/x/N8+khQ/dc/JSfHbHLBdUvziB9J+s260bVK4pPT8eOY7d0+KX/rgE0nxAEa9EZUf08NEc9PN7K9mdoKZ7VhrpWJmA2b2PEmXSXpDFvstd7+jbzUFAADDgMkGqpmkym42WyjptwqNRN8q6eEyCjWzKQqNTTeVdLukZ7v7RpI2lPQ+SaslvVLSaWWsDwAAAEMR+XEN+TEAAACqzI8rzJFHTH5MDxOtPTubJGmlmS1RaLkyPoo5R9K/97piAAAAFbvG3RtuNzazz5dU9oclbSVpuaRD3X2uJGWtgf/XzDaWdIqk483sNHe/s6T1AgAAAN0iPwYAAADqRlR+TA8TzT0i6f2SLpB0q6TFkjZRaLFyu6SzJb3A3Y919zV9qyUAABgeTLKBgUqmKhoHu/va8kt92jHZ3wtryW7OGQpdrI2RlDbOAAAAAIYH8uMY+TEAAMBoV2F+XEWOPNLyYxpMNOHuy939a+5+lLs/y923cPex7r6Ru+/u7u9y92v7XU8AAIDhxMx2lbR99u9lzWLcfamka7J/X9GLegEAAAD9QH4MAAAA1PUrP2ZIDgAAgB4IY8WNejOjx7e0ibtF0qsk7VFtdQAAANAv5MeSyI8BAACQIT+W1Kf8mB4mAAAA0CtbR48faBNXe25jM5v8/7N352Fy1mW+/z93J+l0Ot1ZmyQkZGMNCSDQURgliDAjDoKMIKMzCIyDzBx1jhq3+Z0ZrgOOnjleKsYZxRlgdA6by/G4O+LCKigiNCAEDARJCNkTknS609n7/v1RT1FF6Oruu/p5upZ+v67ruWr7PN/6VlUnubtz9/eb4XwAAACASqI+BgAAAAoqUh+zwgQAAEDWzHJ7xWU0tqQFZtYxUNTd27OZxKC1Fl3v6SdX/FircnvSAQAAoF5QH+dRHwMAACDb+jgZX7VRI1ekPmaFCQAAAAAAAAAAAAAAMOKwwgQAAEDGTNntQZeMuqIKfjtuMLqKrjdL2lki11ziHAAAANQB6uOXUR8DAAAg0/o4P75qo0auSH1MwwQAAMAwyLLgrSHri67PUumCd1ZyudPdWW4YAACgDlEfS6I+BgAAQIL6WFKF6mO25AAAAMBwWV50/YR+cvnHns5wLgAAAEClUR8DAAAABRWpj2mYAAAAyJpJamjI5qitxuNnJa1Jrr+lr4CZjZe0JLn58+GYFAAAAIYZ9XEe9TEAAACyrY9rq0auSH3MlhxVpnl6s9ovW1zpaQyb9qXZvtasx0f6RuJnNhJfM4CRyd3dzG6RdLWkd5nZp9x99SGxD0hqkXRQ0u3DPEVUqVPff1rshOAShk1tU0L5+z7yo1D+lA+cHMpPmhObT3fHo6H86VcvGTh0CO/tDeW3L18Zym/43YZQftE7XxfKb3/i2VB+y4rYfI658I9C+Z71m0P5aadPDuUnLZgXyu/b3hnKb/79plC+saUplJekMRNGhfK9B2Jfo+Omxd5TPR+LA8BgUB+jXDNOnhbKT7wgVl+OamoM5Vfd/UwoP//s40L5OWccE8pHlfOzuV0bd4Tye3fsCuX37Nwbyh9+xtRQfvvKUiucl8ivjr3eeefNDOXHjIt9zUXHn3pcLH+gJ/b+d67tCuWltcG81DAm9n3u3p27Q/kJc9pC+ZKL5APAEFSqPmaFCQAAgMyZzLI5smoPNrPJZtaWP1SoG5uL7zezlkPOu9bMPDnm9TH05yVtlNQs6b/MrD05r9HM3ifpU0nuRneP/Q8nAAAAagT1cRHqYwAAgBEvu/o4qxq5nupjGiYAAADQl8ckbSk6Zif3f/yQ+78cGdTdOyWdL+klSQslPWJmOyV1S/qKpEblllJbOvSXAAAAAKSG+hgAAAAoqJv6mC05AAAAhoE10Kea5+4dZrZI0t8rV/zOlrRL0nJJN0v6mrvH1lYHAABATaE+LqA+BgAAAPVxwXDXxzRMAAAA4FXcfV6Z510r6dpB5DZJ+khyAAAAAFWN+hgAAAAoqKf6mIYJAACArJlkDdnspZzRFs0AAABAdqiPAQAAgIIs6+NkfJTG2h4AAAAAAAAAAAAAAGDEYYUJAACAzJmU2R50tAcDAACg1lAfAwAAAAVZ1sfJ+CiJFSYAAAAAAAAAAAAAAMCIwwoTAAAAGbMM96AzmoMBAABQY6iPAQAAgIIs6+P8+CiNFSYAAAAAAAAAAAAAAMCIwwoTAAAAw8CMPlUAAAAgj/oYAAAAKKA+rhwaJpCqjmWPhPLtSxdnNBMAAADUi54tO0L58YdPDeXX3P1YKL/oigWh/GPXPx7Kzz//iFB+wtxQXDv+sCF2gqRpi2OveezUyaH8xFVbQvn9XT2h/MYn14XyWx7eHsrPWRL7Gh3V1BjKjxk3JpTf+vizofzk4+aE8idddW4oX47F02JfQ2qI/WCpa82m2PgAAFSRg/sOhPLR2qM3OP60hdND+ax/hrxt5cZQfsoxM0J5SRo/Y1L4nIho/bd72+5Qfn/XwVD+4NTeUP7A3tj44w9rCuV3be0O5V96Zn0oP27y+FB+9mmxenrspNj4kjRucnMo3zJzSvg5AGCkomECAABgOGS4Bx0AAABQc6iPAQAAgALq44phbQ8AAAAAAAAAAAAAADDisMIEAABA1sxkwaXCI2MDAAAANYX6GAAAACjIsj5OxkdpNEwAAAAMA2NJNQAAAOBl1McAAABAAfVx5bAlBwAAAAAAAAAAAAAAGHFYYQIAAGA4GH2qAAAAwMuojwEAAIAC6uOK4Z0HAAAAAAAAAAAAAAAjDitMAAAAZM0suz3ojL3tAAAAUGOojwEAAICCLOvjZHyUxgoTAAAAAAAAAAAAAABgxGGFCQAAgOHQQJ8qAAAA8DLqYwAAAKCA+rhieOcBAAAAAAAAAAAAAMCIwwoTqCkdyx7J/Dnaly7O/DkAACOLSbKM9olj9zmMBPt79oXyB3r2hvIzTzsulN+9eVso3zAm9id13OTmUP43n74/lC9H66ypoXzXupdC+bl/fEoo37Nucyh/3MWvD+UnHL48lN/wyHOh/J6dsa/RY86PfY/y0lOrQvn1v1kRyrcePimUb2yNfU1L0mP/Hvve74xPvzWUH3/wYCiv9bE4gP5RHwNDE60XoxoaY/9tMH5GrDaI6lwdq/1W/XhtKL9u6sZQXpJOvPzk8DkRbcdOD+V/d8OTofyo5tjv0nat7AnlW6aPD+X3de8J5ZunxP4MdK7tDOV3bdkVyk88YmIov+WZTaG8JE2cFXuOqIN7Yt93A0hXlvVxfnyUxgoTAAAAAAAAAAAAAABgxMl0hQkzmyVpoaTJkpoGc46735LlnAAAAIafZbgHHf3BAAAAqDXUxwAAAEBBlvVxMj5KyqRhwsz+WtJHJB0fPNUl0TABAAAAAAAAAAAAAAAylWrDhOU2V/mGpEvyd6U5PgAAQE0yyRoyKouotgAAAFBrqI8BAACAgizr42R8lJb2ChN/I+nPk+su6ReSHpC0SdLelJ8LAAAAAAAAAAAAAACgLGk3TFyZXHZLequ735/y+AAAALXJstyDDgAAAKgx1McAAABAAfVxxaT9zh+v3MoS19MsAQAAAAAAAAAAAAAAqlXaK0zsTy4fTXlcAACA2pblHnQAAABAraE+BgAAAAqojysm7RUmnk8uW1MeFwAAAAAAAAAAAAAAIDVpN0x8S5JJOiflccPMrNnM/tTMrjaz75rZC2bmyXHtIMeYbmbXmdkzZrbbzLaZ2f1m9l4zo80HAAAMjpnMGjI5REkCAACAWkN9DAAAABRkWB9TIw8s7S05bpD0t5L+3MxudPf7Uh4/4nWSflLuyWbWLulnkqYmd3Urt3LGGcnxDjN7m7vvG+pEAQDACMCSagAAAEAB9TEAAABQQH1cMak2TLj7TjN7q6RfSPovM7tG0o3u3pXm8wRsl/Ro0bFM0oyBTjKziZJ+rFyzxApJl7n7I2bWKOmqZJxzJX1R0vuzmfrgdCx7JJRvX7o4o5nUx/hS9b2n0flEDcd7CgAAMBSz3nZ2KH/XX9wYyp/91UtD+a3LV4XyJ/zVolB+4jGzQ/npr98ayh/5JyeF8pLU8eUHQvm5Zx0Ryq/49q9D+S0Pd4byLcc0hfILLoi9Rz1bdoTys888MZTvfnFjKL+nc3coP+fsU0L5LY89E8rvXLctlJekk6+Kzan7hfWhfMOYtH9/BACA4dMyc0ooX20/78x6/IWXxWq/cW0Tws+x9qHnBw4VmXHirFC+98DBUD7qYE9vKD/99bGvuZee3h7Kt/3Z9FD+4L4Dofxz31sTyke/RrvXx+vdqPHTJoby+3b2ZDQTAKg/qf+EwN2fMbMTJd0p6bOS/reZPSPpJUkD/Svs7p7Wdh73u/sr/hU3s88M8tyPKddYsVvSee6+KpncPknXm9kESf8s6W/M7Ivu/mxKcwYAAHXKGtLeCQ0AAACoXdTHAAAAQAH1ceWk3jBhZrMl3SLp1KLnWDiYUyV5WvNw96G0YF6eXH4z3yxxiC9J+gdJLZIulXTNEJ4LAAAAAAAAAAAAAAAMs1RbVcysTdIvJZ2pXANEfrMVG8RRFczsOElzkpt39JVx925J9yc33zwc8wIAADXMLNsDAAAAqCXUxwAAAEBB1vUxNXK/0l7b4xOS5ibXn5D0l8ntJndvGMQxKuX5lOOEouvL+8nlHxvM6hkAAAAAAAAAAAAAAKCKpL0lxwXJ5XJJp7v7npTHHw4zi66v6yeXf2yCmbUkq06UZGYdg3juBYPIAACAWsQedAAAAEAB9TEAAABQQH1cMWm/83MluaSbarRZQpJai6739JMrfqy1ZAoAAAAAAAAAAAAAAFSdtFeY2C5phqSNKY9b89y9faBMsgrFqcMwHQAAMNzYJw4AAAAooD4GAAAACqiPKybtFSZ+l1zOTXnc4dRVdL25n1zxY10lUwAAAAAAAAAAAAAAoOqkvcLEVyW9RdKlkq5Leezhsr7o+ixJO0vkZiWXO929O9spAQCAmmYmy2oPOjqPAQAAUGuojwEAAICCLOvjZHyUluo77+7fkfR1SSeb2fVmluEnm5nlRddP6CeXf+zpDOcCAAAAAAAAAAAAAAAykOoKE2Y2R9L/lNQo6b9JOsPMbpD0kKSXJPUONIa7r0lzTmV4VtIaSXOUWy3j24cGzGy8pCXJzZ8P39QAAEDNqsk+UgAAACAj1McAAABAAfVxxaS9JcdqSZ5cN+VWYfhS4HzPYE4h7u5mdoukqyW9y8w+5e6rD4l9QFKLpIOSbh/mKdaVjmWPZDp++9LFw3JOlrKeT/QzqLb3BwAA1L/tv344lG+aPiaUX3/nQ6H83q49ofy4KS2h/IYHnwrlN/16Wyg/Zf66UF6SFr2rv8X3Xm1dxwuh/PHvWjJwqMhJn1wUyj/5TzeG8o984beh/Bu/cEEob2MbQ/mxO2O7QE5pio3f/eKGUH76klND+dU/fCCUl6SJrzk+lN/64OOh/Lbn14byir2lAABkqnt9rP7Levzx0yaG8jZ6VCi/Z1usFnr61mdD+WMvmR/KS9IRpx0Zym98PPZ7opPmTAnlsxb9nmPCcc2h/O7gZ7z67hdD+ej3iDue3xTKj50wLpZviReXDY2x/zrb+NtVoXzL9NZQHgDqSRbNCVbi+rAzs8mSiquvfGtOs5m1Fd2/x92L/0X+vKT3Spoh6b/M7HJ37zCzRklXSvpUkrvR3WPVFwAAGJka2CcOAAAAeBn1MQAAAFBAfVwxaTdM3JzyeEP1mKS5fdz/8eTIu1nSX+VvuHunmZ0v6WeSFkp6xMy6JDVJyrci/lzS0gzmDAAAAAAAAAAAAAAAMpZqw4S7vyfN8SopWVFikaS/l3S+pNmSdklarlyDxdfcvbeCUwQAADXCZLKM9qCzyi7oBQAAAIRRHwMAAAAFWdbH+fFRWhZbclQNd583xPM3SfpIcgAAAAAAAAAAAAAAgDpR1w0TAAAAVcGU3R50NAcDAACg1lAfAwAAAAVZ1sf58VESDRMAAADDIcMl1QAAAICaQ30MAAAAFFAfV0ymDRNmdrakiySdJulwSa2SuiStl/RbSd9x93uynAMAAAAAAAAAAAAAAMChMmmYMLNjJd0qaXHx3cllq3LNE+2S3mdmv5V0ubuvzGIuAAAAVcFY9wwAAAB4GfUxAAAAUEB9XDGpr+1hZicrt3rEYuWaJPJHp6R1yWXx/adJetjMXpP2XAAAAAAAAAAAAAAAAPqS6goTZjZW0vclTUjuekLS5yT93N23FOXaJJ0r6aOSTk7y3zOz4919b5pzAgAAqDgzqSGjPejoPAYAAECtoT4GAAAACrKsj/Pjo6S03/mrJM2R5JJulHSqu99e3CwhSe6+1d1vV24VihuSu+dKem/K8wEAAAAAAAAAAAAAAHiVVFeYkHRhcvmkpPe7e29/YXfvNbMPSPojSSdK+jNJ16c8p7rWvnRxpacwrIbj9XYseySUr/XPoNbnHxX9fKNG2vsJIMAy7BAG6lxT26RQfsqCicH87FB+TGtLKL+/qzuUf/zfngjlj71kfijvvR7KS9JT31weyrfObQ7le9ZtDuVHb+8M5ceMGxPKn371klB+5x9eDOX37NgVykc/s/HTYn8GOv6lI5SfcNzTofxxF5wYykvSjseeCuXHTZ0wcKhIa09wccttsTiAQaA+BsrWMnNKKD/vvD2Zjp+1p25eEcofdWGsvm+aND6Ul6SVP4nVQ5PmxmqVg/sOhPLVZuczPaH8Ea+L1etNbY2h/GELpobyf/hBrL6PmvuWw8Pn7O+O/Tmec8YxofzurTtDeW2NxQEMAvVxxaT9zi9SbnWJWwdqlshLcrdKMkknpDwfAAAAAAAAAAAAAACAV0l7hYl8m94LwfPWJJeTU5wLAABA9WhgnzgAAADgZdTHAAAAQAH1ccWkvcJEfl3U6cHzDksug2v+AAAAAAAAAAAAAAAAxKW9wsRzktokvUPS9YHz3lF0PgAAQJ2xDPego/MYAAAAtYb6GAAAACjIsj5OxkdJab/zdySXZ5rZhwZzgpn9naSzJLmk/0p5PgAAAAAAAAAAAAAAAK+SdsPElyXtSK5/wcy+bmYn9xU0s5PM7FZJ/5Lc1SnpKynPBwAAoPJMkllGR6VfHAAAABBEfQwAAAAUZFofUyMPJNWGCXffLuk9knqTu94pqcPMNpnZA2b2s+Ryo6THJP2lch/RQUlXJOcDAACgCphZq5lda2ZPmlm3mXWa2cNm9lEzaxzi2O8wsx+Z2Xoz22dmu8zsGTO7qVTDLQAAAFBJ1McAAABAQb3Ux6PTHEyS3P0HZnahpK9JmpbcfZiktqJYcR/LZknvcfc7BAAAUK8astyDLn1mNlfSvZLmJXf1SBoraXFyXGpm50QbXs1srKRvS7qg6O5uSY2Sjk2Ovzazj7n7sqG8BgAAAFQx6uP8uNTHAAAAoD4ujDvs9XEm77y7/0TSMZI+LOk+5d4gKzp6kvs/KOlomiUAAACqh5mNlvQj5YrdDZL+xN3HS2qW9C5JXZJOkXRbGcP/gwrF7lckHeHurZLGKVdIP6BcjXqdmbUP4WUAAAAAqaA+BgAAAArqrT5OfYWJPHfvkvSvySEzmyCpVVKXu+/M6nkBAACqktXURnFXSDoxuX6xuz8oSe7eK+lbZtYg6euSzku6hO8KjH15cnmfu38gf2cydoeZnS9praQWSe+Q1DG0lwIAAICqRH2cR30MAAAA6uOCYa+PU11hwszuTo5rD33M3Xe6+zqaJQAAwMhjkjVkcyiTQvqK5PKefLF7iG9KWpVcv7yPx/tzeHL5SF8PununpGeTmy3BsQEAAFATqI+LUB8DAACMeBnWx9nUyHVVH6e9wsQbk8tvpzwuUtKxrM+vrZLaly7OaCbDM345qm1O0c8sKuvXO9K+5sr5vKrtaw7AyGZmzZLekNzsc9s0d3cz+6mk90l6c/Apnpd0vKQ+l0szs4nK7UMnlSiKMfLseG5dKH/sxWeE8vd+8Puh/IK/ODqUn3n2a0P5N/37n4fyu55fE8q3nnxCKC9Jk456JpTvenFLKN8wOtbL/+i/9fW9eGlNbY2hfPe6raH8mOaxofzO9Z2h/Pi28aH8/p69ofz8848I5df+ckMoP6a1OZSXpE1PvBDKTzlqWig/bkrwZyrbYnEA9YP6GNWoZ3Oslph63MxQPvrzraPfPieUnzgv9u92Nf7s7JjzFmY6/q46oLt2AAAgAElEQVSNOzIdP+qIc6aH8pPnTQ3ln/zq06H8tNMnh/Jdm7pD+Wh9vOrHa0P57s27QnlJap4aq1/HtDSF8uPaJoTyin3LBKCO1GN9nOoKE5K2HHIJAAAAk9TQkM2R/i/QHa9Cjbi8n1z+sRlmNiUw/r8ll2eZ2fVmNkuSLOdUST9WrjP4QZW3xx0AAACqHfVxMepjAACAkS7L+jj9Grnu6uO0GyZWJpexllUAAABUi+I6rr9f6y9+LFL7XS/ps5J6Jb1f0loz65K0R7n95o6W9BlJ57j7wcC4AAAAQBaojwEAAICCuquP096S49vKLcFxkaR/TXlsAACA2mWZ7KWct8DMOgYKuXufy5gdorXoek8/ueLHWkumXj2HXjP7H5KelvRl5bqBi9eVbJI0UdJ4SbsHOy4AAABqDPVxfg7UxwAAAMi6PpbSq5Hrrj5Oe4WJG5Sb/BIz+2DKYwMAAKDGmVmbpLsk/R/llk07Q9IkSYcr13S7Rbm97R7KL7cGAAAA1CvqYwAAAKCgEvVxqitMuPteMztf0nclLTOzJcp1fjzo7vvSfC4AAIDaYZKl3adaNLa0YpC/HTcYXUXXm/vJFT/WVTL1ajdLOkvSfZLOdXdP7u+U9D0z+5WkpyQdqdzSapcFxgYAAEBNoD4uQn0MAAAw4mVZHyfjp1cj1119nOo7b2bPS7pb0nTl3vmLktvdZrbBzJ4f4PhDmvMBAABA2Pqi6/116BY/tr5kqoiZHS/pvOTmdUXF7svcfbOkW5KbF5llvxYdAAAA0A/qYwAAAKCg7urjVFeYkDRPUn7i+UtLnmf6IM5/1YsGAACoC7Xzc83fS+pVrrH2BEl3lMidkFxudPdtgxx7YdH1/hplVyaXzZKmSdo0yPEBAABQK6iPJepjAAAA5FEfSxWqj9Ne22NNH8cLgWNNyvMBAABAgLv3SPpVcvMtfWWSrt1zk5s/DwzfW3R9bj+54kbb7sD4AAAAQKqojwEAAICCeqyPU11hwt3npTkeAABAXTBJDRntQZdN4/HNkpZIepOZnebuDx3y+CXK7REnFZY/G4xHi66/T310H5vZeEmXJzefcPddgfEBAABQC6iP86iPAQAAkG19nB8/XXVVH2f4zgMAAKBG3SzpSeVK6e+Y2TmSZGYNZnaJpJuS3B3uflfxiWZ2rZl5cswrfszdX5D0o+TmBWZ2q5kdZTljzOz1ku5VoZi+LoPXBgAAAERRHwMAAAAFdVUfl7XChJltV25JjHe7+x1F95+ZXF0e2IsEAACgrrlMntEedJ5Be7C7HzCzt0m6R9I8SXeaWY9yzbZNSewxSZeWMfxfS/qppHZJ706OHkmNemVt+jl3j3QfAwAAoEZQH78C9TEAAMAIl2V9nB8/1fHqrD4ud0uOiZJc0phD7r83uf/tkn5Y/rSQlfaliys9harXseyRUD7r95TPrH/18HlV22sAAEly99VmdpKkj0m6SNJ8SfslPSXpG5K+5O77yhh3q5mdLukK5ZZmO1nSFEkHJK2R9GtJN7j7A6m8ENSFLSs2hfKtsw8L5U+8cmEo3zKzLZTfvWZdKO/uoXxD46HflvWv+4mnQ3lJeuK2WL1y0rtj9cpLz6wN5U++Mjb++o5VofyY5rGh/MF9B0L5zR0vhfLHvn1KKP/ETctD+VM+cHIoP+ef2kP5fds7Q3lJmjg79pp3b4ttWdoyY3IoDwDUx6gmoxpT3Wn7VU666oRQfkxL08ChInuC/243TWkJ5YdD9Od50XrLGmL/sdU0PfY9wZ5N+0P5TQ9vDeV3b98dymdt82+2h/Jz3hz7fiD689qDe8L/XGjNr2Pf08w7M/bnZu/O6vrMAFS/eqqPy62s8j/By67VBQAAoJ5Y7e2E5u5dkq5JjsGec62kawfIHJD01eQAAADASER9XJyhPgYAABjpqI+LM8NaH5f7zu9KLqenNREAAAAAAAAAAAAAAIDhUu4KE89Jeo2kd5vZLe6+J8U5AQAA1J8a7BAGAAAAMkN9DAAAABRQH1dMuQ0Tdyi3X8gbJK01s2ck7S16/NNm9uEyxnV3P6fMOQEAAAAAAAAAAAAAAAxKuQ0Tn5f0l5LmSpoi6fSix0zSojLGNEle5nwAAACql5ncLLOxAQAAgJpCfQwAAAAUZFkfJ+OjtLIaJtx9u5mdJulqSX8qabakRuUaHiw5AAAAkMeSagAAAEAB9TEAAABQQH1cMeWuMCF33yzpg8X3mVmvck0Tb3f3Hw5xbgAAAAAAAAAAAAAAAJkou2ECAAAAASx7BgAAABRQHwMAAAAF1McVk3bDxCeTyxUpjwsAAAAAAAAAAAAAAJCaVBsm3P2TA6eGh5k1S3qjpHZJpyaXc5KHP+nu1/Zz7rWSrhnE0xzj7s8NbaYAAKD+mdSQ1R50dB4DAACg1lAfAwAAAAVZ1sfJ+CipnrfkeJ2knwxxjP2StvXz+IEhjg8AAAAAAAAAAAAAACqgnhsmJGm7pEeLjmWSZgTO/7W7n5XBvFDF2pcurvQUEFAPn1c9vAYAAzDJs9qDjuZgjAAt01tjJ/R6KD554ZGhfNfza0P5nq07Q/mZZ7WH8r2794TyPes3h/KSdMpVbwjlx82dHcr3HjgYyreefXYoP/ml74fyU157Uijvvb2hfOMvVobyo5vGhPJv+PQfh/IW/C2W3es3hfJjWseH8pI0uqkxlJ+2JFZT737hxVAeQMqoj4Eh8WC9u2dbdyjfNKUllO9cHasvx05oDuWjejZ3hvLN0yaGn+PU/35KKG+jR8XyDbG/zOadPTeUX/GN2MLZbSdNCuWnHHVYKP/So7HvmQ7ui33/cNSFwe9PDsb+jHWv7+/3bl/t4L747+LOPn1eKB/9mhs7YVwor/i3lQD6k2V9nIyP0uq5YeJ+d59SfIeZfaZSkwEAAAAAAAAAAAAAANWjbhsm3D3WYggAAJAly3IPOgAAAKDGUB8DAAAABdTHFcM7DwAAAAAAAAAAAAAARpy6XWEiJYvMbLmkIyX1Slon6ZeSvuLuj1V0ZgAAoIaYPLMOYTagAwAAQK2hPgYAAAAKsqyPc+OjNBom+tcmaYqkHZImSDo2Oa40s39296sHO5CZdQwitqCsWQIAAAAAAAAAAAAAgBC25OjbSkmfkHScpCZ3nyppvKRzJXUo14bzj2b20cpNEQAA1BSzbA4AAACgFlEfAwAAAAVZ1cfUyANihYk+uPvtfdy3T9LPzeyXym3L8VpJ15rZf7h75yDGbB8ok6xCcWoZUwYAAAAAAAAAAAAAAAGpNkyY2XHu/kyaY1Ybd99jZv8g6ReSWiSdI+m7lZ0VAACodtnuQQcAAADUFupjAAAAoID6uHLSfuefNrN7zexSMxub8tjV5MGi60dWbBYAAAAAAAAAAAAAAKAsaTdMmKQlkm6RtN7M/sXMTkj5OQAAAGqLKcM96Cr94gAAAIAg6mMAAACgINP6mBp5IGk3TPxYUq9yb/tkSX8n6Xdm9qCZvcfMmlN+vko5vej6qorNAgAAAAAAAAAAAAAAlGV0moO5+9vMbKakv06OeclDr0uOL5rZ1yXd5O6PpvncaTEzc3fv5/Gxkv5XcnOXpLuGZWJAjWpfurjSU6h6HcseCeV5T4FaZFJme9DRHoz6d8QZi2InNMT+vO3f2R3K79rcGcqPaox92/X8Dx4I5Y/+4OWx8W+7L5SXpOMubA/lbXxrKD+qqTGU3/torH7qfHFbKL/t5p+G8qPHjgrlZ7YfHspH7dvRFcrv7dwVy+/sCeXHTWkJ5SXp8X97IpQ/8cp9ofzYifE5AUgT9TEwFA2jY39+GifEfo9x18YdofyBvQdC+XHB+R/o2RvKN0+bGMrv3RGrhSRp7KTx4XMixrVNCOWjP1+M2vzo9lB+X8/+UH7hZceG8huf2BDKR+vRMc2xHee3/WFTKN92/KxQXop/xie85/hQ3ntL/rcYgGGRZX2cjI+SUn/n3X29u3/a3Y+U9GZJ35a0X7lPolXS30h62Mw6zOxvzSz2k7QAM5tsZm35Q4XX21x8v5kV/2t5ppndaWaXmdkRRWONMbNzJN0v6bTk7n9y91j1CAAARhyX5GbZHJV+cQAAAEAQ9TEAAABQkGl9TI08oCxbVeTud7r7OyUdIenjklYo2YVF0smSviJpvZn9h5mdXnqksj0maUvRMTu5/+OH3P/lonNM0jmSbpH0opn1mNkW5VaTuFPSa5XbduSf3f2zGcwZAAAAAAAAAAAAAABkLNOGiTx33+ru17n7QklnSrpV0h7lmhPGS3qPpF+Z2ZNm9t/NbNJwzKuEJyV9TNJ3JD0rabekScnl75RrrjjZ3f+xYjMEAAC1xxqyOQAAAIBaRH0MAAAAFGRVH1MjDyi2mW4K3P0BSQ+Y2Qcl/S9J708eMkkLJX1R0v82s9skfcbdVw/hueaVcc5Lkq4r9zkBAAAAAAAAAAAAAED1G/aWEjNrMrPLJf1Y0vuU25bF8g8nR7OkqyT9PmmsAAAAqGEmz+golFEAAABAraA+BgAAAAqyq4+pkQc2bA0TZnaymV0vaYOk/5T0ehUaJO6R9E5JUyX9jaSO5P6xkpaZ2YXDNU8AAAAAAAAAAAAAAFD/Mt2Sw8xaJF2q3GoRp+TvTi5fknSzpBvcfWXRaf8h6T/M7G3J4xMlfVzSD7KcKwAAQJacveIAAACAl1EfAwAAAAXUx5WTScOEmf2Rck0Slyi3vYZUaJT4laR/l/T/3H1vqTHc/Ydm9jlJn5Z0fBbzBAAAAAAAAAAAAAAAI1OqDRNm9mFJV0pamL8rueyUdKtyq0k8FRjyd8nlpHRmCAAAUAEmKasOYbafAwAAQK2hPgYAAAAKsqyP8+OjpLRXmPiCJFfhbX9YudUkvunuu8sY70BaEwMAAAAAAAAAAAAAAMjLYkuOXZK+rtxqEo8Ncaz7JM0f+pQAAAAqyeSWVRsv7cEAAACoNdTHAAAAQEGW9XFufJSWdsPE+yTd7u7daQzm7nskvZDGWBgeHcseCeXbly7OaCZA7eDPAQAA/dv+zJpQftIxs0N5a4h903jEm08P5e++6huh/KIrFoTyXffeF8rPW3JMKC9Jo8Y2hvIrv/rdUH5f975Q/ri/OCuUn/vHp4Tyo8aNC+X3bNoSyjeMiX0rvvnxP4TyB/fFFmtsmtwayu/d2RPKj5s2JZSXpLOuvziUX3vnw6F8Y0vsMwYAoJoc2LM/lB/dFKsNxs+I7ZAdzUd/hnzKB04O5ffu2BXKe6+H8uXYuWZrKH9gb3Utvj1lUaxeHDuhKZSP1q8t08eH8vu694TyXRt2hPLjJsfms/ah50N5Kf4z5G0rN4byE2fHa3YAqBepNky4+w1pjgcAAFAvPMs96AAAAIAaQ30MAAAAFFAfV06q77yZ3Z0crw+e99rkvLvSnA8AAAAAAAAAAAAAAEBf0t6S4yxJLqkteN6UonMBAADqT6Z70AEAAAA1hvoYAAAAKKA+rhjW9gAAAAAAAAAAAAAAACNO2itMlGtscrmvorMAAADIgMsy24PORecxAAAAagv1MQAAAFCQZX2cHx+lVcsKEycll9sqOgsAAAAAAAAAAAAAADAilL3ChJnNkTSvxMMnmNmOgYaQNF7SqZI+IcklPV7ufAAAAKoZXbwAAABAAfUxAAAAUEB9XDlD2ZLjPZL+Zx/3m6RPBccy5Rombh7CfAAAAKqTKbsl1aijAQAAUGuojwEAAICCLOvjZHyUNpSGCan02xt92/dL+ry7/98hzgcAAAAAAAAAAAAAAGBAQ2mYuLeP+65RbqWI/ytpxQDn90rqlrRK0v3u/tIQ5gIAAFDdjDZeAAAA4GXUxwAAAEAB9XHFlN0w4e73Sbqv+D4zuya5+g13/+FQJgYAAAAAAAAAAAAAAJCVoW7JcahPJpcDrS6BEno29ahj2SODzrcvXZzhbOKqbT4AAFQHkyurPejoPEb9W/6fvw/l3/jFY0P5g9v3hfL7tsQWx4vWyM2HHxbK79/ZHcq/9My6UF6SbNSoUL7tuJmh/K7NnaH83s2xz2Ddg7FvUQ9ffFQov2vDtlC+7dTjQ/k55y8J5XeviX3Ge7fF3v/RTY2h/O7NsfdHktY/9Ewof9TFZ4Xy6+58KJQHkDbqY2Aofn/7ylC+/UPtGc2kPOGfIfd6KL6/Z28oP6ox7f8mebUJc9pC+QPB1yCtDeZjdu+Izafz+V2h/KJ3HR7Ke/BrYm/XnlB+/GGtoXzn2h2h/JhxY0J5Sdq7I/aeTjlmRigf/5oDkK4s6+Pc+Cgt1UrA3T85cAoAAAAAAAAAAAAAAKCysm+dBAAAgJw96AAAAICXUR8DAAAABdTHlZPl2h4AAAAAAAAAAAAAAABVqawVJszs+eSqu/tRfdxfrleMBwAAUA9ckls2faqxXTsBAACAyqM+BgAAAAqyrI/z46O0crfkmJdcHvr+zkvuK3fNED4vAAAAAAAAAAAAAACQuXIbJtao7+aGUvcDAACMYCYvu5904LEBAACA2kJ9DAAAABRkWR/nxkdpZTVMuPu8yP0AAAAAAAAAAAAAAADVpNwVJgAAABCQ5R50AAAAQK2hPgYAAAAKqI8rh3ceAAAAAAAAAAAAAACMOKmuMGFmi9z9qTTHBAAAqHkmuWW0TxzbzwEAAKDWUB8DAAAABVnWx8n4KC3tFSaeNLMOM/uwmU1PeWwAAAAAAAAAAAAAAIBUpLrCROLk5Picmd0l6RZJ33f3ngyeq+40T29W+2WLKz0NAACQMqeNFyjb6z/5plB+58oXQvkJR80O5df/6slQfueGnaH8sX92WCi/6fFVoXzL9AmhvCRZQ+zvsHEzpoXyk047JZTv7e4O5SfPfymUbxg1KpQfNzX2nnavWhvKb10Ryx/efnQoP2b8uFB+f8/eUL4chy2M/bnc8cSKUL7txCNDef0qFgcwMOpjoHzHvTP471iwlota88DKUH7mqXNC+dHNY0P55360OpSff+4RobwkjZ3QHMr3bI19T9Ayc0ooP/nEllB++5Oxerp75Z5Qvmn6mFB+xwtbQ/mNj28O5Y8+N1Yf7+/ZF8vv3h/KT547OZSXpO5NnaF8w+jY9zQAKo/6uHLSbpj4vqQ/lTRW0ihJf5IcPWb2XUm3SbrT3T3l5wUAAKhaLpNb2gt7FcYGAAAAagn1MQAAAFCQZX2cHx+lpfrOu/tFkmZI+ltJ9yd3m6Txkt4t6aeS1prZ58zsNWk+NwAAAAAAAAAAAAAAwGCl3qri7p3ufpO7v1HSfElXS3paucYJk3S4pI9IetTMnjCzj5vZrLTnAQAAUE1clskBAAAA1CLqYwAAAKAgq/qYGnlg2a3tIcnd17j7P7v7CZLaJS2TtEGF5olFkj4j6QUzu9PMrshyPgAAABg8M2s1s2vN7Ekz6zazTjN72Mw+amaNKYw/w8w+ZWYdZrbNzHab2Qtm9lMz+//MLLbpKQAAAJAh6mMAAACgoF7q49FpDDIY7v6YpMfM7OOSzpF0maQ/k9SiXPPE2ZLeJOnm4ZoTAADAcMlyD7osmNlcSfdKmpfc1SNprKTFyXGpmZ3j7tvLHP+dkm6UNCG5a4+kfZLmJMe5kv5d0o7yXgEAAACqGfXxq8anPgYAABjBqI9fNf6w1cfD/s67e6+7/8LdL5c0XdInlHtxAAAAqAJmNlrSj5QrdjdI+hN3Hy+pWdK7JHVJOkXSbWWOf4mkrytX7N4oaZG7j3P3icl9Zyq3Mtn+ob0SAAAAYOiojwEAAICCequPh22FiWJm1iLpYknvlnSWKtC4AQAAMHyy3Csuk3GvkHRicv1id39QyjW+SvqWmTUoV7Cel3QJ3zXYgc3scEk3KFf/fdTdv1D8uLt3Sbo/OQAAAFCXqI/zqI8BAACQbX2cGz9ldVUfD1ujgpmNMrO3mtk3JG2U9DXltuEYpdyntEtldpkAAAAgVVckl/fki91DfFPSquT65cGxPyhpsqTHlOsCBgAAAKod9TEAAABQUFf1ceYrTJjZacqtJPHnktrydyeXByXdJelWSd9z956s5wMAAFAJtbIHnZk1S3pDcvOOvjLu7mb2U0nvk/Tm4FPkC+Tb3N3LmyUAAABqHfXxy6iPAQAAQH1cMOz1cSbvvJkdZWbXmNmzkn4t6f2SDlOuUcIkPS7po5KOcPe3uPvtaTdLmNlUM3uPmd1mZk+b2S4z22tma83s+2b29kGM0Wpm15rZk2bWbWadZvawmX3UzBrTnC8AAECVOF6FGnF5P7n8YzPMbMpgBjaz+ZJmJjc7zOxEM/u6mW0oqtO+ZWZv6G8cAAAAYBhRHwMAAAAFdVcfp7rChJl9QLnVJF5XfHdyuVbS7ZJudfen03zeEjbqla9vj6T9kmYlx4Vmdoekd/TVrGFmcyXdK2leclePpLGSFifHpcmeK9uzegEAAKA+uJTZHnRJi+0CM+sYMOvePoghZxZdX9dPrvixmZK2DWLsY4uuv0HSNZIaJe1WrlabpdyqZJeY2TXu/qlBjAkAAIAaQ338MupjAAAAZFof58dXejVy3dXHaW/J8SXl3vP8J9ol6f9Juk3SvcO8rNxoSb+V9H8k/czdn5ckM5sn6WpJV0r6U0k3SLqs+EQzGy3pR8o1S2yQdLm732lmDZIukXSTpFOUe11vzfyV4GUdyx7J/Dnaly7OdPzoaxhp8wEAVFxr0fX+VgArfqy1ZOqVJhdd/5SkNZKuknS3u/ea2UJJ10s6S9I/mdlT7v7dQY6NOrZ7c6xHedIJx4Ty+7d3hvKTj5oRyje3DfaPSE7vvv2h/Kofrw3ly3H61UtC+Q0PPhV8hlh+/LSJofzOdbGvod/d8GQof+bnzgvl9wa/5qafPD+U3/jY86H8EWcsCuU7X9gcyndt2BHKS9KBvQdD+SPPe20o3/nsC6E8gBGN+hhVxxqqa8nuOWfE6u+sHezpDeWf+96a8HO0L50Wyje2NIXyw/Fz8CzNO3tuKG8Nsf8kXHjxiaH8k7f9LpSf/8dzQvmoLSu2hM9pmjQ2lB/dNCaUt9GjQnkAI1rd1cdpN0xI0kFJP1OumeAH7r4ng+cYjLPd/Z5D73T31ZLea2YHJP2tpHeb2T+4+4tFsSsk5f/FvdjdH0zO7ZX0raRx4uuSzktWmbgryxcCAABqn1t2HcKSVgzyt+MqrfineqZcnfVo/g53f9rMLpC0UtIM5TqI+YEwAABAHaI+lkR9DAAAgETG9bFUGzVyRerjtFtRPyRplrtf4O7fqmCzhPpqljjEV4uuH/or81ckl/fkmyUO8U1Jq5Lrl5cxPQAAgGrVVXS9uZ9c8WNdJVOlx76ruNjNc/du5bqEJekkM5s+yLEBAACALFAfAwAAAAV1Vx+n2jDh7l9y9/haQpVR3Mzx8lpDZtas3J4oknRHXycmW4v8NLn55kxmBwAA6ojJPZtD6e9tt77o+qx+csWPrS+ZeqXifet+30/u6aLrsXU8AQAAUAOojxPUxwAAAFCW9XEGNXLd1cfVtdnZ8Dqr6HrxBrXHq/C+LO/n/PxjM8xsSorzAgAAqKTfS8pv+HpCP7n8Yxvdfdsgx35aue3bBlJcwfsgxwYAAACyQH0MAAAAFNRdfTwiGybMbJKk/5HcvN/dnyl6eGbR9eIulkMVPzazZKrwnB0DHZIWDPpFAACAmuJqyORIfZ7uPZJ+ldx8S18ZMzNJ5yY3fx4Ye4+kXyY3j+8nujB/iqTVgx0fAAAAtYP6mPoYAAAABVnVx2nXyPVYH48u5yQz+1p+Eu5+ZR/3l+sV42XBzBok3SrpcOW25fi7QyKtRdd7+hmq+LHWkikAAIDac7OkJZLeZGanuftDhzx+iaQjk+u3BMf+T0lvknSOmZ166D50ZtYi6f3JzYdqaLs3AAAA1C/qYwAAAKCgrurjshomJP2VCstbXFni/nJl2jAh6V8knZ9c/4C7P5Hx80mS3L19oEyyysSpwzAdAAAwzDz9vZSzdLOkD0k6UdJ3zOwKd78raTy9WNJNSe4Od7+r+EQzu1bSNcnN+e6++pCxb1euYfV1ydjvlXSPu/ea2fGSrpc0Q7ll3f4x9VcGAACAqkB9/DLqYwAAAFAfFwx7fVxuw4SU2xukr+aIoXyame7BZ2afV2FFiaXu3teKGF1F15v7Ga74sa6SKQAAMOK5sit4syie3P2Amb1N0j2S5km608x6lNvOrSmJPSbp0jLG7jWzCyXdpdzSaXdK6jGz/ZImJrH9yjW23j2kFwIAAICqRH38irGpjwEAAEa4LOvj/Pipjldn9XG5DRPzg/dXnJl9VtJHk5sfc/cvloiuL7o+S1KpFShmlTgHAACg5rn7ajM7SdLHJF2kXJ23X9JTkr4h6Uvuvq/MsTea2anKNbK+U9KxksYpt9/c3ZKWufvyIb8IAAAAICXUxwAAAEBBPdXHZTVMuPsLkfsrzcw+p9yHJUmfcPfr+on/XrklPBoknSDpjhK5E5LLje6+LZWJAgCAOmUZdghn2Hns3qXc8mjXDJQtOudaSdcOIrdX0nXJAQAAgBGF+riPHPUxAADAiJVlfZwbPwv1Uh83ZP0ElZZsw1HcLPG5/vLu3iPpV8nNt5QY0ySdm9z8eRrzBAAAAAAAAAAAAAAAw6fcLTn6ZGZnJleXR1ZdMLNJkk6SJHf/ZYrz+bxeuQ3HYDtQbpa0RNKbzOw0d3/okMcvkXRkcv2Woc8UAADUu2w7hAEAAIDaQn0MAAAAFFAfV06qDROS7pXkkt4u6YeB805TbuuL3rTmZGafVaFZ4iPuvixw+s2SPiTpREnfMbMr3P0uM2uQdLGkm5LcHe5+VxrzrVYdyx4J5duXLs5oJuWNH53/cMj6PYqqtvkAAAAcyhpi3zD6/v2h/N5tnaH8cz97KpSff9Yxofz636wI5eedNzOUX/2T9aG8JDUdPi2Ub960PZSftGBeKK/e3lB86mmvCeVbpj8aynev2RDKjx43NrY9ZGYAACAASURBVJSPmvX6haF89M/AxPnTQ/kJBw6G8pLUuuSMUP7gmlWhfPTvFQAAqsnopjGxE3o9lg/+O7nie0+G8nOXzA3lPTj/aadPDuU3/yZWu5Zjf09sC/eFlx0byq/rWBfKN46P/TdM78HYZ7CnsyeUHzd5fCjfs3VnKD/pmNZQftfWXaH8lPlTQ/nd22PjS1Lb8bPC50Ts796T6fgAUM3SbpgYqlR+YmFmcyR9PLnZK+nvzezv+znl8+7++fwNdz9gZm+TdI+keZLuNLMe5bYwaUpij0m6NI35AgCA+ufOf8wAAAAAedTHAAAAQAH1ceVUS8NE/isg2OpaUsMh1wf69ZeWQ+9w99VmdpKkj0m6SNJ8SfslPSXpG5K+5O6xtlAAAAAAAAAAAAAAAFAVqqVhoi25jK9D1Ad3X60UVqtw9y5J1yQHAABA2diDDgAAACigPgYAAAAKqI8rp2HgSLbMbKykK5Kbqys4FQAAAAAAAAAAAAAAMEKUvcKEmV2hQqPDoT5tZh8eaAhJ4yUtSC5d0l3lzgcAAKBaubLrEE5rPzMAAABguFAfAwAAAAVZ1sf58VHaULbkmCfpLL36PTZJiwLj5D/9zZI+P4T5AAAAAAAAAAAAAAAADMpQGiby+mp3GUwLjEvqlrRKuZUlrnP39SnMBwAAoMpYhh3C7G0HAACAWkN9DAAAABRkWR/nxkdpZTdMuPsnJX2y+D4z61WuEeLt7v7DIc4NAAAAAAAAAAAAAAAgE2msMHEoWlQAAAAO4U6JBAAAAORRHwMAAAAF1MeVk2rDhLs3pDkeAAAAAAAAAAAAAABAFrJYYQIAAACH6GURLgAAAOBl1McAAABAAfVx5aTaMGFmoyT9pXLbcjzi7k8P4pyFkhZL6nX329KcD4aufeniSk9hSGp9/gAAAJCsIbaQ3fan/hDKTzx6digfZaNHhfL7du0L5acc2RbKn/WvrwvlJWnjA78L5ZvbWkP5F+95PJQfN7k5lG876ehQfvKCeaF895oNoXznC5tD+ejXxMTZU0L5LSs2hvJzzlgQyjfNnhnKS1LvhrWh/P7tnaH8qMYxoTwAANWkIVhfqiHb/4BpWxCrPca1TQjl93fvCeVbp7eE8rOXHhXKl2P8tImxE4KfWefTz4by445oDOXHjI/9V1K0fh09Njb+7h2xrwkLvp89W3tC+cMWHB7Kj2qsvt9lHtPSVOkpAEDFpP238lsl3SypV9Jgf4KyV9LXJJmZbXH3n6U8JwAAgIpySZ5Rh7BnMioAAACQHepjAAAAoCDL+jg/PkpLu2HiwuTy1+7+3GBOcPc/mNkDks6UdJEkGiYAAEDdcWdJNQAAACCP+hgAAAAooD6unNjatgN7nXJNKncHz8vnT0t3OgAAAAAAAAAAAAAAAK+W9goTc5PLlcHz8psMz0tvKgAAANXCMlxSjc5jAAAA1BrqYwAAAKAgy/o4Nz5KS3uFibHJ5d7gefuSy+YU5wIAAAAAAAAAAAAAANCntFeY2CZpmqSZwfPy+c50pwMAAFAFPMM96DybYQEAAIDMUB8DAAAABVnWx8n4KC3tFSaeSy7fEjzv3P+fvfuOk6uq+zj+ObubzWZreq+ENBIMEJoCUiJSpDwiVuwFH8UuVlRQwcJjwYIVUbCiiCJVJBSpAgGkJYSEQEI66WU3bc/zx8zuTJKd3Z3dubuZzef9et3X3Jk599yzMwl8c/d3z0k/LizgWCRJkiRJkiRJkiRJklpU6BkmbgeOAk4KIRwTY7ynrQNCCMeSKrCIwG0FHo8kSdJeIdk16CRJkqTiYj6WJEmSMszH3afQM0z8AmhI7/8thDCztcYhhNcAf00/3Qb8vMDjkSRJkiRJkiRJkiRJ2kNBZ5iIMS4LIXwN+AbQD7gthHAX8A9gDrAJqAamAGcAxwGB1OwSF8cYFxdyPJIkSXuDSHJr0Ln8nCRJkoqN+ViSJEnKSDIfN/Wv3Aq9JAcxxm+FEEYA56VfOi69taTpm/9xjPGSQo9FkiRJkiRJkiRJkiSpJQUvmACIMX40hHAP8FVgUitN5wJfiTFem8Q4pH3R7O8/klf7GZ88NKGRdI197eeVVLwau3sAUhHre+gr8mq/5OZ78mq/s2FrXu0bd+ZXl//Sf57Pq/2A8QPzar/0sZfyal83fmRe7QFKyvJbzbFq1NC82tdOHJdX+21r1ubV/oV/PZpX+/Kq8rzaDzlkQl7te/evy6t9SVlpXu3v+/KsvNpPevN+ebVf/8LyvNo/P+upvNoDDJk6PK/2Ff2q82pfNXJIXu2Zl19zSW0zH0sd16u6Iq/2W9dtzqt9775VebXfXr89r/aN23bk1T7fn3fT00vzat83vygEwPZNDW03ypLvz5C0+pe25dW+ZGx+dz3v3J7ff+Xr1+X3efYd3T+v9k9fNTev9v2n1+TVfs2CFXm174iKPP9eUpLcneqSkmE+7j6JFEwAxBj/HEL4CzADOBoYCdQCG4CXgHtijLOTOr8kSZIkSZIkSZIkSVIuiRVMAMQYI/BIepMkSdpnJbkGnSRJklRszMeSJElShvm4++Q3r6okSZIkSZIkSZIkSVIPkOgME01CCL2BfkB5jHFRV5xTkiRp7xGIJFUhbOWxJEmSio35WJIkScpIMh+n+lduiRVMhBCmAB8HXguMSb8cdz9nCOHNwHhgeYzxyqTGI0mSJEmSJEmSJEmS1CSRgokQwleAL5Na8qOtkpUK4GJgRwjhphjjiiTGJEmS1F0iya1BFxPpVZIkSUqO+ViSJEnKSDIfN/Wv3EoK3WEI4avAhUAp0Ag8ANzbyiHXAJvT7c8s9HgkSZL2BjE9rVqhN0mSJKkYmY8lSZKkjKTysRm5bQUtmAghTAMuSD99HDggxngU8N1cx8QYG4BZ6afHFXI8kiRJkiRJkiRJkiRJLSn0khwfJlWEsQY4Kca4qp3HPQKcARxY4PFIkiTtFRqd90ySJElqZj6WJEmSMszH3afQS3IcT2oZlN/kUSwBsCj9OLLA45EkSZIkSZIkSZIkSdpDoWeYGJF+nJ3ncZvSj1UFHIskSdJew7XiJEmSpAzzsSRJkpRhPu4+hS6YKE0/7szzuLr048YCjqUoPd8wiLPnntvdw1AxOyXPPz9zkxlGl9nXfl5JkvZBr/nDK/M8Is/29+fZ/Zg353lAnl7Os/2QPNvfk2f7jrizC86Rj9K2m+yiIc/2+f4ZStopef4Z3ZDMMJrVtd1kDy8l3F6SpCKW+PXj5Xm2r8yz/fN5ts9XvtmjJ1wvzPcaabFbmWf7UxIZRdea190DkKSeq9AFEyuAMektH9PTj0sKOxxJkqTuFyPEmEyFcHRtO0mSJBUZ87EkSZKUkWQ+bupfuZUUuL+HgACc1t4DQgi9gDcCEbi3wOORJEmSJEmSJEmSJEnaQ6ELJv6afjw6hHBWO4/5NjAsvf/HAo9HkiRpr5CqEi78JkmSJBUj87EkSZKUkVQ+NiO3rdAFE9cC/yU1y8TvQggfDiGUt9QwhLBfCOF3wMdJzS4xK8bYFavpSpIkSZIkSZIkSZKkfVxZITuLMcYQwtnAg8AA4EfAJcCypjYhhDuBkcB+TS8BLwHvKORYJEmS9h6BRpJagy65te0kSZKkZJiPJUmSpIwk83Gqf+VW6BkmiDEuAI4EHiP16dcBk0jNIgHwalLFEiG9PQy8Ksa4otBjkSRJkiRJkiRJkiRJaklBZ5hoEmNcEEI4FPgfUjNHHENqxokmm4B/A1cB18bo6imSJKlni9EqXkl7t/e+dQzve9tYAD7yhcd57Kn13TugLNdecQTDhlSwbEUDZ7//P909HElSAZiPJe3tzMeSpK5kPu4+iRRMQGp5DuBv6Y0QQhWp2SY2xRg3JHVeSZIkSRrYv5zjjhrEoa/oy9jRldTV9qJP71I2bdnBqpe3Mue5jTw4ew33P7KGHTus3+5qp84cwtDBFQBc+ccXu3k0PdfUSbWccdJQDp7WlwH9y9m2rZGlKxr49wMv8/dbl7J+w45EznvglFpOfPVgDj6wLwP7l9O7vIS167ez4uWt/Pep9TwwezVPPJP7ssCo4X2YPKGGSeOrmbR/6rGqMnX54uZZy7nksmcTGbckST2Z+XjvZj7uGsWaj5sccUg/XveaoUydVEu/vuVs2bKDxUvruev+VVx/6zIatjYmMn5J6ukSK5jYXYxxM7C5q84XQhgAnAHMBA4BxpD6eVcBjwBXxRj/luPYdwO/bsdpTowx3l6QAUuSpB4rAknNp+VlLGlXVZWlnPv2cZx+0jB6l++5AmG/unL61ZUzcXwNZ548nLXrtvGbPy/ibzcvZedO/0Z1lVNmDuWQA/sCXhBOykffN543nTGCkpLMHSoVvUuprenF5P1reMNpI7joO3N49Il1BTtnXW0Z539oIiccPWiP94YOLmXo4AqmH1DHKw/tz7s/PrvFPj7y3v146+tHFWxMkvZO5mOp65iPi4P5OHnFmo8BepUFLvjEZE48dvAur/cuL6df33JecUAdZ506gi9+82kWvNBlv4aTVEBJ5uOm/pVblxVMdIPl7PrzNQDbgRHp7cwQwi3A2THGLTn6aCRVYJHL1kIMVJIkSVLnjRhWwaVfnsbYUVXNrz397AYefnwty1c2sGnzDupqejFiWB+OOKQf48dW069vOZ88d38WLNy0V02xq105zXB+/vdd43jL/4wEYEv9Tm781zLmzNtInz6lHPeqgRx+cH8G9Cvn2xdM5cOff5znFnb+omq/vr344cXT2W9M6u/fwkWbuefB1SxeuoUt9Tupq+3FfqOrOHJG/1b7KS3ZdQrSzVt2sPLlrYwbXZXjCEmSlIv5uOcyH+enmPMxwJc+OZnXvDpVLLFuw3b+cesyFry4ib61vXjtcUOYOqmWkcP78L2LDuQD5z/Gypf91ZUk5aMnF0yUAQ8BvwH+GWN8HiCEMBb4EvA+4BTg58A7cvSxOMY4NuFxSpKkfUDENeikJNXWlPHDi6c3T2P73MJN/N/lz/H0sy1Pa3r5r2HKhBo++I5xHHZwv64cqpSoCftVc85ZqRkaNm7awXlfeHyXu8yuv3VZ83rclZVlfPYjE/nApx/r9Hm//rkD2G9MFTt2Rn74y/lcd/PSnHfHDB7YO2c/Cxdv4U9/f4m58zfy7PyNLFpSz8HT6vjxNw/q9Bgl7V3Mx1KyzMdSSrHn46OPGNBcLLF8ZQMf/vzjrFiVKYj4601L+fxHJ3LaicMYOKA3H33feL787Wc6PX5JXc983H0SK5gIIRwKnAQcAPQDKtpxWIwxzizQEE6IMd7ZwgleAN4fQtgBfBB4ewjhizHGxQU6ryRJkqQu9qVPTm6+GPzknPV86sIn2VK/s9Vj5jy3kU985QnefOYIdjjdsHqI97xlTPM0wz//7cIWp+S98o8vcuSM/kydVMsBE2t55aH9eeCRNR0+5/+cPIyDp6WmkL78ygX89aalrbZv7Y63f/xzWYfHIUmSMszHUkqx5+P3vXVM8/53fvLcLsUSkJrC/7s/m8+h0/sxdHAFJxw9iCv/WMnCRbkmVpck7a7gBRMhhNHA1cAx+R5KAZdQaalYYje/IlUwAXAoYMGEJElKTKPXmqTETJ1Uy1GHDQBS0/df+H9z2rwYnO2a65e0+v4BE2s47cShHDytLwP7lxNKAmvWbuOJZ9Zz8x0r2lzj9r4bjgXg0SfX8dEv/peaqjL+55RhHPuqgQwb0oe+tb24edZyLrns2Q61b1JWFjj5+CEcc8QAJuxXTd+6crZta2TFqgYefnwt1964hOUrOzc1a3l5CUce0o9DD+rH5P1rGDmsD1WVpTRsbWTV6q08/tR6/n7LUubnWDf3R9+Y3rw28+6fT7Zf/eGFXdZuvvaKIxg2pIJlKxranH748IP7cdLxQzhwSi0D+pXTuDOyas02HntyHf/45zKeXbAp57FDB/fmr786EqD5M66rLeMNrxvBca8ayLD0Lx0WL6vnzntX8ecblrB1a2Or4+lKlX1Km6f03bR5BzfPWp6z7bU3LmHqpFoAZh4zqFMXhN/y+tT0xi8trecvN7T+90mSmpiPpeSYj1PMxynm4+LNxyOH9WHi+BoAFi3ZwgOzWx7Ttm2N/OOfyzj3HeMAmHnMYK74/QsdPq+k7mE+7j4FLZgIIfQF7gZGw14/b0hD1n5pt41CkiT1fBFiTCgaGaQl3nzmiOb9m25fvscdNx1VWgKf/tAEzjx5+B7vjRjWhxHD+nDKzKHMumclF1/2LNu2tX1hcOL4ar55wVSGDmrPBHztbz95/2q+9rkDGDG0zy6v9y4voaa6mv3HVfOG00Zw2S/mc/2tHb+D//c/OZThQ/rs8Xp1WQnVVWWMG13F608dztV/XsTPf7uww+fpiD4VJVx0/hSOPmLgHu+NqSxjzMhKzjhpGNfeuIQfXrEg53S42SbvX803L5i2xxS5k8bXMGl8DSccPYiPfekJNm7a0amxN13wBvjIFx7v8HrhB02ro3d5CQCPP72+1YvVDz26tnn/yEPaXjc5l+lT6xg1vBKAf/17Zbs+V0kyH0vJMh+bj8F8DMWfj484JLM8Tvb4WvKfR9c0F0wccUg/CyakYpNkPk73r9wKPcPEZ4ExpD72hcA3gDuAJTHGbQU+V2cdl7X/ZI42g0IIs4FJpIoqlgH3A1fEGO9KdHSSJEmS2mXG9MxFpH/euaJg/X75U1M48djUWrFbt+7kljtW8OScDTQ2RiZPSN1VV1VZxsxjBlNVWcanL8r1z4qUupoyvnXBVIYMquD+h1dz/yNrWL9hO4MGlLd4Ea297adOquUHF7+CPhWlNDZG/vPYWh5+bA2rVm+jd3kJ0ybXctLxQ+hTUcpnz5vI9u2N3DyrY59T7/JS1m/YzsOPr2Xe85tYtXorO3dEBg7ozaTx1Zxw9CB69SrhnW8azdr12/jzP3a9m+qXv1tIXW0vzn37OPYbUwXA5y95ao/zvPhSftPHlpTAdy96BdOn1gGwYdN2bvrXcuYt2ERpaeAVB9Rx8glDKO9VwpvOGEnv8hIuvfy5VvscPLA3//eVA6mtKeOfd67g0SfXUV+/k7GjKznrdSPoW9uLieNr+PgHxnPx959tta+u0vSZAjw7f2Orbddt2M6yFQ0MG1JBv77l9K3rxbr12/M+50HpzxzgmXkbCAFOOWEIp75mKONGV9GnopS167bx5JwN3DxrOQ891vqFXkmS1HnmY/Ox+Til2PPxLuNf0Pr4n3t+Ezt2RspKA2NHVbXaVpK0q0IXTJyRflwEHBZj7PicRQlKz4TxhfTTe2KMuf7vXQkcAqwFqoBx6e2cEMKvgXNjjJ0rlZQkST1ehMTuuLU4WPu6MSMr6VvbC4CGrTt57vnc08nmY+bRg5ovBq9eu42PXfBfXlicuUh5290rueb6l/jRN6YzYmgfjpzRn7NOHc51N+dem3b82Gp27Ix86VtPc+d9L7c5hva0r+xTytc+N4U+FaVs2LSdL1zyNI/vdvfVLXes4A9/W8wPL57O0MEVfPKDE7jv4dWs35D/P2UuuWwujzy+lp05bsz6+W8X8r2vHsjYUVW8/5yx3Piv5btM//zEMxsAeNMZI5tfu+fB1XmPY3dvff2o5ovBL760hY9d8F9eXpOp2b/ljhVcd/NSfvD1V1BX24szTx7OPf9Z3eo0u4dO78eGTdv50Oce55l5u16cvHnWCq687BBqq3tx4rFD+NlVC3c5X3cZNTxzd+PylQ2ttEy3WdXQfOfe6BF9OnRBePKEmub9+vqdXP7Ng5q/iyZDB1cwdHAFJx47mDvuXcXFl83dq6ZqltT1zMdScszH5mMwHzcp9nycPf5lK1of/85GeHn1VoYOrqCyTymDBpSzanX3fweS2ifJfNzUv3IrKXB/Y0l95j/di4slSoDfAsNILcvxkRaaLQW+CkwHKmKM/UkVTxwF3J5u8x7g+3mcd3ZbGzC54z+ZJEmStO8ZNKC8eX/5yoacFyrzdc7Zo5r3v/GDZ3e5GNxkxaqtXHjpHBrTi0y+7axRlLTxL6xrb1jSrovB7W1/+muHNU9HfPH3nt3jYnCTJcsauOQHqTrxyj6lnHnSntMot8d/Hs19MRhSn8l3fzofgKrKMo4+YkCHzpOPsrLAm89MXWDesaORL33rmRYvzj73/CYuvXxe8/N3vHF0m31f9ov5e1wMhtTFyutuSl38LysNzJjed4823aGmKnNPxLoNbV/c3ZDVprqqY/dTDOib+Tv42fMmMn1qHRs2becP1y3mou/M4eLvz+WG25axfXvqD84JRw/iq+dP6dC5JElS28zH5mPzcUax5+Pq6vzGv35j58cvSfuiQhdMNP1f9/kC91tIPwBOS++fF2N8YvcGMcbbYowXxRifiDFuTb+2M8Z4P3AScH266YdDCBO6ZNSSJKmoNRIS2aR9XV1Nr+b9TZt3ttKy/YYO7s2k8am7guYv3MSDs3PXgs95biOzn1gHwLAhFc3H5XLtjUtafT/f9icfn7rLb9FLW7jv4dbvRHv0iXWsWp1av/qwg/u12rYznpyTuSg9dWJtYudpcuDkWgb0S12UfHD2Gp5/cXPOtnfd/zKLl6Yu7k8/oI6+db1ytl27bhv/untlzvebvneAcZ2c8vbs9/+Ho06/m6NOv7vD6zMD9OlT2rzfnjXDt2a1qcw6Nh/ZF3FHj6xk8dItvPMjj3D5r5/nX3ev5JY7VvCtH83jQ597nE2bU3dtHnPkQGYePahD55PUc5iPpWSYj83H5uOMYs/HfSqyxr+9HePfmj1+CyakYpNUPjYjt63Q/8VcQGoJi/4F7rcgQgjfITOjxCdjjFfm20eMsTGEcD5wJqmCk9OB77XjuBntGN9sUp+fJEmSpG5yQNZFzIcez72ebHObx9Zy2EGpC6xTJ9Uw57mW15Zd+fLWNqdRzad9VWUp48dWA7Bm3TaOObLtu9Xq09P/jh1Z2e5x7K5vXS9OOWEIhx/cj7GjqqipLtvlQl62QQN7d/g87TUl+/tqZf3fJg8/vpZRw1M//9SJtTkvpM+dv5HGVq5Jvpy+uA5QU73vXowMu113ueSyZ1uc+nfOcxv5xW8X8qn/Td1z8MYzRjDr3lVdMURJktRJ5uPWmY9TzMcp5mNJKj6F/r/WNcAMUrMw/KLAfXdKCOFS4NPpp+fHGC/raF8xxvkhhJeBgcB+hRifJEnq2ZJcg07al+065WjH7gDaXdPdWACLl9S32b7pjqzUsbkvgK7KuoDYHm21HzywN6WlqatxB03ry0HT2j/tbUcvYM48ehCfOW9iu4+vqizMd9Kagf2zvq+l7fi+sr7TAVnH7q6tKW+z7/AqLy/05I0dU5+1HnZ7xtQ7q032Wtr5yD5u4aLNPDlnQ862N92+nI++bzy9epUwZWItfSpKqG8o0DzhkoqO+VhKhvnYfGw+zij2fFzfkDX+Xu0Yf+/s8e/Id+iSupn5uPsUumDiJ8B7gDNDCKfEGG8pcP8dEkL4P+D89NPPxhi/253jkSRJklQY2WvxDh1cQWkJnV6nOXvq1YaGti+SZV+Ea23a1q3tmAI2n/adWZO2Vzsutu1u+tQ6Ljx/SvNF6LnzN/LI42tZsryBzZt3sG1HZrzfumAaACUlyU/7mP2Z17fn+2po3/dVjBcqNm7OXBTtW5t7OuUmtbXZU3Z37IJq9nFz57d892iThq2NLFqyhfFjqykrDQwdXMHCRXuufy5JkjrOfNwx5uM9j92d+bh9CpmPN23Kb/y7LsljwYQktVdBCyZijFtCCKcBNwHXhRC+DlweY+z4IlOdlF6Go2lmic/GGP+vAH2OJzW7BMDCzvYnSZJ6ukCMSV0UcQ067dteWLyF9Ru2U1fbi4repUzYr5q58zd1qs/sO4Iqckylmy17XdyO3oXUEdkXom+ZtZyLL3s20fO9761jmi8Gf+tHz3LDbctbbFfRu2vvJsv+zHNNfZwtu01Xfl9dIfsOwqGDK9psP3RQps2idtwt2pJFS7Zw6PTUlNub27FO+qYtmTad+aWGpGJnPpaSYj5OMR+nmI+LOx8vXlrPjHRfw4ZU8NhTuX/VVloCAwekZnTZUr+zxWVAJO3NkszHqf6VW0H/Tx1CuAP4FVAP9Aa+DqwKITwVQrgrhHBHG9usAo8nu1ji/PYUS4Sw+wpTLb7f1E8jcGOnBilJkiSpUx75b2Zd3pOOH9Lp/lavzVxYGjW8T5vtRw3LtHl5TX7TCnfGqqxzJb0WcllZYPrUOgDmPLch58VgaN+FyELKvoty5LC2v6+Rw7vn++oKz7+4uXl/0v41rbbtW9uLYUNS39XaddtYt771KZZzWbAwc86qdkz7XZ01DbV3vUmSlAzzsfm4ifm4uPPxLuMf3/r4J+yXmqUC4IXFm1ttK0naVaFLG48DjgUOApomaCoDpgDHpN/LtR2X3goihHApmWKJT+WxDMeYEMJDIYQPhhD2ayqgCCGUhBCOBG4BXp9u+/MYY7JlqpIkqehFoDEmsyU5I2YIoSaEcFEI4ckQwqYQwvoQwsMhhE+HEHIvbNqxc/0shBDT2wuF7Fs935//saR5/3WvGcqQQZ27OPrMvMwas4cd1K/N9ocf3D/r2NanXC2k9Rt2sHBR6kLY1Em1rU6f21l1Nb0oK0v983HJsoZW2x5xSNufWWws3H+95mR/Xwe3fe7s77Qrv6+u8NiT65qnqj5oal2r6zQfnvU9Pfjomg6f84HZmWMnt3ERuqJ3CaNHVAKwfXsjy1a0/mdJUs9lPm7XuczH6jDzsfm4ifm4uPPxfx7NFD8d3safoyMOyfy9yz5OUnFIMh8nmZF7Sj5OYi6osNvW0mstbYUbQAijgc+knzYCnwshLG9lO3+3Lg4DfgYsAOpDCKuALcADwEnpNr8GPlbIcUuSJO0tQghjgCeAC4FppPJab+BQ4DvAgyGEtq+8tO9cxwPnFqIv6d2SkwAAIABJREFU7ZuemruB+x9eDUBVZRlf/cyUvC6OvumMEUybXNv8fPnKrc1rzU7Yr7rVi8KT96/mkFf0BWDZigaeXdC1FxhvnrUCSE2j+46zRyd2noatmWliRwzLfYdcZZ9S3nTmyDb7y14nuU9F5/5Z+uTcDc13wr3q0P6MHVWZs+2xrxzYfEHyv0+v7/BdY3ur+oZGHnwk9XehuqqMU2fmvqP07NeNaN6fdc+qDp9zxaqtPDknNTXwuNFVHDilNmfb171maPP64E88s56GrZ1cUF2SupD5WMXEfGw+Nh+nFHs+fmlZffPfodEjKjlyRv89+gAo7xU446RhWeNf2eHxS1J79aR8XNCCiRhjSSe3QpV8luy2P6SNrTqr/Qrgo8AfgGeADUBfYDswF7gSODrG+N4Yo/OHSpKktkWICW1JlAeHEMqAG4CxwDLgxBhjFVAJvAXYCBwM/K4A56oEfgnsAB7pbH/ad1182VxWrErdjXPglDp+8u2DmDqp9bt5pkyo4ftfO5CPf2B/epXtWsP9+78ubt7/0icmMXrknlPZDhnUm69+5oDmdYv/cN1iGrv497/X3bSk+S6kt589ire9fiStLTJYVVnK2aeP4NDpffM6z+YtO1m0ZAsAUybU8uojB+zRpk9FCV//3AG7rPuby9KsO6cmtjG1bFt27Ihcc33qLsqyshIu/vwBDOi3500M48dW8ZnzJjQ//+21izp13kK69oojuO+GY7nvhmM5eFpdp/r69TWLaEzfofi/79yP8WOr9mjznreMYWr6lyDPzNvAA4+0fAfdqTOHNI/rR9+YnvOcv/jdC837F3xiEgP77/n5T55Qw7nvGNf8/A9/e6ldP4+kHsp83Nq5zMcqCPOx+RjMx1D8+fjKP77YvH/+hybsMWNMCPCp/53QvPTLHfeuYuGiLTnHJmkvlWA+TiIj97R8XJZEp90txvgCHZy1IsZYD/w4vUmSJO2L3gUcmN5/Q4zxAYAYYyNwTQihhFRx6akhhJkxxlmdONclwPj040hSFchS3tZv2MHHv/QEl355GqNHVjJhXDW/+M4hPD13Aw8/vpZlKxvYvGUHtTW9GDG0D0cc0o/9x1Xn7O+Oe1fx6iNXcuKxgxk4oDe/vmwGN89azlNzN9DYmJpa9bQTh1Jdlfon1X8eXcN1Ny/tqh+3WcPWRr5wyVP8+JsHUV1VxnnvHc+ZJw/nrvtX8cLiLdQ37KSyTykjhvZhysQaDj6wL+W9Svjqd+fkfa6/3riET34wdUH14s9P5ba7V/DEMxvYUr+D/cZUcerMoQwa0JtbZi3nlJlDW+1r9n/X8aYzUnfafeFjE7nm+iUsX9nQfCHzpWX1bU5tnO1Pf1/M0YcPYPrUOsaNruJ3lx/KjbcvZ96CTZSWBA48oJZTThhK7/QUvNffujTnRdBi99zzm/j9dYt5x9mjqaku42eXHsyNty3jmec20qeilONeNbB5ut4tW3Zw6Y/ndfqcjz6xjutuXsJZp45g1PBKfnv5odzwz+XMe34jZaUlHDStjpOPH9J899z1ty7lwdktf/7VVaW89fWjdnkte93vCftV84G3j93l/dlPrOPRJ9Z1+ueQpFaYj1V0zMfmY/NxSrHn43v/s5rb/72S17x6MMOGVHDlZTO4/talLHhhM3U1vTj5hCFMnZQq9nh59VZ+9KsFnR6/JLVDj8rHPbJgQpIkaW8TC7sCWdLelX68syns7uZPpALqOOCdQIcCbwjhSFJLnM0DLia1JJrUYYuX1vOB8x/lg+8cx2knDqO8VwlTJ9c23ynUkpfXbOU31yziiWfW7/He1783h/qGnZxx0jAqepdy1qkjOOvUEXu0u+PeVXz9+3ML+rPk47mFm/nApx/los9MYdL4GkYO78PbW5l+eOu2RtZvyH+q3WtvXMoBE2s56fghlJYGTjlhKKecsOuF338/+DKX/uS5Ni8I3//Iav779HqmT61j1PBKzv/QhF3e/9UfXtjlTqq2NDbCpy96gos+cwBHHz6A2ppevG23X7qn2kX+etMSfvDLnn0R8WdXLaS8VwlvPH1Ezmmg16zdxoXfmcNzCzcX5Jzf+9l8GnfCWa8bTm11L855w56fP8BfbniJH16R+/Ovrirj3W8ek/P9CeOqmbDbL3N27owWTEhFyHy8J/OxCs18bD42H6cUcz4GuPj7c4kRTjx2MH1re/GuN+2Zl19aWs8Xv/k0K1/eWpDxS+p65uM9dVU+tmBCkiRJzdJTnB2VfnpLS21ijDGEcCvwIeC1HTxPb1JLnQXg3BhjQ2htnlSpnTZt3sl3fzqfq/+8iOOPGsSM6f0YN6qSutpeVPQuYdOWnaxY1cCc5zbywMNreOCR1ezMMU3wzkb49o/nceO/lnH6a4dx0LQ6BvTrTUkJrF67jSfnbOCm25fvFb+oXbSknvd+4lGOPnwAx75qINMm1dK/XzkVFaVsqd/BipVbmb9wE7OfWMe9/1nNxs0dW13wa9+by/2PrOaM1w5jwvhqKnqXsnbdNp5buJl/3rmCO+5t31q/jY3wiS//lzeeMZJjjhjAmJGVVFaWUVba8f8O1Dc08rmvP8XhB/fjlBOGcOCUOvr37cXOxtSdVo8+tY5/3LqMZxds6vA5iskPr1jArHtWcebJwzhoah0D+5ezdXsjS5c3cM+DL/O3W5ayfkPhVpmMEb7/i/ncdvcKTjtxGAcfWMfA/qnpglet3srjT63nb7csZd4+8vlL6jnMxyp25mPzsfk4pZjz8fYdkYu+M4db7ljO604cytRJtfSrK2dL/Q5eWlrPnfet4vpbl9GwtYvXwJG0T+qJ+TjEmMDCfuqQEMLsqrqJh0w/5hfdPRRJkvZZ991wbEFTVwhh9rhJhxxy6VUPF7LbZp9912EsfPbRR2OMMwrRXwhhBpm14E6NMbYYekMIHwYuTz8dEGPMa+7OEMIlwBeBK2KMH0i/9htS1ckvxhjH5j969VRHnX63/2iRJKkbFTIjm49znsd8rHYzH0uS1L2KKR9DYTNyT8zHic0wEUI4FDgJOADoB1S0fgSQKjiZmdSYJEmSeqjJIYTZbTVqZyAenrW/pJV22e8NB9odeEMIBwOfBVYAn2nvcZIkSVI7mY8lSZKkXRUqI/e4fFzwgokQwmjgauCYfA8FrIyVJEk9UhFN6lWTtb+llXbZ79XkbLWbEEIZqanUyoCPxRi7f65WSZIkdTnzcYr5WJIkSWA+btId+bigBRMhhL7A3cBoUgUQkiRJIvHAO7dQUw53gc8DBwE3xhj/3N2DkSRJUvcwHzczH0uSJKkrCiaKJSN3eT4uKXB/nwXGpPcXAh8AxgMVMcaSdmylBR6PJEmS8rMxa7+ylXbZ723M2SpLCOEA4MvAJuDD+Q9NkiRJ6nLmY0mSJCmjx+XjQi/JcUb6cRFwWIyx3WuRSJIk9WSNsWgm31qatT8CeCJHuxE5jmnN5UA5cCGwNoRQvdv7Tdk0ZL23Nca4vZ39S5IkqUiYjwHzsSRJktLMx0A35eNCzzAxFojATy2WkCRJKkpzgMb0/rRW2jW9tzyP3Dcu/fhNUlXFu2/npN8fnfXaee3sW5IkSUqC+ViSJEnK6HH5uNAFE9vSj88XuF9JkqSiFWOyW2HHGrcA96WfntxSmxBCAE5KP72tsCOQJElST2c+liRJkjKSzseFzMg9MR8XumBiQfqxf4H7lSRJUte5Kv14fAjhiBbefyOwX3r/6vZ2GmMcG2MMubas876Y9fplHf8xJEmSpIIwH0uSJEkZPSofF7pg4hogu2JEkiRJ7P2Vwbu5CniSVK77awhhJkAIoSSE8Ebgl+l2t8QYZ2UfGEK4KIQQ09vYxEYoSZKkomY+liRJkjKKYXaJLD0qH5cVuL+fAO8BzgwhnBJjvKXA/UuSJClhMcYdIYQzgDuBscDtIYQtpIptK9LNHiOzZpwkSZLUY5mPJUmSpIyelo8LOsNEes2S04B5wHUhhC+GEOoKeQ5JkqRi1BiT2ZISY3wBeAXwNeApIALbgdnA+cCRMca1yY1AkiRJPZn5WJIkScpIKh8nlZF7Uj4u6AwTIYQ70rv1QG/g68BFIYR5wMtAYxtdxBjjzEKOSZIkSR0TY9wIXJje2nvMRcBFHTzfu4F3d+RYSZIkKWnmY0mSJCmjp+TjQi/JcRyp6hGyHsuAKe04NmQdI0mS1KPEGLp7CJIkSdJew3wsSZIkZZiPu0+hCyYgVfjQntckSZIkSZIkSZIkSZK6RUELJmKMJYXsT5IkqSeIQExqrbhkupUkSZISYz6WJEmSMpLMx039KzcLHCRJkiRJkiRJkiRJ0j4niSU5JEmSlC1CY1JlvJYHS5IkqdiYjyVJkqSMJPNxun/l5gwTkiRJkiRJkiRJkiRpn5PoDBMhhADMAI4AhgE1wEZgKfAQMDvGJFdkkSRJ2juYeCRJkqQM87EkSZKUYT7uPokVTIQQPgR8BhjTSrMXQwiXxhh/ltQ4JEmSJEmSJEmSJEmSdlfwgokQQgVwHXBS00utNB8LXB5COAN4fYxxa6HHI0mStDewQliSJEnKMB9LkiRJGebj7pPEDBO/AU5O70dgFnAbMA/YBFQDE4DXAicAJaSKK64C3pLAeCRJkrpVBBoTCrzmaEmSJBUb87EkSZKUkWQ+bupfuRW0YCKEcDzwJlKf+wvAW2KMD+do/p0QwqHAH4HxwBtDCD+LMd5VyDFJkiRJkiRJkiRJkiTtrtAzTLwr/bgROC7GuLi1xjHGR0IIM4EngBrgPcBdBR6TJElSt3NKNUmSJCnDfCxJkiRlmI+7T0mB+zua1OwSv2qrWKJJjHER8CsgAEcVeDySJEmSJEmSJEmSJEl7KPQME0PTj4/keVxT+6GttpIkSSpGERobk+tbkiRJKirmY0mSJCkjyXyc7l+5FXqGiaavsjTP45raJ/lHQZIkSZIkSZIkSZIkCSh8wcTS9OMr8zyuqf2yAo5FkiRprxBJrUGXyNbdP5wkSZKUJ/OxJEmSlJFoPjYjt6nQBRN3AwF4dwhhUnsOSLd7N6nv6u4Cj0eSJEmSJEmSJEmSJGkPhS6Y+FX6sQK4M4Tw2tYahxBmArOAPumXrijweCRJkvYKSVUHS5IkScXIfCxJkiRlJDnDhFpXVsjOYowPhRCuAN4PDAFuCSE8CdwGzAM2A1XABOBEYDqpGSkicEWM8aFCjkeSJEmSJEmSJEmSJKklBS2YSPsQUAO8Of38wPTWkpB+vCZ9nCRJUo/UaCWvJEmS1Mx8LEmSJGWYj7tPoZfkIMa4M8b4VuCtwGOkiiJybY8Cb44xvi3G2FjosUiSJEmSJEmSJEmSJLUkiRkmAIgxXgNcE0IYAxwODCM188RGYBnwUIzxxaTOL0mStNeIEJNaLM7KY0mSJBUb87EkSZKUkWQ+Tvev3BIrmGiSLoqwMEKSJEmSJEmSJEmSJO01Ei+YkCRJ2tdFwBvoJEmSpBTzsSRJkpSRZD5u6l+5dapgIoRQChyVfro9xvhAnscfCZSnn94bY2zszHgkSZIkSZIkSZIkSZLao7MzTHwYuCy9/ykgr4IJ4Ajg+6QKWz4M/LyT45EkSdorNVoWKkmSJDUzH0uSJEkZ5uPuU9LRA0MIvYAvpZ/eHmP8Qb59pI+5HQjAV0IIHR6PJEnS3izGZDZJkiSpGJmPJUmSpIyk8rEZuW2dKVB4HTAovX9BJ/ppOnYocGon+tlFCOGQEMKFIYR/hBDmhhBWhxC2px/vCyFcEELo30YfQ0II3w0hPBtCqA8hrAkh3BNCeH8IIRRqrJIkSZIkSZIkSZIkqWt1ZkmOU9KPT8UYH+loJzHGh0MITwLTSBVh3NiJMWV7L3Be1vMGoB7oD7wqvX0ihHBGjHGPpURCCDOAfwID0i9tAmqAo9Pb2eljtxVovJIkqaeK0JhUJa8VwpIkSSo25mNJkiQpI8l8nO5fuXVmhonDSH28txZgHLeSWpbjsAL01eQh4DPAK4F+McY+McZaUkUP7wJWAQOBv4cQ6rIPTD+/kVSxxFzgsBhjDVAFfATYDpwEXFbA8UqSJEmSJEmSJEmSpC7SmRkmRqYfFxRgHE19jC5AXwDEGK/O8fom4OoQwnJSM0gMBk4Dfp/V7HxSS4TUA6fGGBemj90GXB5CqAW+AZwbQrgsxjivUOOWJEk9TyS5teIsDpYkSVKxMR9LkiRJGUnm46b+lVtnZphompVhdQHGsWa3PrvCg1n7I3d7753pxz81FUvs5keklugoBc5JYGySJEmSJEmSJEmSJClBnZlhYjOpAodCFDnUph+3FKCv9joma795lowQwiQyM13c0tKBMcZNIYR7gFOA1wIXJjVISZLUM8REF6GTJEmSiov5WJIkScowH3efzsww8XL6cWwBxtHUx8utNeqsEELvEMLYEMJHgN+mX54P3JDVbFrW/lOtdNf03gEFHKIkSZIkSZIkSZIkSeoCnZlh4hlgf+BE4CudHMeJpJZPeaaT/bQohNAA9G7hrfuAt8UYt2a9Njxrf0kr3Ta9VxtCqI4xbmpjDLPbMdTJ7WgjSZKKkAXCkiRJUob5WJIkScowH3efzswwMSv9eHgI4fCOdhJCOAI4Yrc+C205sILUMiJN7gQ+EWNctFvbmqz91pYIyX6vJmcrSZIkSZIkSZIkSZK01+nMDBN/BS4FyoGfhRBe3dYsC7sLIVQDP08/3QZc24nx5BRjHJt1zsHAO4ALgIdCCBfHGDs7Q0Z7xjCjrTbpWSgOSXoskiSpi0WISVUIW3ksSZKkYmM+liRJkjKSzMfp/pVbh2eYiDEuBa4AAjAduCWEMLK9x4cQRgG3Aq8g9TX9Kt1nomKMK2OM3wVOTp/3yyGE07KabMzar2ylq+z3NuZsJUmSJEmSJEmSJEmS9jqdmWECUrM0vAaYCLwKeCqEcCXwO+DxGGNjduMQQglwEKkZHt5DZimLecAXOzmWvMQYHwoh3Au8GjgXuDH9VnbRxghgQ44uRqQfN+Q7s4YkSdq3RKAxoUXoLA6WJElSsTEfS5IkSRlJ5uOm/pVbpwomYowbQginA7OAUaQKID6e3upDCC8C69LN+wJjgD7p5yH9+BJweowxV2FCkpakH/fPeu2prP1pwJwcx05LPz5T6EFJkiRJkiRJkiRJkqRkdXaGCWKM80MIBwNXA6dmvVUJTN6tedjt+c3Au2KMqzs7jg7aL/2YvaTGPGARMJrUsh1/2f2gEEIVcEz66W1JDlCSJPUMia5BJ0mSJBUZ87EkSZKUYT7uPiWF6CTGuCbGeBpwFPBnoKkAIuy2AaxJtzkqxnhaEsUSIYTSEMLuxRm7t5kJHJ5+elfT6zHGSKr4A+AtIYSxLRx+HlAN7AR+38nhSpIkSZIkSZIkSZKkLtbpGSayxRgfAB4ACCFMBkYAA9JvrwaWxhhzLXFRSKOAv4cQfgr8C1iYLoQghDAKOAf4EqkijjXA93c7/jvA+4GhwE0hhHfGGGeHEMqB9wFfT7f7RYxxXuI/jSRJKnpWCEuSJEkZ5mNJkiQpw3zcfQpaMJEtxjgXmJtU/+0wHfhZen9bCGED0AeoymqzEHhDjHF59oExxvUhhNOAfwIHAI+EEDYCFUCvdLPbgE8mOH5JkiRJkiRJkiRJkpSQxAomutlS4I3AccARwHBgIKklNBYB/wWuB/4QY6xvqYP0jBJTgc8Bp5GatWIz8BRwFXBljLEx2R9DkiT1BDFGGhMqEY6WHkuSJKnImI8lSZKkjCTzcVP/yq1HFkzEGLcB16a3zvSzAvhUepMkSeowyywlSZKkDPOxJEmSlGE+7j4l3T0ASZIkSZIkSZIkSZKkrtYjZ5iQJEna2zjtmSRJkpRhPpYkSZIyzMfdxxkmJEmSJEmSJEmSJEnSPscZJiRJkpIWoTGpNegsPJYkSVKxMR9LkiRJGUnm43T/ys0ZJiRJkiRJkiRJkiRJ0j7HGSYkSZISFkluDTqLgyVJklRszMeSJElSRpL5uKl/5eYME5IkSZIkSZIkSZIkaZ/jDBOSJEldoNEyXkmSJKmZ+ViSJEnKMB93H2eYkCRJkiRJkiRJkiRJ+xxnmJAkSeoC0RJhSZIkqZn5WJIkScowH3cfZ5iQJEmSJEmSJEmSJEn7HGeYkCRJSlqEmFSBsIXHkiRJKjbmY0mSJCkjyXyc7l+5OcOEJEmSJEmSJEmSJEna5zjDhCRJUsIi0JjQGnQWB0uSJKnYmI8lSZKkjCTzcVP/ys0ZJiRJkiRJkiRJkiRJ0j7HGSYkSZISF4ku0ixJkiSlmY8lSZKkjCTzcap/5eYME5IkSWpRCKEmhHBRCOHJEMKmEML6EMLDIYRPhxDKO9jniBDCh0MIfwkhzA8h1Ke3hSGEP4YQTij0zyFJkiQVgvlYkiRJyugp+dgZJiRJkpIWITYm13cSQghjgLuAsemXtgC9gUPT2zkhhJkxxrV59DkKeBEIWS9vST8fm97eEkK4Ejg3xrizUz+EJEmS9k7m46Y+zceSJElKNh+n+y+0npSPnWFCkiQpYRFojDGRLYnrwSGEMuAGUgF0GXBijLEKqATeAmwEDgZ+l2fXpaTC7SzgXcCIdL/VwFTg+nS79wIXdeqHkCRJ0l7LfNzMfCxJkqRE83ESGbmn5WMLJiRJkrS7dwEHpvffEGO8HSDG2BhjvAb4YPq9U0MIM/Pody0wI8b4mhjj1THGpVn9PgO8Hrg13fYTIYSKTv8kkiRJUueZjyVJkqSMHpWPLZiQJEnqAjHGRLaEvCv9eGeM8YEW3v8TsDC9/872dhpjXB9jfLSV9yNwZfppNTClvX1LkiSpuJiPzceSJEnKSCofJ5SRe1Q+tmBCkiRJzUIIlcBR6ae3tNQmHUybKnlfW+AhNGTtlxa4b0mSJCkv5mNJkiQpoyfm47JCdCJJkqTWNTYmdrdboU0hU1T7VCvtmt4bGkLoH2NcU6DzH5d+3AbMK1CfkiRJ2suYj9vtuPSj+ViSJKkHMx+323Hpx4LlYwsmJEmSit/kEMLsthrFGGe0o6/hWftLWmmX/d5woNOBN4QwDvjf9NNrYowbOtunJEmS9knmY0mSJGlXhcrIPS4fWzAhSZKUtAiJLadc+H5rsva3tNIu+72anK3aKYTQB/gLUAm8DHy+s31KkiRpL2U+bpP5WJIkaR+SZD5O919APS4fWzAhSZJU/Oa28+64vVIIoQz4AzAD2A6cE2Nc2r2jkiRJUhEzH0uSJEm7KtqMnHQ+tmBCkiQpYRGICa1Bl0CvG7P2K1tpl/3expyt2hBCKAV+D/wPsAN4W4zxto72J0mSpL2f+Tg387EkSdK+J8l83NR/AfW4fFxSyM4kSZJU9LIrc0e00i77vQ5V86bD7u+ANwE7gbfHGK/tSF+SJElSQszHkiRJUkaPy8fOMCFJkpS4SGPxLNI8B2gkVVg7DbglR7tp6cflMcY1+Z4kqzL4zWTC7jX5D1eSJEnFx3y8O/OxJEnSvizJfJzqv4B6XD52hglJkiQ1izFuAe5LPz25pTYhhACclH6a9/Rn6bD7B3YNu3/Kf7SSJElSsszHkiRJUkZPzMcWTEiSJHWB2BgT2RJyVfrx+BDCES28/0Zgv/T+1fl0nFUZ/CZSa86d48VgSZKkfY/5OMV8LEmSJEguHyeUkXtUPrZgQpIkSbu7CngSCMBfQwgzAUIIJSGENwK/TLe7JcY4K/vAEMJFIYSY3sbu9l7TmnNvJhV23+Y0w5IkSSoC5mNJkiQpo0fl47KkTyBJkrTPiyR3t1sC3cYYd4QQzgDuBMYCt4cQtpAqtq1IN3sMOCfPro8C3tJ0GuBHIYQftdL+414wliRJ6oHMx03Mx5IkSUo2H6f7L2h3PSwfWzAhSZKkPcQYXwghvAI4HzgLGAdsB54G/gj8KMa4Lc9us2c36wUMaaN9nzz7lyRJkhJhPpYkSZIyelI+tmBCkiQpYREoohvoMn3HuBG4ML2195iLgItyvHcXqWnaJEmStA8zHze/dxfmY0mSpH1ekvm4qf9E+u0h+diCCUmSpC6Q6JRqkiRJUpExH0uSJEkZ5uPuU9J2E0mSJEmSJEmSJEmSpJ7FGSYkSZKSFiHGIpxzWJIkSUqC+ViSJEnKSDIfp/tXbs4wIUmSJEmSJEmSJEmS9jnOMCFJkpSwSKQxoTXoouXBkiRJKjLmY0mSJCkjyXzc1L9yc4YJSZIkSZIkSZIkSZK0z+nRM0yEEA4BTgdmABOBQUAtsAGYC9wM/DTGuKaFYy8CLmzHaSbEGOcXasySJKlnSnQNOkmSJKnImI8lSZKkDPNx9+nRBRPAe4Hzsp43APVAf+BV6e0TIYQzYowP5OhjO7BHQUWWHYUYqCRJkiRJkiRJkiRJ6jo9vWDiIeAF4F5gboxxHUAIoRo4C/gOqVkn/h5CmBhjXN9CH/fHGI/rmuFKkqQeKUJMag06C48lSZJUbMzHkiRJUkaS+Tjdv3Lr0QUTMcarc7y+Cbg6hLAc+CcwGDgN+H0XDk+SJEmSJEmSJEmSJHWTHl0w0Q4PZu2P7LZRSJKkHi/RCmFJkiSpyJiPJUmSpAzzcfcp6e4BdLNjsvYXdNsoJEmSJEmSJEmSJElSl9rnZpgIIfQGhpFaguNr6ZfnAzfkOGRqCOEpYD+gEVgC/Bv4SYzxsYSHK0mSeoAINMZkKoStO5YkSVKxMR9LkiRJGUnm46b+lds+UzARQmgAerfw1n3A22KMW3McOhDoD6wDaoGJ6e19IYRvxBi/1M7zz25Hs8nt6UuSJEmSJEmSJEmSJHXOPlMwASwHKoBqoCr92p3AZ2OMi1po/xzwWeB6YGGMcXsIoRw4DvgGMAO4IISwNsb43aQHL0mSiliMya1Bl2DlsSRJkpQI87EkSZKUkWQ+Tvev3PaZgokY49im/RDCYOAdwAXAQyGEi2OMX9mt/e9b6GMbcFsI4d+kluU4DLgohHBFjHGmQoBGAAAgAElEQVR9G+ef0dYY07NQHNKOH0eSJEmSJEmSJEmSJHVCSXcPoDvEGFemZ4U4mdSyLV8OIZyWx/ENwBfTT6uBmYUfpSRJ6klijIlskiRJUjEyH0uSJEkZSeVjM3Lb9smCiSYxxoeAe9NPz83z8Aey9vcrzIgkSZIkSZIkSZIkSfr/9u49yrarqhPwbyYhkDcvB29yBeQNKkEQkDYQhKA2NiIY5D1MEARbULCxlTYNiN2CDQ4faPCRAEFUxAdoAImJBsQOxAAJEIKaG1pCUEhIbh4kIXf2H2cXZ1NW1a17b52qU1XfN8YZZ+29155nnrvPDkv3rLVYD9tmSY4VfH54v9eGZgEAbGm7Z7kGHQAAbDLGxwAAMGV8vHEUTExnh9i1l+d956h9yRrlAgBsQd1Jz2jAa0Y1AAA2G+NjAACYmuX4eCE+y9uyS3JU1YFVVXvoc1yShw2bZ4/27+m8Wyb5xWHz2iRn7numAAAAAAAAAMB627IFE0nuluT8qvqxqrrHuAiiqu5WVa9I8udJKskVSd4wOvc/VdUHqupZVXXX0Xm3GIoszkny8GH3q7r7KzP/NgDAptbdM3kBAMBmZHwMAABTsxofGyPv2VZfkuNbk/zW0L6xqq5OckiSw0Z9LknylO6+fLSvkhw3vFJV12cyk8RRSW4x9Nmd5H919y/PLn0AAAAAAAAAYBa2csHEZUmemuTYTGaDuHOS2ye5Ocnnknw8kxkm3t7d1y8694IkL0vyiCQPGs67dZLrknwqkxkmTunuC2b+LQCALaDTu3fPLDYAAGwuxscAADA1y/HxJD7L27IFE919Y5J3Dq+9PffLSX5lzZMCAAAAAAAAAObCli2YAACYG53s3j2jKl7FwQAAbDbGxwAAMDXL8fEQn+UdsNEJAAAAAAAAAACsNzNMAADMWCfpnk0Zr+JgAAA2G+NjAACYmuX4eCE+yzPDBAAAAAAAAACw7ZhhAgBgHfQs16ADAIBNxvgYAACmjI83jhkmAAAAAAAAAIBtxwwTAACz1j27CuEZrm0HAAAzYXwMAABTsxwfD/FZnhkmAAAAAAAAAIBtxwwTAADrYHfv3ugUAABgbhgfAwDAlPHxxjHDBAAAAAAAAACw7ZhhAgBgxjqZ2Rp0Vp8DAGCzMT4GAICpWY6PF+KzPDNMAAAAAAAAAADbjhkmAABmrWdYIaw8GACAzcb4GAAApmY5Ph7iszwFEwAAM9fpntWo1GgXAIDNxvgYAACmZjk+nsRneZbkAAAAAAAAAAC2HTNMAACsg927d290CgAAMDeMjwEAYMr4eOOYYQIAAAAAAAAA2HbMMAEAMGPdSe+ezTpxM13aDgAAZsD4GAAApmY5Pl6Iz/LMMAEAAAAAAAAAbDtmmAAAmLlO96zWoFMeDADAZmN8DAAAU7McH0/iszwzTAAAAAAAAAAA244ZJgAA1sEs16ADAIDNxvgYAACmjI83jhkmAAAAAAAAAIBtxwwTAACz1jOsEFZ4DADAZmN8DAAAU7McHw/xWZ4ZJgAAAAAAAACAbccMEwAAM9ZJdvfumcUGAIDNxPgYAACmZjk+XojP8swwAQAAAAAAAABsO2aYAACYuZ7hGnTqgwEA2GyMjwEAYGqW4+NJfJZnhgkAAAAAAAAAYNsxwwQAwKx10rtntAad4mAAADYb42MAAJia5fh4iM/yzDABAAAAAAAAAGw7ZpgAAFgHs12DDgAANhfjYwAAmDI+3jgKJgAAZq7TPasp1QykAQDYbIyPAQBgapbj40l8lmdJDgAAAAAAAABg2zHDBADAjHUnu2c0pVorDgYAYJMxPgYAgKlZjo8X4rM8M0wAAAAAAAAAANuOGSYAANZB757lGnQAALC5GB8DAMCU8fHGMcMEAABLqqojqurkqrqgqq6pqquq6iNV9dNVdfB+xr5DVf1KVX2mqq6vqiuq6pyqOrGqaq2+AwAArBXjYwAAmNoq42MzTAAArIOe4Rp0s1BVRyc5O8mOYdd1SW6Z5KHD6xlVdVx3X7kPsY9J8r4ktxt2XZPkiCTfNbx+qKqe1N037s93AABgfhkff0Ns42MAgG3O+PgbYq/r+NgMEwAAfIOqOijJuzMZ7H4hyfd092FJDk1yQpJdSb49ydv2IfZRSd6TyWD3oiTf0d1HJDksyYuT3JTkCUneuN9fBAAA1oDxMQAATG218bGCCQCAWetO9+6ZvNIzqTx+TpIHDe2ndPcHJl+jd3f3Hyb5seHY91bVcXsZ+2VJ7pjk+iTf290fHWLf2N2/keQXhn7Pr6p778+XAABgThkfjxkfAwBsdzMcH89ojLylxscKJgAAWOw5w/tZ3f3hJY6/I8klQ/vZexl7of87uvuSJY7/WiZTrB2Y5Bl7GRsAAGbB+BgAAKa21PhYwQQAwIx1JmvQzeS1xrlW1aFJHjVsnrHk9+nuJO8dNh+/F7Hvk+Tue4h9TZJz9jY2AACbh/Hx12MbHwMAMNvx8RqPkbfi+PigtQjCmtlx/a5L8/Fznr/ReQDAtlV18endvZ3/cut+mRbVXrhCv4Vjd6yq23b3FauI/cAlzl8u9hOT3H8VMQEAYJaMjwEAYGrLjY8VTMyXq3fvviHXXnXxzkX77zu8X7TO+bB+XOOtzzXe2lxfVnT9rktz/t+eOLPYSe5bVeftqW93H7OKkHcetT+/Qr/xsTsnWc2Ad29jH1lVhw9Vw2xjH3r3d9dG5wAArB3j432ObXxMEuNjANhqZjk+XoiftRsjb7nxsYKJOdLd37zU/oUf7yr/jzg2Idd463ONtzbXlz24aCiInOVn7FjDWEeM2tet0G987Ihle61NbP8PYQCArcP4eP9jGx8DAGwd6zE+TtZujLzlxscKJgAAZmibL+8BAADfwPgYAACmjI833gF77gIAwDaya9Q+dIV+42O7lu21frEBAGAWjI8BAGBqy42PFUwAADB22ah9lxX6jY9dtmyv/Yt9tfWZAQDYYMbHAAAwteXGxwomAAAY+3SS3UP7gSv0Wzh2eXdfscrYFy5x/kqxP7XKuAAAMCvGxwAAMLXlxscKJgAA+Lruvi7Jh4bN45fqU1WV5AnD5vv3IvzFST63h9iHJXn0PsQGAIA1Z3wMAABTW3F8rGACAIDFThveH1NVD1/i+FOT3GNov2W1Qbu7R/1PqKodS3R7UZLDk9yc5PTVxgYAgBkyPgYAgKktNT5WMAEAwGKnJbkgSSX5k6o6Lkmq6oCqemqSNw/9zujuM8cnVtXJVdXDa8cSsV+f5PIkhyb5y6o6Zjjv4Kp6YZJXD/1O6e6L1/h7AQDAvjA+BgCAqS01Pj5oLYIAALB1dPfXqupJSc5KsiPJB6rqukyKbW81dDs/yTP2IfZVVfX9Sd6X5P5JPlpVu4a4txi6vT/JS/frSwAAwBoxPgYAgKmtNj42w8Qm0N3HdPcxG50Hs+Mab32u8dbm+rIVdffOJA9O8qokFybpJDclOS/Jy5J8Z3dfuY+xz0vygCRvSPLZTAa61yb5YJKTkjyxu2/Yz68AAABrxvgYAACmttL4uCZLgQAAAAAAAAAAbB9mmAAAAAAAAAAAth0FEwAAAAAAAADAtqNgAgAAAAAAAADYdhRMAAAAAAAAAADbjoIJAAAAAAAAAGDbUTABAAAAAAAAAGw7CibmWFUdUVUnV9UFVXVNVV1VVR+pqp+uqoM3Oj+WV1WHVtUTq+rnq+pdVXVpVfXwOnmVMe5QVb9SVZ+pquur6oqqOqeqTqyqmvFXYAVVdbuqel5Vva2qPlVV11bVDVX1r1X1Z1X15FXEcH/Psap6SFX9QlX9RVVdVFVfrqqbhvcPVdXPVdVt9xDDPQwAAAAAADDHqrs3OgeWUFVHJzk7yY5h13VJDkxyy2H7/CTHdfeV654ce1RVxyY5a5nD/7O7T97D+cckeV+S2w27rklyqyQHDdvvS/Kk7r5xv5Nlr1XVTZleiyT5apKbkxw22ndGkh/q7uuWON/9Peeq6teTvGi066tJbkpyxGjflzK5Dz+8xPnuYQAAAAAAgDlnhok5VFUHJXl3Jg9Tv5Dke7r7sCSHJjkhya4k357kbRuVI6tyZZIzk7wuydOTXL6ak6rqqCTvyeRB60VJvqO7j8jkYfyLM3lo+4Qkb5xBzqzOQUnOTfLjSe7Z3Yd09+FJvjnJ7w59npjktxef6P7eNM5N8vIkj0hym+EaH5lJwcRzkvx7ktsn+bPhnv069zAAAAAAAMDmYIaJOVRVP5rkd4bNRy7+6+WqenqStw+bj+vuM9czP/asqg7s7psX7duZ5OjsYYaJqnp1kp9Pcn2SB3T3JYuO/2yS12Yyo8H9u/vitc2ePamqx3T3cjOIpKp+K8mPDZt37+7/Nzrm/t4CqurxmcwSkSTP7O7TR8fcwwAAAAAAAJuAGSbm03OG97OWmuo9yTuSLDyAe/b6pMTeWFwssZcWruk7Fj9oHfxaJtP7H5jkGfvxOeyjlYolBr87aj900TH399bwD6P2XRcdcw8DAAAAAABsAgom5kxVHZrkUcPmGUv16cm0IO8dNh+/HnmxPqrqPknuPmwud/2vSXLOsOn6z6evjtoHLjTc31vKo0ftf15ouIcBAAAAAAA2DwUT8+d+mV6XC1fot3DsjlV129mmxDp64Ki9mut//xnmwr47dtS+YNR2f29iVXXLqtpRVS9O8tZh9z8lefeom3sYAAAAAABgkzhooxPgP7jzqP35FfqNj905yRWzSYd1trfX/8iqOnz4i3XmQFXdOsnPDpvndPdnRofd35tQVX01yS2XOPShJD/S3TeM9rmHAQAAAAAANgkzTMyfI0bt61boNz52xLK92Gxc/02sqg7IZOaBO2WyLMeLF3VxfTeny5N8Mcm1o31nJXlJd39uUV/XGAAAAAAAYJNQMAGwdn41yfcP7Rd19yc2MhnWRnfv6O47dvfhSe6Q5GVJvi3JuVX1qo3NDgAAAAAAgH2lYGL+7Bq1D12h3/jYrmV7sdm4/ptUVb0+0xklXtrdv7dEN9d3k+vuf+vuX0lyfJJO8sqq+v5RF9cYAAAAAABgk1AwMX8uG7XvskK/8bHLlu3FZrO31//q7r5mhvmwClX1y0l+eth8WXe/cZmu7u8torvPTfLBYfP5o0PuYQAAAAAAgE1CwcT8+XSS3UP7gSv0Wzh2eXdfMduUWEcXjtqruf6fmmEurEJVvS7Jy4fNnxlmH1iO+3tr+fzwfq/RPvcwAAAAAADAJqFgYs5093VJPjRsHr9Un6qqJE8YNt+/Hnmxbi5O8rmhvdz1PyzJo4dN138DDctwvGzY/Jnuft1K/d3fW849hvfxkhruYQAAAAAAgE1CwcR8Om14f0xVPXyJ40/N9EHdW9YnJdZDd3em1/SEqtqxRLcXJTk8yc1JTl+fzFhsKJYYL8OxYrHEiPt7zlXVgUPhykp9jkvysGHz7IX97mEAAAAAAIDNQ8HEfDotyQVJKsmfDA/mUlUHVNVTk7x56HdGd5+5QTmyB1V1m6q6/cIr0/vt0PH+qjp80amvT3J5kkOT/GVVHTPEO7iqXpjk1UO/U7r74vX4LnyjqvrlTIslfmoPy3As5v6ef3dLcn5V/VhV3WNcPFFVd6uqVyT580yu4RVJ3rDofPcwAAAAAADAJlCTP4Zl3gx/lXxWkh3DrusyeeB+q2H7/CTHdfeV650bq1NVO5McvYqup3X3cxede0yS9yW53bBrVybX/hbD9vuTPKm7b1iTZFm1qrp7kkuHzd1J/n0Pp7y+u1+/KMaOuL/n1nB9LhntujHJ1UkOSXLYaP8lSZ7S3ecvEcM9DAAAAAAAMOfMMDGnuntnkgcneVWSC5N0kpuSnJfkZUm+08PUrau7z0vygEz+cv2zmTxkvTbJB5OclOSJHrRumAMWte+wh9fiGUTc3/PvskyWRvmNJB9N8qUkR2ZyvT+X5N1JTkzygKWKJRL3MAAAAAAAwGZghgkAAAAAAAAAYNsxwwQAAAAAAAAAsO0omAAAAAAAAAAAth0FEwAAAAAAAADAtqNgAgAAAAAAAADYdhRMAAAAAAAAAADbjoIJAAAAAAAAAGDbUTABAAAAAAAAAGw7CiYAAAAAAAAAgG1HwQQAAAAAAAAAsO0omAAAAAAAAAAAth0FEwAAAAAAAADAtqNgAgAAAAAAAADYdhRMAGywqtpRVT28Tp3xZ+0cPmfnLD8HAAAAAAAA5t1BG50AsDpVdZckT0lyXJL7J7l9ksOSXJXkX5N8JMkZSf6yu2/cqDyZqKqTh+bO7j51A1PZK1V1bJJjh81Tu3vnhiWzyDznBgAAAAAAwOajYALmXFUdleQ1SU5Kcsslutx+eH3b0Offq+o1Sd7U3TetW6Is9gvD+98mOXUD89hbx2aa+9lJdm5UIks4NvObGwAAAAAAAJuMggmYY1V1ryTvTnLf0e5zk/x1Jg+Lr0pyuyT3THJ8kgcm+aYkv5rkE5k8VGbODTMl1Dp91o71+BwAAAAAAACYdwomYE5V1e2SnJnk7sOuTyR5QXd/eJlTXl5VD0vyi0ketw4pAgAAAAAAAGxaCiZgfp2WabHEh5Mc391Xr3RCd5+b5Huq6qVJLMcBAAAAAAAAsIwDNjoB4D+qqkck+b5hc1eSp++pWGKsu9/Q3R9aIf7Dq+qUqvpMVe2qqmur6p+r6rSqeuwq8uvhdfawfVhVvayqPlpVVw7xPllVv1RVt1mvWKOYB1TV06rqD6vqkqq6bvieF1XVm6rqQauJM8S6c1WdXFUfrKrLq+rGIdaFVfV7VfUDVXXQqH9XVY9CfPfoO45fx47O2THaf+qiz/+vo2M/scqc3zU650GLju0c9u9ctP/kIe9fGO0+a4m8zx76v2C076dWmddfjM6532rO2Zfcljj/oKo6sar+qqouq6obqurLw2/sNVV1p9XmAgAAAAAAwNahYALm00tG7d/v7kvXIujw4PiUJP+Q5KQk905yeJJDk9wjybOTnDkUGhyyypj3SHJuktclOSbJrYd490/yiiTnV9WO9YpVVfdMcl6SP0zytCQ7khwyfM/7JHlBko9V1atWkc8rkvxzJg/qH5XkDkluMcR6QJLnJfmzJM9YzffbR+9I8rWh/cw9da6qWyf53mHz4919wYzyOj3JNUP7R1eR111GeX2wuz89o7wWf+69k1yY5M1JnpjkTkkOTnLbTH5jP5fks1X17PXIBwAAAAAAgPlhSQ6YM1VVSY4b7XrrGoZ/a5IThvZXM1n24++T3JzkoZk8+D4ik0KDo6rqid3dSwUaHJnkLzMpRPjzJO9NckUmxRcvzGRJkaOTvCXJf9pDbvsdayiW+Icktx92fTDJe5JcmuTATB6QPzfJbZK8sqp2d/fJy8T6tSQvHu1635DTZUlumeRbkjw2ySOT1Kjfk4f3Px3eP5nk55f4iAuX+tzFuvvfqup9mcw48rCq+pbu/uwKpzxtyC/Zu9/OO5J8LJPfxw8P+165RJ5fGvLaVVVvT/L8JPevqketNKtJJsUlBw7tN+9FXnud24Kqumsmv4FvGnb9U5JTh/fbJHlSJkUUhyU5tapu7u7T9zI3AAAAAAAANqla+VkosN6GpQo+NWxen+TI7v7aCqesNu4PZ/LgOUm+mOSx3f2pRX2OTnJWkm8edr24u39jiVjj/3DcmOQp3f2eRX1ul+Qjo1gP7+5zZxWrqg4Y+jwkyQ1JntXdf7zE590hk8KHb0uyO8mDu/uTi/o8LZMZKpLkyiQ/2N1nL4419L13koO7+8JF+xe+199297FLnTvquyPJJcPmad393EXHT0jyB8Pmq7p7vDTF4lh/l+TRmXy3u3b3FxYd35lJ4cml3b1jifNPznTpi8cs972Hvg/JZDaPJfMe9ask/5LJbB9fSXLn7r5+ubgrfN6qcxv6n5Hk+GHznUme2d03LOrz3CS/m8mMS7uS3GfxvxkAAAAAAABbkyU5YP7cZdS+dC2KJQb/bdR+3uJiiSQZlv44IcnCw/6XV9WBi/st8prFBQ5DrC8nee1o1xNWkeP+xPovmRRLJMnLlyqWGGJ9MZNZCm7O5L+BPzk+PhRejJfrOGGlB/PdffHiYokZ+PNMHuYnKyz/MRS8fNeweeasH/x39z9mUqSSJE+tqiOX6fq4TIolkuT0fSmW2FtV9eBMiyV2Jnn24mKJJOnuU5O8adg8IsmLZp0bAAAAAAAA80HBBMyf243aX1mLgMMMBt8+bF7Q3Wcs13eYueFvhs2jM1nGYjk3J/n1FY7/zah9/z2kub+xnjW8X509LPnQ3RcnWZih4vGLDh+TybIgSXJ2d79/pVjrYSgweOewec+qesQyXZ+R6fIga7mUy0p+a3g/NMsXc5w0ap8y23S+7gdH7V/bQ5HGL2daJPSDK/QDAAAAAABgCzlooxMA1sXDRu3VFAC8P8lxQ/vhmRYXLHZxd1+5QpzPj9q32cNn7m+sRw/vX0hy/GQViBXdPLwfXVWHjB6of9eoz1/sKcg6eluS5w3tZyb58BJ9FgoWrkvyp+uRVCbLvPyfJEdlUhjxpvHBqvqmJD8wbJ7b3Z9Yp7xW/Zvv7s9V1UVJ7pfkvlV1ZHdfPdPsAAAAAAAA2HAKJmD+fHnUvvUaxbzTqH3xKvqP+9xp2V7Jl1YK0t03jAoXbrWHz9znWFV1eKYzc9wne18scJskCwUTdx3t//Rexpmls5P8ayb5Pa2qXtLdNy0crKqHZDrzxp929zXrkVR3X1dVb03y4iTfXlUPGZbqWPDsJAcP7RVn/lhj+/Kbv18mM3TcMZOZSgAAAAAAANjCLMkB8+eyUfvoqlqLwqYjRu1rV9F//LD9iGV7Jbv3LZ01j3XUfn72waP2kaP2uhQdrEZ3705y+rB5+yTHL+ryzFF7vZbjWPDbo/ZJi46dOLxfk8lsFOtl4Xf7te6+cRX9V/ubBwAAAAAAYItQMAHz59NJrhjahyT5tjWIuWvUPmwV/Q9f5tx5NX7Y/XfdXXv52jk6fzyzwPjfYR6MCyG+XiBRVQcmOWHYvDzJB9Yzqe6+MMmHhs0fqapDh7weneS+w/4/WK9ZLwYLv9uDqurgFXtObLbfPAAAAAAAAPtJwQTMme7ufOMD72etQdgvjNrfsor+4z6XLdtrTnT3VZkWTdx1pb6r8K+j9v32M9aa6u5PJvnYsPmfq2phNozjMl2C4g+6++Z1Ty75reH9yCRPG9onjo6fsr7p7PNvvjMpOgEAAAAAAGCLUzAB8+lXR+3nVdXR+xnv3FH7e1bR//HLnDvP/m54v0dV3Ws/4pwzaj9pP+L08F77EWMpC7NMHJLkKUN7LZfjGC+Nsje5vzPJl4f2SVV16yRPHbY/1t0f3c+89ja3Vf/mq+pumc6EcVF3X71SfwAAAAAAALYGBRMwh7r775P81bB5RJI/qKojVnt+Vb2kqh45irczyT8Om99aVcs+QK6qhyZ57LB5aZLz9iL1jXTaqP2q/YhzXpKLhvaxVfX4lTqvYGHGi9UsgbI33p5kYQaJZw7LXzx52P5kd5+/n/HHy2asOvfu/mqm1+CRSX4xk6KOJHnzfua0YG9ye9eo/RNVdasV+r480/89/JN9SQwAAAAAAIDNR8EEzK/nZLo8xCOSfLCqvnOlE6rqYVX1/iRvSHLwosP/e9Q+raruu+h4quruSd6R6X8bXrdByzvsi3cm+cjQfnpVvbGqFv8bfF1VHVJVz62qE8b7hyVR/sdo1zuq6tgV4tyrqh6wxKFLhvf7VtUhSxzfJ919eZIzh81jk7woyeHD9tvW4CMuGbUfspfn/vao/ePD+3VJTt+vjKZWnVt3fyLJGcPmPZL8/lK/h6p6Vib/hkmyK8lvrkGeAAAAAAAAbAIHbXQCwNK6+0tVdVySdye5d5IHJ/lwVf3fJH+dZGeSq5PcNsk9kxyf5EErxPujqnpykhOS3CnJP1bVqUk+nMmMBQ9N8qNJjhxOeX820cPj7t5dVU/J5PvcJclPJnlaVf1xko8nuSqTwoK7Z/Jdj8tkloJXLhHrj6vq15O8OMltkpxVVe9N8r4kl2VSjHLPJI9J8uhM/t0+uSjMmZlcs8OSvLuqTkvypUyX6ji3u6/Yx6/71kyWTTkgyWsW0s7aFCack+SmJLdI8vKq6iSfSHLDcPyK7l5ymZbuvriqzsrk32XBH3X3VWuQ177k9vxMZlb5pkx+9w8ZrsM/Jbl1JkuufN+o/wu7+wtrlCsAAAAAAABzriZ/TA3Mq6q6dZLXZvJQftkZE0YuT/LqJKd099cWxTooyZuSnLiHGO9M8uzuvn6ZnBb+w/G33X3sSoH21HctYw197pRJQcFxK8Ua3JzkBd39O8vEemWSn8+e/92f091vWXTuXZKcn8nD+qU8prvPHvruyHT2hNO6+7krfVhVHZbki/nGZSnO6u7HLnPK+NydSY5Ocml371imz2uT/OwyIVa8TlX1tCR/ONr1qGGJmTWxt7lV1b2T/EWS+6wQ9rpMiiXeskIfAAAAAAAAthhLcsCc6+6vdPePZzKjwUuTvCfJv2Qyu8TXknw5kwfzpyT5gSR36+7fXFwsMcT6WneflMkSH7+byV/aX5vk+kwe2L8tyXHd/dTliiXmXXd/obsfl8lyFb+dycwPX8mkOOLqJJ/K5IH+CzP5t1qyWGKI9epMZvf4pSTnJbliiLMryQVJfifJ92aJpTC6+/OZLBvxq0kuTHJNprNL7O93vDbJuxbtXovlOBbi//ckT0/y3kwKcG7ci9M/MGp/ai2LJfYlt+6+OJOZV04anXNTkiszmX3itUm+RbEEAAAAAADA9mOGCQDWTFWdmOTNw+ZLu/uNG5kPAAAAAAAALEfBBABrpqo+muSYTGYtuWt3X7HBKQEAAAAAAMCSLMkBwJqoqidlUiyRJKcrlgAAAAAAAGCemWECgH1SVYck+e4kByX51iQvT3JUkhuT3K+7/2UD0wMAAAAAALHeFE4AAADfSURBVIAVHbTRCQCwad0hyRlL7H+FYgkAAAAAAADmnYIJANbCV5J8Osnru/tdG50MAAAAAAAA7IklOQAAAAAAAACAbeeAjU4AAAAAAAAAAGC9KZgAAAAAAAAAALYdBRMAAAAAAAAAwLajYAIAAAAAAAAA2HYUTAAAAAAAAAAA246CCQAAAAAAAABg21EwAQAAAAAAAABsOwomAAAAAAAAAIBtR8EEAAAAAAAAALDtKJgAAAAAAAAAALYdBRMAAAAAAAAAwLajYAIAAAAAAAAA2HYUTAAAAAAAAAAA287/B+JiLQ+BT71OAAAAAElFTkSuQmCC\n"
                },
                "metadata": {
                  "image/png": {
                    "width": 1062,
                    "height": 314
                  },
                  "needs_background": "light"
                }
              }
            ]
          }
        },
        "8b050933b24a4a4a92ba53d338d8318e": {
          "model_module": "@jupyter-widgets/base",
          "model_name": "LayoutModel",
          "model_module_version": "1.2.0",
          "state": {
            "_model_module": "@jupyter-widgets/base",
            "_model_module_version": "1.2.0",
            "_model_name": "LayoutModel",
            "_view_count": null,
            "_view_module": "@jupyter-widgets/base",
            "_view_module_version": "1.2.0",
            "_view_name": "LayoutView",
            "align_content": null,
            "align_items": null,
            "align_self": null,
            "border": null,
            "bottom": null,
            "display": null,
            "flex": null,
            "flex_flow": null,
            "grid_area": null,
            "grid_auto_columns": null,
            "grid_auto_flow": null,
            "grid_auto_rows": null,
            "grid_column": null,
            "grid_gap": null,
            "grid_row": null,
            "grid_template_areas": null,
            "grid_template_columns": null,
            "grid_template_rows": null,
            "height": null,
            "justify_content": null,
            "justify_items": null,
            "left": null,
            "margin": null,
            "max_height": null,
            "max_width": null,
            "min_height": null,
            "min_width": null,
            "object_fit": null,
            "object_position": null,
            "order": null,
            "overflow": null,
            "overflow_x": null,
            "overflow_y": null,
            "padding": null,
            "right": null,
            "top": null,
            "visibility": null,
            "width": null
          }
        },
        "2452650e28854ee9885a4a33f9bb47ae": {
          "model_module": "@jupyter-widgets/base",
          "model_name": "LayoutModel",
          "model_module_version": "1.2.0",
          "state": {
            "_model_module": "@jupyter-widgets/base",
            "_model_module_version": "1.2.0",
            "_model_name": "LayoutModel",
            "_view_count": null,
            "_view_module": "@jupyter-widgets/base",
            "_view_module_version": "1.2.0",
            "_view_name": "LayoutView",
            "align_content": null,
            "align_items": null,
            "align_self": null,
            "border": null,
            "bottom": null,
            "display": null,
            "flex": null,
            "flex_flow": null,
            "grid_area": null,
            "grid_auto_columns": null,
            "grid_auto_flow": null,
            "grid_auto_rows": null,
            "grid_column": null,
            "grid_gap": null,
            "grid_row": null,
            "grid_template_areas": null,
            "grid_template_columns": null,
            "grid_template_rows": null,
            "height": null,
            "justify_content": null,
            "justify_items": null,
            "left": null,
            "margin": null,
            "max_height": null,
            "max_width": null,
            "min_height": null,
            "min_width": null,
            "object_fit": null,
            "object_position": null,
            "order": null,
            "overflow": null,
            "overflow_x": null,
            "overflow_y": null,
            "padding": null,
            "right": null,
            "top": null,
            "visibility": null,
            "width": null
          }
        },
        "7fe255753d444ae4815c66af6c727d09": {
          "model_module": "@jupyter-widgets/controls",
          "model_name": "DescriptionStyleModel",
          "model_module_version": "1.5.0",
          "state": {
            "_model_module": "@jupyter-widgets/controls",
            "_model_module_version": "1.5.0",
            "_model_name": "DescriptionStyleModel",
            "_view_count": null,
            "_view_module": "@jupyter-widgets/base",
            "_view_module_version": "1.2.0",
            "_view_name": "StyleView",
            "description_width": ""
          }
        },
        "0e78c74083684d8b9c3abb655a2dc934": {
          "model_module": "@jupyter-widgets/base",
          "model_name": "LayoutModel",
          "model_module_version": "1.2.0",
          "state": {
            "_model_module": "@jupyter-widgets/base",
            "_model_module_version": "1.2.0",
            "_model_name": "LayoutModel",
            "_view_count": null,
            "_view_module": "@jupyter-widgets/base",
            "_view_module_version": "1.2.0",
            "_view_name": "LayoutView",
            "align_content": null,
            "align_items": null,
            "align_self": null,
            "border": null,
            "bottom": null,
            "display": null,
            "flex": null,
            "flex_flow": null,
            "grid_area": null,
            "grid_auto_columns": null,
            "grid_auto_flow": null,
            "grid_auto_rows": null,
            "grid_column": null,
            "grid_gap": null,
            "grid_row": null,
            "grid_template_areas": null,
            "grid_template_columns": null,
            "grid_template_rows": null,
            "height": null,
            "justify_content": null,
            "justify_items": null,
            "left": null,
            "margin": null,
            "max_height": null,
            "max_width": null,
            "min_height": null,
            "min_width": null,
            "object_fit": null,
            "object_position": null,
            "order": null,
            "overflow": null,
            "overflow_x": null,
            "overflow_y": null,
            "padding": null,
            "right": null,
            "top": null,
            "visibility": null,
            "width": null
          }
        },
        "5be68b0ee5b141848e12a07aa3cbe544": {
          "model_module": "@jupyter-widgets/controls",
          "model_name": "TabModel",
          "model_module_version": "1.5.0",
          "state": {
            "_dom_classes": [],
            "_model_module": "@jupyter-widgets/controls",
            "_model_module_version": "1.5.0",
            "_model_name": "TabModel",
            "_titles": {
              "0": "Youtube",
              "1": "Bilibili"
            },
            "_view_count": null,
            "_view_module": "@jupyter-widgets/controls",
            "_view_module_version": "1.5.0",
            "_view_name": "TabView",
            "box_style": "",
            "children": [
              "IPY_MODEL_3bfd8f05edf5452abb344f46fda1445e",
              "IPY_MODEL_60c2ecd18b5b46f1b2bbde806485381c"
            ],
            "layout": "IPY_MODEL_d7a28f21d5a14f659205bc4ce66679ac",
            "selected_index": 0
          }
        },
        "3bfd8f05edf5452abb344f46fda1445e": {
          "model_module": "@jupyter-widgets/output",
          "model_name": "OutputModel",
          "model_module_version": "1.0.0",
          "state": {
            "_dom_classes": [],
            "_model_module": "@jupyter-widgets/output",
            "_model_module_version": "1.0.0",
            "_model_name": "OutputModel",
            "_view_count": null,
            "_view_module": "@jupyter-widgets/output",
            "_view_module_version": "1.0.0",
            "_view_name": "OutputView",
            "layout": "IPY_MODEL_7bcc010b4e224e2cae551587899ed955",
            "msg_id": "",
            "outputs": [
              {
                "output_type": "stream",
                "name": "stdout",
                "text": [
                  "Video available at https://youtube.com/watch?v=1qxW8CPW77U\n"
                ]
              },
              {
                "output_type": "display_data",
                "data": {
                  "text/plain": "<IPython.lib.display.YouTubeVideo at 0x7fc694717f10>",
                  "text/html": "\n        <iframe\n            width=\"854\"\n            height=\"480\"\n            src=\"https://www.youtube.com/embed/1qxW8CPW77U?fs=1&rel=0\"\n            frameborder=\"0\"\n            allowfullscreen\n        ></iframe>\n        ",
                  "image/jpeg": "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\n"
                },
                "metadata": {}
              }
            ]
          }
        },
        "60c2ecd18b5b46f1b2bbde806485381c": {
          "model_module": "@jupyter-widgets/output",
          "model_name": "OutputModel",
          "model_module_version": "1.0.0",
          "state": {
            "_dom_classes": [],
            "_model_module": "@jupyter-widgets/output",
            "_model_module_version": "1.0.0",
            "_model_name": "OutputModel",
            "_view_count": null,
            "_view_module": "@jupyter-widgets/output",
            "_view_module_version": "1.0.0",
            "_view_name": "OutputView",
            "layout": "IPY_MODEL_48a5e9927cc24e3c976a1f39a790bd8b",
            "msg_id": "",
            "outputs": [
              {
                "output_type": "stream",
                "name": "stdout",
                "text": [
                  "Video available at https://www.bilibili.com/video/BV1Gt4y1X76z\n"
                ]
              },
              {
                "output_type": "display_data",
                "data": {
                  "text/plain": "<__main__.BiliVideo at 0x7fc697bca510>",
                  "text/html": "\n        <iframe\n            width=\"854\"\n            height=\"480\"\n            src=\"https://player.bilibili.com/player.html?bvid=BV1Gt4y1X76z&page=1?fs=1\"\n            frameborder=\"0\"\n            allowfullscreen\n        ></iframe>\n        "
                },
                "metadata": {}
              }
            ]
          }
        },
        "d7a28f21d5a14f659205bc4ce66679ac": {
          "model_module": "@jupyter-widgets/base",
          "model_name": "LayoutModel",
          "model_module_version": "1.2.0",
          "state": {
            "_model_module": "@jupyter-widgets/base",
            "_model_module_version": "1.2.0",
            "_model_name": "LayoutModel",
            "_view_count": null,
            "_view_module": "@jupyter-widgets/base",
            "_view_module_version": "1.2.0",
            "_view_name": "LayoutView",
            "align_content": null,
            "align_items": null,
            "align_self": null,
            "border": null,
            "bottom": null,
            "display": null,
            "flex": null,
            "flex_flow": null,
            "grid_area": null,
            "grid_auto_columns": null,
            "grid_auto_flow": null,
            "grid_auto_rows": null,
            "grid_column": null,
            "grid_gap": null,
            "grid_row": null,
            "grid_template_areas": null,
            "grid_template_columns": null,
            "grid_template_rows": null,
            "height": null,
            "justify_content": null,
            "justify_items": null,
            "left": null,
            "margin": null,
            "max_height": null,
            "max_width": null,
            "min_height": null,
            "min_width": null,
            "object_fit": null,
            "object_position": null,
            "order": null,
            "overflow": null,
            "overflow_x": null,
            "overflow_y": null,
            "padding": null,
            "right": null,
            "top": null,
            "visibility": null,
            "width": null
          }
        },
        "7bcc010b4e224e2cae551587899ed955": {
          "model_module": "@jupyter-widgets/base",
          "model_name": "LayoutModel",
          "model_module_version": "1.2.0",
          "state": {
            "_model_module": "@jupyter-widgets/base",
            "_model_module_version": "1.2.0",
            "_model_name": "LayoutModel",
            "_view_count": null,
            "_view_module": "@jupyter-widgets/base",
            "_view_module_version": "1.2.0",
            "_view_name": "LayoutView",
            "align_content": null,
            "align_items": null,
            "align_self": null,
            "border": null,
            "bottom": null,
            "display": null,
            "flex": null,
            "flex_flow": null,
            "grid_area": null,
            "grid_auto_columns": null,
            "grid_auto_flow": null,
            "grid_auto_rows": null,
            "grid_column": null,
            "grid_gap": null,
            "grid_row": null,
            "grid_template_areas": null,
            "grid_template_columns": null,
            "grid_template_rows": null,
            "height": null,
            "justify_content": null,
            "justify_items": null,
            "left": null,
            "margin": null,
            "max_height": null,
            "max_width": null,
            "min_height": null,
            "min_width": null,
            "object_fit": null,
            "object_position": null,
            "order": null,
            "overflow": null,
            "overflow_x": null,
            "overflow_y": null,
            "padding": null,
            "right": null,
            "top": null,
            "visibility": null,
            "width": null
          }
        },
        "48a5e9927cc24e3c976a1f39a790bd8b": {
          "model_module": "@jupyter-widgets/base",
          "model_name": "LayoutModel",
          "model_module_version": "1.2.0",
          "state": {
            "_model_module": "@jupyter-widgets/base",
            "_model_module_version": "1.2.0",
            "_model_name": "LayoutModel",
            "_view_count": null,
            "_view_module": "@jupyter-widgets/base",
            "_view_module_version": "1.2.0",
            "_view_name": "LayoutView",
            "align_content": null,
            "align_items": null,
            "align_self": null,
            "border": null,
            "bottom": null,
            "display": null,
            "flex": null,
            "flex_flow": null,
            "grid_area": null,
            "grid_auto_columns": null,
            "grid_auto_flow": null,
            "grid_auto_rows": null,
            "grid_column": null,
            "grid_gap": null,
            "grid_row": null,
            "grid_template_areas": null,
            "grid_template_columns": null,
            "grid_template_rows": null,
            "height": null,
            "justify_content": null,
            "justify_items": null,
            "left": null,
            "margin": null,
            "max_height": null,
            "max_width": null,
            "min_height": null,
            "min_width": null,
            "object_fit": null,
            "object_position": null,
            "order": null,
            "overflow": null,
            "overflow_x": null,
            "overflow_y": null,
            "padding": null,
            "right": null,
            "top": null,
            "visibility": null,
            "width": null
          }
        }
      }
    }
  },
  "nbformat": 4,
  "nbformat_minor": 0
}