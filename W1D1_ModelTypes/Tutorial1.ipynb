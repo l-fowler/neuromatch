{
  "cells": [
    {
      "cell_type": "markdown",
      "metadata": {
        "id": "view-in-github",
        "colab_type": "text"
      },
      "source": [
        "<a href=\"https://colab.research.google.com/github/l-fowler/neuromatch/blob/main/W1D1_ModelTypes/Tutorial1.ipynb\" target=\"_parent\"><img src=\"https://colab.research.google.com/assets/colab-badge.svg\" alt=\"Open In Colab\"/></a>"
      ]
    },
    {
      "cell_type": "markdown",
      "metadata": {
        "execution": {},
        "id": "kEjVy5ueFdTM"
      },
      "source": [
        "# Tutorial 1: \"What\" models\n",
        "**Week 1, Day 1: Model Types**\n",
        "\n",
        "**By Neuromatch Academy**\n",
        "\n",
        "__Content creators:__ Matt Laporte, Byron Galbraith, Konrad Kording\n",
        "\n",
        "__Content reviewers:__ Dalin Guo, Aishwarya Balwani, Madineh Sarvestani, Maryam Vaziri-Pashkam, Michael Waskom, Ella Batty\n",
        "\n",
        "__Post-production team:__ Gagana B, Spiros Chavlis\n",
        "\n",
        "We would like to acknowledge [Steinmetz _et al._ (2019)](https://www.nature.com/articles/s41586-019-1787-x) for sharing their data, a subset of which is used here.\n"
      ]
    },
    {
      "cell_type": "markdown",
      "metadata": {
        "execution": {},
        "id": "f4k_71boFdTQ"
      },
      "source": [
        "<p align='center'><img src='https://github.com/NeuromatchAcademy/widgets/blob/master/sponsors.png?raw=True'/></p>"
      ]
    },
    {
      "cell_type": "markdown",
      "metadata": {
        "execution": {},
        "id": "CbUzRqqaFdTQ"
      },
      "source": [
        "___\n",
        "# Tutorial Objectives\n",
        "\n",
        "*Estimated timing of tutorial: 50 minutes*\n",
        "\n",
        "This is tutorial 1 of a 3-part series on different flavors of models used to understand neural data. In this tutorial we will explore 'What' models, used to describe the data. To understand what our data looks like, we will visualize it in different ways. Then we will compare it to simple mathematical models. Specifically, we will:\n",
        "\n",
        "- Load a dataset with spiking activity from hundreds of neurons and understand how it is organized\n",
        "- Make plots to visualize characteristics of the spiking activity across the population\n",
        "- Compute the distribution of \"inter-spike intervals\" (ISIs) for a single neuron\n",
        "- Consider several formal models of this distribution's shape and fit them to the data \"by hand\""
      ]
    },
    {
      "cell_type": "code",
      "execution_count": null,
      "metadata": {
        "cellView": "form",
        "execution": {},
        "id": "1w1Tx-27FdTR",
        "colab": {
          "base_uri": "https://localhost:8080/",
          "height": 501
        },
        "outputId": "135648a8-c5b2-4dfb-bc63-776cc9d69505"
      },
      "outputs": [
        {
          "output_type": "execute_result",
          "data": {
            "text/plain": [
              "<IPython.lib.display.IFrame at 0x7fd67a13c390>"
            ],
            "text/html": [
              "\n",
              "        <iframe\n",
              "            width=\"854\"\n",
              "            height=\"480\"\n",
              "            src=\"https://mfr.ca-1.osf.io/render?url=https://osf.io/6dxwe/?direct%26mode=render%26action=download%26mode=render\"\n",
              "            frameborder=\"0\"\n",
              "            allowfullscreen\n",
              "        ></iframe>\n",
              "        "
            ]
          },
          "metadata": {},
          "execution_count": 24
        }
      ],
      "source": [
        "# @title Tutorial slides\n",
        "\n",
        "# @markdown These are the slides for the videos in all tutorials today\n",
        "from IPython.display import IFrame\n",
        "IFrame(src=f\"https://mfr.ca-1.osf.io/render?url=https://osf.io/6dxwe/?direct%26mode=render%26action=download%26mode=render\", width=854, height=480)"
      ]
    },
    {
      "cell_type": "code",
      "execution_count": null,
      "metadata": {
        "cellView": "form",
        "execution": {},
        "id": "g4uNnRECFdTS",
        "colab": {
          "base_uri": "https://localhost:8080/",
          "height": 580,
          "referenced_widgets": [
            "85b8019a7b1d4a0e8d5dadddb1f2817e",
            "adf926dbaad3460bb3ab440cf106f94b",
            "5765e852ce734567858fd53a7af06dbf",
            "d0563be5f9f447e8bed49ce32af685a3",
            "62bad3eb421e4320aa7b965e470655fd",
            "ea56d72229b64be18cbe58d2437bb56a"
          ]
        },
        "outputId": "1e8e3780-566d-4a65-80d9-9e8e138b7f0b"
      },
      "outputs": [
        {
          "output_type": "display_data",
          "data": {
            "text/plain": [
              "Tab(children=(Output(), Output()), _titles={'0': 'Youtube', '1': 'Bilibili'})"
            ],
            "application/vnd.jupyter.widget-view+json": {
              "version_major": 2,
              "version_minor": 0,
              "model_id": "85b8019a7b1d4a0e8d5dadddb1f2817e"
            }
          },
          "metadata": {}
        }
      ],
      "source": [
        "# @title Video 1: \"What\" Models\n",
        "from ipywidgets import widgets\n",
        "\n",
        "out2 = widgets.Output()\n",
        "with out2:\n",
        "  from IPython.display import IFrame\n",
        "  class BiliVideo(IFrame):\n",
        "      def __init__(self, id, page=1, width=400, height=300, **kwargs):\n",
        "          self.id=id\n",
        "          src = 'https://player.bilibili.com/player.html?bvid={0}&page={1}'.format(id, page)\n",
        "          super(BiliVideo, self).__init__(src, width, height, **kwargs)\n",
        "\n",
        "  video = BiliVideo(id=\"BV1mz4y1X7ot\", width=854, height=480, fs=1)\n",
        "  print('Video available at https://www.bilibili.com/video/{0}'.format(video.id))\n",
        "  display(video)\n",
        "\n",
        "out1 = widgets.Output()\n",
        "with out1:\n",
        "  from IPython.display import YouTubeVideo\n",
        "  video = YouTubeVideo(id=\"KgqR_jbjMQg\", width=854, height=480, fs=1, rel=0)\n",
        "  print('Video available at https://youtube.com/watch?v=' + video.id)\n",
        "  display(video)\n",
        "\n",
        "out = widgets.Tab([out1, out2])\n",
        "out.set_title(0, 'Youtube')\n",
        "out.set_title(1, 'Bilibili')\n",
        "\n",
        "display(out)"
      ]
    },
    {
      "cell_type": "markdown",
      "metadata": {
        "execution": {},
        "id": "74_5Q7d0FdTT"
      },
      "source": [
        "# Setup\n",
        "\n"
      ]
    },
    {
      "cell_type": "markdown",
      "metadata": {
        "execution": {},
        "id": "4xvLQbakFdTU"
      },
      "source": [
        "Python requires you to explicitly \"import\" libraries before their functions are available to use. We will always specify our imports at the beginning of each notebook or script."
      ]
    },
    {
      "cell_type": "code",
      "execution_count": null,
      "metadata": {
        "execution": {},
        "pycharm": {
          "name": "#%%\n"
        },
        "id": "ubpHHhoTFdTU"
      },
      "outputs": [],
      "source": [
        "import numpy as np\n",
        "import matplotlib.pyplot as plt"
      ]
    },
    {
      "cell_type": "markdown",
      "metadata": {
        "execution": {},
        "id": "ZzApJA1NFdTV"
      },
      "source": [
        "Tutorial notebooks typically begin with several set-up steps that are hidden from view by default.\n",
        "\n",
        "**Important:** Even though the code is hidden, you still need to run it so that the rest of the notebook can work properly. Step through each cell, either by pressing the play button in the upper-left-hand corner or with a keyboard shortcut (`Cmd-Return` on a Mac, `Ctrl-Enter` otherwise). A number will appear inside the brackets (e.g. `[3]`) to tell you that the cell was executed and what order that happened in.\n",
        "\n",
        "If you are curious to see what is going on inside each cell, you can double click to expand. Once expanded, double-click the white space to the right of the editor to collapse again."
      ]
    },
    {
      "cell_type": "code",
      "execution_count": null,
      "metadata": {
        "cellView": "form",
        "execution": {},
        "pycharm": {
          "name": "#%%\n"
        },
        "id": "XrRSRf2UFdTW"
      },
      "outputs": [],
      "source": [
        "# @title Figure Settings\n",
        "import ipywidgets as widgets #interactive display\n",
        "\n",
        "%matplotlib inline\n",
        "%config InlineBackend.figure_format = 'retina'\n",
        "plt.style.use(\"https://raw.githubusercontent.com/NeuromatchAcademy/course-content/main/nma.mplstyle\")"
      ]
    },
    {
      "cell_type": "code",
      "execution_count": null,
      "metadata": {
        "cellView": "form",
        "execution": {},
        "id": "6-jwKZGDFdTW"
      },
      "outputs": [],
      "source": [
        "# @title Plotting functions\n",
        "\n",
        "def plot_isis(single_neuron_isis):\n",
        "  plt.hist(single_neuron_isis, bins=50, histtype=\"stepfilled\")\n",
        "  plt.axvline(single_neuron_isis.mean(), color=\"orange\", label=\"Mean ISI\")\n",
        "  plt.xlabel(\"ISI duration (s)\")\n",
        "  plt.ylabel(\"Number of spikes\")\n",
        "  plt.legend()"
      ]
    },
    {
      "cell_type": "code",
      "execution_count": null,
      "metadata": {
        "cellView": "form",
        "execution": {},
        "pycharm": {
          "name": "#%%\n"
        },
        "id": "EIEDkKX-FdTX"
      },
      "outputs": [],
      "source": [
        "#@title Data retrieval\n",
        "#@markdown This cell downloads the example dataset that we will use in this tutorial.\n",
        "import io\n",
        "import requests\n",
        "r = requests.get('https://osf.io/sy5xt/download')\n",
        "if r.status_code != 200:\n",
        "  print('Failed to download data')\n",
        "else:\n",
        "  spike_times = np.load(io.BytesIO(r.content), allow_pickle=True)['spike_times']"
      ]
    },
    {
      "cell_type": "markdown",
      "metadata": {
        "execution": {},
        "id": "YFpaZfqHFdTX"
      },
      "source": [
        "---\n",
        "\n",
        "# Section 1: Exploring the Steinmetz dataset\n",
        "\n",
        "In this tutorial we will explore the structure of a neuroscience dataset.\n",
        "\n",
        "We consider a subset of data from a study of [Steinmetz _et al._ (2019)](https://www.nature.com/articles/s41586-019-1787-x). In this study, Neuropixels probes were implanted in the brains of mice. Electrical potentials were measured by hundreds of electrodes along the length of each probe. Each electrode's measurements captured local variations in the electric field due to nearby spiking neurons. A spike sorting algorithm was used to infer spike times and cluster spikes according to common origin: a single cluster of sorted spikes is causally attributed to a single neuron.\n",
        "\n",
        "In particular, a single recording session of spike times and neuron assignments was loaded and assigned to `spike_times` in the preceding setup.\n",
        "\n",
        "Typically a dataset comes with some information about its structure. However, this information may be incomplete. You might also apply some transformations or \"pre-processing\" to create a working representation of the data of interest, which might go partly undocumented depending on the circumstances. In any case it is important to be able to use the available tools to investigate unfamiliar aspects of a data structure.\n",
        "\n",
        "Let's see what our data looks like..."
      ]
    },
    {
      "cell_type": "markdown",
      "metadata": {
        "execution": {},
        "id": "jWhgL3WAFdTX"
      },
      "source": [
        "## Section 1.1: Warming up with `spike_times`"
      ]
    },
    {
      "cell_type": "markdown",
      "metadata": {
        "execution": {},
        "id": "-YYTquOFFdTY"
      },
      "source": [
        "What is the Python type of our variable?"
      ]
    },
    {
      "cell_type": "code",
      "execution_count": null,
      "metadata": {
        "execution": {},
        "pycharm": {
          "name": "#%%\n"
        },
        "id": "JFxDTcb0FdTY",
        "colab": {
          "base_uri": "https://localhost:8080/"
        },
        "outputId": "287ac130-dc9b-43a6-d4d0-383a6156b21d"
      },
      "outputs": [
        {
          "output_type": "execute_result",
          "data": {
            "text/plain": [
              "numpy.ndarray"
            ]
          },
          "metadata": {},
          "execution_count": 30
        }
      ],
      "source": [
        "type(spike_times)"
      ]
    },
    {
      "cell_type": "markdown",
      "metadata": {
        "execution": {},
        "id": "EVHGjryqFdTY"
      },
      "source": [
        "You should see `numpy.ndarray`, which means that it's a normal NumPy array.\n",
        "\n",
        "If you see an error message, it probably means that you did not execute the set-up cells at the top of the notebook. So go ahead and make sure to do that.\n",
        "\n",
        "Once everything is running properly, we can ask the next question about the dataset: what's its shape?"
      ]
    },
    {
      "cell_type": "code",
      "execution_count": null,
      "metadata": {
        "execution": {},
        "pycharm": {
          "name": "#%%\n"
        },
        "id": "FpFSvzkTFdTY",
        "colab": {
          "base_uri": "https://localhost:8080/"
        },
        "outputId": "5325bc1a-07aa-4711-821e-e0b3d8fd775b"
      },
      "outputs": [
        {
          "output_type": "execute_result",
          "data": {
            "text/plain": [
              "(734,)"
            ]
          },
          "metadata": {},
          "execution_count": 31
        }
      ],
      "source": [
        "spike_times.shape"
      ]
    },
    {
      "cell_type": "markdown",
      "metadata": {
        "execution": {},
        "id": "BkKB9sfdFdTZ"
      },
      "source": [
        "There are 734 entries in one dimension, and no other dimensions. What is the Python type of the first entry, and what is *its* shape?"
      ]
    },
    {
      "cell_type": "code",
      "execution_count": null,
      "metadata": {
        "execution": {},
        "pycharm": {
          "name": "#%%\n"
        },
        "id": "rvC6YEaBFdTZ",
        "colab": {
          "base_uri": "https://localhost:8080/"
        },
        "outputId": "789af4e7-7176-46d1-8b06-4f9b2ea3e6a1"
      },
      "outputs": [
        {
          "output_type": "stream",
          "name": "stdout",
          "text": [
            "<class 'numpy.ndarray'>\n",
            "(826,)\n"
          ]
        }
      ],
      "source": [
        "idx = 0\n",
        "print(\n",
        "  type(spike_times[idx]),\n",
        "  spike_times[idx].shape,\n",
        "  sep=\"\\n\",\n",
        ")"
      ]
    },
    {
      "cell_type": "markdown",
      "metadata": {
        "execution": {},
        "id": "BRcGqmNkFdTZ"
      },
      "source": [
        "It's also a NumPy array with a 1D shape! Why didn't this show up as a second dimension in the shape of `spike_times`? That is, why not `spike_times.shape == (734, 826)`?\n",
        "\n",
        "To investigate, let's check another entry."
      ]
    },
    {
      "cell_type": "code",
      "execution_count": null,
      "metadata": {
        "execution": {},
        "pycharm": {
          "name": "#%%\n"
        },
        "id": "KmIEl_jQFdTZ",
        "colab": {
          "base_uri": "https://localhost:8080/"
        },
        "outputId": "502b9592-7b7f-472c-d44f-c3210ac866a3"
      },
      "outputs": [
        {
          "output_type": "stream",
          "name": "stdout",
          "text": [
            "<class 'numpy.ndarray'>\n",
            "(9723,)\n"
          ]
        }
      ],
      "source": [
        "idx = 321\n",
        "print(\n",
        "  type(spike_times[idx]),\n",
        "  spike_times[idx].shape,\n",
        "  sep=\"\\n\",\n",
        ")"
      ]
    },
    {
      "cell_type": "markdown",
      "metadata": {
        "execution": {},
        "id": "vCsKaQBMFdTa"
      },
      "source": [
        "It's also a 1D NumPy array, but it has a different shape. Checking the NumPy types of the values in these arrays, and their first few elements, we see they are composed of floating point numbers (not another level of `np.ndarray`):"
      ]
    },
    {
      "cell_type": "code",
      "execution_count": null,
      "metadata": {
        "execution": {},
        "pycharm": {
          "name": "#%%\n"
        },
        "id": "mwwaj19sFdTa",
        "colab": {
          "base_uri": "https://localhost:8080/"
        },
        "outputId": "e14e447a-da58-4cef-bc0e-bd3944990515"
      },
      "outputs": [
        {
          "output_type": "stream",
          "name": "stdout",
          "text": [
            "Neuron 0:\n",
            "float32\n",
            "[ 0.8149   14.822467 24.9646   25.1436   38.8709  ]\n",
            "\n",
            "\n",
            "Neuron 321:\n",
            "float32\n",
            "[1.0698667 1.1536334 1.2403667 1.7072    1.799    ]\n",
            "\n",
            "\n"
          ]
        }
      ],
      "source": [
        "i_neurons = [0, 321]\n",
        "i_print = slice(0, 5)\n",
        "\n",
        "for i in i_neurons:\n",
        "  print(\n",
        "    \"Neuron {}:\".format(i),\n",
        "    spike_times[i].dtype,\n",
        "    spike_times[i][i_print],\n",
        "    \"\\n\",\n",
        "    sep=\"\\n\"\n",
        "  )"
      ]
    },
    {
      "cell_type": "markdown",
      "metadata": {
        "execution": {},
        "id": "E974n_b2FdTa"
      },
      "source": [
        "Note that this time we've checked the NumPy `dtype` rather than the Python variable type. These two arrays contain floating point numbers (\"floats\") with 32 bits of precision.\n",
        "\n",
        "The basic picture is coming together:\n",
        "- `spike_times` is 1D, its entries are NumPy arrays, and its length is the number of neurons (734): by indexing it, we select a subset of neurons.\n",
        "- An array in `spike_times` is also 1D and corresponds to a single neuron; its entries are floating point numbers, and its length is the number of spikes attributed to that neuron. By indexing it, we select a subset of spike times for that neuron.\n",
        "\n",
        "Visually, you can think of the data structure as looking something like this:\n",
        "\n",
        "```\n",
        "| . . . . . |\n",
        "| . . . . . . . . |\n",
        "| . . . |\n",
        "| . . . . . . . |\n",
        "```\n",
        "\n",
        "Before moving on, we'll calculate and store the number of neurons in the dataset and the number of spikes per neuron:"
      ]
    },
    {
      "cell_type": "code",
      "execution_count": null,
      "metadata": {
        "execution": {},
        "pycharm": {
          "name": "#%%\n"
        },
        "id": "D-yp5WL8FdTa",
        "colab": {
          "base_uri": "https://localhost:8080/"
        },
        "outputId": "d3cfa305-1f7a-4349-85f6-a52ce6ab8b30"
      },
      "outputs": [
        {
          "output_type": "stream",
          "name": "stdout",
          "text": [
            "Number of neurons: 734\n",
            "Number of spikes for first five neurons: [826, 2818, 3953, 646, 1115]\n"
          ]
        }
      ],
      "source": [
        "n_neurons = len(spike_times)\n",
        "total_spikes_per_neuron = [len(spike_times_i) for spike_times_i in spike_times]\n",
        "\n",
        "print(f\"Number of neurons: {n_neurons}\")\n",
        "print(f\"Number of spikes for first five neurons: {total_spikes_per_neuron[:5]}\")"
      ]
    },
    {
      "cell_type": "code",
      "execution_count": null,
      "metadata": {
        "cellView": "form",
        "execution": {},
        "id": "8_mGtBBoFdTb",
        "colab": {
          "base_uri": "https://localhost:8080/",
          "height": 581,
          "referenced_widgets": [
            "046fb089a754457084b1d897d380e26b",
            "1afaa820eb384a9faee960436cb1a782",
            "7cd8b3fab1fa4ae9b226ee497bc91818",
            "2a037a60d325447e81646a610a1ea32d",
            "2d2bb710b333475b9e763ed794f2fbe2",
            "526cbb16172d47bfa2a128460d339780"
          ]
        },
        "outputId": "ce9dee8e-9c76-446c-a1c7-e816c1de2102"
      },
      "outputs": [
        {
          "output_type": "display_data",
          "data": {
            "text/plain": [
              "Tab(children=(Output(), Output()), _titles={'0': 'Youtube', '1': 'Bilibili'})"
            ],
            "application/vnd.jupyter.widget-view+json": {
              "version_major": 2,
              "version_minor": 0,
              "model_id": "046fb089a754457084b1d897d380e26b"
            }
          },
          "metadata": {}
        }
      ],
      "source": [
        "# @title Video 2: Exploring the dataset\n",
        "from ipywidgets import widgets\n",
        "\n",
        "out2 = widgets.Output()\n",
        "with out2:\n",
        "  from IPython.display import IFrame\n",
        "  class BiliVideo(IFrame):\n",
        "      def __init__(self, id, page=1, width=400, height=300, **kwargs):\n",
        "          self.id=id\n",
        "          src = 'https://player.bilibili.com/player.html?bvid={0}&page={1}'.format(id, page)\n",
        "          super(BiliVideo, self).__init__(src, width, height, **kwargs)\n",
        "\n",
        "  video = BiliVideo(id=\"BV1Hp4y1S7Au\", width=854, height=480, fs=1)\n",
        "  print('Video available at https://www.bilibili.com/video/{0}'.format(video.id))\n",
        "  display(video)\n",
        "\n",
        "out1 = widgets.Output()\n",
        "with out1:\n",
        "  from IPython.display import YouTubeVideo\n",
        "  video = YouTubeVideo(id=\"oHwYWUI_o1U\", width=854, height=480, fs=1, rel=0)\n",
        "  print('Video available at https://youtube.com/watch?v=' + video.id)\n",
        "  display(video)\n",
        "\n",
        "out = widgets.Tab([out1, out2])\n",
        "out.set_title(0, 'Youtube')\n",
        "out.set_title(1, 'Bilibili')\n",
        "\n",
        "display(out)"
      ]
    },
    {
      "cell_type": "markdown",
      "metadata": {
        "execution": {},
        "id": "FIUY9VWoFdTb"
      },
      "source": [
        "## Section 1.2: Getting warmer: counting and plotting total spike counts\n",
        "\n",
        "As we've seen, the number of spikes over the entire recording is variable between neurons. More generally, some neurons tend to spike more than others in a given period. Let's explore what the distribution of spiking looks like across all the neurons in the dataset."
      ]
    },
    {
      "cell_type": "markdown",
      "metadata": {
        "execution": {},
        "id": "08knrlfJFdTb"
      },
      "source": [
        "Are most neurons \"loud\" or \"quiet\", compared to the average? To see, we'll define bins of constant width in terms of total spikes and count the neurons that fall in each bin. This is known as a \"histogram\".\n",
        "\n",
        "You can plot a histogram with the matplotlib function `plt.hist`. If you just need to compute it, you can use the numpy function `np.histogram` instead."
      ]
    },
    {
      "cell_type": "code",
      "execution_count": null,
      "metadata": {
        "execution": {},
        "pycharm": {
          "name": "#%%\n"
        },
        "id": "jKpShHqkFdTb",
        "colab": {
          "base_uri": "https://localhost:8080/",
          "height": 431
        },
        "outputId": "64fde401-7257-428f-d0ba-db4bcdfce78c"
      },
      "outputs": [
        {
          "output_type": "display_data",
          "data": {
            "text/plain": [
              "<Figure size 576x432 with 1 Axes>"
            ],
            "image/png": "[encoded data removed]"
          },
          "metadata": {
            "image/png": {
              "width": 558,
              "height": 414
            },
            "needs_background": "light"
          }
        }
      ],
      "source": [
        "plt.hist(total_spikes_per_neuron, bins=50, histtype=\"stepfilled\")\n",
        "plt.xlabel(\"Total spikes per neuron\")\n",
        "plt.ylabel(\"Number of neurons\");"
      ]
    },
    {
      "cell_type": "markdown",
      "metadata": {
        "execution": {},
        "id": "bVo2GKYrFdTc"
      },
      "source": [
        "Let's see what percentage of neurons have a below-average spike count:"
      ]
    },
    {
      "cell_type": "code",
      "execution_count": null,
      "metadata": {
        "execution": {},
        "pycharm": {
          "name": "#%%\n"
        },
        "id": "yZRR4BNNFdTc",
        "colab": {
          "base_uri": "https://localhost:8080/"
        },
        "outputId": "1085d93d-bd41-4379-b2c5-532c64f580b8"
      },
      "outputs": [
        {
          "output_type": "stream",
          "name": "stdout",
          "text": [
            "68.0% of neurons are below the mean\n"
          ]
        }
      ],
      "source": [
        "mean_spike_count = np.mean(total_spikes_per_neuron)\n",
        "frac_below_mean = (total_spikes_per_neuron < mean_spike_count).mean()\n",
        "print(f\"{frac_below_mean:2.1%} of neurons are below the mean\")"
      ]
    },
    {
      "cell_type": "markdown",
      "metadata": {
        "execution": {},
        "id": "9FcUDPICFdTc"
      },
      "source": [
        "We can also see this by adding the average spike count to the histogram plot:"
      ]
    },
    {
      "cell_type": "code",
      "execution_count": null,
      "metadata": {
        "execution": {},
        "pycharm": {
          "name": "#%%\n"
        },
        "id": "_IA95IAOFdTc",
        "colab": {
          "base_uri": "https://localhost:8080/",
          "height": 431
        },
        "outputId": "7801177f-9c53-4f7f-8316-3c922060cbc5"
      },
      "outputs": [
        {
          "output_type": "display_data",
          "data": {
            "text/plain": [
              "<Figure size 576x432 with 1 Axes>"
            ],
            "image/png": "[encoded data removed]"
          },
          "metadata": {
            "image/png": {
              "width": 558,
              "height": 414
            },
            "needs_background": "light"
          }
        }
      ],
      "source": [
        "plt.hist(total_spikes_per_neuron, bins=50, histtype=\"stepfilled\")\n",
        "plt.xlabel(\"Total spikes per neuron\")\n",
        "plt.ylabel(\"Number of neurons\")\n",
        "plt.axvline(mean_spike_count, color=\"orange\", label=\"Mean neuron\")\n",
        "plt.legend();"
      ]
    },
    {
      "cell_type": "markdown",
      "metadata": {
        "execution": {},
        "id": "_m_hAj2kFdTc"
      },
      "source": [
        "This shows that the majority of neurons are relatively \"quiet\" compared to the mean, while a small number of neurons are exceptionally \"loud\": they must have spiked more often to reach a large count.\n",
        "\n",
        "### Coding Exercise 1.2: Comparing mean and median neurons\n",
        "\n",
        "If the mean neuron is more active than 68% of the population, what does that imply about the relationship between the mean neuron and the median neuron?\n",
        "\n",
        "*Exercise objective:* Reproduce the plot above, but add the median neuron.\n"
      ]
    },
    {
      "cell_type": "code",
      "execution_count": null,
      "metadata": {
        "execution": {},
        "pycharm": {
          "name": "#%%\n"
        },
        "id": "2y1BTgXSFdTc",
        "colab": {
          "base_uri": "https://localhost:8080/",
          "height": 449
        },
        "outputId": "faed2b79-fcf5-4232-bf0f-753046583dbe"
      },
      "outputs": [
        {
          "output_type": "execute_result",
          "data": {
            "text/plain": [
              "<matplotlib.legend.Legend at 0x7fd678800650>"
            ]
          },
          "metadata": {},
          "execution_count": 40
        },
        {
          "output_type": "display_data",
          "data": {
            "text/plain": [
              "<Figure size 576x432 with 1 Axes>"
            ],
            "image/png": "[encoded data removed]"
          },
          "metadata": {
            "image/png": {
              "width": 558,
              "height": 414
            },
            "needs_background": "light"
          }
        }
      ],
      "source": [
        "#################################################################################\n",
        "## TODO for students:\n",
        "# Fill out function and remove\n",
        "# raise NotImplementedError(\"Student exercise: complete histogram plotting with median\")\n",
        "#################################################################################\n",
        "\n",
        "# Compute median spike count\n",
        "median_spike_count = np.median(total_spikes_per_neuron)  # Hint: Try the function np.median\n",
        "\n",
        "# Visualize median, mean, and histogram\n",
        "plt.hist(total_spikes_per_neuron, bins=50, histtype=\"stepfilled\")\n",
        "plt.axvline(median_spike_count, color=\"limegreen\", label=\"Median neuron\")\n",
        "plt.axvline(mean_spike_count, color=\"orange\", label=\"Mean neuron\")\n",
        "plt.xlabel(\"Total spikes per neuron\")\n",
        "plt.ylabel(\"Number of neurons\")\n",
        "plt.legend()"
      ]
    },
    {
      "cell_type": "code",
      "execution_count": null,
      "metadata": {
        "execution": {},
        "pycharm": {
          "name": "#%%\n"
        },
        "id": "RI81Jd2cFdTd",
        "colab": {
          "base_uri": "https://localhost:8080/",
          "height": 430
        },
        "outputId": "1fc5ba75-6ea6-4a0b-ccd2-3f5c7a45c923"
      },
      "outputs": [
        {
          "output_type": "display_data",
          "data": {
            "text/plain": [
              "<Figure size 576x432 with 1 Axes>"
            ],
            "image/png": "[encoded data removed]"
          },
          "metadata": {
            "image/png": {
              "width": 557,
              "height": 413
            }
          }
        }
      ],
      "source": [
        "# to_remove solution\n",
        "\n",
        "# Compute median spike count\n",
        "median_spike_count = np.median(total_spikes_per_neuron)  # Hint: Try the function np.median\n",
        "\n",
        "# Visualize median, mean, and histogram\n",
        "with plt.xkcd():\n",
        "  plt.hist(total_spikes_per_neuron, bins=50, histtype=\"stepfilled\")\n",
        "  plt.axvline(median_spike_count, color=\"limegreen\", label=\"Median neuron\")\n",
        "  plt.axvline(mean_spike_count, color=\"orange\", label=\"Mean neuron\")\n",
        "  plt.xlabel(\"Total spikes per neuron\")\n",
        "  plt.ylabel(\"Number of neurons\")\n",
        "  plt.legend()"
      ]
    },
    {
      "cell_type": "markdown",
      "metadata": {
        "execution": {},
        "id": "-VX5BuPEFdTd"
      },
      "source": [
        "\n",
        "*Bonus:* The median is the 50th percentile. What about other percentiles? Can you show the interquartile range on the histogram?"
      ]
    },
    {
      "cell_type": "markdown",
      "metadata": {
        "execution": {},
        "id": "SKEaWGJ2FdTd"
      },
      "source": [
        "---\n",
        "\n",
        "# Section 2: Visualizing neuronal spiking activity\n",
        "\n",
        "*Estimated timing to here from start of tutorial: 15 min*"
      ]
    },
    {
      "cell_type": "markdown",
      "metadata": {
        "execution": {},
        "id": "yRCIHH3cFdTd"
      },
      "source": [
        "## Section 2.1: Getting a subset of the data\n",
        "\n",
        "Now we'll visualize trains of spikes. Because the recordings are long, we will first define a short time interval and restrict the visualization to only the spikes in this interval. We defined a helper function, `restrict_spike_times`, to do this for you. If you call `help()` on the function, it will tell you a little bit about itself:"
      ]
    },
    {
      "cell_type": "code",
      "execution_count": null,
      "metadata": {
        "cellView": "form",
        "execution": {},
        "id": "nz-DvVwfFdTd"
      },
      "outputs": [],
      "source": [
        "# @markdown Execute this cell for helper function `restrict_spike_times`\n",
        "def restrict_spike_times(spike_times, interval):\n",
        "  \"\"\"Given a spike_time dataset, restrict to spikes within given interval.\n",
        "\n",
        "  Args:\n",
        "    spike_times (sequence of np.ndarray): List or array of arrays,\n",
        "      each inner array has spike times for a single neuron.\n",
        "    interval (tuple): Min, max time values; keep min <= t < max.\n",
        "\n",
        "  Returns:\n",
        "    np.ndarray: like `spike_times`, but only within `interval`\n",
        "  \"\"\"\n",
        "  interval_spike_times = []\n",
        "  for spikes in spike_times:\n",
        "    interval_mask = (spikes >= interval[0]) & (spikes < interval[1])\n",
        "    interval_spike_times.append(spikes[interval_mask])\n",
        "  return np.array(interval_spike_times, object)"
      ]
    },
    {
      "cell_type": "code",
      "execution_count": null,
      "metadata": {
        "execution": {},
        "pycharm": {
          "name": "#%%\n"
        },
        "id": "aJpF0uECFdTe",
        "colab": {
          "base_uri": "https://localhost:8080/"
        },
        "outputId": "f0c68046-f15e-454b-9f1f-e242cde554cd"
      },
      "outputs": [
        {
          "output_type": "stream",
          "name": "stdout",
          "text": [
            "Help on function restrict_spike_times in module __main__:\n",
            "\n",
            "restrict_spike_times(spike_times, interval)\n",
            "    Given a spike_time dataset, restrict to spikes within given interval.\n",
            "    \n",
            "    Args:\n",
            "      spike_times (sequence of np.ndarray): List or array of arrays,\n",
            "        each inner array has spike times for a single neuron.\n",
            "      interval (tuple): Min, max time values; keep min <= t < max.\n",
            "    \n",
            "    Returns:\n",
            "      np.ndarray: like `spike_times`, but only within `interval`\n",
            "\n"
          ]
        }
      ],
      "source": [
        "help(restrict_spike_times)"
      ]
    },
    {
      "cell_type": "code",
      "execution_count": null,
      "metadata": {
        "execution": {},
        "pycharm": {
          "name": "#%%\n"
        },
        "id": "-2eGb801FdTe"
      },
      "outputs": [],
      "source": [
        "t_interval = (5, 15)  # units are seconds after start of recording\n",
        "interval_spike_times = restrict_spike_times(spike_times, t_interval)"
      ]
    },
    {
      "cell_type": "markdown",
      "metadata": {
        "execution": {},
        "id": "9MmEZMDkFdTe"
      },
      "source": [
        "Is this a representative interval? What fraction of the total spikes fall in this interval?"
      ]
    },
    {
      "cell_type": "code",
      "execution_count": null,
      "metadata": {
        "execution": {},
        "pycharm": {
          "name": "#%%\n"
        },
        "id": "a81Zi2uvFdTe",
        "colab": {
          "base_uri": "https://localhost:8080/"
        },
        "outputId": "d191c482-547c-4f0a-9269-87ea1a8d635b"
      },
      "outputs": [
        {
          "output_type": "stream",
          "name": "stdout",
          "text": [
            "0.33% of the total spikes are in the interval\n"
          ]
        }
      ],
      "source": [
        "original_counts = sum([len(spikes) for spikes in spike_times])\n",
        "interval_counts = sum([len(spikes) for spikes in interval_spike_times])\n",
        "frac_interval_spikes = interval_counts / original_counts\n",
        "print(f\"{frac_interval_spikes:.2%} of the total spikes are in the interval\")"
      ]
    },
    {
      "cell_type": "markdown",
      "metadata": {
        "execution": {},
        "id": "V8WFdZ_LFdTe"
      },
      "source": [
        "How does this compare to the ratio between the interval duration and the experiment duration? (What fraction of the total time is in this interval?)\n",
        "\n",
        "We can approximate the experiment duration by taking the minimum and maximum spike time in the whole dataset. To do that, we \"concatenate\" all of the neurons into one array and then use `np.ptp` (\"peak-to-peak\") to get the difference between the maximum and minimum value:"
      ]
    },
    {
      "cell_type": "code",
      "execution_count": null,
      "metadata": {
        "execution": {},
        "pycharm": {
          "name": "#%%\n"
        },
        "id": "UgR0z30kFdTe",
        "colab": {
          "base_uri": "https://localhost:8080/"
        },
        "outputId": "af71213b-9ffb-41f5-eab0-dd37cecf56eb"
      },
      "outputs": [
        {
          "output_type": "stream",
          "name": "stdout",
          "text": [
            "0.37% of the total time is in the interval\n"
          ]
        }
      ],
      "source": [
        "spike_times_flat = np.concatenate(spike_times)\n",
        "experiment_duration = np.ptp(spike_times_flat)\n",
        "interval_duration = t_interval[1] - t_interval[0]\n",
        "\n",
        "frac_interval_time = interval_duration / experiment_duration\n",
        "print(f\"{frac_interval_time:.2%} of the total time is in the interval\")"
      ]
    },
    {
      "cell_type": "markdown",
      "metadata": {
        "execution": {},
        "id": "OpZWHASQFdTe"
      },
      "source": [
        "These two values—the fraction of total spikes and the fraction of total time—are similar. This suggests the average spike rate of the neuronal population is not very different in this interval compared to the entire recording.\n",
        "\n",
        "## Section 2.2: Plotting spike trains and rasters\n",
        "\n",
        "Now that we have a representative subset, we're ready to plot the spikes, using the matplotlib `plt.eventplot` function. Let's look at a single neuron first:"
      ]
    },
    {
      "cell_type": "code",
      "execution_count": null,
      "metadata": {
        "execution": {},
        "pycharm": {
          "name": "#%%\n"
        },
        "id": "M03iOVj5FdTf",
        "colab": {
          "base_uri": "https://localhost:8080/",
          "height": 431
        },
        "outputId": "1029e30d-d4b2-4ad7-c529-2daf4dc94f02"
      },
      "outputs": [
        {
          "output_type": "display_data",
          "data": {
            "text/plain": [
              "<Figure size 576x432 with 1 Axes>"
            ],
            "image/png": "[encoded data removed]"
          },
          "metadata": {
            "image/png": {
              "width": 557,
              "height": 414
            },
            "needs_background": "light"
          }
        }
      ],
      "source": [
        "neuron_idx = 1\n",
        "plt.eventplot(interval_spike_times[neuron_idx], color=\".2\")\n",
        "plt.xlabel(\"Time (s)\")\n",
        "plt.yticks([]);"
      ]
    },
    {
      "cell_type": "markdown",
      "metadata": {
        "execution": {},
        "id": "Iw88mnNfFdTf"
      },
      "source": [
        "We can also plot multiple neurons. Here are three:"
      ]
    },
    {
      "cell_type": "code",
      "execution_count": null,
      "metadata": {
        "execution": {},
        "pycharm": {
          "name": "#%%\n"
        },
        "id": "-msgl1LbFdTf",
        "colab": {
          "base_uri": "https://localhost:8080/",
          "height": 430
        },
        "outputId": "74b52127-0817-49b4-8489-b54752607512"
      },
      "outputs": [
        {
          "output_type": "display_data",
          "data": {
            "text/plain": [
              "<Figure size 576x432 with 1 Axes>"
            ],
            "image/png": "[encoded data removed]"
          },
          "metadata": {
            "image/png": {
              "width": 557,
              "height": 413
            },
            "needs_background": "light"
          }
        }
      ],
      "source": [
        "neuron_idx = [1, 11, 51]\n",
        "plt.eventplot(interval_spike_times[neuron_idx], color=\".2\")\n",
        "plt.xlabel(\"Time (s)\")\n",
        "plt.yticks([]);"
      ]
    },
    {
      "cell_type": "markdown",
      "metadata": {
        "execution": {},
        "id": "h9KVVzfOFdTf"
      },
      "source": [
        "This makes a \"raster\" plot, where the spikes from each neuron appear in a different row.\n",
        "\n",
        "Plotting a large number of neurons can give you a sense for the characteristics in the population. Let's show every 5th neuron that was recorded:"
      ]
    },
    {
      "cell_type": "code",
      "execution_count": null,
      "metadata": {
        "execution": {},
        "pycharm": {
          "name": "#%%\n"
        },
        "id": "HBlXiAh7FdTf",
        "colab": {
          "base_uri": "https://localhost:8080/",
          "height": 430
        },
        "outputId": "c6ccf81b-e5ab-47c6-e452-7ae3aaa6603a"
      },
      "outputs": [
        {
          "output_type": "display_data",
          "data": {
            "text/plain": [
              "<Figure size 576x432 with 1 Axes>"
            ],
            "image/png": "[encoded data removed]"
          },
          "metadata": {
            "image/png": {
              "width": 558,
              "height": 413
            },
            "needs_background": "light"
          }
        }
      ],
      "source": [
        "neuron_idx = np.arange(0, len(spike_times), 5)\n",
        "plt.eventplot(interval_spike_times[neuron_idx], color=\".2\")\n",
        "plt.xlabel(\"Time (s)\")\n",
        "plt.yticks([]);"
      ]
    },
    {
      "cell_type": "markdown",
      "metadata": {
        "execution": {},
        "id": "qDJZffd4FdTg"
      },
      "source": [
        "*Question*: How does the information in this plot relate to the histogram of total spike counts that you saw above?"
      ]
    },
    {
      "cell_type": "code",
      "execution_count": null,
      "metadata": {
        "execution": {},
        "id": "rK_4VnWqFdTg",
        "colab": {
          "base_uri": "https://localhost:8080/",
          "height": 53
        },
        "outputId": "34b3ef02-affc-41f9-8398-eb5ddb9cca41"
      },
      "outputs": [
        {
          "output_type": "execute_result",
          "data": {
            "text/plain": [
              "\"\\nThe above histogram is the distribution (across neurons) of the cumulative sum of\\nall individual neurons' total spike count, i.e. sum across each row in the raster plot.\\n\""
            ],
            "application/vnd.google.colaboratory.intrinsic+json": {
              "type": "string"
            }
          },
          "metadata": {},
          "execution_count": 50
        }
      ],
      "source": [
        "# to_remove explanation\n",
        "\n",
        "\"\"\"\n",
        "The above histogram is the distribution (across neurons) of the cumulative sum of\n",
        "all individual neurons' total spike count, i.e. sum across each row in the raster plot.\n",
        "\"\"\""
      ]
    },
    {
      "cell_type": "code",
      "execution_count": null,
      "metadata": {
        "cellView": "form",
        "execution": {},
        "id": "nag4ZYgyFdTg",
        "colab": {
          "base_uri": "https://localhost:8080/",
          "height": 581,
          "referenced_widgets": [
            "cbaea2a4f9e1455c818e4619577b940f",
            "4410ef27f0c34a0c8c67d91b59ba5e3a",
            "3a1c959f3abe44c090a0118d6bcd6e49",
            "040b73bb6ebd421d8c884b20a60669d3",
            "86b82826d37c4a99884b71f3bb3e9c13",
            "21b1691aa6cf4dafa928d23c26ef5ce2"
          ]
        },
        "outputId": "3284a10c-8cc9-4e8f-d833-d0cfae3c2b0c"
      },
      "outputs": [
        {
          "output_type": "display_data",
          "data": {
            "text/plain": [
              "Tab(children=(Output(), Output()), _titles={'0': 'Youtube', '1': 'Bilibili'})"
            ],
            "application/vnd.jupyter.widget-view+json": {
              "version_major": 2,
              "version_minor": 0,
              "model_id": "cbaea2a4f9e1455c818e4619577b940f"
            }
          },
          "metadata": {}
        }
      ],
      "source": [
        "# @title Video 3: Visualizing activity\n",
        "from ipywidgets import widgets\n",
        "\n",
        "out2 = widgets.Output()\n",
        "with out2:\n",
        "  from IPython.display import IFrame\n",
        "  class BiliVideo(IFrame):\n",
        "      def __init__(self, id, page=1, width=400, height=300, **kwargs):\n",
        "          self.id=id\n",
        "          src = 'https://player.bilibili.com/player.html?bvid={0}&page={1}'.format(id, page)\n",
        "          super(BiliVideo, self).__init__(src, width, height, **kwargs)\n",
        "\n",
        "  video = BiliVideo(id=\"BV1dt4y1Q7C5\", width=854, height=480, fs=1)\n",
        "  print('Video available at https://www.bilibili.com/video/{0}'.format(video.id))\n",
        "  display(video)\n",
        "\n",
        "out1 = widgets.Output()\n",
        "with out1:\n",
        "  from IPython.display import YouTubeVideo\n",
        "  video = YouTubeVideo(id=\"QGA5FCW7kkA\", width=854, height=480, fs=1, rel=0)\n",
        "  print('Video available at https://youtube.com/watch?v=' + video.id)\n",
        "  display(video)\n",
        "\n",
        "out = widgets.Tab([out1, out2])\n",
        "out.set_title(0, 'Youtube')\n",
        "out.set_title(1, 'Bilibili')\n",
        "\n",
        "display(out)"
      ]
    },
    {
      "cell_type": "markdown",
      "metadata": {
        "execution": {},
        "id": "pgf-xJbBFdTg"
      },
      "source": [
        "---\n",
        "\n",
        "# Section 3: Inter-spike intervals and their distributions\n",
        "\n",
        "*Estimated timing to here from start of tutorial: 25 min*"
      ]
    },
    {
      "cell_type": "markdown",
      "metadata": {
        "execution": {},
        "id": "Z4YhjpLPFdTg"
      },
      "source": [
        "Given the ordered arrays of spike times for each neuron in `spike_times`, which we've just visualized, what can we ask next?\n",
        "\n",
        "Scientific questions are informed by existing models. So, what knowledge do we already have that can inform questions about this data?\n",
        "\n",
        "We know that there are physical constraints on neuron spiking. Spiking costs energy, which the neuron's cellular machinery can only obtain at a finite rate. Therefore neurons should have a refractory period: they can only fire as quickly as their metabolic processes can support, and there is a minimum delay between consecutive spikes of the same neuron.\n",
        "\n",
        "More generally, we can ask \"how long does a neuron wait to spike again?\" or \"what is the longest a neuron will wait?\" Can we transform spike times into something else, to address questions like these more directly?\n",
        "\n",
        "We can consider the inter-spike times (or interspike intervals: ISIs). These are simply the time differences between consecutive spikes of the same neuron.\n",
        "\n",
        "### Exercise 3: Plot the distribution of ISIs for a single neuron\n",
        "\n",
        "*Exercise objective:* make a histogram, like we did for spike counts, to show the distribution of ISIs for one of the neurons in the dataset.\n",
        "\n",
        "Do this in three steps:\n",
        "\n",
        "1. Extract the spike times for one of the neurons\n",
        "2. Compute the ISIs (the amount of time between spikes, or equivalently, the difference between adjacent spike times)\n",
        "3. Plot a histogram with the array of individual ISIs"
      ]
    },
    {
      "cell_type": "code",
      "execution_count": null,
      "metadata": {
        "execution": {},
        "pycharm": {
          "name": "#%%\n"
        },
        "id": "3ElAMfv1FdTg",
        "colab": {
          "base_uri": "https://localhost:8080/",
          "height": 430
        },
        "outputId": "280a51cd-00b8-4267-9d1d-fa5614276ceb"
      },
      "outputs": [
        {
          "output_type": "display_data",
          "data": {
            "text/plain": [
              "<Figure size 576x432 with 1 Axes>"
            ],
            "image/png": "[encoded data removed]"
          },
          "metadata": {
            "image/png": {
              "width": 558,
              "height": 413
            },
            "needs_background": "light"
          }
        }
      ],
      "source": [
        "def compute_single_neuron_isis(spike_times, neuron_idx):\n",
        "  \"\"\"Compute a vector of ISIs for a single neuron given spike times.\n",
        "\n",
        "  Args:\n",
        "    spike_times (list of 1D arrays): Spike time dataset, with the first\n",
        "      dimension corresponding to different neurons.\n",
        "    neuron_idx (int): Index of the unit to compute ISIs for.\n",
        "\n",
        "  Returns:\n",
        "    isis (1D array): Duration of time between each spike from one neuron.\n",
        "  \"\"\"\n",
        "  #############################################################################\n",
        "  # Students: Fill in missing code (...) and comment or remove the next line\n",
        "  # raise NotImplementedError(\"Exercise: compute single neuron ISIs\")\n",
        "  #############################################################################\n",
        "\n",
        "  # Extract the spike times for the specified neuron\n",
        "  single_neuron_spikes = spike_times[neuron_idx]\n",
        "\n",
        "  # Compute the ISIs for this set of spikes\n",
        "  # Hint: the function np.diff computes discrete differences along an array\n",
        "  isis = np.diff(single_neuron_spikes)\n",
        "\n",
        "  return isis\n",
        "\n",
        "# Compute ISIs\n",
        "single_neuron_isis = compute_single_neuron_isis(spike_times, neuron_idx=283)\n",
        "\n",
        "# Visualize ISIs\n",
        "plot_isis(single_neuron_isis)"
      ]
    },
    {
      "cell_type": "code",
      "execution_count": null,
      "metadata": {
        "execution": {},
        "pycharm": {
          "name": "#%%\n"
        },
        "id": "wbJn2iqDFdTh",
        "colab": {
          "base_uri": "https://localhost:8080/",
          "height": 431
        },
        "outputId": "ad86bae3-a222-4205-9208-02e39e6d319c"
      },
      "outputs": [
        {
          "output_type": "display_data",
          "data": {
            "text/plain": [
              "<Figure size 576x432 with 1 Axes>"
            ],
            "image/png": "[encoded data removed]"
          },
          "metadata": {
            "image/png": {
              "width": 558,
              "height": 414
            }
          }
        }
      ],
      "source": [
        "# to_remove solution\n",
        "def compute_single_neuron_isis(spike_times, neuron_idx):\n",
        "  \"\"\"Compute a vector of ISIs for a single neuron given spike times.\n",
        "\n",
        "  Args:\n",
        "    spike_times (list of 1D arrays): Spike time dataset, with the first\n",
        "      dimension corresponding to different neurons.\n",
        "    neuron_idx (int): Index of the unit to compute ISIs for.\n",
        "\n",
        "  Returns:\n",
        "    isis (1D array): Duration of time between each spike from one neuron.\n",
        "  \"\"\"\n",
        "  # Extract the spike times for the specified neuron\n",
        "  single_neuron_spikes = spike_times[neuron_idx]\n",
        "\n",
        "  # Compute the ISIs for this set of spikes\n",
        "  # Hint: the function np.diff computes discrete differences along an array\n",
        "  isis = np.diff(single_neuron_spikes)\n",
        "\n",
        "  return isis\n",
        "\n",
        "# Compute ISIs\n",
        "single_neuron_isis = compute_single_neuron_isis(spike_times, neuron_idx=283)\n",
        "\n",
        "# Visualize ISIs\n",
        "with plt.xkcd():\n",
        "  plot_isis(single_neuron_isis)"
      ]
    },
    {
      "cell_type": "markdown",
      "metadata": {
        "execution": {},
        "id": "dBrKFRqEFdTh"
      },
      "source": [
        "---\n",
        "\n",
        "In general, the shorter ISIs are predominant, with counts decreasing rapidly (and smoothly, more or less) with increasing ISI. However, counts also rapidly decrease to zero with _decreasing_ ISI below the maximum of the distribution (8-11 ms). The absence of these very low ISIs agrees with the refractory period hypothesis: the neuron cannot fire quickly enough to populate this region of the ISI distribution.\n",
        "\n",
        "Check the distributions of some other neurons. To resolve various features of the distributions, you might need to play with the value of `bins` in the call to `plt.hist`. Using too few bins might smooth over interesting details, but if you use too many bins, the random variability will start to dominate.\n",
        "\n",
        "You might also want to restrict the range to see the shape of the distribution when focusing on relatively short or long ISIs. *Hint:* `plt.hist` takes a `range` argument"
      ]
    },
    {
      "cell_type": "markdown",
      "metadata": {
        "execution": {},
        "id": "vyYL-zoPFdTh"
      },
      "source": [
        "---\n",
        "\n",
        "# Section 4: What is the functional form of an ISI distribution?\n",
        "\n",
        "*Estimated timing to here from start of tutorial: 35 min*"
      ]
    },
    {
      "cell_type": "code",
      "execution_count": null,
      "metadata": {
        "cellView": "form",
        "execution": {},
        "id": "iEW39QryFdTh",
        "colab": {
          "base_uri": "https://localhost:8080/",
          "height": 581,
          "referenced_widgets": [
            "daca900c555f428e9e8adce2fd7c3b86",
            "33ccab598c0b48d282fe254a4ae09dde",
            "502e2405a8644ba6ad00dd0213cbf8be",
            "cef1ede26bb745159410a65ab1dd6214",
            "0ee78930f51d47e7b880930be839bb0b",
            "25f008ad400741588f1e6f6383e81035"
          ]
        },
        "outputId": "674ac72a-617e-47c7-83d9-3690232dfb24"
      },
      "outputs": [
        {
          "output_type": "display_data",
          "data": {
            "text/plain": [
              "Tab(children=(Output(), Output()), _titles={'0': 'Youtube', '1': 'Bilibili'})"
            ],
            "application/vnd.jupyter.widget-view+json": {
              "version_major": 2,
              "version_minor": 0,
              "model_id": "daca900c555f428e9e8adce2fd7c3b86"
            }
          },
          "metadata": {}
        }
      ],
      "source": [
        "# @title Video 4: ISI distribution\n",
        "from ipywidgets import widgets\n",
        "\n",
        "out2 = widgets.Output()\n",
        "with out2:\n",
        "  from IPython.display import IFrame\n",
        "  class BiliVideo(IFrame):\n",
        "      def __init__(self, id, page=1, width=400, height=300, **kwargs):\n",
        "          self.id=id\n",
        "          src = 'https://player.bilibili.com/player.html?bvid={0}&page={1}'.format(id, page)\n",
        "          super(BiliVideo, self).__init__(src, width, height, **kwargs)\n",
        "\n",
        "  video = BiliVideo(id=\"BV1ov411B7Pm\", width=854, height=480, fs=1)\n",
        "  print('Video available at https://www.bilibili.com/video/{0}'.format(video.id))\n",
        "  display(video)\n",
        "\n",
        "out1 = widgets.Output()\n",
        "with out1:\n",
        "  from IPython.display import YouTubeVideo\n",
        "  video = YouTubeVideo(id=\"DHhM80MOTe8\", width=854, height=480, fs=1, rel=0)\n",
        "  print('Video available at https://youtube.com/watch?v=' + video.id)\n",
        "  display(video)\n",
        "\n",
        "out = widgets.Tab([out1, out2])\n",
        "out.set_title(0, 'Youtube')\n",
        "out.set_title(1, 'Bilibili')\n",
        "\n",
        "display(out)"
      ]
    },
    {
      "cell_type": "markdown",
      "metadata": {
        "execution": {},
        "id": "QAlbBuYKFdTh"
      },
      "source": [
        "The ISI histograms seem to follow continuous, monotonically decreasing functions above their maxima. The function is clearly non-linear. Could it belong to a single family of functions?\n",
        "\n",
        "To motivate the idea of using a mathematical function to explain physiological phenomena, let's define a few different function forms that we might expect the relationship to follow: exponential, inverse, and linear."
      ]
    },
    {
      "cell_type": "code",
      "execution_count": null,
      "metadata": {
        "execution": {},
        "pycharm": {
          "name": "#%%\n"
        },
        "id": "CuuIxVjCFdTi"
      },
      "outputs": [],
      "source": [
        "def exponential(xs, scale, rate, x0):\n",
        "  \"\"\"A simple parameterized exponential function, applied element-wise.\n",
        "\n",
        "  Args:\n",
        "    xs (np.ndarray or float): Input(s) to the function.\n",
        "    scale (float): Linear scaling factor.\n",
        "    rate (float): Exponential growth (positive) or decay (negative) rate.\n",
        "    x0 (float): Horizontal offset.\n",
        "\n",
        "  \"\"\"\n",
        "  ys = scale * np.exp(rate * (xs - x0))\n",
        "  return ys\n",
        "\n",
        "def inverse(xs, scale, x0):\n",
        "  \"\"\"A simple parameterized inverse function (`1/x`), applied element-wise.\n",
        "\n",
        "  Args:\n",
        "    xs (np.ndarray or float): Input(s) to the function.\n",
        "    scale (float): Linear scaling factor.\n",
        "    x0 (float): Horizontal offset.\n",
        "\n",
        "  \"\"\"\n",
        "  ys = scale / (xs - x0)\n",
        "  return ys\n",
        "\n",
        "def linear(xs, slope, y0):\n",
        "  \"\"\"A simple linear function, applied element-wise.\n",
        "\n",
        "  Args:\n",
        "    xs (np.ndarray or float): Input(s) to the function.\n",
        "    slope (float): Slope of the line.\n",
        "    y0 (float): y-intercept of the line.\n",
        "\n",
        "  \"\"\"\n",
        "  ys = slope * xs + y0\n",
        "  return ys"
      ]
    },
    {
      "cell_type": "markdown",
      "metadata": {
        "execution": {},
        "id": "SzfW5sNcFdTi"
      },
      "source": [
        "### Interactive Demo 4: ISI functions explorer\n",
        "\n",
        "Here is an interactive demo where you can vary the parameters of these functions and see how well the resulting outputs correspond to the data. Adjust the parameters by moving the sliders and see how close you can get the lines to follow the falling curve of the histogram. This will give you a taste of what you're trying to do when you *fit a model* to data.\n",
        "\n",
        "\"Interactive demo\" cells have hidden code that defines an interface where you can play with the parameters of some function using sliders. You don't need to worry about how the code works – but you do need to **run the cell** to enable the sliders.\n",
        "\n",
        "- Which type of function (exponential/inverse/linear) can you make match the data best?\n"
      ]
    },
    {
      "cell_type": "code",
      "execution_count": null,
      "metadata": {
        "cellView": "form",
        "execution": {},
        "pycharm": {
          "name": "#%%\n"
        },
        "id": "Nq6RbJ6zFdTi",
        "colab": {
          "base_uri": "https://localhost:8080/",
          "height": 654,
          "referenced_widgets": [
            "ffed10a2515048d28798b863e21b4507",
            "ed491082be7b4549b3d1b04a81339a5c",
            "fe3d5e66b2ed45258d4cb4ee8db924ae",
            "86db68d4df164fe39d1a5ab378ae3b30",
            "9863d3fef3ea4d968d03c2c1fde216ba",
            "1aebcddf6b2b4a91a2073bb8845fbd93",
            "f46702a77ddb401995d000496d8318c5",
            "ad3a09a5c0164fa7bfb4d5806f39615e",
            "91d0c4e6aa6e4e91a60480700ed38668",
            "e783e2eef3ff4ffd83d1679c71479753",
            "befed3693cce48dc8b99d344e0b9610d",
            "70186539e7f64bcb8072ca5d23189ad2",
            "c3934fb5cf144b5d935e4386b32a06c7",
            "7615111dff7f41f890b6a037bf29c7f8",
            "0a1985b6b9594ed89243a36565bfd029",
            "1b15eed17c9446d98d4fc2835341b9e2",
            "94fba050e623469ca9a15210237bfef0",
            "a5a1d37e872244669314e5aee120e8ab",
            "64d50c1e11174358b7329caacf9de230",
            "f369e780b6d04bdeb28a4fb7372c50f0",
            "1fc66427a19749b998e92c12be4334a6",
            "0622609f16fe4177b9d077b323be08b7",
            "7b43d96a39f04643a626394802d59865",
            "29ae62f594104bf1b274086d58225c79",
            "94797617352e4ab6866bb4ca103d0cfc"
          ]
        },
        "outputId": "1393f968-0cea-4d2a-973e-55d092b21bcb"
      },
      "outputs": [
        {
          "output_type": "display_data",
          "data": {
            "text/plain": [
              "interactive(children=(FloatSlider(value=1000.0, description='exp_scale', max=20000.0, step=250.0), FloatSlider…"
            ],
            "application/vnd.jupyter.widget-view+json": {
              "version_major": 2,
              "version_minor": 0,
              "model_id": "ffed10a2515048d28798b863e21b4507"
            }
          },
          "metadata": {}
        }
      ],
      "source": [
        "#@title\n",
        "\n",
        "#@markdown Be sure to run this cell to enable the demo\n",
        "# Don't worry about understanding this code! It's to setup an interactive plot.\n",
        "single_neuron_idx = 283\n",
        "single_neuron_spikes = spike_times[single_neuron_idx]\n",
        "single_neuron_isis = np.diff(single_neuron_spikes)\n",
        "\n",
        "counts, edges = np.histogram(\n",
        "  single_neuron_isis,\n",
        "  bins=50,\n",
        "  range=(0, single_neuron_isis.max())\n",
        ")\n",
        "\n",
        "functions = dict(\n",
        "  exponential=exponential,\n",
        "  inverse=inverse,\n",
        "  linear=linear,\n",
        ")\n",
        "\n",
        "colors = dict(\n",
        "  exponential=\"C1\",\n",
        "  inverse=\"C2\",\n",
        "  linear=\"C4\",\n",
        ")\n",
        "\n",
        "@widgets.interact(\n",
        "  exp_scale=widgets.FloatSlider(1000, min=0, max=20000, step=250),\n",
        "  exp_rate=widgets.FloatSlider(-10, min=-200, max=50, step=1),\n",
        "  exp_x0=widgets.FloatSlider(0.1, min=-0.5, max=0.5, step=0.005),\n",
        "  inv_scale=widgets.FloatSlider(1000, min=0, max=3e2, step=10),\n",
        "  inv_x0=widgets.FloatSlider(0, min=-0.2, max=0.2, step=0.01),\n",
        "  lin_slope=widgets.FloatSlider(-1e5, min=-6e5, max=1e5, step=10000),\n",
        "  lin_y0=widgets.FloatSlider(10000, min=0, max=4e4, step=1000),\n",
        ")\n",
        "def fit_plot(\n",
        "  exp_scale=1000, exp_rate=-10, exp_x0=0.1,\n",
        "  inv_scale=1000, inv_x0=0,\n",
        "  lin_slope=-1e5, lin_y0=2000,\n",
        "):\n",
        "  \"\"\"Helper function for plotting function fits with interactive sliders.\"\"\"\n",
        "  func_params = dict(\n",
        "    exponential=(exp_scale, exp_rate, exp_x0),\n",
        "    inverse=(inv_scale, inv_x0),\n",
        "    linear=(lin_slope, lin_y0),\n",
        "  )\n",
        "  f, ax = plt.subplots()\n",
        "  ax.fill_between(edges[:-1], counts, step=\"post\", alpha=.5)\n",
        "  xs = np.linspace(1e-10, edges.max())\n",
        "  for name, function in functions.items():\n",
        "    ys = function(xs, *func_params[name])\n",
        "    ax.plot(xs, ys, lw=3, color=colors[name], label=name);\n",
        "  ax.set(\n",
        "      xlim=(edges.min(), edges.max()),\n",
        "      ylim=(0, counts.max() * 1.1),\n",
        "      xlabel=\"ISI (s)\",\n",
        "      ylabel=\"Number of spikes\",\n",
        "  )\n",
        "  ax.legend()"
      ]
    },
    {
      "cell_type": "code",
      "execution_count": null,
      "metadata": {
        "execution": {},
        "id": "5vGXMOIAFdTj",
        "colab": {
          "base_uri": "https://localhost:8080/",
          "height": 35
        },
        "outputId": "e8fb5c2d-aab8-43e4-e023-d10452ec43e1"
      },
      "outputs": [
        {
          "output_type": "execute_result",
          "data": {
            "text/plain": [
              "'\\nThe exponential function can be made to fit the data much better than the linear\\nor inverse function.\\n'"
            ],
            "application/vnd.google.colaboratory.intrinsic+json": {
              "type": "string"
            }
          },
          "metadata": {},
          "execution_count": 61
        }
      ],
      "source": [
        "# to_remove explanation\n",
        "\n",
        "\"\"\"\n",
        "The exponential function can be made to fit the data much better than the linear\n",
        "or inverse function.\n",
        "\"\"\""
      ]
    },
    {
      "cell_type": "code",
      "execution_count": null,
      "metadata": {
        "cellView": "form",
        "execution": {},
        "id": "bRDfBtnjFdTj",
        "colab": {
          "base_uri": "https://localhost:8080/",
          "height": 581,
          "referenced_widgets": [
            "a0dbee8778e744a89db19563c7793b0a",
            "4b74c45b29c648aba58622897eb09c9a",
            "29597b9a04384b278803fcda28130c7a",
            "cb7f61edcbae46499e8e4a3d2988b05f",
            "e6e8827e56d24f069ec6369807f0db17",
            "96d100a5b65d4475a7c4a1b6f47a603e"
          ]
        },
        "outputId": "430e515c-eb6f-4e62-c0f1-ec18bb5e65a3"
      },
      "outputs": [
        {
          "output_type": "display_data",
          "data": {
            "text/plain": [
              "Tab(children=(Output(), Output()), _titles={'0': 'Youtube', '1': 'Bilibili'})"
            ],
            "application/vnd.jupyter.widget-view+json": {
              "version_major": 2,
              "version_minor": 0,
              "model_id": "a0dbee8778e744a89db19563c7793b0a"
            }
          },
          "metadata": {}
        }
      ],
      "source": [
        "# @title Video 5: Fitting models by hand\n",
        "from ipywidgets import widgets\n",
        "\n",
        "out2 = widgets.Output()\n",
        "with out2:\n",
        "  from IPython.display import IFrame\n",
        "  class BiliVideo(IFrame):\n",
        "      def __init__(self, id, page=1, width=400, height=300, **kwargs):\n",
        "          self.id=id\n",
        "          src = 'https://player.bilibili.com/player.html?bvid={0}&page={1}'.format(id, page)\n",
        "          super(BiliVideo, self).__init__(src, width, height, **kwargs)\n",
        "\n",
        "  video = BiliVideo(id=\"BV1w54y1S7Eb\", width=854, height=480, fs=1)\n",
        "  print('Video available at https://www.bilibili.com/video/{0}'.format(video.id))\n",
        "  display(video)\n",
        "\n",
        "out1 = widgets.Output()\n",
        "with out1:\n",
        "  from IPython.display import YouTubeVideo\n",
        "  video = YouTubeVideo(id=\"uW2HDk_4-wk\", width=854, height=480, fs=1, rel=0)\n",
        "  print('Video available at https://youtube.com/watch?v=' + video.id)\n",
        "  display(video)\n",
        "\n",
        "out = widgets.Tab([out1, out2])\n",
        "out.set_title(0, 'Youtube')\n",
        "out.set_title(1, 'Bilibili')\n",
        "\n",
        "display(out)"
      ]
    },
    {
      "cell_type": "markdown",
      "metadata": {
        "execution": {},
        "id": "QcrzOUfWFdTj"
      },
      "source": [
        "---\n",
        "# Section 5: Reflecting on what models\n",
        "\n",
        "*Estimated timing to here from start of tutorial: 40 min*"
      ]
    },
    {
      "cell_type": "markdown",
      "metadata": {
        "execution": {},
        "id": "qt-edINlFdTj"
      },
      "source": [
        "## Think! 5: Reflecting on what models\n",
        "\n",
        "Please discuss the following questions for around 10 minutes with your group:\n",
        "- Have you seen what models before?\n",
        "- Have you ever done one?\n",
        "- Why are what models useful?\n",
        "- When are they possible? Does your field have what models?\n",
        "- What do we learn from constructing them?"
      ]
    },
    {
      "cell_type": "markdown",
      "metadata": {
        "execution": {},
        "id": "CGS0ZQUtFdTk"
      },
      "source": [
        "---\n",
        "# Summary\n",
        "\n",
        "*Estimated timing of tutorial: 50 minutes*\n",
        "\n",
        "In this tutorial, we loaded some neural data and poked at it to understand how the dataset is organized. Then we made some basic plots to visualize (1) the average level of activity across the population and (2) the distribution of ISIs for an individual neuron. In the very last bit, we started to think about using mathematical formalisms to understand or explain some physiological phenomenon. All of this only allowed us to understand \"What\" the data looks like.\n",
        "\n",
        "This is the first step towards developing models that can tell us something about the brain. That's what we'll focus on in the next two tutorials."
      ]
    }
  ],
  "metadata": {
    "colab": {
      "collapsed_sections": [],
      "name": "Copy of W1D1_Tutorial1",
      "provenance": [],
      "include_colab_link": true
    },
    "kernel": {
      "display_name": "Python 3",
      "language": "python",
      "name": "python3"
    },
    "kernelspec": {
      "display_name": "Python 3",
      "name": "python3"
    },
    "language_info": {
      "codemirror_mode": {
        "name": "ipython",
        "version": 3
      },
      "file_extension": ".py",
      "mimetype": "text/x-python",
      "name": "python",
      "nbconvert_exporter": "python",
      "pygments_lexer": "ipython3",
      "version": "3.7.13"
    },
    "widgets": {
      "application/vnd.jupyter.widget-state+json": {
        "85b8019a7b1d4a0e8d5dadddb1f2817e": {
          "model_module": "@jupyter-widgets/controls",
          "model_name": "TabModel",
          "model_module_version": "1.5.0",
          "state": {
            "_dom_classes": [],
            "_model_module": "@jupyter-widgets/controls",
            "_model_module_version": "1.5.0",
            "_model_name": "TabModel",
            "_titles": {
              "0": "Youtube",
              "1": "Bilibili"
            },
            "_view_count": null,
            "_view_module": "@jupyter-widgets/controls",
            "_view_module_version": "1.5.0",
            "_view_name": "TabView",
            "box_style": "",
            "children": [
              "IPY_MODEL_adf926dbaad3460bb3ab440cf106f94b",
              "IPY_MODEL_5765e852ce734567858fd53a7af06dbf"
            ],
            "layout": "IPY_MODEL_d0563be5f9f447e8bed49ce32af685a3",
            "selected_index": 0
          }
        },
        "adf926dbaad3460bb3ab440cf106f94b": {
          "model_module": "@jupyter-widgets/output",
          "model_name": "OutputModel",
          "model_module_version": "1.0.0",
          "state": {
            "_dom_classes": [],
            "_model_module": "@jupyter-widgets/output",
            "_model_module_version": "1.0.0",
            "_model_name": "OutputModel",
            "_view_count": null,
            "_view_module": "@jupyter-widgets/output",
            "_view_module_version": "1.0.0",
            "_view_name": "OutputView",
            "layout": "IPY_MODEL_62bad3eb421e4320aa7b965e470655fd",
            "msg_id": "",
            "outputs": [
              {
                "output_type": "stream",
                "name": "stdout",
                "text": [
                  "Video available at https://youtube.com/watch?v=KgqR_jbjMQg\n"
                ]
              },
              {
                "output_type": "display_data",
                "data": {
                  "text/plain": "<IPython.lib.display.YouTubeVideo at 0x7fd67a1c3350>",
                  "text/html": "\n        <iframe\n            width=\"854\"\n            height=\"480\"\n            src=\"https://www.youtube.com/embed/KgqR_jbjMQg?fs=1&rel=0\"\n            frameborder=\"0\"\n            allowfullscreen\n        ></iframe>\n        ",
                  "image/jpeg": "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\n"
                },
                "metadata": {}
              }
            ]
          }
        },
        "5765e852ce734567858fd53a7af06dbf": {
          "model_module": "@jupyter-widgets/output",
          "model_name": "OutputModel",
          "model_module_version": "1.0.0",
          "state": {
            "_dom_classes": [],
            "_model_module": "@jupyter-widgets/output",
            "_model_module_version": "1.0.0",
            "_model_name": "OutputModel",
            "_view_count": null,
            "_view_module": "@jupyter-widgets/output",
            "_view_module_version": "1.0.0",
            "_view_name": "OutputView",
            "layout": "IPY_MODEL_ea56d72229b64be18cbe58d2437bb56a",
            "msg_id": "",
            "outputs": [
              {
                "output_type": "stream",
                "name": "stdout",
                "text": [
                  "Video available at https://www.bilibili.com/video/BV1mz4y1X7ot\n"
                ]
              },
              {
                "output_type": "display_data",
                "data": {
                  "text/plain": "<__main__.BiliVideo at 0x7fd67a3d8ed0>",
                  "text/html": "\n        <iframe\n            width=\"854\"\n            height=\"480\"\n            src=\"https://player.bilibili.com/player.html?bvid=BV1mz4y1X7ot&page=1?fs=1\"\n            frameborder=\"0\"\n            allowfullscreen\n        ></iframe>\n        "
                },
                "metadata": {}
              }
            ]
          }
        },
        "d0563be5f9f447e8bed49ce32af685a3": {
          "model_module": "@jupyter-widgets/base",
          "model_name": "LayoutModel",
          "model_module_version": "1.2.0",
          "state": {
            "_model_module": "@jupyter-widgets/base",
            "_model_module_version": "1.2.0",
            "_model_name": "LayoutModel",
            "_view_count": null,
            "_view_module": "@jupyter-widgets/base",
            "_view_module_version": "1.2.0",
            "_view_name": "LayoutView",
            "align_content": null,
            "align_items": null,
            "align_self": null,
            "border": null,
            "bottom": null,
            "display": null,
            "flex": null,
            "flex_flow": null,
            "grid_area": null,
            "grid_auto_columns": null,
            "grid_auto_flow": null,
            "grid_auto_rows": null,
            "grid_column": null,
            "grid_gap": null,
            "grid_row": null,
            "grid_template_areas": null,
            "grid_template_columns": null,
            "grid_template_rows": null,
            "height": null,
            "justify_content": null,
            "justify_items": null,
            "left": null,
            "margin": null,
            "max_height": null,
            "max_width": null,
            "min_height": null,
            "min_width": null,
            "object_fit": null,
            "object_position": null,
            "order": null,
            "overflow": null,
            "overflow_x": null,
            "overflow_y": null,
            "padding": null,
            "right": null,
            "top": null,
            "visibility": null,
            "width": null
          }
        },
        "62bad3eb421e4320aa7b965e470655fd": {
          "model_module": "@jupyter-widgets/base",
          "model_name": "LayoutModel",
          "model_module_version": "1.2.0",
          "state": {
            "_model_module": "@jupyter-widgets/base",
            "_model_module_version": "1.2.0",
            "_model_name": "LayoutModel",
            "_view_count": null,
            "_view_module": "@jupyter-widgets/base",
            "_view_module_version": "1.2.0",
            "_view_name": "LayoutView",
            "align_content": null,
            "align_items": null,
            "align_self": null,
            "border": null,
            "bottom": null,
            "display": null,
            "flex": null,
            "flex_flow": null,
            "grid_area": null,
            "grid_auto_columns": null,
            "grid_auto_flow": null,
            "grid_auto_rows": null,
            "grid_column": null,
            "grid_gap": null,
            "grid_row": null,
            "grid_template_areas": null,
            "grid_template_columns": null,
            "grid_template_rows": null,
            "height": null,
            "justify_content": null,
            "justify_items": null,
            "left": null,
            "margin": null,
            "max_height": null,
            "max_width": null,
            "min_height": null,
            "min_width": null,
            "object_fit": null,
            "object_position": null,
            "order": null,
            "overflow": null,
            "overflow_x": null,
            "overflow_y": null,
            "padding": null,
            "right": null,
            "top": null,
            "visibility": null,
            "width": null
          }
        },
        "ea56d72229b64be18cbe58d2437bb56a": {
          "model_module": "@jupyter-widgets/base",
          "model_name": "LayoutModel",
          "model_module_version": "1.2.0",
          "state": {
            "_model_module": "@jupyter-widgets/base",
            "_model_module_version": "1.2.0",
            "_model_name": "LayoutModel",
            "_view_count": null,
            "_view_module": "@jupyter-widgets/base",
            "_view_module_version": "1.2.0",
            "_view_name": "LayoutView",
            "align_content": null,
            "align_items": null,
            "align_self": null,
            "border": null,
            "bottom": null,
            "display": null,
            "flex": null,
            "flex_flow": null,
            "grid_area": null,
            "grid_auto_columns": null,
            "grid_auto_flow": null,
            "grid_auto_rows": null,
            "grid_column": null,
            "grid_gap": null,
            "grid_row": null,
            "grid_template_areas": null,
            "grid_template_columns": null,
            "grid_template_rows": null,
            "height": null,
            "justify_content": null,
            "justify_items": null,
            "left": null,
            "margin": null,
            "max_height": null,
            "max_width": null,
            "min_height": null,
            "min_width": null,
            "object_fit": null,
            "object_position": null,
            "order": null,
            "overflow": null,
            "overflow_x": null,
            "overflow_y": null,
            "padding": null,
            "right": null,
            "top": null,
            "visibility": null,
            "width": null
          }
        },
        "046fb089a754457084b1d897d380e26b": {
          "model_module": "@jupyter-widgets/controls",
          "model_name": "TabModel",
          "model_module_version": "1.5.0",
          "state": {
            "_dom_classes": [],
            "_model_module": "@jupyter-widgets/controls",
            "_model_module_version": "1.5.0",
            "_model_name": "TabModel",
            "_titles": {
              "0": "Youtube",
              "1": "Bilibili"
            },
            "_view_count": null,
            "_view_module": "@jupyter-widgets/controls",
            "_view_module_version": "1.5.0",
            "_view_name": "TabView",
            "box_style": "",
            "children": [
              "IPY_MODEL_1afaa820eb384a9faee960436cb1a782",
              "IPY_MODEL_7cd8b3fab1fa4ae9b226ee497bc91818"
            ],
            "layout": "IPY_MODEL_2a037a60d325447e81646a610a1ea32d",
            "selected_index": 0
          }
        },
        "1afaa820eb384a9faee960436cb1a782": {
          "model_module": "@jupyter-widgets/output",
          "model_name": "OutputModel",
          "model_module_version": "1.0.0",
          "state": {
            "_dom_classes": [],
            "_model_module": "@jupyter-widgets/output",
            "_model_module_version": "1.0.0",
            "_model_name": "OutputModel",
            "_view_count": null,
            "_view_module": "@jupyter-widgets/output",
            "_view_module_version": "1.0.0",
            "_view_name": "OutputView",
            "layout": "IPY_MODEL_2d2bb710b333475b9e763ed794f2fbe2",
            "msg_id": "",
            "outputs": [
              {
                "output_type": "stream",
                "name": "stdout",
                "text": [
                  "Video available at https://youtube.com/watch?v=oHwYWUI_o1U\n"
                ]
              },
              {
                "output_type": "display_data",
                "data": {
                  "text/plain": "<IPython.lib.display.YouTubeVideo at 0x7fd678882550>",
                  "text/html": "\n        <iframe\n            width=\"854\"\n            height=\"480\"\n            src=\"https://www.youtube.com/embed/oHwYWUI_o1U?fs=1&rel=0\"\n            frameborder=\"0\"\n            allowfullscreen\n        ></iframe>\n        ",
                  "image/jpeg": "/9j/4AAQSkZJRgABAQAAAQABAAD/2wCEAAUDBAkICgsICAgICAgKCgoICAgICggICAgICAoICggICAoIChALCAgOCggIDRUNDhERExMTCAsWGBYSGBASExIBBQUFCAcIDwgJDhINDg8SEhISEhISEhISEhISEhISEhISEhISEhISEhISEhISEhISEhISEhISEhISEhISEhISEv/AABEIAWgB4AMBIgACEQEDEQH/xAAdAAEAAgMBAQEBAAAAAAAAAAAABQYEBwgDAgEJ/8QAWhAAAQMCAwMGBgsMBggFBQAAAQACAwQRBRIhBhMxBxYiQVFSCBRhcZLSGCMyM1RVgZGT1OIVNUJzdZShpLGytNEJYnKCwfAkNjdDdLPh8Rc0VoO1JYWio8T/xAAaAQEBAAMBAQAAAAAAAAAAAAAAAQIEBQMG/8QALBEBAAIBAwIDBwUBAAAAAAAAAAECEQMEIRIxBUFRFCJhgbHB8BORodHxI//aAAwDAQACEQMRAD8A4yREQEREBERAREQEREBERAREQEREBERAREQEREBERAREQEREBERAREQEREBERAREQEREBERAREQEREBERAREQEREBERAREQEREBERAREQEREBERAREQEREBERAREQEREBERAREQEREBERAREQEREBERAREQEREBERAREQEREBERAREQEREBERAREQEREBERAREQEREBERART/NSfvw+k/wBROak/fh9J/qIIBFP81J+/D6T/AFE5qT9+H0n+oggEU/zUn78PpP8AUTmpP34fSf6iCART/NSfvw+k/wBROak/fh9J/qIIBFP81J+/D6T/AFE5qT9+H0n+oggEU/zUn78PpP8AUTmpP34fSf6iCART/NSfvw+k/wBROak/fh9J/qIIBFP81J+/D6T/AFE5qT9+H0n+oggEU/zUn78PpP8AUTmpP34fSf6iCART/NSfvw+k/wBROak/fh9J/qIIBFP81J+/D6T/AFE5qT9+H0n+oggEU/zUn78PpP8AUTmpP34fSf6iCART/NSfvw+k/wBROak/fh9J/qIIBFP81J+/D6T/AFE5qT9+H0n+oggEU/zUn78PpP8AUTmpP34fSf6iCART/NSfvw+k/wBROak/fh9J/qIIBFP81J+/D6T/AFE5qT9+H0n+oggEU/zUn78PpP8AUTmpP34fSf6iCART/NSfvw+k/wBROak/fh9J/qIIBFP81J+/D6T/AFE5qT9+H0n+oggEU/zUn78PpP8AUTmpP34fSf6iCART/NSfvw+k/wBROak/fh9J/qIIBFP81J+/D6T/AFE5qT9+H0n+oggEU/zUn78PpP8AUTmpP34fSf6iCART/NSfvw+k/wBROak/fh9J/qIIBFP81J+/D6T/AFE5qT9+H0n+oggEU/zUn78PpP8AUTmpP34fSf6iCART/NSfvw+k/wBROak/fh9J/qIIBFP81J+/D6T/AFE5qT9+H0n+oggEU/zUn78PpP8AUTmpP34fSf6iC5oiLJiIiICIiAiIgIiICIiAiIgIiICIiAiIgIiICIiAiIgIiICIiAiIgIiICIiAiIgIiICIiAiIgIiICIiAiIgIiICIiAiIgIiICIiAiIgIobHMd8VeI91nuwPvny8S4WtlPd/SsDncPg5+k+wouFoRVfncPg5+k+wnO4fBz9J9hDC0IqvzuHwc/SfYTncPg5+k+whhaEVX53D4OfpPsJzuHwc/SfYQwtCKr87h8HP0n2E53D4OfpPsIYWhFV+dw+Dn6T7Cc7h8HP0n2EMLQiq/O4fBz9J9hOdw+Dn6T7CGFoRVfncPg5+k+wnO4fBz9J9hDC0IqvzuHwc/SfYTncPg5+k+whhaEVX53D4OfpPsJzuHwc/SfYQwtCKr87h8HP0n2E53D4OfpPsIYWhFV+dw+Dn6T7Cc7h8HP0n2EMLQiq/O4fBz9J9hOdw+Dn6T7CGFoRVfncPg5+k+wnO4fBz9J9hDC0IqvzuHwc/SfYTncPg5+k+whhaEVX53D4OfpPsJzuHwc/SfYQwtCKr87h8HP0n2E53D4OfpPsIYWhFXKPagSPZHuCM72svvL2zEC9smvFWNAREVQREQEREBERAREQEREBERAREQEREBERAREQEREFM259/b+Kb+/KoBT+3Pv7fxTf35VALFkIiICK6VXJTj8VJ905MGr20AgbVmrMR3IpntD2zlw/3eRwdfsKpaAimtj9lMQxiY0uF0VRXVDY3Tuhp2GR7YWOY10jgODA6Rgv2vHavPavZutwqc0eJUs1HVNa17oJ25JAyQXY4jsIQRKIiAiIgIrzyKcl9dtbWyYdh01HBPFTPrXOrXzRxGKOWnhc1pghkcZM1Sw2LQLB2vAGsbUYPJh1XU4fM6N81JUz0croi50TpaaV8Ujoy9rXGMuYSCWg2IuBwQRqIiAi2ByJck9ftdUzUeGzUUEtPB4zI6ufPGwxmRkdmGCCUl+Z40IAtfVUzHsNfR1E9HKWOkp5paaR0ZcY3Pge6N5YXNBLCWm1wDa2gQYSK67M8k+0GJ08ddQYNX1dJLn3VRDEXxybt74pMpvraSN7T5WlSX/gTtX/6dxP6E/wA0GuEWx/8AwJ2r/wDTuJ/Qn+aoeMYdNRzS0tVE+CogkdDPDIMr4pYyWvY8dTg4EfIgxEREBERAREQEREBERAREQZeD+/w/jY/32rY61xg/v8P42P8AfatjqwkiIiqCIiAi/Y2FxDWgucTYAC5JPAADiVb8E5PqycB72iNl+k0uYJcn4TgHEN0Hlv5Fha9a95wyisz2U9FsvENh6FhayOpLix2abpNLnMtcNabho4gE6/OvMYFTNIiYynvYOdvHPEuugzNadG6g2uPnK8Lbuker1jb2lrhFtNmwtPMLhjDduu4llzBw6w2Xo28/b5LqnbSbMGma6WB5mhY7JK12UTQOJsN61pOl+sdoTS3enqTiJ5L7e9YzKuoiLaeAiIgIiICIiAiIgIiICIiCmbc+/t/FN/flUAp/bn39v4pv78qgFiyEREH9VNgH0tTgmE4PVtztxDZ+Jjo3Wyy07KKhiqYteLiyrGnYHnqX8xdudnZcIr6vDKi5lo6mWlc4tLBJuXua2VrTqGPaGvHG4eOK7R5V9sjgFDsHipNooGUwqbBzr0c+G0kNXZrdXO3EkhA16Qb2LXnh88n8n3bocRoYjKcaZHShseu9xGnMUMYzXygyQy0jW3IvunntsF1/o/8AZ6PDMNqMeqmlsmJ1sGFUF8t3wxyBjnRdeV1RJLmB6sPvbTXT3h7f60z/APCUf/JW9drq2LCMc2M2KpHAxYe6OtqyAAJKgw1EEEht7mVxNdK4W18aadFo/wAOqndNtbLFGLvkp6GNg4Xe+MNaNeGpCDXHJbySY5tKXnCKB88Mbt3NVSOjgpYn2BLDLM4NfIGuaSxmZwD2m1iFadufBo2qwiF1XLhzaunjaXzPoJo6p0TRa7nQi0zmgEkljHABriSBqt8eGJj02x2C4PszgEsmHwysmE9TSvMFS+KiFPnbniAc11RPVPlke0tLjGQbte8HU3ge8quKUmP0dBPX1VTQV8ppJ6apmlnYJJWu3E0IlcRFKJt3dzfdNLgeogOfVs7kr5B9odpIfG8OoQ2iJc1lZVyMpoJXRuyvEOf2ycBwc0uY0tBje0kEWV88IjkvgZtxDhNM3c0uMVFDUZIQG+Lsr5tzWOjB0AEkVTKABYBwAFgrr4ee3VXhc+H7M4TNLhuHwUEdTJFRPfTCRrnzU9NTO3VneLwx0pIZfKTMCQSxpAZ/gbcleM7M7S1DMXonQMlweqEFQxzJ6aYtrcKu1ksRLQ+2uR2V1tbWXL/LT9/sY/K+JfxlQulf6PvlExetxKqwetxCorKFuHyV0TKt76iSCeKooYQIZZSXshLKh9475bgEAG99O02yseN7cz4XP7xUbQ1wqAC5pfTRVlTLURtc0gsc6KKRocOBcD1IMPky8H3aTaGEVlFQNion3MVVWyMpoprW1ha68srNT02sLOiRmuLKvcqXJdjGzMrIsYonU4lzeLzscyamnye63csRLc4uCWOs4BwJAuF2N4VHJ5tfjVXT02z5FLglLTMZHDBWsoGSVBJzufFG9uZkcbYY2Bws3K/LbMb+e1mxOLybAV1DtUBLiWGiWto6l0zKyYxUeSeGUzanebt9VTEk5t2TrrdBrL+jb+++I/k0fxVOueOU777Yl+Ua3+JmXQ/9G3998R/Jo/iqdc8cp332xL8o1v8AEzILLsby57TYPSRYbhuLPpaKDebmBtPQyBm+lkmk6U1O57rySyO1J91bhYLr3wPOUfF8dwfFqvFa59XUU0jmU0hipojE0Uu8ADYImtd09ekCv59rtnwAPvBjn45/8Eg0L7JjbL4+l/NcN+qqFx/k+2jxChm2xqqTxjD6h76upxJk+HkvklqDDLI6mgl3rP8ASCQQIxlsSQALrXS7C8AvHYcVw/F9ja8l8M8MtTAwlxPi1WwUteyMn3vI51NI0N/CmkdoQSg49Vx2z5McZwakpcSxOh8UpK4MdRvfPRulmEkQmaTTxzOnitGWk52NylzQ6xICsnJLyUz1+1MezlXGbUtbK3E7B2TxXD3uNSQdC1kojEbX9tRGdbq1+HZtyMVx40EEgdR4RH4ixrC0x+OOIfXubbVrg8RQOHUaPz3CkYlyE7T076OKTB5TJiJIoGRT0VQ6bKxsj3O8XnduI2se1xfLlaAdSFZNovBZ2toqc1Zw6KpDWl8tPR1EVRVRtDS51ogQZ3C1ssOdxJFgV0p4WXKVX7OYJhTsKMUFZWRCm8fLGSVFLTtgppJmUwkaWtdK5sQLjewj0GbK5mj/AAQeWHGxtDSUFditdiFFiDn008VfUT1mSTdSvgmgM73GGXetYCRo5rnAg2aWhzcto8lvIJtHtHCKugoBHROzBlZWSMpoJS0gHcB/tk7b5hnYwsux4zXFlsfl85NqeflAhwyNoZTYtUUVXURsuzKypP8A9RLC0aSPMFTJfvS9S3P4U3J5tbi81JQbNBlJgVJSxsbDBVsoA+oDnNyuYx7c0EUMdO1jSLNvJbjoHHHKryUY1sw9jMXojDHKSIKmN7J6WYt4tZLESGvA1yPyusL2tqq7sjs3W4vUx0GG0stZVym0cMQBcQNXOcSQ2ONo1L3ENA1JC7krth8ZdsHiuHbW2nraCOqraCczNrJhT0MUdXTufPmc4yCRtVDrY7ohvBag/o8NoaCjxmqpqt0cVXW0jYKCaTK0PeyZr5aNjibiSX2t4bwd4tbjlBCvTeCRtc2LeikonvtfxdtbTiYG3ubvIhzdXu7eVaKrKd8L3xSDLJG50b23ByvYS1wuDY2IPBdG8tXJrt3s/UVOJtxPF8QpM8kxxTD6yqErIi5zs1VBFI2Wlys1dlaYmcA6wXONTM6RzpHuLnvcXvcdS5ziS5x8pJJ+VB5oiIMvB/f4fxsf77Vsda4wf3+H8bH++1bHVhJERFUERfrW5iGjiSAPOdFBfNi6CKjidW1DWulI9oB4sabNzD+sS8C/81+Vm3LbucB0m6tzXsDlFyzMLAE3v5vMpDGqCSSjAaLse1rmlrXXIaCLHXTQix6/0KhtwqQExyNJadcpb0nD+r18Osdq52pMWnMuhp1mI4Wen2tcGGSd8IcALMYyNuV1yAC4gkixvxOt+NgvmGojnZni8XZK4AeMTODGhzeB1sZSBbjoBbgqbiGz75LtaHMc4Zt3axvoOkc3YSeHWsvANjJXOb7YdLtfexAGa1mjsI0+Qryv0YznDOtb57JhmNtoC4y1b6osA9rpy+MPcLm29cAMlr+4vc34cFN4HtKyva+SdpErScrbNbvKQ2a+KS7ss4sDcOsQQbeTIrtkskcLXNjbC17N68X1ZmuRc6u6RDidf0KFxPBwyYPhjYx7GhslgGGxZK3I8j3OaSVotfQCx4LyiaWjjv6srVtWee3oxNs8GihLZ6YPEEnFpuWscRcGN3XE6zrX4EEeQVtXTD4fapKeVrnQ2LTnN905zc7ZGnzlrh/Z1uqbLGWktcLOaS0jyg2K6W11JtXE8zDR16YnMeb5REW08BERAREQEREBERAREQUzbn39v4pv78qgFP7c+/t/FN/flUAsWQiIg628Mn/VbZL/AISD/wCOolujwbsRotqdnMHrMRyy1GA1IzOe7SOswyCWGnmlc7V/+i1EE5J/Dsdcq4P2y5ScXxilpMPxGt8Yo8PY2Ohh3FJDuGMjZE0Z4IWyS2jjYLvLuF+Oqqsc72gta97Wu901riA64sbgGx0Qb55Otrzj3KFTYsb5KrFS6AEWc2liifDRtcO+KeKEHyg8F9+HXO6LayWWM5ZGU9DIx2hyvZGHNdrobEBaT2Ux+qwqqhxCgl3FZTv3tPNkil3b7EZskzXRu0J0cCFl7e7Y4hj1U7EMVqfGqx7GRum3UEF2RDLG3JTRsjFh1ht0HXnhfYDNtngmD7TYBDJXxxNlM9NTN39SyKtEG8OSMlzn089K6KRjA4gyE+5Y4jVXgfckuLVOP0lfU4dV0mH4fIaueoqoZadrpY2P8Xhg3rRvpTNuyQ33LQ4m3RB1hyYcq+ObNl33IxCSmikcHzUzmxz0srxlBc6GdrmNkLWtaXsyus0C+gVn258JHarF4HUk+J+L00jck0dDFFSOlabXa+WMb4MIuC0PDXBxBBBsguXLlypUsm3lNisUjX0GE1VDSPnjvIJYKObPXvjDR0rPmqmNLbh27a4XzK9+HjyXYpitbR47hFHPilM+iZRzMoI3VUsTopZpoZwyHM+WGVlVYOY0hu4JcRmbfjRbY5OvCG2mwKnbQ0eINko4xlggrIoqlsDepsL3jeMjHUzNlHUAg6C8BTkixTBqybGMWi+55qaGWko8PqLNr5o3T0U01VJDfNTxMMUTMrwH3m1DRlz6C51NwTbioxWQEw020Nc+ewLneLPramOpLAPdPEMkhA7QFgf+Pu1H3QdjAxiTx91O+iEhgo5IYqSSSGV8MNPLA6CEF8EJLmsDjuxcnW+vcaxKatnmrKl+8qamaSpqJMrGbyed7pJX5YwGNu9zjZoAF9AEHZXhkbLY/UzU+0ezFXidZhdVSxb6PCKipkEb2i8NXHDTSXkp5YHx9NjSAYXFxGZt+cZsM2yqKaokmZtK6higklrZKp2Ix0gp2D20SuqXCN/RPuNSRfQr45MeW3aHZyMU+GYk9lIC53ic7IqmmBdmLt22dpMF3OLjuiy51N9VLbeeEZtRjMEtHVYixlHPGYZ6ampqWFksbr52ufuzNZwNiA+1hw4oNnf0bf33xH8mj+Kp1zxynffbEvyjW/xMyyOTblDxbZyaSpwas8Tnmj3Er9zS1GeLM1+XLVRPa3pNabgA6KvYpXSVM0tTO7PNNI+eZ9mtzyyuL5HZWANbdzibAAC+iDGXbPgAfeDHPxz/AOCXEyu3J/yr45gFPPR4TX+KU1U4uqY/F6KfeOLN2TmqYHvZ0NOiQgpKvPINtsdnsbocVLi2GKYR1gGY5qKoBiqui33wiKRz2jXpRsPEBUZSOzODT4jVU9BSsz1NVNHTQN1AMsz2sZmIHRbd1yeoAlB/SfbfCsP2Wkx3btojfU1GG08bGu0a6phBjjYyQE2jqpBhbCGjjBm1Ll/M7EKySolkqJ3ukmlkfNNI7V0ksri6R7j1uLnE/Kut/Du2iGGYfg+xsFRLMaemgqa2V5dvJoqSI0lDviOi8yPZUyuaeBjiNvclcgoO8/DK2CxTGsCwiXCqOSuNE0S1MMHTqRFLTQtbJFCOnOA5li1l3dIHKRmI0x4GfJVi020FLiNTh9XSUOHmSomnq4Zadr5d1KyCCHesG9l3r2OIHuWscTYloO3/AAxNscRwLD9na/CayWiqmtkj3kWVzXxupaUuimjka6OeIlrXZJGuF2NNrgEc6bb+EntVi9O6inxIQU8jTHO2ihipXzsNrtfLGN61pAILWOaHBzg4EGyCx8s/KvCdumY5TuFRRYZV0lOx0IBM9NRFra3dEnK/M91WGOvYgsPBbZ8MXZrHa91JtLstWYlWYZPSRMngwieqJFnPfDXMhpn3likila0lrbs3F3aO04jWw+THlo2g2cZucLxJ8dKSXGjnZHU0uY5i4xxztduCXOuTEWFxAvdB7uwzbOpp6h8jNpnUUVPNLWvqXYiykbSxxudUCZ1Q4Rubuw67CSXC9gVW9i9gsWxqOplwrD569tG2N9U2mySTMbOZBFkgDt7OTupNI2uIy62uFeNuPCR2pxeCWjqcRjipJ4nwVFPTU1NE2aKUFsjHSGMyhrmuIIDwCCqdybcpGMbOSSTYNXPonzBjZwI4JmTNiLjGHsqI3sNs77G1xmKDqTwMdr9s3Yk3CsUp8TqcHbFKZ6jFYZ2yYe5jHOg3dTUtEkpfLu4hA5zrNcXNDQxy5z8JiioqfaTFocNEbaRtW7KyK27jnLGOrI2AaMayqM7cg0blygAABWbaXwo9ra6B1McSZSse0skkooIaedzXCxyzAGSF39aIscO1aVJQfiIiDLwf3+H8bH++1bHWuMH9/h/Gx/vtWx1YSRERVBfrTY3HEaj5F+Ig3xyWQHFo4baxxvPjDXcDu2gm44FrnFgt2O+a1YvscBnkip4nPtmDBljzcLtL2tN/m6gOCp/gnVQMlZTED3EUzXa34va8dluixb0rahjej18PlP8A0XI3k9M4h2tjHVXLn6PZOoD5JZWNbM8m7SL7pl9A3q11PXoG9hU/sxsgW6yC46/N2eX/AKrY1djFNCbvMYAHSc+wAt23UezbPDnnI2aNznGwyatHlJvYBcXVveXXrSsY4YeP4ZEYsugyDQf99NeC0xtzCWOMsLy1zxu3gXAc0OJ4douB/fat81ETJQTG8OYeD2nMAfkWpuUGnFPI2OWM5nEvAjGdsrLHPYNBLXZM3V1Ada9djaerpae+px1Khg9SQA2UWzsEeozgvYTka7ycezrCre1UYbUyWFgcjgP7UbCf03Vwwpkk87IaSCWpyuBlAbfdxkN6T3ONoTYNdZ5bc3sqvt5A6KtmiewsdHkjLXCx6MbLHzWtbyWXd22IvMfBxdeJ6YnHGe6DREW+1BERAREQEREBERAREQUzbn39v4pv78qgFP7c+/t/FN/flUAsWQiIgIiICIiAiIgIr3yQVmzML5ztTSYtVRFkYoxhToWuZIC/embezx3aW5LWvwK6H5I+T/k92nir56DDtoYm4ZCyoqRVzxRukZI2oc0QbmpkDn2ppPdFo1brxsHHqLeO0uL8m7qWpbh+FbUx17qeZtDJUPpDTsrDG8Uz5w2ucTCJchdYE2B0PBaOQERXjke5MMQ2qqJqPDX0rJYIDVymrkfEzdNfHGcpjjeS7NI3SyCjoiICIiAs/Z7GanD52VlDUS0tVEXGKohcWSxl7XMcWOGrSWPcP7xUhydtw44hSjGnSNwrejx50OfeiCxuWbsF9724C69uU9uFDEqkYC6V2EZ2eJOn3m9LN1HvM+9Af77vOI4WQRu02P1mJzurMQqp6yqeGtfPUPdLK5sbQ1jS5xvYNAFlGIvaiaDIwEXBe0EHgQXDQoJvanbfFcVjigxLEqythp//AC8dTK+VkN2tad2HHo9FrR8iry6C8PPZ2hwzHqenw2hpKCB2FQTOho4YqaJ0rqrEGukLIWhpeWxsF7XsxvYufUBERAREQEREBERBl4P7/D+Nj/fatjrXGD+/w/jY/wB9q2OrCSIiKoIiINi8l9QcPllYKjJLUwlntbHuLGxtE2jiACXMuPlGqkanaWupDcTVEgdHv2GUPmiAuSL9cd2tOlxxGnEKN5HaJtfiNPa5fBTyunhIA3scUbomPjeXZcw38d2ut7k2JutsVWCCtlFPuS3Od3eQg5GPuJXNYzQvEeexJ0Nj1LnbqYi/MZdjZUtanuzMYa929dWiWJlVBKzewxTwxOdHeSR+czR2bcXZ0LtuTqLHVR0NJVysidTysjJLt9E4agkjKxjY+lwFtSLarfvKHgbarI9ozSxHNT2yksfrbR3UdPmB0IBFSwCrsdMrJW+7LYo2yNcPdD23MAb36iuV7THaKxEurXZzaMzMz81KwyjrqeV0dS2YRyQxmERzlscMkD5d44Bzi9zpGyxi1ne9akaK3HZVhp5JLOLszpIor5Hlrs996Wnpuyvd0eBGlutTrSJnl7nXeO/robG3YG6DQdgWbG7MNNLGxH+HmssPar8Ujj1x5vO2zpEza3Mz/DX2FU0NNJHHUNkibMC8bprWtay7Q1r72IZdzrdlitZ8rzA3EHMvd7Io45CTc5m5hHmPW7c7hdB4i+lijkrqtuVtM0kS9xsfSsxt7Pe5+gBB6VrLljGsQfVzy1Mnu5pHykXvlzuJDAesNFm+ZoW54XW19S2r5Rx+fs1vE9StNCujHfOf2z9c/wAMRERd18+IiICIiAiIgIiICIiCmbc+/t/FN/flUAp/bn39v4pv78qgFiyEREBERAREQEREBdW+AP8A+S2p/wCAp/8AlYsuUl1d4A//AJLan/gKb/lYsg5RXSnKDTsHJls/II2CQ4xOHSBrQ8jfbSaF1rkaDTyBc1rrrCdjazark5wvD8DbDWV+H4pPNVUu+hhkaN/i5MYdM5sbZd3iNNLle5t2E2ubAhWvBHp2P2f23c9jHOZgwLHOa1xYfEsf1aSLtOg4dgVs/o7Nrqh0ldgu7pvFYaabEmSbs+NGeSSkiLHy5rGDK2+TLx61PckvJkdmNmtq6atq4ZMaqMElqMQw+B7ZW4bT+I4v4hHK9os6okvVOdYkWYy1xZz9bf0eGJQxY7VUssjY5KvDJoqYOIBlljmppHRRgm75N02WSw/BheepBR8d23xLlAxHCMKrYsPpSavxWKSgpzBlZiElKyeWUOlcJN2yAOAFuDuN1t/lw5YHbC1o2Y2SoMPooKKGA1s8tOJqiqqZ4o5hvXkje+0yQ5nuu4lxFwGgLTA2WxfYLGcNxDGaF8McNcJojG+CVtbBQyweN+LFr+uKZti/L763hYgba8KDkZxPaLFBtLszEzGsNxWCnl3tNNTt3M0EMVNlLZnsO7cyBjr6lrt612UgAhictWGUW1WyUO3MVDTYdjFPOKXGG0bd3T1YM7abeFvEy55aWRrnEuDZXsc5+VjhauTXF8Nwrk9pcVxHDYsSNPXTSU1LI1m7nrfG6llMKlxabwMLjIQb33TRrwUBytNZshsPDsjWywux3Ep21tXRwyNlNHAKmOpzyll2gDxami42e/fFheIyVi4l/srpvym7+OqkEBsLypV2121uAz4pBQxmnnFNHHSRSRxGJxlkyvbNLJexNhrwA86rvhNVMVFtpXTmmhnhp62jndRva0QTxxQUb308jcpbu3hpadDo46FQ3gsf60YP/wAaz91621jdLQzcqTosUELqN1cy7ai25fUDDGGhY8O6Ls1WKZoadHFwGt0Fj5I+WXbHEa+gjGzLGbOVVTT00rKPCKxlBDRVEjI3VDagBzA2ON+cuJyEMNwBw0h4UWAUuGbWYhR0MDKalZPSSxwRANijdVUlHUStjaNI497PIQxtg0EAAAALorbLZzbZ21BxXEcS+5+ytFiENX4w7E2UWFDB6apZI2GSnjlDn1T4Ru3b2OzpCQXZMpWpfDh2SraXaaXFZoHNoMQfR+KVHRLJH01JSQTRGxu2RroXGxA0IKDM/pGf9Yqb8j038Zia5pXS39Iz/rFTfkem/jMTXNKAiIgIiICIiAiIgy8H9/h/Gx/vtWx1rjB/f4fxsf77VsdWEkREVQREQXHkXx1uH4rTzSECKTPSyk8A2oblYT2NEu6J8gK3zS4vLJWSNiABbG5hNj0XG3Dy2BH95cqFbz5NMVlxGHNT1G4rmMEFQ8ta/wBsDSIahzT7pkjWgO4HMx2o0XP3tJnFvLPLr+Ga8RFtP17fdLYtiWJB7t1MW2sCctyT1lubqUe9kkTTI9xMriXuN7OLnHU2PV5D2KZrYnvjAqaetfVMG7mAkZFBNKIwTNEWkuEBedL62vcdtPxbBnVQySQQQRAnOI5XzSuBy9EvytDODuBJ6XVZcjW04rPpDu0taY4z9IWHDsSe46nW17jh5fMf5hWvAKzOOlxt89uB/SqNh8QaMo0A0+SwAGvVYKw0FSI7X0WvXmXnrW45Uzl/qzFHFTjNaeWWV3SIbaIxlt29ZzPv5LLTq274QVOXR0dSB0c08Tj2F4hewH0H/MtRL6PYxH6MTHx+r5re5/WnPw+giItxqCIiAiIgIiICIiAiIgpm3Pv7fxTf35VAKf259/b+Kb+/KoBYshERAREQEREBERAWZh+KVFMHinqJ4BIMsohkkiEjRcBsgY4Zx0naHvHtWGiApPANoa7Dy51BXVlC54DZHUc81M6RovZrzC9pcBc6HtKjEQZ0eMVTd9lqqlvjN/Gssso8ZzZ83jFne3X3kl81753dpWLTzPjc2SN7o5GOD2PYS17HtILXsc3VrgQCCOFl5oglMf2irsQLDX11ZXGMERGsqJ6kxh1swjMz3ZAcrb27o7F94DtRiOHtcygxGvomPOZ7aSpqKZrzYC7xC9ocbAC57FEIg9qyqkme6WaR8srzmfJK50kj3Hi57nElx8pXqcTqDCKU1E5pgcwp95JuA65OYR3yB1yTe3WViIg9aSpkhe2WKR8UjTmZJG5zHsd2tc0gtPlC/a2qkneZZpJJpXavklc6SRxAABc55JcbADXsXiiCWxnabEK2NkNZiFdVwxWMUVTUzzxxEAgGNkry1mhI0A0K+MW2hrqtkcVXXVlVHAMtPHUTzTMgaAAGwtkeRELACzbcAoxEGVieIz1ThJUzzVEgAYHzyPleGgkhodISQ27nG3lKxURAREQEREBERAREQZeD+/w/jY/32rY61xg3v8P42P8AfatjqwkiIiqCIiApjY7aCXDKllVF0g3oyxXsJoTbPGew6Ag9TmtPUodfRYRqdOvXS/VoOJ17FJjMYllW0xOYdQYuwV0EVdTSAwTxtkbm0vnAIzDWzxwI6iCoGHDZG6yEAdgI4f4Kl8lu00zWw4MOm6aWQUhcQGseIpp5YSe57U8g96S3A3Uhj1fVRvLJI3RvBsQ42A+Y2PnXA32hMTh9Jtd310hN1crYzpx6uC+qWbO8EnQcP8/KqjT1EjyLkuceJOgVlwdjtL6dq58x0w9qz1zmWXypYbJV4RMadwFTTWrIbgEPMFzJC4HRwfHnbY9ZaufROHOcAMtibN7AdRbtsDZdAbe4sKXD6g5rF7DE3tzS9A28wJd/dK5uo43SOzNJDnSWYBexuQLfM5dnwm1uic9s8fdyPFK1jUjHfHP2SiL7qIixzmEG7TxsQHA+5c0ni0jUL4XWcsREVQREQEREBERAREQfLo2nUtB84B/avncs7jfRH8l6Iorz3LO430R/JNyzuN9EfyXoiDaPgtbGYdjeLyUWJ0jKqmbh1RUtjzzQ2mjqKBjH5qd7H6MmlFr26XDQW6f9jrsl8Ss/O8S+tLQHgRff+X8k1f8AF4Wu1VFap9jrsl8Ss/O8S+tJ7HXZL4lZ+d4l9aWw6LaCjnqZ8PhqoJK2lEbqulY9rp6dszWvhMzAbsDmuaRfiCvOq2moIquLDJK2mbiM8ZmgoTIzxqWFu8vKyK+cxe1S9K1va39hQUD2OuyXxKz87xL60nsddkviVn53iX1pbWRBqn2OuyXxKz87xL60nsddkviVn53iX1pbWRBqn2OuyXxKz87xL60nsddkviVn53iX1pbWRBqn2OuyXxKz87xL60nsddkviVn53iX1pbWRBqn2OuyXxKz87xL60nsddkviVn53iX1pXHANt6KuxCuweB0hrcMEBrWujc2NnjbN5DkedJLt424KSx3aGjoDC2tq4KU1MzKWlE72xmoqZNI4Isx6crupo1KDXnsddkviVn53iX1pPY67JfErPzvEvrS2LtHjtJhsDquvqoKOlYWh9RUyMhiaXuDWAueQAS5wAHaVm0k7JWNljcHRva2Rjhwcx4DmuF+oggoNW+x12S+JWfneJfWk9jrsl8Ss/O8S+tLayINU+x12S+JWfneJfWk9jrsl8Ss/O8S+tLaywNo8Whw+lqK+pLm09JBNVzua0vcIaaN8spa0aucGMdoOKDXHsddkviVn53iX1pPY67JfErPzvEvrSuOC7dYdVYYzHhUtgwuSPfipqv8AR2sizmPPLn97GYW17Qp3Da2KpijqaeRk0E0bJ4JoyHxywytD45I3DRzHNc0gjiCEGsfY67JfErPzvEvrSex12S+JWfneJfWltZEGqfY67JfErPzvEvrSex12S+JWfneJfWltZEHJHhY8lWB4FhtLU4VhzKWeXEWU0km+qp80DqSvlLMtRM9o6cMRuBfo8bE35s3LO430R/Jdj+Hb96KH8rR/wGKLjxVHnuWdxvoj+Sblncb6I/kvREHwImjUNb8wX2iKgiIiP1o7SAOsnQDylZdJFC46yF3aQMrL90E3LvmCgmEyuN9W8bDhx6N/kN1MSgRtA17ANCDcXPFFe1dWRxA5AGDgDYZ3HtBPSt51gUjnPyTHLZxe2NrXXDHM1dfr3pGo8mo/BtjVQ3rw0us0C73dxo46DUcDw7Co+irTlJia8NsbuOhcblzCG/g2IZY3va+isJLYOxFayDHMML3BrYnvkk7rd9BI0DThZsmv9ldA7YYZHP0nNBI6/wDPUuS8Kc5tdS2Ju3W5PCzQ0DjoNCt/Um0k0UeW28jI9ydcna1vW0eTq8i526jqtj4Ojs9SK159XjBTMa+zW31UtBx4DRVtm1Mcbi4wPJPAWAGvVcn/AAWBiO1k+V742MiHeOpubANBItckgcFyp2tp4dP2vTrGUDy44w97o6Nh6LelIerO8aD+6w//ALVRcGjtJc8GNLhp+HZrWEWOtnOafkWVjZmqniUvc4/hl1r5hdxeXONg02JueGXzLAwqQSEtbI10ri27Wkvs3ouLnOAytIc1oy3vx7Ne5oaMaWnFI8nB19WdW83nzXKGW04Y8Nkikb7lwu0tIbby8D/+K9qjZTOSYJWsudGTE2AJ4NkANx5x8qiqm4kheD7l27Nr8HaftN1aqCoIGR1z2acOPCwXq81PxXCKilPt0Tmg8HjpRnzPbosFbQZXtaCHWI4OaeBB4ggi1v8Aqq/i2EU0t3RAQO4AstkJ6g5hOnZ0beYq9XqYU9F+ytyuLCRmabG3mBBHkIIPyr8WSCIiqCIiAiIgIiICIiDePgRff+X8k1f8Xha7VXFXgRff+X8k1f8AF4Wu1Viycm4xyk0uzG1e11bM01FXJBgsGG4fGf8ASMQrH0VM2OGJou7dguaXvAOVvAOcWtdt7kI5Op8P3+OY25lTtPigEmIT6ObRQHKYsKpCCRHTxBsYdlJDnRN1cGMK1jzDodpNq9ssKxGPNDLTYK6OVtt9S1DKGDdVNO4joSsJPkcHOa4FrnA2PkJ2/rsLrnbEbVS3xSBoOC4m+4ZjOH9IQgucenVNDHAOvd27e13tkbnSBYdruVLEZ8Xl2b2Yw2mr66jhZPildiM0tNhtBvmsdBAdyx0lRO9r2mzOGoscsmTI5OuVCsmxWXZnaDD4cNxllOK6lfSTOqKDEqPMWulpnSNbJG5rmv6DgSd1Jwy2VE5PcXptm9sdo6bGaiKhGMGhxDC6qseyCmqYohUCSKOaUhm8D6rdhhIJMDrX0v8AgxWDaTb/AA+qweWKtosCwyoOIV9Od7S7+ujrIYqVk7BupH/6TG4ZXG+WcDWJ9gm8U5bsSdjeJ7M4XgQxDEKR1MKN2+MFNuJYWy1dZiUzxlp4YTJC0Nbd0hkDRrZT3ItynV+J4hiWAY5h9PQYvhYglk8SmdPSz09Uxr43sL+kwhskLtSbiYaNLSFAcif+uO2P9rBv4WZY/Jv/ALQdpfydhn8Nh6D6g5a8axDEsUwHBMBhq67D6x9P4zPO+HDqejjL2iprpCMxnkeGtZBHcuDZnXtGb3/a7F9pm+KwYThGGTTSUwmrqyvrHwUVJVDIHUscUDH1E9yXkPGgDNTci9G8Gb787YflwfsqVF8rG2z5tqW7OYlj02zGBxYa3EPGYKiHDZsTq3ysDYTXzC9NDl3wtGWkmnlF7ubkC8ci3KVXYpW4ngmM0FPQ4vhLoN8aOV89JUw1bHPilhMgzs6IY6ziTaVvAggRI5UcbxivrqPZXC8OqKLC5zRVmI4tUVFPFU1sdxNS0TaeNziWEEbx12m4Ogc0uofg0YphrdrsfjosRlq6epp6D7nVNdUz1NTiIpYxHVvhnrDva1jJmytDwXDLGMpLQCngr7a4bs4zHcEx7EKfDMQp8crKtza+RtNv4JoqaNksBlsJ83izngMuS2WNwBDgUEx4NmI1NXtVtVPW0L8Nq3MwcVFE+WOoMErKZ7HBs0XQmiOTM14tdr2mwvZZ3hk1UcDtmp55GQwxbTUEs0srgyOKKMudJJI52jGNaCSToACo7wZ9o4MX2p2qxGkbMKWoZhD6d1RE+CSWBtPIyKoEclnthlawSsLgCWSsJAvYS3hfNBl2XDgHA7UYcC1wBBBcbgg6EeRBibKUzuULEo8cqmvGyOFzvGB0MgLW4ziEJLJMVrI3aup43AtjY4X4g2vMx+yeWzlJj2bpYZBSyV9fW1MdBheHROEb6ysmNmMLyDu4xpd1jq5gt0lp/HaWfkzxN2JUcUs2xGKTj7pUkQL/ALhV0haxtVCwatp39FoyixDRGek2DNn+FVVRsn2W2tjc2qwbDsREtXUQB08bKPEnULoq4GIOvE0UuhA1fJE0G7hcJnaLlU2j2dbDX7UYLhrcGlmjgqarB6qoqKjCt9pG+rimitOzN0SYja/AklrXT/L5ytu2Y+5ckdH90IcRrG0sghL3ziI7t2ajZGD4xO5ryGsuA4louLqkeFvt9hWKYBJg2FV9JiuJ4tNQ09BSYdPDWTSObWU85eWwOcY47U72ZnWGZwHavHwiaB1JNsLSvcHPgx3C6d7hwc6F1CxzhfqJaT8qDYFByg4rh2HYhje1mG0mE0dNFFUUlNSVPjtW7eGRppah5yxGqdI6ljblytLptSLaUHbLbXa2u2er8Qq9ncPgwmtwmtPi8NdI/GKKkqaScMrJ2SxtgmY2N7ZHRtLJMt+iHAtVs8NPCZ6vZXEW07XSOi8Xq5GN4mnpqiGSod/ZZG18h8kRUDt3y2bP1my1QylxCGesrsHqaWDDKc76viqJqGVj456eO76eOHpufI+zA2JzgSLXDy2KxiLD+TmCsnoqfEYYcN3klDVgOp6hvjJGSUFpBbrfgdQFY9s+VE4FsjRbRUmHUwDqLCnxYc1xipqeOtip8sERY3oxxNkDWgAaMHBUQf7Lf/tP/wDUsbl6/wBmeHfk7Z7/AJVEgsO2PLhtDQ0nONuzMTNmGyQjPV1W6xeekqHsjirm07btponvkYGxvDn9NpIynMNh8sXKnDgFBT1kVNJiFXiEsNLhNBGd3JWVNUAYml1ju2AEXNjq5jfwgVW/DR/1OxP+zh3/AMnhypnhJUslLBsjtIYZKigwWpppsSZGwymKnqG4e4VRaDYbs0hDXHg+aPUXQTHKRyt7WbM4e7EsY2ewmaJxja2XD66ZzKSSR7A2CujmjzkuDngSwlzQ5gB92COgYH5mtd2gH5xdck+FzyyYPjmz89Dgks2Jkvo6mqqIYJ46Wgh38e68akqI2ZZpZLMbEAXaPJDcuvWtIOg3+y39gQaA8O370UP5Wj/gMUXHi7D8O370UP5Wj/gMUXHiqCIiqCIiAvGtlyMc7sabefqXsozaB5yBg/COvmCBhLi11hfjGO0XDG6H5VJYjUEvY0aNGawHFpA6TSONrm4WHhzTdr9bF44HUgjXhx49a/ZZc07rfgtA1sNT/wBAsu0DyqrBr+svZLfrB6D2jjpYXX5RU9o8oFurhxufL519VA0cRpoGAA8S97GkaeRxWVTjgOFzewJP6RqfnWI9sBjD68AWtGwcO3pLbNLDnaWh5b2cLEf57Fq/YKAvq5XdhDfJoB/ity4TS/JwvfguTr3/AOst3Sj3UM7CpZD0SwNvxyOv+l9lU9vW5HNpg973N6chBAAc73DcrQBoLngeI7FtXEXx00Lpjwa0m5sLho7fmHyrSVVUGaR0shs57i4nsvft/B4Beu2jqnqnyYa04jCLmYWDLI1rozdpuLtfcWLJLa2tcXHC6k6SBl2iMjJla8ZQ1pDTfoPA4O049dgRxWPVzgDtGgLBo55Nwxrf7Zv0uprXnqAOTh8O7BuQ6RxzSEcC4gXA7rABlaOoNAW7LVe2QA6gkh1xe+XQi1rFScFRpd3AeXQn/IsoeKTMRex1tw+XT/PasXEa8ueIGHQavtwvr1W4WVwqaqcQvw0HC4v5B0j5LrBrsUDG3ubnpDtDOrXtJ7TwA7So6smLnshaQAbZjaxsLl2o68rSovE6wvfbRw4AN4XHVrropgYlfWOLxISRcjyfP5dApimlD2hw8vzg2KgsQbpfr42/yFmbOzXa5vYbjzH/ALLKBKoiLJBERAREQEREBERBvHwIvv8Ay/kmr/i8LXaq4O8Fna2gwTF5K3E6jxWmdh1RTNk3c815pKigexmWnje/VkMpva3R46i/T/shNlfjf9TxT6qoyhsOlwWkinlrYqSmirKgMbVVccMTKmpbC0NibUTNaJJgxoDWhxNgAAvHHNmsPrnwzV2H0VZLTOL6SWqp4KiSmeSxxfTvmYXQuLoozdtjeNvYFQvZCbK/G/6nin1VPZCbK/G/6nin1VQXzafZnD8UY2HEqCjxCJjs7I62CGpYx9rZ2CZpDH20uLFeuz2BUeHRCmw+jpaGnBLhBSQxU0Qc73TskLQ3Mes2uVr72Qmyvxv+p4p9VT2Qmyvxv+p4p9VQbDosFpIJpquCkpoaqpyeN1MUMUdRVboFsXjErGh8+RpIGcmwOiU2CUkdRJXR0lLHWztbHUVjIYm1U8cYaI2TTNbvJWNDWgBxIGUW4LXnshNlfjf9TxT6qnshNlfjf9TxT6qg2HhmC0lK+aWmpKanlqX76rlghihkqptfbah0bQ6aTU9J9zqVh7UbIYZiu7OJ4Zh+IGK+5NbTU9UYs+XOI9+x2QOytuBocovwVI9kJsr8b/qeKfVU9kJsr8b/AKnin1VBeZdlMNdUQ1zsOoXVtNGIKWrNNAammhaHhsUEuTPFGBJIA1pAG8fb3Rv4Y/sRhGITMqq/CcNramMBsdRVUlNUTMa0kta2SWMuDQSSBfQm6pvshNlfjf8AU8U+qp7ITZX43/U8U+qoNh0WCUkE01XBSUsNVU5BVVMUMUdRUiFuWEVErGh8wY3RuYmw0CYvgtJWGI1dJTVRp5W1NMamGKc09RH73UQGVp3Uzep7bEdq157ITZX43/U8U+qp7ITZX43/AFPFPqqDZWJ0MNVE+nqYYqinlaY5oJ2Mlhljdo5kkcgLXsI4gghY2F4FR0tOKGlo6WmogHtFHBBDDShspc6VohjaIw17nvJFtS51+K197ITZX43/AFPFPqqeyE2V+N/1PFPqqC37ObBYNhspqMPwbC6GcgtM1JR0tPLkd7pgfDGHBhsOiDbRSeLYHR1joZKujpap9NK2opH1EMU76WoYQWT07pWkwzAtaQ9liLDVa99kJsr8b/qeKfVU9kJsr8b/AKnin1VBtIqs4fye4JTvllgwTCYZKiOSGpfFQ0jHTwzi08MxbEDJFIPdNOjusFVP2Qmyvxv+p4p9VT2Qmyvxv+p4p9VQX7m7Q+K/c3xCj+52TdeIeLweJbq+bd+L5N1u82uXLa6Yhs3QVNM3D6igop6BjY2MopqeCWkYyCwhY2B7DG1rA1uUAWblFrWVB9kJsr8b/qeKfVU9kJsr8b/qeKfVUGxcawilroXUlbS09ZSyZd5TVUUdRTybtzXszxStLH5XsY4XGha09SheUCbEqWkacDw6jr52PYx1DUTCjifRhjw9kMmUsjkuIwA4ZbXVU9kJsr8b/qeKfVU9kJsr8b/qeKfVUFB2p2S2k2uZT4RX7PUOyeAtq4qzFAyvpcQqsQZCcwp6YYexrIcx4ufY3axwd0Sx/SC1b7ITZX43/U8U+qp7ITZX43/U8U+qoKd4dv3oofytH/AYouPF0l4WPKfg2O4bS02FV3jU8WIsqZI9xWQZYG0lfEX5qiFjT05ohYG/S4WBtzaqgiIqgiIgKHxF2Z5cNcnRcO0cTbygqXJUHTPJc4t1N3E34PBOrT/PqVgScZywxH+t7rXUZjxPHgOpYUEvt0uutx1A9v8An5FlSR56du7/AAXOLGuNnE5m+1tvoXX0GovbS9wsOnsJZj2Bululfr0PA3CyuQz3tuw6ZhmZ8hzB3Dr0YeKyaVo4gm/DhbiewXI4LwYQWWN3Xc3iNQMk+nDTXX5F6F4DXOF7NBcctgOiDpxXmLFyV012yzEOPtjzpqXAE2t5ToAFuCigIHA2tck21vppr2kaeZaq5O6JzaYkNIzXkeSD0gwbuJo4EkEGTzgdq2phsDnvikL3We+S8YLmt3bHSlmnB1s0XHs61zJ062mbfFuRaYiIVnlixHdxRUbT05PbZAOIijPRB/tP1/8AaPatWzjS2tu3gfPp/n51J7a414/WTVLTdhdu4DxbuIehG7j7l1nP/wDcKgJZHe4aem45IzYGztC5+uuVrTmsRbMY1u6VOmuGte2ZyysNYC4vcehGXBt9Q6VwAkfpp0WtbH5w/tUk4eUa/Na/Vrw4alYUEbWBrGE2AsOu3G1+03usozho1NiPwbW8pGvk/avRi+ZHCIF56r8dNbG/A+RQeBOL3SSO67gG44fKV+47iBeC0HTXtHbx+f8AQvnA3lsTh0NG3JsL8NeKyhJeRmAMkh4j2ttzY3cLvvbjYED5V54dRE+2O0HVoLW43Av2LGpqxjI2ucA4kuf0h1vJygfJYfIveSokeM8hyNIOWIaEggWv2cFJGPXuBuAb9v8AkcF8bOyWkt3gWnzjUH9H6V+ubfgBrZY+EHLKB5f8bH9qirUiIs0EREBERAREQEREBERAREQEREBERAREQEREBERAREQEREBERAREQEREBERAREQEREBERBh4xKWROI4mzR8p/ksGilbIRdjt4BxiLQXDrOV+jj5iF9bRye5b1XzH/BY1J7WM72gWByg3PHr08l1YGZWFpjMQ1GYta6QiOzyGuDTYltybt42uRwXvs/Qy1TQ3dTSyAuYXsje+YBvFrwATKBYiztR2hbb8EfYiKtnlxbEqaklw1gkipBUneE10JgL5BTvBY9jY5H9Nx0e1tgdSOpqXE6KnIYyOEEaBzWMYQB1NDAABpwt1LR3W/jTnEVz8cx39PVu6GxvqV6o/I9XDeH7K4jKGRjDa18wu7IaWobeNsMri6z2A2AOvEX0vwvDVIaGPtpq1paP67gLeQr+gtVtHSM6T4g6MkCwvceUarXPL5s7Q4rQuFBRMdXjLLTua2zy9jg4sMjgGtBaHdDg45eHFa+n4lW2Yt7vzel/D71iJiJn5NH7KTWjZbSPM6S2uaRsbgbi5s1uWKRvYdToOMztXjrqShnfHmLreLxOzZ3NmqBJG94dwORwJ0sLN04BeWyNOY4zHJmDml4DXNs5rmjI5hBvY5mu7OJ01KqfK/XNvS0jRlPtlRJYBtg0NjjabaZbmX6Mdi9NCYm2HjqcRlTYxlbcZbWy2PAdnEaDjfq0PYvnCbPJmJJBBZDe49rBJc+x4F7iX+YtH4Kxa+VxDYRo6S7ewiIe+m7dC1xsziP8AeLNjmAFmgW4cNNPNot5qM64HDX5bC381GYlUgC1yDc34HydXkK/J57Dj5rDhcEquyPcXEkk3N9VlAyaiXy3Hl/7r68aywzOB0LWsb1avLr2+SyjppNbLKrb7qOMWzSSAi/Do2Df0gqjIoYWxtbNNbNb2qM6kNto4jjdflQXv1cA1vVewJtw0WU2ERHQ7yS3TfcHXrt2BeboQelK+/kHHrUkYwd+Dx+RYkT8kgJ0s/h5L9az5ZuLY22HbbXyqJlBDrnTz9fyLFV2ReVI/Mxru1oP6F6rMEREQREQEREBERAREQEREBERAREQEREBERAREQEREBERAREQEREBERAREQEREBERAREAvoC0HtccrR5XHqCCu44SZTmc2NgsLuIBNgCco4u6+CxZ8VisQ1heQNC/3NwNCWjjwVli2ZE2WXxmIukaXNswOc8D8JgJuI/KLjyr82f2ZbNiNHSyPMsU1ZSwyMIia58Mk8TZW5WO1BYXdV1naMRkr704dQ8i2zDKDDqFlRUFhjhE9RAQ1rn1WIh00rJBwayMStYOsmMcLFWnFMGw8XmMtRfXK1kzmi58o6/OVWttdlZ8XqzFFVfc6na28lUC4SAXAaIGNIzuzBw6RAGUnW4BzdsNlWWDosRqY5CQBuA1kd+8WG4K+e1Y6otaeOZ/19XT3JrWJmeI/z7ozEcMq7tfTVcVQziIqs5JW+Rs0LchH9pnnKm8EfVxD2+It0tZsjHi393q8uir+E4RXsNn1UdS0XyucxkMgA7xa4Nd6IU6TVwssI7t1uRY8fl0K5mpT45bdZzPPDF2ipo6q8jYwypYbiQAAztsQY5NbbwWbZ/XYArl7batfVYjNI6zTHlpQ0aZdxfNYAk3Er5Li99Cum2TG+pvfi0/gk9TiB8y0h4QeyRp3HEqaN25qXtjqsouyCoebGdw/BbKNMwtaR7u+Auh4ZuMW/Tt59v6cjxTa5j9Ssdu8fdrOj9sc6YNu0kBnDSNtwCTYXubu4fhrOa6w4gDz/t+ZfVK4RMDdPLw1HC2nyKPqagDr07Ov9i7zglTUk6Ai1h/m3aoqckG+lu3tXrU1DLaXuf2fMsN02YW6+I8vkWSPppzPCzqsF8kTcokyM3hbewNrcba8T+hR9I4Zrn/us7DsQEdS17m5mOa6Nw7GuIsR5QQ1Ue5qHPAPRb1WaLf91+wEDjx8uvWpDEMNB9ugIc06kC2mv8lFOJB6Qtbjf/FTuPeoudf2edRlYOlfrspNr7j+X7b2URVHpG3VoscKtWCSZoW+S7fmWaonZd3tZHY4/pAUssgREVQREQEU/sPs6zE5KiE1kdJJDQ1dfA18Uk7qyShjdM+kibGQWyOijndm6RAhdZruAxsB2YxHEG7yhw3EK2PX22kpampiBboRvIYyzMD1XvogiUWRiNDNTSGGpgnppwA50NTFJTzNBuAXRzNDwCQdSOorHQEREBERAREQEREBERARF+XQfqIsiloJ5mySRQTyxwNElRJFHJJHTxuNmyTuY0thYToHOIF0GOiIgIiICIiAiIgIiICIiAiIgIiICCkE5bG49Fzhcd4d0+Q9fkui9qJxD2kcb6ec6C3l1WVO5PZM4dG1sjo4wCQRvZP7PuIx29Yt7lvn1WyuS3D2ur6Z8mr2ytdEy2a5a17yfOGxvdfqyrW2Ft3YAv0iS+TyuJzW+QlXrkxx5sOLUUbiAJI64Zjwa9kcTYzrw0dIL/1irq8Um0s9CudSsfF0TtDVxxsvLDBNEW2GntjS618w4gGw4dg7FTsSjwu2dratrtBliqJS1vlDHuc39CbQtkkkyb3LZtwLajjrfgTx0VSqsEpmPM8lRUSy9Q3r4ooweoNjIaPOblfP61eqfR9VozFY/pPtooLh0GIyADV0dVFG9x8gdDk/S0rwxjEHi0fjDXNPA3Lc1uogcFTJ8SmilAiPjUbibtf0QwNtmyS26TwDoDcGx4WKzKGrgqS7dPa6WMgSwnKJYyeGdtz84uFoX07fJ79dfmmaKrJ6iHjRw4aeQjiLdqlY6qCdpp3QiRjwWSiVoMZYdHNcHXDmlVzxpzPk0BOhHmPFZ1FjEbGPe5rhkY5xOhuGAk/JovCaTM8LMx5ufOU6ipo6yeOiDYoI3bpsYLzctNi5r3k31v8AIAqLU07r21Fu3XTtBbxGnYrHW1m+e57iS55c9wI63Enr86wXTahpHDS9+Gq+upE1iI9HxtpzMygybA9fk0N/mXlCTl4D5jfzAdqnJIQ4m4zN6tO0+TgbBYFVQuHSY0uYdMoGazh1ebyrPLFGAW8nEEHiLI94BaeNv5qRlwyQgC7S7XoC5IuLm3UTpw7Viy4a9paLscxwBZLciNweAQbkdHrGvAgq5E1g1W9tix12ni08De/bpdStRDHMBfK134Q0/wC/Uq6/CKuBzWuiLc/uHZmmNx8j2ki9ivqXB52OAkifCXEZZZJA2F5PANla1zC4nqvdMZRly074uIuw9YvYa/tURXNs4kcDZTFfRVVKBn9sjtckXcGHrBuBp5bW8qi5iH6jzEcMp04jiNbKKm9mBZj/AO0D87Wn/FS6jNm2+1X8tj52gA/sUmqCIiqCIiDffJBt74lBS4rjcuH1tLRhmBYRRU9JRTY9SvswGoa8NZLFRNpTI113uMhLBlzOBfhcvu1bH1WIUswx/DcUpaiOmw+mjrw7BTRxP/8ANNp2MjdTGamLZGhue5kj6QAcFTNhaaOtwnF6GOkppcSiFLi1JNug6vdS0smTE4aeT3QDInRyiNurg6fQ6WqO8qcQqG5pJ62sqZIoWPmkfNPUTSFkMDDJM4l7iTGwZjwyjgEVdtitrX4i6LBMenlrcPqXtp6arqHGetwernOSnrKSokvKYN46NskL3FhZewFiHUXGqCSjmnpZwBPTTS00zRewlp3vjkDSRctzMNj1iy2hs5yX4iaWpazBa9m0eH4lRSRuqCyOgkopRJ0WGX/RqoRz0+Z7muIyTMIJAc1VHljqGT4pVzx4jSYsZiyWStoYHUlJLM6Jge2CN0kl2NLQM4e4P1dcklBbse5KcOwo0rsY2kio4qykgqoGxUFTVVGeVpM28jhkIhpYyY7TON5CXgNbkJMdWcj1azGjgLaineGwfdB2IuvHTMwwC766RmYuYA7oZAT0yBmynOPbwm66Gpq8PdTzRTtGz2HRl0L2StbJnr3GMlhID8r2HLxs9vatpYltrQUu0QEtbSx0tfsvTYZ4/wC01NNSVMj55YXVIdmiMOUjM14LfbI81mklEafrdhMPnpaurwPHPuq/D4hU11NLQz4dIaTMWyVtI6aRwmiZxcw2c1tiTcta6J5QtjjhEWGzGoFR90sNgxTKI914uZwHGC+d29DQW9Po316IWydoosdoqOsfW4zspSU81HUU2XD48HNVisczLPo6PxOibMWSjTOS3L0XEC12/O2Wz7dpMMwWqocTwiBlBhUWGYmK+rZSvoZqZsbXPkY5pc6M2kI4EgMLQ4OuCoWl5GXSYvSYIMRGarwlmMeMeLEiMyCceLCPfjP04PfMzdH+501xcN5LIKypjw6gx2lq62Nss2MObTVMeHYVTU7W7+ZtbIQyvDZXCMbsNzFwJyAOI25T43QN2vw6eKvpX0bdmo4WVRliZGS3x97WvJdaOUxFr8h1AcNFpnwecbpKd1bh2IVDKKnxbCZ8L8dk6MdJPKy0b5idGREOkBcSACGXsLkBkScm1BWU9VNgGPNxeooYXVVVRSUFTh80tNH77UURme7ftb3AL6t1u5od9Q8mVFDh2H4zimPMoKOvZK7dsoqisqmysfaOKCOB5MzDGHPfKQ0MIY2zy8Ws3J7gXM81mL4tX4U97sOqKLD6Kgq2Vs1fUVLoS1zWsaC2lbum3e4aCS5DcutZ5UqyF+AbLwxTRSSQ0uJMmYx7HvicZqJrRK1pvGSY32zWvkd2IjOx7kkw/C5Y/uttNTU1FVtZJhdRBRVNTNVwyNY41M8Ub8tDTsMjBnc9wdqRlsbR7ORys+7NTgclTBFHRwmtqsUka4UseHhjHiqLM1w45w3dlws5knSytL1++EVWxTwYGIJopizZyijkET2yGOTI8GN4YTkkuD0TrotqbXbS4dNj2MYdNiFNBT4zgcGGw4jvGSUtPVbmUxNnkY7Kxjm1BJJIHRYPwwg1zs/yUYdixqXYPtIyrjpKWapnbNh9TSVIfG28O7jnkAlppHB4MgN4yGAtdnBE7SbLYE/ZVj343FEx2MNe/FvuPWSTR1DqMB2Gblr9++NoJdvQ7dm3C6y+RrZEbP1FfLiuKYOyokwetgpqamrYqh0kbt1JNUSOs0RRjcRhgd0n55DlG7KrfJ/SsxjZmXAqerooMUhxZuJMp62ojpPGKV1LHCXQOk0e5ry+46sgvbM24Q2GcndHDRwYnjmNNwqnrXSfcyGOinr6ysgiIBq3QxPBp6exa7W+kkeoLmg3jkn2Zgjp9p6Cmxegq6WXCqJ7cVbnhpYoZTiBkfVsdd9PJE1rnPju4gBvWbDCx7Bm7UYbhDMPrsNixDCKQ4TiFBWVUVM+1Puo46umfcsngfuC7O0lpEjdbtIWPsdQ0+E0O1FC7FMNrJX4RSASUcwfA+pc+tbLSU735fGnxufE0uYLXlaNDcAK5i3J5RSYbU4tguNjFmUDoW4jBJQ1GHSxMqHBsdRCKh5c+K5OhA0jk1u0tWuls/knroYsD2njlmijklpcObCx72MfM4T1gIia43kIL2XDb+7b2rWCAiIgIiICIiAiIgIiICIiAiIgIDax6wQR5wbj9iIglnVFmlw42JB7TbiPOqxtdjktLPRTRGz44HPsfws1RMOlbUXEbdf6qki82y9X/a/7FV+UF2d9O/8AB8WEd/60cs2b99p/vL11Ji1cFZms5huXBeXCg3bfGGTslLbOsHua12lz0erzXWWzlRwWRubxktdfUPjqcoB7CYjrcdS5qAWXu7FsehJs51v6w6A89jf+8FzbbKlvX8+ToV8R1a+n5823tv8AlHY5j4KCcTXDX542uZCwtIIsXAOkkBtw07b2savsdXPjGcOcJNOmCQ+/EnNe5JOt1Vo2WzXHANYPKXG518zT86s2AQ9E2Cw1NvWleiGHtFtS/VP8MvF+ULE4pgyOoBa1oJbLHG+5Nzq6wdw8qk8O5TquoY+llgizSxTNM0RczK1sZJJY4m9ybcetUbHIvb5Nbe4FgL/gN1Pk1X1hTcr33A6FNldxNnzSNd8+Un5lsV22niPdjMPP2rVjMdUsiaQtcRe+gHV2LwncRqOv/qF5GQXPbwXmx59yfk/l5VsNZkxznttof5f4le5qMosO9fS/Zp+xYbdQfkH7T/Jfpf13t/nyqYGZvbNDrkPBaQeOodp/nyLI8YYxro3C7HFxDTboFxzZR/VzF3zqPYRdt7ZQQT+0rHklMgceskuHyaj9imFW6lxNj2Mp3C92uyZtbOaLtHkva3yrJmxFhp7P6cbhkeziHNuOI7RcKkw1B6Lm8W2IssypqejYHoOJe0dmb3TfMCf2KYRnYhJI1piDy5sfttM8km8f4cT9elpqL90hQtU0OAlj6LvclvDUD3vzWuW/KOxe7qs2DQb21t2tI6bB+351hxSBriCMzescL2sW+Y9d1lgT2zTwYjbvE+a4H/VSigdl5LuksLNd0gOzXh+kqeVURERBERBl4Nic9FPFV0kz6eqgeJYJ4yA+N4BFxcEEFpc0tcC1zXOaQQSDcpdqcErXb/EMDnpawkSSVGA1jaKGeW9y/wATqoJYqVxNiTC4Akk2BVCRFdAclPK48VBwigbTYRR1EVc9tfjVfVYjNFiPi0jqSqmqKt7YI4jNFEHQNiykyOIJcTm09tbtG2vZTsGG4VQy07ZmTT4ZTR0YrnSvYWyTshAjuwMs3KAPbH2sCGiARB+AIAv1ER+BoHAAIWjjYXX6iD8sOxfqIg/A0DgAPMll+ogmsK2TxCqhNVT0cssHthD27sOl3Dc05gjc4SVWQe6MTXZbG9rLzbsxXeKnEBSS+JBhmM3QHtDX7t1QI829dTCTomYNyAggu0KvXJ3tNhdE3D5JpY4ZKcVTK0SYe6vrHSVL6psc1HVSOLKGjbDPAXMgDJc0M/RkMuZQmJV+HTQwzOrq1k8GEU+DGhpY3QvnfSQtpC51S8GIYZNE0yvicM5Mj2ZdcyCExTY7EKSNs09BNFG58cfBjnslnBdBHNFG4y08rwDlZI1rnW0BUhinJ/X01N4xU08sczq+mwyGkDGTSTzVUVbIWtdDI7LUsdSMjNOW571LL5dA69c+MKpXzz08kMrTiOF4nSUseGvp53wYZXGd1NXV0znz1mIGKQe2SvdFmhe4PvJlEXs1tNheDmN0NXU4j/8AWYsSkBpnwFtJ4hjFG91p32kxBjsQje4aMcWMAedS0KbUbE4k2aOldQTOnmbLJTxx7uffNpmufUiJ0LnMkkja0lzAS5ugIBIB9a/YTFYI3zy0ErYYonVDpQ6B7DBG3NLPCY5D4xExur3RZgwA5stlaRtdR0zGUsM1O6NsOMPL8Ow77l0ranEMImw+kDY3Xnknc8s3khysa0RAZ8pcozBtpqWI4cXueG0mC4th01mE5arEOcG4azvMP3RpbuGgu6/uSiqvVYBVxPnjkppGSUkbZqtrsv8Ao8UhgbG95vbK41NOBYm+9ba6jlsfbbEd3hFEySOaDEsQgpo69szXMdJh2AvqoMLnLZLPy1DZIDnI6X3KaQSCL64RBERAREQEREBERAREQEREBERAREQFi4nRNnaGmwLSXMdYOyl1swIPFpsLjT3I1WUiCs1WDMgY6YjM9vBmpicTYXsekWa3ynzXKgoHHPncbnNmJPXc6q4bRP8Aa3MB6XRcRp7nNb9tlVY2CwJ4X17TpwFuJ8iYEpPBlyMGoe90vXbKAGxkAgEcX/Mrzs3RAMuQqm1l5w0aiNjGg6dbQ93DQnM8i/XZbCwWICMeZaevbN2xpRxlRNpKcCeTtO71Fh/uxx6yvhtJu45J2lrw8wizHAuY2KEZg8fguzOOnHog8CL5m1mUVD72Jyx/hG40I1b1Dh/kqvV1TK1ha15DC67mCxa46dKxHkA+RbcdmvPd4PYXnQ2FtfPfgNR8q8je1utt7HqcBpp5l8+NPIsS21yfcs4kWJ4diCd3k6wNLcdT7lB9tkPEdetv+h4r6dLfQi36NV5GXgC3QXN2mx186eMDUhrr6i9wdT5LedUegdc5fIdV9U0trXHBYjJgOrXyr7ErT5EH6527Jb1dXm4hfYmuMl9L5m+RfjXtcLG1+o3HD519OpesaEdnaFADjcEGxGt+wjgvRzszsxtqNerhofMvMRuHugQe3qP8lmYZh75nC4LYvwncLjsb2kqqldmKYsjLz+Gej/ZHA/Kb/oUuvxrQAABYAWAHAAcAv1EEREBFTOdc/ch9F/rpzrn7kPov9dRcLmipnOufuQ+i/wBdOdc/ch9F/roYXNFTOdc/ch9F/rpzrn7kPov9dDC5oqZzrn7kPov9dOdc/ch9F/roYXNFTOdc/ch9F/rpzrn7kPov9dDC5oqZzrn7kPov9dOdc/ch9F/roYXNFTOdc/ch9F/rpzrn7kPov9dDC5oqZzrn7kPov9dOdc/ch9F/roYXNFTOdc/ch9F/rpzrn7kPov8AXQwuaKmc65+5D6L/AF051z9yH0X+uhhdHEnUkk6C51NgAANeoAAeYBfipnOufuQ+i/1051z9yH0X+uhhc0VM51z9yH0X+unOufuQ+i/10MLmipnOufuQ+i/1051z9yH0X+uhhc0VM51z9yH0X+unOufuQ+i/10MLmipnOufuQ+i/1051z9yH0X+uhhc0VM51z9yH0X+unOufuQ+i/wBdDC5oqZzrn7kPov8AXTnXP3IfRf66GFzRUznXP3IfRf66c65+5D6L/XQwuaKmc65+5D6L/XTnXP3IfRf66GFzRUznXP3IfRf66c65+5D6L/XQwz8ble91gx2UakhpJcSbC9uIDGt8xe7tXjQUJeGsc1zQZGNeSHCzSQCfNYLG511Hch9F/rpzrqO5D6L/AF1l1GE9g4dJI+VwLS97n6gi2Yk63Ww8OLWsALm8B1hae51z9yH0X+uvznVP3IPRf661baGZzl6xqYjC4bXMLp3kAubkiN2lrh/vBbUXB06r9XaqvWwuJ9w+2umU/IvDnXP3IfRf66c65+5D6L/XWxHbDyw+Y6J3cd8oP8l6CjPcf8x/kvnnXP3IfRf66c66juQ+i/10MHiju4/0T/JYviz7noSce67+Syudc/ch9F/rpzrqO5D6L/XQwxDTv4ZH+ToO/kvjxd5/3cgP9hw/wWdzrqO5D6MnrpzrqO5D80nroYYApXkgbuTXQ9B3X8iv5ibwLQbdoBVP511Hch9F/rpzrn7kPov9dDC4CJvdb8wX2qZzrn7kPov9dOdc/ch9F/roYXNFTOdc/ch9F/rpzrn7kPov9dDC5oqZzrn7kPov9dOdc/ch9F/roYQCIiiiIiAiIgIiICIiAiIgIiICIiAiIgIiICIiAiIgIiICIiAiIgIiICIiAiIgIiICIiAiIgIiICIiAiIgIiICIiAiIgIiICIiAiIgIiICIiAiIgIiICIiAiIgIiICIiAiIgIiICIiAiIgIiICIiAiIgIiICIiAiIgIiICIiAiIgIiICIiAiIgIiICIiAiIgIiICIiAiIgIiICIiAiIgIiICIiAiIgIiICIiAiIgIiICIiAiIgIiICIiAiIgIiICIiAiIgIiICIiAiIgIiICIiAiIgIiICIiAiIgIiICIiAiIg/9k=\n"
                },
                "metadata": {}
              }
            ]
          }
        },
        "7cd8b3fab1fa4ae9b226ee497bc91818": {
          "model_module": "@jupyter-widgets/output",
          "model_name": "OutputModel",
          "model_module_version": "1.0.0",
          "state": {
            "_dom_classes": [],
            "_model_module": "@jupyter-widgets/output",
            "_model_module_version": "1.0.0",
            "_model_name": "OutputModel",
            "_view_count": null,
            "_view_module": "@jupyter-widgets/output",
            "_view_module_version": "1.0.0",
            "_view_name": "OutputView",
            "layout": "IPY_MODEL_526cbb16172d47bfa2a128460d339780",
            "msg_id": "",
            "outputs": [
              {
                "output_type": "stream",
                "name": "stdout",
                "text": [
                  "Video available at https://www.bilibili.com/video/BV1Hp4y1S7Au\n"
                ]
              },
              {
                "output_type": "display_data",
                "data": {
                  "text/plain": "<__main__.BiliVideo at 0x7fd6788f83d0>",
                  "text/html": "\n        <iframe\n            width=\"854\"\n            height=\"480\"\n            src=\"https://player.bilibili.com/player.html?bvid=BV1Hp4y1S7Au&page=1?fs=1\"\n            frameborder=\"0\"\n            allowfullscreen\n        ></iframe>\n        "
                },
                "metadata": {}
              }
            ]
          }
        },
        "2a037a60d325447e81646a610a1ea32d": {
          "model_module": "@jupyter-widgets/base",
          "model_name": "LayoutModel",
          "model_module_version": "1.2.0",
          "state": {
            "_model_module": "@jupyter-widgets/base",
            "_model_module_version": "1.2.0",
            "_model_name": "LayoutModel",
            "_view_count": null,
            "_view_module": "@jupyter-widgets/base",
            "_view_module_version": "1.2.0",
            "_view_name": "LayoutView",
            "align_content": null,
            "align_items": null,
            "align_self": null,
            "border": null,
            "bottom": null,
            "display": null,
            "flex": null,
            "flex_flow": null,
            "grid_area": null,
            "grid_auto_columns": null,
            "grid_auto_flow": null,
            "grid_auto_rows": null,
            "grid_column": null,
            "grid_gap": null,
            "grid_row": null,
            "grid_template_areas": null,
            "grid_template_columns": null,
            "grid_template_rows": null,
            "height": null,
            "justify_content": null,
            "justify_items": null,
            "left": null,
            "margin": null,
            "max_height": null,
            "max_width": null,
            "min_height": null,
            "min_width": null,
            "object_fit": null,
            "object_position": null,
            "order": null,
            "overflow": null,
            "overflow_x": null,
            "overflow_y": null,
            "padding": null,
            "right": null,
            "top": null,
            "visibility": null,
            "width": null
          }
        },
        "2d2bb710b333475b9e763ed794f2fbe2": {
          "model_module": "@jupyter-widgets/base",
          "model_name": "LayoutModel",
          "model_module_version": "1.2.0",
          "state": {
            "_model_module": "@jupyter-widgets/base",
            "_model_module_version": "1.2.0",
            "_model_name": "LayoutModel",
            "_view_count": null,
            "_view_module": "@jupyter-widgets/base",
            "_view_module_version": "1.2.0",
            "_view_name": "LayoutView",
            "align_content": null,
            "align_items": null,
            "align_self": null,
            "border": null,
            "bottom": null,
            "display": null,
            "flex": null,
            "flex_flow": null,
            "grid_area": null,
            "grid_auto_columns": null,
            "grid_auto_flow": null,
            "grid_auto_rows": null,
            "grid_column": null,
            "grid_gap": null,
            "grid_row": null,
            "grid_template_areas": null,
            "grid_template_columns": null,
            "grid_template_rows": null,
            "height": null,
            "justify_content": null,
            "justify_items": null,
            "left": null,
            "margin": null,
            "max_height": null,
            "max_width": null,
            "min_height": null,
            "min_width": null,
            "object_fit": null,
            "object_position": null,
            "order": null,
            "overflow": null,
            "overflow_x": null,
            "overflow_y": null,
            "padding": null,
            "right": null,
            "top": null,
            "visibility": null,
            "width": null
          }
        },
        "526cbb16172d47bfa2a128460d339780": {
          "model_module": "@jupyter-widgets/base",
          "model_name": "LayoutModel",
          "model_module_version": "1.2.0",
          "state": {
            "_model_module": "@jupyter-widgets/base",
            "_model_module_version": "1.2.0",
            "_model_name": "LayoutModel",
            "_view_count": null,
            "_view_module": "@jupyter-widgets/base",
            "_view_module_version": "1.2.0",
            "_view_name": "LayoutView",
            "align_content": null,
            "align_items": null,
            "align_self": null,
            "border": null,
            "bottom": null,
            "display": null,
            "flex": null,
            "flex_flow": null,
            "grid_area": null,
            "grid_auto_columns": null,
            "grid_auto_flow": null,
            "grid_auto_rows": null,
            "grid_column": null,
            "grid_gap": null,
            "grid_row": null,
            "grid_template_areas": null,
            "grid_template_columns": null,
            "grid_template_rows": null,
            "height": null,
            "justify_content": null,
            "justify_items": null,
            "left": null,
            "margin": null,
            "max_height": null,
            "max_width": null,
            "min_height": null,
            "min_width": null,
            "object_fit": null,
            "object_position": null,
            "order": null,
            "overflow": null,
            "overflow_x": null,
            "overflow_y": null,
            "padding": null,
            "right": null,
            "top": null,
            "visibility": null,
            "width": null
          }
        },
        "cbaea2a4f9e1455c818e4619577b940f": {
          "model_module": "@jupyter-widgets/controls",
          "model_name": "TabModel",
          "model_module_version": "1.5.0",
          "state": {
            "_dom_classes": [],
            "_model_module": "@jupyter-widgets/controls",
            "_model_module_version": "1.5.0",
            "_model_name": "TabModel",
            "_titles": {
              "0": "Youtube",
              "1": "Bilibili"
            },
            "_view_count": null,
            "_view_module": "@jupyter-widgets/controls",
            "_view_module_version": "1.5.0",
            "_view_name": "TabView",
            "box_style": "",
            "children": [
              "IPY_MODEL_4410ef27f0c34a0c8c67d91b59ba5e3a",
              "IPY_MODEL_3a1c959f3abe44c090a0118d6bcd6e49"
            ],
            "layout": "IPY_MODEL_040b73bb6ebd421d8c884b20a60669d3",
            "selected_index": 0
          }
        },
        "4410ef27f0c34a0c8c67d91b59ba5e3a": {
          "model_module": "@jupyter-widgets/output",
          "model_name": "OutputModel",
          "model_module_version": "1.0.0",
          "state": {
            "_dom_classes": [],
            "_model_module": "@jupyter-widgets/output",
            "_model_module_version": "1.0.0",
            "_model_name": "OutputModel",
            "_view_count": null,
            "_view_module": "@jupyter-widgets/output",
            "_view_module_version": "1.0.0",
            "_view_name": "OutputView",
            "layout": "IPY_MODEL_86b82826d37c4a99884b71f3bb3e9c13",
            "msg_id": "",
            "outputs": [
              {
                "output_type": "stream",
                "name": "stdout",
                "text": [
                  "Video available at https://youtube.com/watch?v=QGA5FCW7kkA\n"
                ]
              },
              {
                "output_type": "display_data",
                "data": {
                  "text/plain": "<IPython.lib.display.YouTubeVideo at 0x7fd6784c41d0>",
                  "text/html": "\n        <iframe\n            width=\"854\"\n            height=\"480\"\n            src=\"https://www.youtube.com/embed/QGA5FCW7kkA?fs=1&rel=0\"\n            frameborder=\"0\"\n            allowfullscreen\n        ></iframe>\n        ",
                  "image/jpeg": "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\n"
                },
                "metadata": {}
              }
            ]
          }
        },
        "3a1c959f3abe44c090a0118d6bcd6e49": {
          "model_module": "@jupyter-widgets/output",
          "model_name": "OutputModel",
          "model_module_version": "1.0.0",
          "state": {
            "_dom_classes": [],
            "_model_module": "@jupyter-widgets/output",
            "_model_module_version": "1.0.0",
            "_model_name": "OutputModel",
            "_view_count": null,
            "_view_module": "@jupyter-widgets/output",
            "_view_module_version": "1.0.0",
            "_view_name": "OutputView",
            "layout": "IPY_MODEL_21b1691aa6cf4dafa928d23c26ef5ce2",
            "msg_id": "",
            "outputs": [
              {
                "output_type": "stream",
                "name": "stdout",
                "text": [
                  "Video available at https://www.bilibili.com/video/BV1dt4y1Q7C5\n"
                ]
              },
              {
                "output_type": "display_data",
                "data": {
                  "text/plain": "<__main__.BiliVideo at 0x7fd678531a90>",
                  "text/html": "\n        <iframe\n            width=\"854\"\n            height=\"480\"\n            src=\"https://player.bilibili.com/player.html?bvid=BV1dt4y1Q7C5&page=1?fs=1\"\n            frameborder=\"0\"\n            allowfullscreen\n        ></iframe>\n        "
                },
                "metadata": {}
              }
            ]
          }
        },
        "040b73bb6ebd421d8c884b20a60669d3": {
          "model_module": "@jupyter-widgets/base",
          "model_name": "LayoutModel",
          "model_module_version": "1.2.0",
          "state": {
            "_model_module": "@jupyter-widgets/base",
            "_model_module_version": "1.2.0",
            "_model_name": "LayoutModel",
            "_view_count": null,
            "_view_module": "@jupyter-widgets/base",
            "_view_module_version": "1.2.0",
            "_view_name": "LayoutView",
            "align_content": null,
            "align_items": null,
            "align_self": null,
            "border": null,
            "bottom": null,
            "display": null,
            "flex": null,
            "flex_flow": null,
            "grid_area": null,
            "grid_auto_columns": null,
            "grid_auto_flow": null,
            "grid_auto_rows": null,
            "grid_column": null,
            "grid_gap": null,
            "grid_row": null,
            "grid_template_areas": null,
            "grid_template_columns": null,
            "grid_template_rows": null,
            "height": null,
            "justify_content": null,
            "justify_items": null,
            "left": null,
            "margin": null,
            "max_height": null,
            "max_width": null,
            "min_height": null,
            "min_width": null,
            "object_fit": null,
            "object_position": null,
            "order": null,
            "overflow": null,
            "overflow_x": null,
            "overflow_y": null,
            "padding": null,
            "right": null,
            "top": null,
            "visibility": null,
            "width": null
          }
        },
        "86b82826d37c4a99884b71f3bb3e9c13": {
          "model_module": "@jupyter-widgets/base",
          "model_name": "LayoutModel",
          "model_module_version": "1.2.0",
          "state": {
            "_model_module": "@jupyter-widgets/base",
            "_model_module_version": "1.2.0",
            "_model_name": "LayoutModel",
            "_view_count": null,
            "_view_module": "@jupyter-widgets/base",
            "_view_module_version": "1.2.0",
            "_view_name": "LayoutView",
            "align_content": null,
            "align_items": null,
            "align_self": null,
            "border": null,
            "bottom": null,
            "display": null,
            "flex": null,
            "flex_flow": null,
            "grid_area": null,
            "grid_auto_columns": null,
            "grid_auto_flow": null,
            "grid_auto_rows": null,
            "grid_column": null,
            "grid_gap": null,
            "grid_row": null,
            "grid_template_areas": null,
            "grid_template_columns": null,
            "grid_template_rows": null,
            "height": null,
            "justify_content": null,
            "justify_items": null,
            "left": null,
            "margin": null,
            "max_height": null,
            "max_width": null,
            "min_height": null,
            "min_width": null,
            "object_fit": null,
            "object_position": null,
            "order": null,
            "overflow": null,
            "overflow_x": null,
            "overflow_y": null,
            "padding": null,
            "right": null,
            "top": null,
            "visibility": null,
            "width": null
          }
        },
        "21b1691aa6cf4dafa928d23c26ef5ce2": {
          "model_module": "@jupyter-widgets/base",
          "model_name": "LayoutModel",
          "model_module_version": "1.2.0",
          "state": {
            "_model_module": "@jupyter-widgets/base",
            "_model_module_version": "1.2.0",
            "_model_name": "LayoutModel",
            "_view_count": null,
            "_view_module": "@jupyter-widgets/base",
            "_view_module_version": "1.2.0",
            "_view_name": "LayoutView",
            "align_content": null,
            "align_items": null,
            "align_self": null,
            "border": null,
            "bottom": null,
            "display": null,
            "flex": null,
            "flex_flow": null,
            "grid_area": null,
            "grid_auto_columns": null,
            "grid_auto_flow": null,
            "grid_auto_rows": null,
            "grid_column": null,
            "grid_gap": null,
            "grid_row": null,
            "grid_template_areas": null,
            "grid_template_columns": null,
            "grid_template_rows": null,
            "height": null,
            "justify_content": null,
            "justify_items": null,
            "left": null,
            "margin": null,
            "max_height": null,
            "max_width": null,
            "min_height": null,
            "min_width": null,
            "object_fit": null,
            "object_position": null,
            "order": null,
            "overflow": null,
            "overflow_x": null,
            "overflow_y": null,
            "padding": null,
            "right": null,
            "top": null,
            "visibility": null,
            "width": null
          }
        },
        "daca900c555f428e9e8adce2fd7c3b86": {
          "model_module": "@jupyter-widgets/controls",
          "model_name": "TabModel",
          "model_module_version": "1.5.0",
          "state": {
            "_dom_classes": [],
            "_model_module": "@jupyter-widgets/controls",
            "_model_module_version": "1.5.0",
            "_model_name": "TabModel",
            "_titles": {
              "0": "Youtube",
              "1": "Bilibili"
            },
            "_view_count": null,
            "_view_module": "@jupyter-widgets/controls",
            "_view_module_version": "1.5.0",
            "_view_name": "TabView",
            "box_style": "",
            "children": [
              "IPY_MODEL_33ccab598c0b48d282fe254a4ae09dde",
              "IPY_MODEL_502e2405a8644ba6ad00dd0213cbf8be"
            ],
            "layout": "IPY_MODEL_cef1ede26bb745159410a65ab1dd6214",
            "selected_index": 0
          }
        },
        "33ccab598c0b48d282fe254a4ae09dde": {
          "model_module": "@jupyter-widgets/output",
          "model_name": "OutputModel",
          "model_module_version": "1.0.0",
          "state": {
            "_dom_classes": [],
            "_model_module": "@jupyter-widgets/output",
            "_model_module_version": "1.0.0",
            "_model_name": "OutputModel",
            "_view_count": null,
            "_view_module": "@jupyter-widgets/output",
            "_view_module_version": "1.0.0",
            "_view_name": "OutputView",
            "layout": "IPY_MODEL_0ee78930f51d47e7b880930be839bb0b",
            "msg_id": "",
            "outputs": [
              {
                "output_type": "stream",
                "name": "stdout",
                "text": [
                  "Video available at https://youtube.com/watch?v=DHhM80MOTe8\n"
                ]
              },
              {
                "output_type": "display_data",
                "data": {
                  "text/plain": "<IPython.lib.display.YouTubeVideo at 0x7fd6739c8cd0>",
                  "text/html": "\n        <iframe\n            width=\"854\"\n            height=\"480\"\n            src=\"https://www.youtube.com/embed/DHhM80MOTe8?fs=1&rel=0\"\n            frameborder=\"0\"\n            allowfullscreen\n        ></iframe>\n        ",
                  "image/jpeg": "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\n"
                },
                "metadata": {}
              }
            ]
          }
        },
        "502e2405a8644ba6ad00dd0213cbf8be": {
          "model_module": "@jupyter-widgets/output",
          "model_name": "OutputModel",
          "model_module_version": "1.0.0",
          "state": {
            "_dom_classes": [],
            "_model_module": "@jupyter-widgets/output",
            "_model_module_version": "1.0.0",
            "_model_name": "OutputModel",
            "_view_count": null,
            "_view_module": "@jupyter-widgets/output",
            "_view_module_version": "1.0.0",
            "_view_name": "OutputView",
            "layout": "IPY_MODEL_25f008ad400741588f1e6f6383e81035",
            "msg_id": "",
            "outputs": [
              {
                "output_type": "stream",
                "name": "stdout",
                "text": [
                  "Video available at https://www.bilibili.com/video/BV1ov411B7Pm\n"
                ]
              },
              {
                "output_type": "display_data",
                "data": {
                  "text/plain": "<__main__.BiliVideo at 0x7fd670383f90>",
                  "text/html": "\n        <iframe\n            width=\"854\"\n            height=\"480\"\n            src=\"https://player.bilibili.com/player.html?bvid=BV1ov411B7Pm&page=1?fs=1\"\n            frameborder=\"0\"\n            allowfullscreen\n        ></iframe>\n        "
                },
                "metadata": {}
              }
            ]
          }
        },
        "cef1ede26bb745159410a65ab1dd6214": {
          "model_module": "@jupyter-widgets/base",
          "model_name": "LayoutModel",
          "model_module_version": "1.2.0",
          "state": {
            "_model_module": "@jupyter-widgets/base",
            "_model_module_version": "1.2.0",
            "_model_name": "LayoutModel",
            "_view_count": null,
            "_view_module": "@jupyter-widgets/base",
            "_view_module_version": "1.2.0",
            "_view_name": "LayoutView",
            "align_content": null,
            "align_items": null,
            "align_self": null,
            "border": null,
            "bottom": null,
            "display": null,
            "flex": null,
            "flex_flow": null,
            "grid_area": null,
            "grid_auto_columns": null,
            "grid_auto_flow": null,
            "grid_auto_rows": null,
            "grid_column": null,
            "grid_gap": null,
            "grid_row": null,
            "grid_template_areas": null,
            "grid_template_columns": null,
            "grid_template_rows": null,
            "height": null,
            "justify_content": null,
            "justify_items": null,
            "left": null,
            "margin": null,
            "max_height": null,
            "max_width": null,
            "min_height": null,
            "min_width": null,
            "object_fit": null,
            "object_position": null,
            "order": null,
            "overflow": null,
            "overflow_x": null,
            "overflow_y": null,
            "padding": null,
            "right": null,
            "top": null,
            "visibility": null,
            "width": null
          }
        },
        "0ee78930f51d47e7b880930be839bb0b": {
          "model_module": "@jupyter-widgets/base",
          "model_name": "LayoutModel",
          "model_module_version": "1.2.0",
          "state": {
            "_model_module": "@jupyter-widgets/base",
            "_model_module_version": "1.2.0",
            "_model_name": "LayoutModel",
            "_view_count": null,
            "_view_module": "@jupyter-widgets/base",
            "_view_module_version": "1.2.0",
            "_view_name": "LayoutView",
            "align_content": null,
            "align_items": null,
            "align_self": null,
            "border": null,
            "bottom": null,
            "display": null,
            "flex": null,
            "flex_flow": null,
            "grid_area": null,
            "grid_auto_columns": null,
            "grid_auto_flow": null,
            "grid_auto_rows": null,
            "grid_column": null,
            "grid_gap": null,
            "grid_row": null,
            "grid_template_areas": null,
            "grid_template_columns": null,
            "grid_template_rows": null,
            "height": null,
            "justify_content": null,
            "justify_items": null,
            "left": null,
            "margin": null,
            "max_height": null,
            "max_width": null,
            "min_height": null,
            "min_width": null,
            "object_fit": null,
            "object_position": null,
            "order": null,
            "overflow": null,
            "overflow_x": null,
            "overflow_y": null,
            "padding": null,
            "right": null,
            "top": null,
            "visibility": null,
            "width": null
          }
        },
        "25f008ad400741588f1e6f6383e81035": {
          "model_module": "@jupyter-widgets/base",
          "model_name": "LayoutModel",
          "model_module_version": "1.2.0",
          "state": {
            "_model_module": "@jupyter-widgets/base",
            "_model_module_version": "1.2.0",
            "_model_name": "LayoutModel",
            "_view_count": null,
            "_view_module": "@jupyter-widgets/base",
            "_view_module_version": "1.2.0",
            "_view_name": "LayoutView",
            "align_content": null,
            "align_items": null,
            "align_self": null,
            "border": null,
            "bottom": null,
            "display": null,
            "flex": null,
            "flex_flow": null,
            "grid_area": null,
            "grid_auto_columns": null,
            "grid_auto_flow": null,
            "grid_auto_rows": null,
            "grid_column": null,
            "grid_gap": null,
            "grid_row": null,
            "grid_template_areas": null,
            "grid_template_columns": null,
            "grid_template_rows": null,
            "height": null,
            "justify_content": null,
            "justify_items": null,
            "left": null,
            "margin": null,
            "max_height": null,
            "max_width": null,
            "min_height": null,
            "min_width": null,
            "object_fit": null,
            "object_position": null,
            "order": null,
            "overflow": null,
            "overflow_x": null,
            "overflow_y": null,
            "padding": null,
            "right": null,
            "top": null,
            "visibility": null,
            "width": null
          }
        },
        "ffed10a2515048d28798b863e21b4507": {
          "model_module": "@jupyter-widgets/controls",
          "model_name": "VBoxModel",
          "model_module_version": "1.5.0",
          "state": {
            "_dom_classes": [
              "widget-interact"
            ],
            "_model_module": "@jupyter-widgets/controls",
            "_model_module_version": "1.5.0",
            "_model_name": "VBoxModel",
            "_view_count": null,
            "_view_module": "@jupyter-widgets/controls",
            "_view_module_version": "1.5.0",
            "_view_name": "VBoxView",
            "box_style": "",
            "children": [
              "IPY_MODEL_ed491082be7b4549b3d1b04a81339a5c",
              "IPY_MODEL_fe3d5e66b2ed45258d4cb4ee8db924ae",
              "IPY_MODEL_86db68d4df164fe39d1a5ab378ae3b30",
              "IPY_MODEL_9863d3fef3ea4d968d03c2c1fde216ba",
              "IPY_MODEL_1aebcddf6b2b4a91a2073bb8845fbd93",
              "IPY_MODEL_f46702a77ddb401995d000496d8318c5",
              "IPY_MODEL_ad3a09a5c0164fa7bfb4d5806f39615e",
              "IPY_MODEL_91d0c4e6aa6e4e91a60480700ed38668"
            ],
            "layout": "IPY_MODEL_e783e2eef3ff4ffd83d1679c71479753"
          }
        },
        "ed491082be7b4549b3d1b04a81339a5c": {
          "model_module": "@jupyter-widgets/controls",
          "model_name": "FloatSliderModel",
          "model_module_version": "1.5.0",
          "state": {
            "_dom_classes": [],
            "_model_module": "@jupyter-widgets/controls",
            "_model_module_version": "1.5.0",
            "_model_name": "FloatSliderModel",
            "_view_count": null,
            "_view_module": "@jupyter-widgets/controls",
            "_view_module_version": "1.5.0",
            "_view_name": "FloatSliderView",
            "continuous_update": true,
            "description": "exp_scale",
            "description_tooltip": null,
            "disabled": false,
            "layout": "IPY_MODEL_befed3693cce48dc8b99d344e0b9610d",
            "max": 20000,
            "min": 0,
            "orientation": "horizontal",
            "readout": true,
            "readout_format": ".2f",
            "step": 250,
            "style": "IPY_MODEL_70186539e7f64bcb8072ca5d23189ad2",
            "value": 8250
          }
        },
        "fe3d5e66b2ed45258d4cb4ee8db924ae": {
          "model_module": "@jupyter-widgets/controls",
          "model_name": "FloatSliderModel",
          "model_module_version": "1.5.0",
          "state": {
            "_dom_classes": [],
            "_model_module": "@jupyter-widgets/controls",
            "_model_module_version": "1.5.0",
            "_model_name": "FloatSliderModel",
            "_view_count": null,
            "_view_module": "@jupyter-widgets/controls",
            "_view_module_version": "1.5.0",
            "_view_name": "FloatSliderView",
            "continuous_update": true,
            "description": "exp_rate",
            "description_tooltip": null,
            "disabled": false,
            "layout": "IPY_MODEL_c3934fb5cf144b5d935e4386b32a06c7",
            "max": 50,
            "min": -200,
            "orientation": "horizontal",
            "readout": true,
            "readout_format": ".2f",
            "step": 1,
            "style": "IPY_MODEL_7615111dff7f41f890b6a037bf29c7f8",
            "value": -63
          }
        },
        "86db68d4df164fe39d1a5ab378ae3b30": {
          "model_module": "@jupyter-widgets/controls",
          "model_name": "FloatSliderModel",
          "model_module_version": "1.5.0",
          "state": {
            "_dom_classes": [],
            "_model_module": "@jupyter-widgets/controls",
            "_model_module_version": "1.5.0",
            "_model_name": "FloatSliderModel",
            "_view_count": null,
            "_view_module": "@jupyter-widgets/controls",
            "_view_module_version": "1.5.0",
            "_view_name": "FloatSliderView",
            "continuous_update": true,
            "description": "exp_x0",
            "description_tooltip": null,
            "disabled": false,
            "layout": "IPY_MODEL_0a1985b6b9594ed89243a36565bfd029",
            "max": 0.5,
            "min": -0.5,
            "orientation": "horizontal",
            "readout": true,
            "readout_format": ".2f",
            "step": 0.005,
            "style": "IPY_MODEL_1b15eed17c9446d98d4fc2835341b9e2",
            "value": 0.115
          }
        },
        "9863d3fef3ea4d968d03c2c1fde216ba": {
          "model_module": "@jupyter-widgets/controls",
          "model_name": "FloatSliderModel",
          "model_module_version": "1.5.0",
          "state": {
            "_dom_classes": [],
            "_model_module": "@jupyter-widgets/controls",
            "_model_module_version": "1.5.0",
            "_model_name": "FloatSliderModel",
            "_view_count": null,
            "_view_module": "@jupyter-widgets/controls",
            "_view_module_version": "1.5.0",
            "_view_name": "FloatSliderView",
            "continuous_update": true,
            "description": "inv_scale",
            "description_tooltip": null,
            "disabled": false,
            "layout": "IPY_MODEL_94fba050e623469ca9a15210237bfef0",
            "max": 300,
            "min": 0,
            "orientation": "horizontal",
            "readout": true,
            "readout_format": ".2f",
            "step": 10,
            "style": "IPY_MODEL_a5a1d37e872244669314e5aee120e8ab",
            "value": 120
          }
        },
        "1aebcddf6b2b4a91a2073bb8845fbd93": {
          "model_module": "@jupyter-widgets/controls",
          "model_name": "FloatSliderModel",
          "model_module_version": "1.5.0",
          "state": {
            "_dom_classes": [],
            "_model_module": "@jupyter-widgets/controls",
            "_model_module_version": "1.5.0",
            "_model_name": "FloatSliderModel",
            "_view_count": null,
            "_view_module": "@jupyter-widgets/controls",
            "_view_module_version": "1.5.0",
            "_view_name": "FloatSliderView",
            "continuous_update": true,
            "description": "inv_x0",
            "description_tooltip": null,
            "disabled": false,
            "layout": "IPY_MODEL_64d50c1e11174358b7329caacf9de230",
            "max": 0.2,
            "min": -0.2,
            "orientation": "horizontal",
            "readout": true,
            "readout_format": ".2f",
            "step": 0.01,
            "style": "IPY_MODEL_f369e780b6d04bdeb28a4fb7372c50f0",
            "value": 0.1
          }
        },
        "f46702a77ddb401995d000496d8318c5": {
          "model_module": "@jupyter-widgets/controls",
          "model_name": "FloatSliderModel",
          "model_module_version": "1.5.0",
          "state": {
            "_dom_classes": [],
            "_model_module": "@jupyter-widgets/controls",
            "_model_module_version": "1.5.0",
            "_model_name": "FloatSliderModel",
            "_view_count": null,
            "_view_module": "@jupyter-widgets/controls",
            "_view_module_version": "1.5.0",
            "_view_name": "FloatSliderView",
            "continuous_update": true,
            "description": "lin_slope",
            "description_tooltip": null,
            "disabled": false,
            "layout": "IPY_MODEL_1fc66427a19749b998e92c12be4334a6",
            "max": 100000,
            "min": -600000,
            "orientation": "horizontal",
            "readout": true,
            "readout_format": ".2f",
            "step": 10000,
            "style": "IPY_MODEL_0622609f16fe4177b9d077b323be08b7",
            "value": -500000
          }
        },
        "ad3a09a5c0164fa7bfb4d5806f39615e": {
          "model_module": "@jupyter-widgets/controls",
          "model_name": "FloatSliderModel",
          "model_module_version": "1.5.0",
          "state": {
            "_dom_classes": [],
            "_model_module": "@jupyter-widgets/controls",
            "_model_module_version": "1.5.0",
            "_model_name": "FloatSliderModel",
            "_view_count": null,
            "_view_module": "@jupyter-widgets/controls",
            "_view_module_version": "1.5.0",
            "_view_name": "FloatSliderView",
            "continuous_update": true,
            "description": "lin_y0",
            "description_tooltip": null,
            "disabled": false,
            "layout": "IPY_MODEL_7b43d96a39f04643a626394802d59865",
            "max": 40000,
            "min": 0,
            "orientation": "horizontal",
            "readout": true,
            "readout_format": ".2f",
            "step": 1000,
            "style": "IPY_MODEL_29ae62f594104bf1b274086d58225c79",
            "value": 16000
          }
        },
        "91d0c4e6aa6e4e91a60480700ed38668": {
          "model_module": "@jupyter-widgets/output",
          "model_name": "OutputModel",
          "model_module_version": "1.0.0",
          "state": {
            "_dom_classes": [],
            "_model_module": "@jupyter-widgets/output",
            "_model_module_version": "1.0.0",
            "_model_name": "OutputModel",
            "_view_count": null,
            "_view_module": "@jupyter-widgets/output",
            "_view_module_version": "1.0.0",
            "_view_name": "OutputView",
            "layout": "IPY_MODEL_94797617352e4ab6866bb4ca103d0cfc",
            "msg_id": "",
            "outputs": [
              {
                "output_type": "display_data",
                "data": {
                  "text/plain": "<Figure size 576x432 with 1 Axes>",
                  "image/png": "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\n"
                },
                "metadata": {
                  "image/png": {
                    "width": 558,
                    "height": 413
                  },
                  "needs_background": "light"
                }
              }
            ]
          }
        },
        "e783e2eef3ff4ffd83d1679c71479753": {
          "model_module": "@jupyter-widgets/base",
          "model_name": "LayoutModel",
          "model_module_version": "1.2.0",
          "state": {
            "_model_module": "@jupyter-widgets/base",
            "_model_module_version": "1.2.0",
            "_model_name": "LayoutModel",
            "_view_count": null,
            "_view_module": "@jupyter-widgets/base",
            "_view_module_version": "1.2.0",
            "_view_name": "LayoutView",
            "align_content": null,
            "align_items": null,
            "align_self": null,
            "border": null,
            "bottom": null,
            "display": null,
            "flex": null,
            "flex_flow": null,
            "grid_area": null,
            "grid_auto_columns": null,
            "grid_auto_flow": null,
            "grid_auto_rows": null,
            "grid_column": null,
            "grid_gap": null,
            "grid_row": null,
            "grid_template_areas": null,
            "grid_template_columns": null,
            "grid_template_rows": null,
            "height": null,
            "justify_content": null,
            "justify_items": null,
            "left": null,
            "margin": null,
            "max_height": null,
            "max_width": null,
            "min_height": null,
            "min_width": null,
            "object_fit": null,
            "object_position": null,
            "order": null,
            "overflow": null,
            "overflow_x": null,
            "overflow_y": null,
            "padding": null,
            "right": null,
            "top": null,
            "visibility": null,
            "width": null
          }
        },
        "befed3693cce48dc8b99d344e0b9610d": {
          "model_module": "@jupyter-widgets/base",
          "model_name": "LayoutModel",
          "model_module_version": "1.2.0",
          "state": {
            "_model_module": "@jupyter-widgets/base",
            "_model_module_version": "1.2.0",
            "_model_name": "LayoutModel",
            "_view_count": null,
            "_view_module": "@jupyter-widgets/base",
            "_view_module_version": "1.2.0",
            "_view_name": "LayoutView",
            "align_content": null,
            "align_items": null,
            "align_self": null,
            "border": null,
            "bottom": null,
            "display": null,
            "flex": null,
            "flex_flow": null,
            "grid_area": null,
            "grid_auto_columns": null,
            "grid_auto_flow": null,
            "grid_auto_rows": null,
            "grid_column": null,
            "grid_gap": null,
            "grid_row": null,
            "grid_template_areas": null,
            "grid_template_columns": null,
            "grid_template_rows": null,
            "height": null,
            "justify_content": null,
            "justify_items": null,
            "left": null,
            "margin": null,
            "max_height": null,
            "max_width": null,
            "min_height": null,
            "min_width": null,
            "object_fit": null,
            "object_position": null,
            "order": null,
            "overflow": null,
            "overflow_x": null,
            "overflow_y": null,
            "padding": null,
            "right": null,
            "top": null,
            "visibility": null,
            "width": null
          }
        },
        "70186539e7f64bcb8072ca5d23189ad2": {
          "model_module": "@jupyter-widgets/controls",
          "model_name": "SliderStyleModel",
          "model_module_version": "1.5.0",
          "state": {
            "_model_module": "@jupyter-widgets/controls",
            "_model_module_version": "1.5.0",
            "_model_name": "SliderStyleModel",
            "_view_count": null,
            "_view_module": "@jupyter-widgets/base",
            "_view_module_version": "1.2.0",
            "_view_name": "StyleView",
            "description_width": "",
            "handle_color": null
          }
        },
        "c3934fb5cf144b5d935e4386b32a06c7": {
          "model_module": "@jupyter-widgets/base",
          "model_name": "LayoutModel",
          "model_module_version": "1.2.0",
          "state": {
            "_model_module": "@jupyter-widgets/base",
            "_model_module_version": "1.2.0",
            "_model_name": "LayoutModel",
            "_view_count": null,
            "_view_module": "@jupyter-widgets/base",
            "_view_module_version": "1.2.0",
            "_view_name": "LayoutView",
            "align_content": null,
            "align_items": null,
            "align_self": null,
            "border": null,
            "bottom": null,
            "display": null,
            "flex": null,
            "flex_flow": null,
            "grid_area": null,
            "grid_auto_columns": null,
            "grid_auto_flow": null,
            "grid_auto_rows": null,
            "grid_column": null,
            "grid_gap": null,
            "grid_row": null,
            "grid_template_areas": null,
            "grid_template_columns": null,
            "grid_template_rows": null,
            "height": null,
            "justify_content": null,
            "justify_items": null,
            "left": null,
            "margin": null,
            "max_height": null,
            "max_width": null,
            "min_height": null,
            "min_width": null,
            "object_fit": null,
            "object_position": null,
            "order": null,
            "overflow": null,
            "overflow_x": null,
            "overflow_y": null,
            "padding": null,
            "right": null,
            "top": null,
            "visibility": null,
            "width": null
          }
        },
        "7615111dff7f41f890b6a037bf29c7f8": {
          "model_module": "@jupyter-widgets/controls",
          "model_name": "SliderStyleModel",
          "model_module_version": "1.5.0",
          "state": {
            "_model_module": "@jupyter-widgets/controls",
            "_model_module_version": "1.5.0",
            "_model_name": "SliderStyleModel",
            "_view_count": null,
            "_view_module": "@jupyter-widgets/base",
            "_view_module_version": "1.2.0",
            "_view_name": "StyleView",
            "description_width": "",
            "handle_color": null
          }
        },
        "0a1985b6b9594ed89243a36565bfd029": {
          "model_module": "@jupyter-widgets/base",
          "model_name": "LayoutModel",
          "model_module_version": "1.2.0",
          "state": {
            "_model_module": "@jupyter-widgets/base",
            "_model_module_version": "1.2.0",
            "_model_name": "LayoutModel",
            "_view_count": null,
            "_view_module": "@jupyter-widgets/base",
            "_view_module_version": "1.2.0",
            "_view_name": "LayoutView",
            "align_content": null,
            "align_items": null,
            "align_self": null,
            "border": null,
            "bottom": null,
            "display": null,
            "flex": null,
            "flex_flow": null,
            "grid_area": null,
            "grid_auto_columns": null,
            "grid_auto_flow": null,
            "grid_auto_rows": null,
            "grid_column": null,
            "grid_gap": null,
            "grid_row": null,
            "grid_template_areas": null,
            "grid_template_columns": null,
            "grid_template_rows": null,
            "height": null,
            "justify_content": null,
            "justify_items": null,
            "left": null,
            "margin": null,
            "max_height": null,
            "max_width": null,
            "min_height": null,
            "min_width": null,
            "object_fit": null,
            "object_position": null,
            "order": null,
            "overflow": null,
            "overflow_x": null,
            "overflow_y": null,
            "padding": null,
            "right": null,
            "top": null,
            "visibility": null,
            "width": null
          }
        },
        "1b15eed17c9446d98d4fc2835341b9e2": {
          "model_module": "@jupyter-widgets/controls",
          "model_name": "SliderStyleModel",
          "model_module_version": "1.5.0",
          "state": {
            "_model_module": "@jupyter-widgets/controls",
            "_model_module_version": "1.5.0",
            "_model_name": "SliderStyleModel",
            "_view_count": null,
            "_view_module": "@jupyter-widgets/base",
            "_view_module_version": "1.2.0",
            "_view_name": "StyleView",
            "description_width": "",
            "handle_color": null
          }
        },
        "94fba050e623469ca9a15210237bfef0": {
          "model_module": "@jupyter-widgets/base",
          "model_name": "LayoutModel",
          "model_module_version": "1.2.0",
          "state": {
            "_model_module": "@jupyter-widgets/base",
            "_model_module_version": "1.2.0",
            "_model_name": "LayoutModel",
            "_view_count": null,
            "_view_module": "@jupyter-widgets/base",
            "_view_module_version": "1.2.0",
            "_view_name": "LayoutView",
            "align_content": null,
            "align_items": null,
            "align_self": null,
            "border": null,
            "bottom": null,
            "display": null,
            "flex": null,
            "flex_flow": null,
            "grid_area": null,
            "grid_auto_columns": null,
            "grid_auto_flow": null,
            "grid_auto_rows": null,
            "grid_column": null,
            "grid_gap": null,
            "grid_row": null,
            "grid_template_areas": null,
            "grid_template_columns": null,
            "grid_template_rows": null,
            "height": null,
            "justify_content": null,
            "justify_items": null,
            "left": null,
            "margin": null,
            "max_height": null,
            "max_width": null,
            "min_height": null,
            "min_width": null,
            "object_fit": null,
            "object_position": null,
            "order": null,
            "overflow": null,
            "overflow_x": null,
            "overflow_y": null,
            "padding": null,
            "right": null,
            "top": null,
            "visibility": null,
            "width": null
          }
        },
        "a5a1d37e872244669314e5aee120e8ab": {
          "model_module": "@jupyter-widgets/controls",
          "model_name": "SliderStyleModel",
          "model_module_version": "1.5.0",
          "state": {
            "_model_module": "@jupyter-widgets/controls",
            "_model_module_version": "1.5.0",
            "_model_name": "SliderStyleModel",
            "_view_count": null,
            "_view_module": "@jupyter-widgets/base",
            "_view_module_version": "1.2.0",
            "_view_name": "StyleView",
            "description_width": "",
            "handle_color": null
          }
        },
        "64d50c1e11174358b7329caacf9de230": {
          "model_module": "@jupyter-widgets/base",
          "model_name": "LayoutModel",
          "model_module_version": "1.2.0",
          "state": {
            "_model_module": "@jupyter-widgets/base",
            "_model_module_version": "1.2.0",
            "_model_name": "LayoutModel",
            "_view_count": null,
            "_view_module": "@jupyter-widgets/base",
            "_view_module_version": "1.2.0",
            "_view_name": "LayoutView",
            "align_content": null,
            "align_items": null,
            "align_self": null,
            "border": null,
            "bottom": null,
            "display": null,
            "flex": null,
            "flex_flow": null,
            "grid_area": null,
            "grid_auto_columns": null,
            "grid_auto_flow": null,
            "grid_auto_rows": null,
            "grid_column": null,
            "grid_gap": null,
            "grid_row": null,
            "grid_template_areas": null,
            "grid_template_columns": null,
            "grid_template_rows": null,
            "height": null,
            "justify_content": null,
            "justify_items": null,
            "left": null,
            "margin": null,
            "max_height": null,
            "max_width": null,
            "min_height": null,
            "min_width": null,
            "object_fit": null,
            "object_position": null,
            "order": null,
            "overflow": null,
            "overflow_x": null,
            "overflow_y": null,
            "padding": null,
            "right": null,
            "top": null,
            "visibility": null,
            "width": null
          }
        },
        "f369e780b6d04bdeb28a4fb7372c50f0": {
          "model_module": "@jupyter-widgets/controls",
          "model_name": "SliderStyleModel",
          "model_module_version": "1.5.0",
          "state": {
            "_model_module": "@jupyter-widgets/controls",
            "_model_module_version": "1.5.0",
            "_model_name": "SliderStyleModel",
            "_view_count": null,
            "_view_module": "@jupyter-widgets/base",
            "_view_module_version": "1.2.0",
            "_view_name": "StyleView",
            "description_width": "",
            "handle_color": null
          }
        },
        "1fc66427a19749b998e92c12be4334a6": {
          "model_module": "@jupyter-widgets/base",
          "model_name": "LayoutModel",
          "model_module_version": "1.2.0",
          "state": {
            "_model_module": "@jupyter-widgets/base",
            "_model_module_version": "1.2.0",
            "_model_name": "LayoutModel",
            "_view_count": null,
            "_view_module": "@jupyter-widgets/base",
            "_view_module_version": "1.2.0",
            "_view_name": "LayoutView",
            "align_content": null,
            "align_items": null,
            "align_self": null,
            "border": null,
            "bottom": null,
            "display": null,
            "flex": null,
            "flex_flow": null,
            "grid_area": null,
            "grid_auto_columns": null,
            "grid_auto_flow": null,
            "grid_auto_rows": null,
            "grid_column": null,
            "grid_gap": null,
            "grid_row": null,
            "grid_template_areas": null,
            "grid_template_columns": null,
            "grid_template_rows": null,
            "height": null,
            "justify_content": null,
            "justify_items": null,
            "left": null,
            "margin": null,
            "max_height": null,
            "max_width": null,
            "min_height": null,
            "min_width": null,
            "object_fit": null,
            "object_position": null,
            "order": null,
            "overflow": null,
            "overflow_x": null,
            "overflow_y": null,
            "padding": null,
            "right": null,
            "top": null,
            "visibility": null,
            "width": null
          }
        },
        "0622609f16fe4177b9d077b323be08b7": {
          "model_module": "@jupyter-widgets/controls",
          "model_name": "SliderStyleModel",
          "model_module_version": "1.5.0",
          "state": {
            "_model_module": "@jupyter-widgets/controls",
            "_model_module_version": "1.5.0",
            "_model_name": "SliderStyleModel",
            "_view_count": null,
            "_view_module": "@jupyter-widgets/base",
            "_view_module_version": "1.2.0",
            "_view_name": "StyleView",
            "description_width": "",
            "handle_color": null
          }
        },
        "7b43d96a39f04643a626394802d59865": {
          "model_module": "@jupyter-widgets/base",
          "model_name": "LayoutModel",
          "model_module_version": "1.2.0",
          "state": {
            "_model_module": "@jupyter-widgets/base",
            "_model_module_version": "1.2.0",
            "_model_name": "LayoutModel",
            "_view_count": null,
            "_view_module": "@jupyter-widgets/base",
            "_view_module_version": "1.2.0",
            "_view_name": "LayoutView",
            "align_content": null,
            "align_items": null,
            "align_self": null,
            "border": null,
            "bottom": null,
            "display": null,
            "flex": null,
            "flex_flow": null,
            "grid_area": null,
            "grid_auto_columns": null,
            "grid_auto_flow": null,
            "grid_auto_rows": null,
            "grid_column": null,
            "grid_gap": null,
            "grid_row": null,
            "grid_template_areas": null,
            "grid_template_columns": null,
            "grid_template_rows": null,
            "height": null,
            "justify_content": null,
            "justify_items": null,
            "left": null,
            "margin": null,
            "max_height": null,
            "max_width": null,
            "min_height": null,
            "min_width": null,
            "object_fit": null,
            "object_position": null,
            "order": null,
            "overflow": null,
            "overflow_x": null,
            "overflow_y": null,
            "padding": null,
            "right": null,
            "top": null,
            "visibility": null,
            "width": null
          }
        },
        "29ae62f594104bf1b274086d58225c79": {
          "model_module": "@jupyter-widgets/controls",
          "model_name": "SliderStyleModel",
          "model_module_version": "1.5.0",
          "state": {
            "_model_module": "@jupyter-widgets/controls",
            "_model_module_version": "1.5.0",
            "_model_name": "SliderStyleModel",
            "_view_count": null,
            "_view_module": "@jupyter-widgets/base",
            "_view_module_version": "1.2.0",
            "_view_name": "StyleView",
            "description_width": "",
            "handle_color": null
          }
        },
        "94797617352e4ab6866bb4ca103d0cfc": {
          "model_module": "@jupyter-widgets/base",
          "model_name": "LayoutModel",
          "model_module_version": "1.2.0",
          "state": {
            "_model_module": "@jupyter-widgets/base",
            "_model_module_version": "1.2.0",
            "_model_name": "LayoutModel",
            "_view_count": null,
            "_view_module": "@jupyter-widgets/base",
            "_view_module_version": "1.2.0",
            "_view_name": "LayoutView",
            "align_content": null,
            "align_items": null,
            "align_self": null,
            "border": null,
            "bottom": null,
            "display": null,
            "flex": null,
            "flex_flow": null,
            "grid_area": null,
            "grid_auto_columns": null,
            "grid_auto_flow": null,
            "grid_auto_rows": null,
            "grid_column": null,
            "grid_gap": null,
            "grid_row": null,
            "grid_template_areas": null,
            "grid_template_columns": null,
            "grid_template_rows": null,
            "height": null,
            "justify_content": null,
            "justify_items": null,
            "left": null,
            "margin": null,
            "max_height": null,
            "max_width": null,
            "min_height": null,
            "min_width": null,
            "object_fit": null,
            "object_position": null,
            "order": null,
            "overflow": null,
            "overflow_x": null,
            "overflow_y": null,
            "padding": null,
            "right": null,
            "top": null,
            "visibility": null,
            "width": null
          }
        },
        "a0dbee8778e744a89db19563c7793b0a": {
          "model_module": "@jupyter-widgets/controls",
          "model_name": "TabModel",
          "model_module_version": "1.5.0",
          "state": {
            "_dom_classes": [],
            "_model_module": "@jupyter-widgets/controls",
            "_model_module_version": "1.5.0",
            "_model_name": "TabModel",
            "_titles": {
              "0": "Youtube",
              "1": "Bilibili"
            },
            "_view_count": null,
            "_view_module": "@jupyter-widgets/controls",
            "_view_module_version": "1.5.0",
            "_view_name": "TabView",
            "box_style": "",
            "children": [
              "IPY_MODEL_4b74c45b29c648aba58622897eb09c9a",
              "IPY_MODEL_29597b9a04384b278803fcda28130c7a"
            ],
            "layout": "IPY_MODEL_cb7f61edcbae46499e8e4a3d2988b05f",
            "selected_index": 0
          }
        },
        "4b74c45b29c648aba58622897eb09c9a": {
          "model_module": "@jupyter-widgets/output",
          "model_name": "OutputModel",
          "model_module_version": "1.0.0",
          "state": {
            "_dom_classes": [],
            "_model_module": "@jupyter-widgets/output",
            "_model_module_version": "1.0.0",
            "_model_name": "OutputModel",
            "_view_count": null,
            "_view_module": "@jupyter-widgets/output",
            "_view_module_version": "1.0.0",
            "_view_name": "OutputView",
            "layout": "IPY_MODEL_e6e8827e56d24f069ec6369807f0db17",
            "msg_id": "",
            "outputs": [
              {
                "output_type": "stream",
                "name": "stdout",
                "text": [
                  "Video available at https://youtube.com/watch?v=uW2HDk_4-wk\n"
                ]
              },
              {
                "output_type": "display_data",
                "data": {
                  "text/plain": "<IPython.lib.display.YouTubeVideo at 0x7fd66ff047d0>",
                  "text/html": "\n        <iframe\n            width=\"854\"\n            height=\"480\"\n            src=\"https://www.youtube.com/embed/uW2HDk_4-wk?fs=1&rel=0\"\n            frameborder=\"0\"\n            allowfullscreen\n        ></iframe>\n        ",
                  "image/jpeg": "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\n"
                },
                "metadata": {}
              }
            ]
          }
        },
        "29597b9a04384b278803fcda28130c7a": {
          "model_module": "@jupyter-widgets/output",
          "model_name": "OutputModel",
          "model_module_version": "1.0.0",
          "state": {
            "_dom_classes": [],
            "_model_module": "@jupyter-widgets/output",
            "_model_module_version": "1.0.0",
            "_model_name": "OutputModel",
            "_view_count": null,
            "_view_module": "@jupyter-widgets/output",
            "_view_module_version": "1.0.0",
            "_view_name": "OutputView",
            "layout": "IPY_MODEL_96d100a5b65d4475a7c4a1b6f47a603e",
            "msg_id": "",
            "outputs": [
              {
                "output_type": "stream",
                "name": "stdout",
                "text": [
                  "Video available at https://www.bilibili.com/video/BV1w54y1S7Eb\n"
                ]
              },
              {
                "output_type": "display_data",
                "data": {
                  "text/plain": "<__main__.BiliVideo at 0x7fd66ff80ad0>",
                  "text/html": "\n        <iframe\n            width=\"854\"\n            height=\"480\"\n            src=\"https://player.bilibili.com/player.html?bvid=BV1w54y1S7Eb&page=1?fs=1\"\n            frameborder=\"0\"\n            allowfullscreen\n        ></iframe>\n        "
                },
                "metadata": {}
              }
            ]
          }
        },
        "cb7f61edcbae46499e8e4a3d2988b05f": {
          "model_module": "@jupyter-widgets/base",
          "model_name": "LayoutModel",
          "model_module_version": "1.2.0",
          "state": {
            "_model_module": "@jupyter-widgets/base",
            "_model_module_version": "1.2.0",
            "_model_name": "LayoutModel",
            "_view_count": null,
            "_view_module": "@jupyter-widgets/base",
            "_view_module_version": "1.2.0",
            "_view_name": "LayoutView",
            "align_content": null,
            "align_items": null,
            "align_self": null,
            "border": null,
            "bottom": null,
            "display": null,
            "flex": null,
            "flex_flow": null,
            "grid_area": null,
            "grid_auto_columns": null,
            "grid_auto_flow": null,
            "grid_auto_rows": null,
            "grid_column": null,
            "grid_gap": null,
            "grid_row": null,
            "grid_template_areas": null,
            "grid_template_columns": null,
            "grid_template_rows": null,
            "height": null,
            "justify_content": null,
            "justify_items": null,
            "left": null,
            "margin": null,
            "max_height": null,
            "max_width": null,
            "min_height": null,
            "min_width": null,
            "object_fit": null,
            "object_position": null,
            "order": null,
            "overflow": null,
            "overflow_x": null,
            "overflow_y": null,
            "padding": null,
            "right": null,
            "top": null,
            "visibility": null,
            "width": null
          }
        },
        "e6e8827e56d24f069ec6369807f0db17": {
          "model_module": "@jupyter-widgets/base",
          "model_name": "LayoutModel",
          "model_module_version": "1.2.0",
          "state": {
            "_model_module": "@jupyter-widgets/base",
            "_model_module_version": "1.2.0",
            "_model_name": "LayoutModel",
            "_view_count": null,
            "_view_module": "@jupyter-widgets/base",
            "_view_module_version": "1.2.0",
            "_view_name": "LayoutView",
            "align_content": null,
            "align_items": null,
            "align_self": null,
            "border": null,
            "bottom": null,
            "display": null,
            "flex": null,
            "flex_flow": null,
            "grid_area": null,
            "grid_auto_columns": null,
            "grid_auto_flow": null,
            "grid_auto_rows": null,
            "grid_column": null,
            "grid_gap": null,
            "grid_row": null,
            "grid_template_areas": null,
            "grid_template_columns": null,
            "grid_template_rows": null,
            "height": null,
            "justify_content": null,
            "justify_items": null,
            "left": null,
            "margin": null,
            "max_height": null,
            "max_width": null,
            "min_height": null,
            "min_width": null,
            "object_fit": null,
            "object_position": null,
            "order": null,
            "overflow": null,
            "overflow_x": null,
            "overflow_y": null,
            "padding": null,
            "right": null,
            "top": null,
            "visibility": null,
            "width": null
          }
        },
        "96d100a5b65d4475a7c4a1b6f47a603e": {
          "model_module": "@jupyter-widgets/base",
          "model_name": "LayoutModel",
          "model_module_version": "1.2.0",
          "state": {
            "_model_module": "@jupyter-widgets/base",
            "_model_module_version": "1.2.0",
            "_model_name": "LayoutModel",
            "_view_count": null,
            "_view_module": "@jupyter-widgets/base",
            "_view_module_version": "1.2.0",
            "_view_name": "LayoutView",
            "align_content": null,
            "align_items": null,
            "align_self": null,
            "border": null,
            "bottom": null,
            "display": null,
            "flex": null,
            "flex_flow": null,
            "grid_area": null,
            "grid_auto_columns": null,
            "grid_auto_flow": null,
            "grid_auto_rows": null,
            "grid_column": null,
            "grid_gap": null,
            "grid_row": null,
            "grid_template_areas": null,
            "grid_template_columns": null,
            "grid_template_rows": null,
            "height": null,
            "justify_content": null,
            "justify_items": null,
            "left": null,
            "margin": null,
            "max_height": null,
            "max_width": null,
            "min_height": null,
            "min_width": null,
            "object_fit": null,
            "object_position": null,
            "order": null,
            "overflow": null,
            "overflow_x": null,
            "overflow_y": null,
            "padding": null,
            "right": null,
            "top": null,
            "visibility": null,
            "width": null
          }
        }
      }
    }
  },
  "nbformat": 4,
  "nbformat_minor": 0
}