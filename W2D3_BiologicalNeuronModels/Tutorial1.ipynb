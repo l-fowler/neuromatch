{
  "cells": [
    {
      "cell_type": "markdown",
      "metadata": {
        "id": "view-in-github",
        "colab_type": "text"
      },
      "source": [
        "<a href=\"https://colab.research.google.com/github/l-fowler/neuromatch/blob/main/W2D3_BiologicalNeuronModels/Tutorial1.ipynb\" target=\"_parent\"><img src=\"https://colab.research.google.com/assets/colab-badge.svg\" alt=\"Open In Colab\"/></a>"
      ]
    },
    {
      "cell_type": "markdown",
      "metadata": {
        "execution": {},
        "id": "ICFERU_tShL4"
      },
      "source": [
        "# Tutorial 1: The Leaky Integrate-and-Fire (LIF) Neuron Model\n",
        "**Week 2, Day 3: Biological Neuron Models**\n",
        "\n",
        "**By Neuromatch Academy**\n",
        "\n",
        "__Content creators:__ Qinglong Gu, Songtin Li, John Murray, Richard Naud, Arvind Kumar\n",
        "\n",
        "__Content reviewers:__  Maryam Vaziri-Pashkam, Ella Batty, Lorenzo Fontolan, Richard Gao, Matthew Krause, Spiros Chavlis, Michael Waskom, Ethan Cheng\n",
        "\n",
        "**Post-Production Team:** Gagana B, Spiros Chavlis"
      ]
    },
    {
      "cell_type": "markdown",
      "metadata": {
        "execution": {},
        "id": "wMbsSUpuShL8"
      },
      "source": [
        "<p align='center'><img src='https://github.com/NeuromatchAcademy/widgets/blob/master/sponsors.png?raw=True'/></p>"
      ]
    },
    {
      "cell_type": "markdown",
      "metadata": {
        "execution": {},
        "id": "i7f-AYwrShL8"
      },
      "source": [
        "---\n",
        "# Tutorial Objectives\n",
        "\n",
        "*Estimated timing of tutorial: 1 hour, 10 min*\n",
        "\n",
        "This is Tutorial 1 of a series on implementing realistic neuron models. In this tutorial, we will build up a leaky integrate-and-fire (LIF) neuron model and study its dynamics in response to various types of inputs. In particular, we are going to write a few lines of code to:\n",
        "\n",
        "- simulate the LIF neuron model\n",
        "\n",
        "- drive the LIF neuron with external inputs, such as direct currents, Gaussian white noise, and Poisson spike trains, etc.\n",
        "\n",
        "- study how different inputs affect the  LIF neuron's output (firing rate and spike time irregularity)\n",
        "\n",
        "Here, we will especially emphasize identifying conditions (input statistics) under which a neuron can spike at low firing rates and in an irregular manner. The reason for focusing on this is that in most cases, neocortical neurons spike in an irregular manner."
      ]
    },
    {
      "cell_type": "code",
      "execution_count": null,
      "metadata": {
        "cellView": "form",
        "execution": {},
        "id": "s9R0RwxQShL9"
      },
      "outputs": [],
      "source": [
        "# @title Tutorial slides\n",
        "\n",
        "# @markdown These are the slides for the videos in all tutorials today\n",
        "from IPython.display import IFrame\n",
        "IFrame(src=f\"https://mfr.ca-1.osf.io/render?url=https://osf.io/8djsm/?direct%26mode=render%26action=download%26mode=render\", width=854, height=480)"
      ]
    },
    {
      "cell_type": "markdown",
      "metadata": {
        "execution": {},
        "id": "6tapHVDmShL-"
      },
      "source": [
        "---\n",
        "# Setup"
      ]
    },
    {
      "cell_type": "code",
      "execution_count": 1,
      "metadata": {
        "cellView": "both",
        "execution": {},
        "id": "dCK7SsvJShL_"
      },
      "outputs": [],
      "source": [
        "# Imports\n",
        "import numpy as np\n",
        "import matplotlib.pyplot as plt"
      ]
    },
    {
      "cell_type": "code",
      "execution_count": 2,
      "metadata": {
        "cellView": "form",
        "execution": {},
        "id": "3MiyPsEhShL_"
      },
      "outputs": [],
      "source": [
        "# @title Figure Settings\n",
        "import ipywidgets as widgets  # interactive display\n",
        "%config InlineBackend.figure_format = 'retina'\n",
        "# use NMA plot style\n",
        "plt.style.use(\"https://raw.githubusercontent.com/NeuromatchAcademy/course-content/main/nma.mplstyle\")\n",
        "my_layout = widgets.Layout()"
      ]
    },
    {
      "cell_type": "code",
      "execution_count": 3,
      "metadata": {
        "cellView": "form",
        "execution": {},
        "id": "IzTaQKFSShMA"
      },
      "outputs": [],
      "source": [
        "# @title Plotting Functions\n",
        "\n",
        "def plot_volt_trace(pars, v, sp):\n",
        "  \"\"\"\n",
        "  Plot trajetory of membrane potential for a single neuron\n",
        "\n",
        "  Expects:\n",
        "  pars   : parameter dictionary\n",
        "  v      : volt trajetory\n",
        "  sp     : spike train\n",
        "\n",
        "  Returns:\n",
        "  figure of the membrane potential trajetory for a single neuron\n",
        "  \"\"\"\n",
        "\n",
        "  V_th = pars['V_th']\n",
        "  dt, range_t = pars['dt'], pars['range_t']\n",
        "  if sp.size:\n",
        "    sp_num = (sp / dt).astype(int) - 1\n",
        "    v[sp_num] += 20  # draw nicer spikes\n",
        "\n",
        "  plt.plot(pars['range_t'], v, 'b')\n",
        "  plt.axhline(V_th, 0, 1, color='k', ls='--')\n",
        "  plt.xlabel('Time (ms)')\n",
        "  plt.ylabel('V (mV)')\n",
        "  plt.legend(['Membrane\\npotential', r'Threshold V$_{\\mathrm{th}}$'],\n",
        "             loc=[1.05, 0.75])\n",
        "  plt.ylim([-80, -40])\n",
        "\n",
        "\n",
        "def plot_GWN(pars, I_GWN):\n",
        "  \"\"\"\n",
        "  Args:\n",
        "    pars  : parameter dictionary\n",
        "    I_GWN : Gaussian white noise input\n",
        "\n",
        "  Returns:\n",
        "    figure of the gaussian white noise input\n",
        "  \"\"\"\n",
        "\n",
        "  plt.figure(figsize=(12, 4))\n",
        "  plt.subplot(121)\n",
        "  plt.plot(pars['range_t'][::3], I_GWN[::3], 'b')\n",
        "  plt.xlabel('Time (ms)')\n",
        "  plt.ylabel(r'$I_{GWN}$ (pA)')\n",
        "  plt.subplot(122)\n",
        "  plot_volt_trace(pars, v, sp)\n",
        "  plt.tight_layout()\n",
        "\n",
        "\n",
        "def my_hists(isi1, isi2, cv1, cv2, sigma1, sigma2):\n",
        "  \"\"\"\n",
        "  Args:\n",
        "    isi1 : vector with inter-spike intervals\n",
        "    isi2 : vector with inter-spike intervals\n",
        "    cv1  : coefficient of variation for isi1\n",
        "    cv2  : coefficient of variation for isi2\n",
        "\n",
        "  Returns:\n",
        "    figure with two histograms, isi1, isi2\n",
        "\n",
        "  \"\"\"\n",
        "  plt.figure(figsize=(11, 4))\n",
        "  my_bins = np.linspace(10, 30, 20)\n",
        "  plt.subplot(121)\n",
        "  plt.hist(isi1, bins=my_bins, color='b', alpha=0.5)\n",
        "  plt.xlabel('ISI (ms)')\n",
        "  plt.ylabel('count')\n",
        "  plt.title(r'$\\sigma_{GWN}=$%.1f, CV$_{\\mathrm{isi}}$=%.3f' % (sigma1, cv1))\n",
        "\n",
        "  plt.subplot(122)\n",
        "  plt.hist(isi2, bins=my_bins, color='b', alpha=0.5)\n",
        "  plt.xlabel('ISI (ms)')\n",
        "  plt.ylabel('count')\n",
        "  plt.title(r'$\\sigma_{GWN}=$%.1f, CV$_{\\mathrm{isi}}$=%.3f' % (sigma2, cv2))\n",
        "  plt.tight_layout()\n",
        "  plt.show()"
      ]
    },
    {
      "cell_type": "markdown",
      "metadata": {
        "execution": {},
        "id": "np-f8gFmShMB"
      },
      "source": [
        "---\n",
        "# Section 1: The Leaky Integrate-and-Fire (LIF) model"
      ]
    },
    {
      "cell_type": "code",
      "execution_count": 4,
      "metadata": {
        "cellView": "form",
        "execution": {},
        "id": "lFz_g1QoShMC",
        "colab": {
          "base_uri": "https://localhost:8080/",
          "height": 581,
          "referenced_widgets": [
            "68dee59750524180a69648021fcbc308",
            "c56f95b25ad8448f9e7d0b613cb62904",
            "255b7679558147af8c0333369e685555",
            "25ae2ae59e01442da86d1032630a0455",
            "1902e3b37e584993b99ec617b45b61f1",
            "09b13e215fe449bbba2d181ea9f39162"
          ]
        },
        "outputId": "cb5d9600-7c7c-45ea-c698-cb5d289d4d88"
      },
      "outputs": [
        {
          "output_type": "display_data",
          "data": {
            "text/plain": [
              "Tab(children=(Output(), Output()), _titles={'0': 'Youtube', '1': 'Bilibili'})"
            ],
            "application/vnd.jupyter.widget-view+json": {
              "version_major": 2,
              "version_minor": 0,
              "model_id": "68dee59750524180a69648021fcbc308"
            }
          },
          "metadata": {}
        }
      ],
      "source": [
        "# @title Video 1: Reduced Neuron Models\n",
        "from ipywidgets import widgets\n",
        "\n",
        "out2 = widgets.Output()\n",
        "with out2:\n",
        "  from IPython.display import IFrame\n",
        "  class BiliVideo(IFrame):\n",
        "      def __init__(self, id, page=1, width=400, height=300, **kwargs):\n",
        "          self.id=id\n",
        "          src = 'https://player.bilibili.com/player.html?bvid={0}&page={1}'.format(id, page)\n",
        "          super(BiliVideo, self).__init__(src, width, height, **kwargs)\n",
        "\n",
        "  video = BiliVideo(id=\"av456396195\", width=854, height=480, fs=1)\n",
        "  print('Video available at https://www.bilibili.com/video/{0}'.format(video.id))\n",
        "  display(video)\n",
        "\n",
        "out1 = widgets.Output()\n",
        "with out1:\n",
        "  from IPython.display import YouTubeVideo\n",
        "  video = YouTubeVideo(id=\"rSExvwCVRYg\", width=854, height=480, fs=1, rel=0)\n",
        "  print('Video available at https://youtube.com/watch?v=' + video.id)\n",
        "  display(video)\n",
        "\n",
        "out = widgets.Tab([out1, out2])\n",
        "out.set_title(0, 'Youtube')\n",
        "out.set_title(1, 'Bilibili')\n",
        "\n",
        "display(out)"
      ]
    },
    {
      "cell_type": "markdown",
      "metadata": {
        "execution": {},
        "id": "LSTuZ1CAShMC"
      },
      "source": [
        "This video introduces the reduction of a biological neuron to a simple leaky-integrate-fire (LIF) neuron model.\n",
        "\n",
        "<details>\n",
        "<summary> <font color='blue'>Click here for text recap of video </font></summary>\n",
        "\n",
        "Now, it's your turn to implement one of the simplest mathematical model of a neuron: the leaky integrate-and-fire (LIF) model. The basic idea of LIF neuron was proposed in 1907 by Louis Édouard Lapicque, long before we understood the electrophysiology of a neuron (see a translation of [Lapicque's paper](https://pubmed.ncbi.nlm.nih.gov/17968583/) ). More details of the model can be found in the book [**Theoretical neuroscience**](http://www.gatsby.ucl.ac.uk/~dayan/book/) by Peter Dayan and Laurence F. Abbott.\n",
        "\n",
        "The subthreshold membrane potential dynamics of a LIF neuron is described by\n",
        "\n",
        "\\begin{eqnarray}\n",
        "C_m\\frac{dV}{dt} = -g_L(V-E_L) + I,\\quad (1)\n",
        "\\end{eqnarray}\n",
        "\n",
        "where $C_m$ is the membrane capacitance, $V$ is the membrane potential, $g_L$ is the leak conductance ($g_L = 1/R$, the inverse of the leak resistance $R$ mentioned in previous tutorials), $E_L$ is the resting potential, and $I$ is the external input current. \n",
        "\n",
        "Dividing both sides of the above equation by $g_L$ gives\n",
        "\n",
        "\\begin{align}\n",
        "\\tau_m\\frac{dV}{dt} = -(V-E_L) + \\frac{I}{g_L}\\,,\\quad (2)\n",
        "\\end{align}\n",
        "\n",
        "where the $\\tau_m$ is membrane time constant and is defined as $\\tau_m=C_m/g_L$. \n",
        "\n",
        "Note that dividing capacitance by conductance gives units of time! \n",
        "\n",
        "Below, we will use Eqn.(2) to simulate LIF neuron dynamics. \n",
        "\n",
        "If $I$ is sufficiently strong such that $V$ reaches a certain threshold value $V_{\\rm th}$, $V$ is reset to a reset potential $V_{\\rm reset}< V_{\\rm th}$, and voltage is clamped to $V_{\\rm reset}$ for $\\tau_{\\rm ref}$ ms, mimicking the refractoriness of the neuron during an action potential:\n",
        "\n",
        "\\begin{eqnarray}\n",
        "\\mathrm{if}\\quad V(t_{\\text{sp}})\\geq V_{\\rm th}&:& V(t)=V_{\\rm reset} \\text{  for } t\\in(t_{\\text{sp}}, t_{\\text{sp}} + \\tau_{\\text{ref}}]\n",
        "\\end{eqnarray}\n",
        "where $t_{\\rm sp}$ is the spike time when $V(t)$ just exceeded $V_{\\rm th}$.\n",
        "\n",
        "(**Note:** in the lecture slides, $\\theta$ corresponds to the threshold voltage $V_{th}$, and $\\Delta$ corresponds to the refractory time $\\tau_{\\rm ref}$.)\n",
        "\n",
        "</details>\n",
        "\n",
        "Note that you have seen the LIF model before if you looked at the pre-reqs Python or Calculus days!\n",
        "\n",
        "The LIF model captures the facts that a neuron:\n",
        "- performs spatial and temporal integration of synaptic inputs\n",
        "- generates a spike when the voltage reaches a certain threshold\n",
        "- goes refractory during the action potential\n",
        "- has a leaky membrane\n",
        "\n",
        "The LIF model assumes that the spatial and temporal integration of inputs is linear. Also, membrane potential dynamics close to the spike threshold are much slower in LIF neurons than in real neurons."
      ]
    },
    {
      "cell_type": "markdown",
      "metadata": {
        "execution": {},
        "id": "A4heEpcrShMD"
      },
      "source": [
        "## Coding Exercise 1: Python code to simulate the LIF neuron\n",
        "\n",
        "We now write Python code to calculate our equation for the LIF neuron and simulate the LIF neuron dynamics. We will use the Euler method, which you saw in the linear systems case yesterday  to numerically integrate this equation:\n",
        "\n",
        "\\begin{equation}\n",
        "\\tau_m\\frac{dV}{dt} = -(V-E_L) + \\frac{I}{g_L}\\,\n",
        "\\end{equation}\n",
        "\n",
        "where $V$ is the membrane potential, $g_L$ is the leak conductance, $E_L$ is the resting potential, $I$ is the external input current, and $\\tau_m$ is membrane time constant.\n",
        "\n",
        "The cell below initializes a dictionary that stores parameters of the LIF neuron model and the simulation scheme. You can use `pars=default_pars(T=simulation_time, dt=time_step)` to get the parameters. Note that, `simulation_time` and `time_step` have the unit `ms`. In addition, you can add the value to a new parameter by `pars['New_param'] = value`."
      ]
    },
    {
      "cell_type": "code",
      "execution_count": 5,
      "metadata": {
        "cellView": "form",
        "execution": {},
        "id": "pYN2JF50ShMD",
        "colab": {
          "base_uri": "https://localhost:8080/"
        },
        "outputId": "774fc935-7157-48fc-9dd4-1b605e31fb1e"
      },
      "outputs": [
        {
          "output_type": "stream",
          "name": "stdout",
          "text": [
            "{'V_th': -55.0, 'V_reset': -75.0, 'tau_m': 10.0, 'g_L': 10.0, 'V_init': -75.0, 'E_L': -75.0, 'tref': 2.0, 'T': 400.0, 'dt': 0.1, 'range_t': array([0.000e+00, 1.000e-01, 2.000e-01, ..., 3.997e+02, 3.998e+02,\n",
            "       3.999e+02])}\n"
          ]
        }
      ],
      "source": [
        "# @markdown Execute this code to initialize the default parameters\n",
        "\n",
        "\n",
        "def default_pars(**kwargs):\n",
        "  pars = {}\n",
        "\n",
        "  # typical neuron parameters#\n",
        "  pars['V_th'] = -55.     # spike threshold [mV]\n",
        "  pars['V_reset'] = -75.  # reset potential [mV]\n",
        "  pars['tau_m'] = 10.     # membrane time constant [ms]\n",
        "  pars['g_L'] = 10.       # leak conductance [nS]\n",
        "  pars['V_init'] = -75.   # initial potential [mV]\n",
        "  pars['E_L'] = -75.      # leak reversal potential [mV]\n",
        "  pars['tref'] = 2.       # refractory time (ms)\n",
        "\n",
        "  # simulation parameters #\n",
        "  pars['T'] = 400.  # Total duration of simulation [ms]\n",
        "  pars['dt'] = .1   # Simulation time step [ms]\n",
        "\n",
        "  # external parameters if any #\n",
        "  for k in kwargs:\n",
        "    pars[k] = kwargs[k]\n",
        "\n",
        "  pars['range_t'] = np.arange(0, pars['T'], pars['dt'])  # Vector of discretized time points [ms]\n",
        "\n",
        "  return pars\n",
        "\n",
        "\n",
        "pars = default_pars()\n",
        "print(pars)"
      ]
    },
    {
      "cell_type": "markdown",
      "metadata": {
        "execution": {},
        "id": "mt5mus9TShME"
      },
      "source": [
        "Complete the function below to simulate the LIF neuron when receiving external current inputs. You can use `v, sp = run_LIF(pars, Iinj)` to get the membrane potential (`v`) and spike train (`sp`) given the dictionary `pars` and input current `Iinj`. "
      ]
    },
    {
      "cell_type": "code",
      "execution_count": 6,
      "metadata": {
        "cellView": "both",
        "execution": {},
        "id": "iBe4MPxxShMG",
        "colab": {
          "base_uri": "https://localhost:8080/",
          "height": 431
        },
        "outputId": "7f9afbe1-1c85-4183-98d4-ee9ddcca0c24"
      },
      "outputs": [
        {
          "output_type": "display_data",
          "data": {
            "text/plain": [
              "<Figure size 576x432 with 1 Axes>"
            ],
            "image/png": "[encoded data removed]"
          },
          "metadata": {
            "image/png": {
              "width": 558,
              "height": 414
            },
            "needs_background": "light"
          }
        }
      ],
      "source": [
        "def run_LIF(pars, Iinj, stop=False):\n",
        "  \"\"\"\n",
        "  Simulate the LIF dynamics with external input current\n",
        "\n",
        "  Args:\n",
        "    pars       : parameter dictionary\n",
        "    Iinj       : input current [pA]. The injected current here can be a value\n",
        "                 or an array\n",
        "    stop       : boolean. If True, use a current pulse\n",
        "\n",
        "  Returns:\n",
        "    rec_v      : membrane potential\n",
        "    rec_sp     : spike times\n",
        "  \"\"\"\n",
        "\n",
        "  # Set parameters\n",
        "  V_th, V_reset = pars['V_th'], pars['V_reset']\n",
        "  tau_m, g_L = pars['tau_m'], pars['g_L']\n",
        "  V_init, E_L = pars['V_init'], pars['E_L']\n",
        "  dt, range_t = pars['dt'], pars['range_t']\n",
        "  Lt = range_t.size\n",
        "  tref = pars['tref']\n",
        "\n",
        "  # Initialize voltage\n",
        "  v = np.zeros(Lt)\n",
        "  v[0] = V_init\n",
        "\n",
        "  # Set current time course\n",
        "  Iinj = Iinj * np.ones(Lt)\n",
        "\n",
        "  # If current pulse, set beginning and end to 0\n",
        "  if stop:\n",
        "    Iinj[:int(len(Iinj) / 2) - 1000] = 0\n",
        "    Iinj[int(len(Iinj) / 2) + 1000:] = 0\n",
        "\n",
        "  # Loop over time\n",
        "  rec_spikes = []  # record spike times\n",
        "  tr = 0.  # the count for refractory duration\n",
        "\n",
        "  for it in range(Lt - 1):\n",
        "\n",
        "    if tr > 0:  # check if in refractory period\n",
        "      v[it] = V_reset  # set voltage to reset\n",
        "      tr = tr - 1 # reduce running counter of refractory period\n",
        "\n",
        "    elif v[it] >= V_th:  # if voltage over threshold\n",
        "      rec_spikes.append(it)  # record spike event\n",
        "      v[it] = V_reset  # reset voltage\n",
        "      tr = tref / dt  # set refractory time\n",
        "\n",
        "    ########################################################################\n",
        "    ## TODO for students: compute the membrane potential v, spike train sp #\n",
        "    # Fill out function and remove\n",
        "    # raise NotImplementedError('Student Exercise: calculate the dv/dt and the update step!')\n",
        "    ########################################################################\n",
        "\n",
        "    # Calculate the increment of the membrane potential\n",
        "    dv = (-(v[it] - E_L) + Iinj[it] / g_L) * (dt / tau_m)\n",
        "\n",
        "    # Update the membrane potential\n",
        "    v[it + 1] = v[it] + dv\n",
        "\n",
        "  # Get spike times in ms\n",
        "  rec_spikes = np.array(rec_spikes) * dt\n",
        "\n",
        "  return v, rec_spikes\n",
        "\n",
        "\n",
        "# Get parameters\n",
        "pars = default_pars(T=500)\n",
        "\n",
        "# Simulate LIF model\n",
        "v, sp = run_LIF(pars, Iinj=100, stop=True)\n",
        "\n",
        "# Visualize\n",
        "plot_volt_trace(pars, v, sp)"
      ]
    },
    {
      "cell_type": "markdown",
      "metadata": {
        "execution": {},
        "id": "22MlgwECShMG"
      },
      "source": [
        "[*Click for solution*](https://github.com/NeuromatchAcademy/course-content/tree/main//tutorials/W2D3_BiologicalNeuronModels/solutions/W2D3_Tutorial1_Solution_60a1e954.py)\n",
        "\n",
        "*Example output:*\n",
        "\n",
        "<img alt='Solution hint' align='left' width=820.0 height=539.0 src=https://raw.githubusercontent.com/NeuromatchAcademy/course-content/main/tutorials/W2D3_BiologicalNeuronModels/static/W2D3_Tutorial1_Solution_60a1e954_0.png>\n",
        "\n"
      ]
    },
    {
      "cell_type": "markdown",
      "metadata": {
        "execution": {},
        "id": "AOQ5-eTsShMG"
      },
      "source": [
        "---\n",
        "# Section 2: Response of an LIF model to different types of input currents\n",
        "\n",
        "*Estimated timing to here from start of tutorial: 20 min*\n",
        "\n",
        "In the following section, we will learn how to inject direct current and white noise to study the response of an LIF neuron."
      ]
    },
    {
      "cell_type": "code",
      "execution_count": 7,
      "metadata": {
        "cellView": "form",
        "execution": {},
        "id": "tCbjaxEBShMH",
        "colab": {
          "base_uri": "https://localhost:8080/",
          "height": 581,
          "referenced_widgets": [
            "e17127a0d54943f68eab5c09a1f0aece",
            "38bc8776ff15491faa952435d929f410",
            "48a0d62588e44154a8e7ab3abcfa62cd",
            "aced267813af45b59f0e64ebd1604f9f",
            "4840e94ada3e403985a099ed7249e6b0",
            "28f5922b026d433f999ae27c966fa650"
          ]
        },
        "outputId": "dbbbce65-af7e-47a5-fafb-361629e4ada4"
      },
      "outputs": [
        {
          "output_type": "display_data",
          "data": {
            "text/plain": [
              "Tab(children=(Output(), Output()), _titles={'0': 'Youtube', '1': 'Bilibili'})"
            ],
            "application/vnd.jupyter.widget-view+json": {
              "version_major": 2,
              "version_minor": 0,
              "model_id": "e17127a0d54943f68eab5c09a1f0aece"
            }
          },
          "metadata": {}
        }
      ],
      "source": [
        "# @title Video 2: Response of the LIF neuron to different inputs\n",
        "from ipywidgets import widgets\n",
        "\n",
        "out2 = widgets.Output()\n",
        "with out2:\n",
        "  from IPython.display import IFrame\n",
        "  class BiliVideo(IFrame):\n",
        "      def __init__(self, id, page=1, width=400, height=300, **kwargs):\n",
        "          self.id=id\n",
        "          src = 'https://player.bilibili.com/player.html?bvid={0}&page={1}'.format(id, page)\n",
        "          super(BiliVideo, self).__init__(src, width, height, **kwargs)\n",
        "\n",
        "  video = BiliVideo(id=\"av541417171\", width=854, height=480, fs=1)\n",
        "  print('Video available at https://www.bilibili.com/video/{0}'.format(video.id))\n",
        "  display(video)\n",
        "\n",
        "out1 = widgets.Output()\n",
        "with out1:\n",
        "  from IPython.display import YouTubeVideo\n",
        "  video = YouTubeVideo(id=\"preNGdab7Kk\", width=854, height=480, fs=1, rel=0)\n",
        "  print('Video available at https://youtube.com/watch?v=' + video.id)\n",
        "  display(video)\n",
        "\n",
        "out = widgets.Tab([out1, out2])\n",
        "out.set_title(0, 'Youtube')\n",
        "out.set_title(1, 'Bilibili')\n",
        "\n",
        "display(out)"
      ]
    },
    {
      "cell_type": "markdown",
      "metadata": {
        "execution": {},
        "id": "LbMvNvfTShMH"
      },
      "source": [
        "## Section 2.1: Direct current (DC)\n",
        "\n",
        "*Estimated timing to here from start of tutorial: 30 min*\n"
      ]
    },
    {
      "cell_type": "markdown",
      "metadata": {
        "execution": {},
        "id": "4KdlSflGShMH"
      },
      "source": [
        "### Interactive Demo 2.1: Parameter exploration of DC input amplitude \n",
        "Here's an interactive demo that shows how the LIF neuron behavior changes for DC input (constant current) with different amplitudes. We plot the membrane potential of an LIF neuron. You may notice that the neuron generates a spike. But this is just a cosmetic spike only for illustration purposes. In an LIF neuron, we only need to keep track of times when the neuron hits the threshold so the postsynaptic neurons can be informed of the spike. \n",
        "\n",
        "How much DC is needed to reach the threshold (rheobase current)? How does the membrane time constant affect the frequency of the neuron?"
      ]
    },
    {
      "cell_type": "code",
      "execution_count": 8,
      "metadata": {
        "cellView": "form",
        "execution": {},
        "id": "GbmKoAZlShMH",
        "colab": {
          "base_uri": "https://localhost:8080/",
          "height": 495,
          "referenced_widgets": [
            "7e38984a9aed45d19e19c74cfc213af8",
            "d08268bf72c14b55ac5a221664d401b0",
            "45766347670a44a7b545f05908d0157e",
            "e1ca1aa4427d4293ac82195aba09f6fa",
            "11bf5f0ea7284226837a55d04cbcc7a7",
            "a91ab8c4c46d4f49b8f4da57276e5fad",
            "5065f13f83304f199f83474a39c20041",
            "84427f238fa341f4b693e245033a8d2e",
            "41b026fc0a6a47168af05e75e267a79a"
          ]
        },
        "outputId": "5fb2722a-7d91-48f0-ccf2-74f006ffab6a"
      },
      "outputs": [
        {
          "output_type": "display_data",
          "data": {
            "text/plain": [
              "interactive(children=(FloatSlider(value=50.0, description='I_dc', layout=Layout(width='450px'), max=300.0, ste…"
            ],
            "application/vnd.jupyter.widget-view+json": {
              "version_major": 2,
              "version_minor": 0,
              "model_id": "7e38984a9aed45d19e19c74cfc213af8"
            }
          },
          "metadata": {}
        }
      ],
      "source": [
        "# @title\n",
        "# @markdown Make sure you execute this cell to enable the widget!\n",
        "my_layout.width = '450px'\n",
        "@widgets.interact(\n",
        "    I_dc=widgets.FloatSlider(50., min=0., max=300., step=10.,\n",
        "                               layout=my_layout),\n",
        "    tau_m=widgets.FloatSlider(10., min=2., max=20., step=2.,\n",
        "                                layout=my_layout)\n",
        ")\n",
        "\n",
        "def diff_DC(I_dc=200., tau_m=10.):\n",
        "  pars = default_pars(T=100.)\n",
        "  pars['tau_m'] = tau_m\n",
        "  v, sp = run_LIF(pars, Iinj=I_dc)\n",
        "  plot_volt_trace(pars, v, sp)\n",
        "  plt.show()"
      ]
    },
    {
      "cell_type": "markdown",
      "source": [
        "1. 210 pA is needed to reach the threshold.\n",
        "2. As the membrane time constant increases, the frequency of the neuron decreases because the membrane needs more time to reach the threshold after the reset."
      ],
      "metadata": {
        "id": "9xo3f-MvZZCK"
      }
    },
    {
      "cell_type": "markdown",
      "metadata": {
        "execution": {},
        "id": "MKYhiTO7ShMI"
      },
      "source": [
        "## Section 2.2: Gaussian white noise (GWN) current \n",
        "\n",
        "*Estimated timing to here from start of tutorial: 38 min*\n",
        "\n",
        "Given the noisy nature of neuronal activity _in vivo_, neurons usually receive complex, time-varying inputs.\n",
        "\n",
        "To mimic this, we will now investigate the neuronal response when the LIF neuron receives Gaussian white noise $\\xi(t)$ with mean 0 ($\\mu = 0$) and some standard deviation $\\sigma$.\n",
        "\n",
        "Note that the GWN has zero mean, that is, it describes only the fluctuations of the input received by a neuron. We can thus modify our definition of GWN to have a nonzero mean value $\\mu$ that equals the DC input, since this is the average input into the cell. The cell below defines the modified gaussian white noise currents with nonzero mean $\\mu$."
      ]
    },
    {
      "cell_type": "markdown",
      "metadata": {
        "execution": {},
        "id": "Ti3hn-DIShMI"
      },
      "source": [
        "### Interactive Demo 2.2: LIF neuron Explorer for noisy input\n",
        "\n",
        "\n",
        "The mean of the Gaussian white noise (GWN) is the amplitude of DC. Indeed, when $\\sigma = 0$, GWN is just a DC.\n",
        "\n",
        "So the question arises how does $\\sigma$ of the GWN affect the spiking behavior of the neuron. For instance we may want to know\n",
        "1.  how does the minimum input (i.e., $\\mu$) needed to make a neuron spike change with increase in $\\sigma$\n",
        "2.  how does the spike regularity change with increase in $\\sigma$\n",
        "\n",
        "To get an intuition about these questions you can use the following interactive demo that shows how the LIF neuron behavior changes for noisy input with different amplitudes (the mean $\\mu$) and fluctuation sizes ($\\sigma$). We use a helper function to generate this noisy input current: `my_GWN(pars, mu, sig, myseed=False)`.  Note that fixing the value of the random seed (e.g., `myseed=2020`) will allow you to obtain the same result every time you run this. We then use our `run_LIF` function to simulate the LIF model.\n"
      ]
    },
    {
      "cell_type": "code",
      "execution_count": 9,
      "metadata": {
        "cellView": "form",
        "execution": {},
        "id": "LHG2sgyBShMI",
        "colab": {
          "base_uri": "https://localhost:8080/"
        },
        "outputId": "2c63900a-c735-4160-ab9a-22a71359e3dd"
      },
      "outputs": [
        {
          "output_type": "stream",
          "name": "stdout",
          "text": [
            "Help on function my_GWN in module __main__:\n",
            "\n",
            "my_GWN(pars, mu, sig, myseed=False)\n",
            "    Function that generates Gaussian white noise input\n",
            "    \n",
            "    Args:\n",
            "      pars       : parameter dictionary\n",
            "      mu         : noise baseline (mean)\n",
            "      sig        : noise amplitute (standard deviation)\n",
            "      myseed     : random seed. int or boolean\n",
            "                   the same seed will give the same\n",
            "                   random number sequence\n",
            "    \n",
            "    Returns:\n",
            "      I          : Gaussian white noise input\n",
            "\n"
          ]
        }
      ],
      "source": [
        "# @markdown Execute to enable helper function `my_GWN`\n",
        "\n",
        "def my_GWN(pars, mu, sig, myseed=False):\n",
        "  \"\"\"\n",
        "  Function that generates Gaussian white noise input\n",
        "\n",
        "  Args:\n",
        "    pars       : parameter dictionary\n",
        "    mu         : noise baseline (mean)\n",
        "    sig        : noise amplitute (standard deviation)\n",
        "    myseed     : random seed. int or boolean\n",
        "                 the same seed will give the same\n",
        "                 random number sequence\n",
        "\n",
        "  Returns:\n",
        "    I          : Gaussian white noise input\n",
        "  \"\"\"\n",
        "\n",
        "  # Retrieve simulation parameters\n",
        "  dt, range_t = pars['dt'], pars['range_t']\n",
        "  Lt = range_t.size\n",
        "\n",
        "  # Set random seed\n",
        "  if myseed:\n",
        "      np.random.seed(seed=myseed)\n",
        "  else:\n",
        "      np.random.seed()\n",
        "\n",
        "  # Generate GWN\n",
        "  # we divide here by 1000 to convert units to sec.\n",
        "  I_gwn = mu + sig * np.random.randn(Lt) / np.sqrt(dt / 1000.)\n",
        "\n",
        "  return I_gwn\n",
        "\n",
        "help(my_GWN)"
      ]
    },
    {
      "cell_type": "code",
      "execution_count": 10,
      "metadata": {
        "cellView": "form",
        "execution": {},
        "id": "C36dG9SdShMJ",
        "colab": {
          "base_uri": "https://localhost:8080/",
          "height": 351,
          "referenced_widgets": [
            "b8a75bf8469b46199214cc0695c7b0de",
            "ae742dda3ce347e4b63e0ea478df3774",
            "9d994e00db28414c99e719ddc9db3640",
            "115c13bdd49447c3a5bd88e617d62d1c",
            "9c7d59fa7fef4adfa5c893f4d947653e",
            "a91ab8c4c46d4f49b8f4da57276e5fad",
            "3390b9b66d72469986d86e11d4d77580",
            "149592adb365428cb18356d77dc05ad4",
            "18ecce91e8f644c992aea326ab015caa"
          ]
        },
        "outputId": "b63ccee8-3051-4459-e015-49abba02d218"
      },
      "outputs": [
        {
          "output_type": "display_data",
          "data": {
            "text/plain": [
              "interactive(children=(FloatSlider(value=200.0, description='mu_gwn', layout=Layout(width='450px'), max=300.0, …"
            ],
            "application/vnd.jupyter.widget-view+json": {
              "version_major": 2,
              "version_minor": 0,
              "model_id": "b8a75bf8469b46199214cc0695c7b0de"
            }
          },
          "metadata": {}
        }
      ],
      "source": [
        "# @title\n",
        "\n",
        "# @markdown Make sure you execute this cell to enable the widget!\n",
        "\n",
        "my_layout.width = '450px'\n",
        "@widgets.interact(\n",
        "    mu_gwn=widgets.FloatSlider(200., min=100., max=300., step=5.,\n",
        "                               layout=my_layout),\n",
        "    sig_gwn=widgets.FloatSlider(2.5, min=0., max=5., step=.5,\n",
        "                                layout=my_layout)\n",
        ")\n",
        "\n",
        "\n",
        "def diff_GWN_to_LIF(mu_gwn, sig_gwn):\n",
        "  pars = default_pars(T=100.)\n",
        "  I_GWN = my_GWN(pars, mu=mu_gwn, sig=sig_gwn)\n",
        "  v, sp = run_LIF(pars, Iinj=I_GWN)\n",
        "  plt.figure(figsize=(12, 4))\n",
        "  plt.subplot(121)\n",
        "  plt.plot(pars['range_t'][::3], I_GWN[::3], 'b')\n",
        "  plt.xlabel('Time (ms)')\n",
        "  plt.ylabel(r'$I_{GWN}$ (pA)')\n",
        "  plt.subplot(122)\n",
        "  plot_volt_trace(pars, v, sp)\n",
        "  plt.tight_layout()\n",
        "  plt.show()"
      ]
    },
    {
      "cell_type": "markdown",
      "source": [
        "1. If we have bigger current fluctuations (increased sigma), the minimum input needed\n",
        "to make a neuron spike is smaller as the fluctuations can help push the voltage above\n",
        "threshold.\n",
        "2. The standard deviation (or size of current fluctuations) dictates the level of\n",
        "irregularity of the spikes; the higher the sigma the more irregular the observed\n",
        "spikes."
      ],
      "metadata": {
        "id": "G_xA9T7zaB1X"
      }
    },
    {
      "cell_type": "markdown",
      "metadata": {
        "execution": {},
        "id": "C1ULRgeFShMJ"
      },
      "source": [
        "### Think! 2.2: Analyzing GWN Effects on Spiking\n",
        "- As we increase the input average ($\\mu$) or the input fluctuation ($\\sigma$), the spike count changes. How much can we increase the spike count, and what might be the relationship between GWN mean/std or DC value and spike count? \n",
        "\n",
        "- We have seen above that when we inject DC, the neuron spikes in a regular manner (clock-like), and this regularity is reduced when GWN is injected. The question is, how irregular can we make the neurons spiking by changing the parameters of the GWN? \n",
        "\n",
        "We will see the answers to these questions in the next section but discuss first!\n"
      ]
    },
    {
      "cell_type": "markdown",
      "metadata": {
        "execution": {},
        "id": "4XXwGsMMShMJ"
      },
      "source": [
        "---\n",
        "# Section 3: Firing rate and spike time irregularity\n",
        "\n",
        "*Estimated timing to here from start of tutorial: 48 min*\n",
        "\n",
        "When we plot the output firing rate as a function of GWN mean or DC value, it is called the input-output transfer function of the neuron (so simply F-I curve).\n",
        "\n",
        "Spike regularity can be quantified as the **coefficient of variation (CV) of the interspike interval (ISI)**:\n",
        "\n",
        "\\begin{equation}\n",
        "\\text{CV}_{\\text{ISI}} = \\frac{std(\\text{ISI})}{mean(\\text{ISI})}\n",
        "\\end{equation}\n",
        "\n",
        "A Poisson train is an example of high irregularity, in which $\\textbf{CV}_{\\textbf{ISI}} \\textbf{= 1}$. And for a clocklike (regular) process we have $\\textbf{CV}_{\\textbf{ISI}} \\textbf{= 0}$ because of **std(ISI)=0**."
      ]
    },
    {
      "cell_type": "markdown",
      "metadata": {
        "execution": {},
        "id": "4YZ54eDKShMJ"
      },
      "source": [
        "## Interactive Demo 3A: F-I Explorer for different `sig_gwn`\n",
        "\n",
        "How does the F-I curve of the LIF neuron change as we increase the $\\sigma$ of the GWN? We can already expect that the F-I curve will be stochastic and the results will vary from one trial to another. But will there be any other change compared to the F-I curved measured using DC?\n",
        "\n",
        "Here's an interactive demo that shows how the F-I curve of a LIF neuron changes for different levels of fluctuation $\\sigma$.\n"
      ]
    },
    {
      "cell_type": "code",
      "execution_count": 11,
      "metadata": {
        "cellView": "form",
        "execution": {},
        "id": "1sIKoD5ZShMJ",
        "colab": {
          "base_uri": "https://localhost:8080/",
          "height": 462,
          "referenced_widgets": [
            "2fbfb1989bf24cc3abd84ad17b89dad2",
            "4a021bf256ce4cf19233bc3bfc7a5231",
            "ebed9fb86f69453c82ec14a984800253",
            "ffcd76334b9d466cb26dd4fd5930a730",
            "a91ab8c4c46d4f49b8f4da57276e5fad",
            "da1719af16fc4af1b15aa39ab0e67425",
            "15a11c2584774b528933fe42266118c9"
          ]
        },
        "outputId": "c82cf838-80a2-4b2b-edf0-f1bcb98b63cf"
      },
      "outputs": [
        {
          "output_type": "display_data",
          "data": {
            "text/plain": [
              "interactive(children=(FloatSlider(value=3.0, description='sig_gwn', layout=Layout(width='450px'), max=6.0, ste…"
            ],
            "application/vnd.jupyter.widget-view+json": {
              "version_major": 2,
              "version_minor": 0,
              "model_id": "2fbfb1989bf24cc3abd84ad17b89dad2"
            }
          },
          "metadata": {}
        }
      ],
      "source": [
        "# @title\n",
        "\n",
        "# @markdown Make sure you execute this cell to enable the widget!\n",
        "\n",
        "\n",
        "my_layout.width = '450px'\n",
        "@widgets.interact(\n",
        "    sig_gwn=widgets.FloatSlider(3.0, min=0., max=6., step=0.5,\n",
        "                                layout=my_layout)\n",
        ")\n",
        "\n",
        "\n",
        "def diff_std_affect_fI(sig_gwn):\n",
        "  pars = default_pars(T=1000.)\n",
        "  I_mean = np.arange(100., 400., 10.)\n",
        "  spk_count = np.zeros(len(I_mean))\n",
        "  spk_count_dc = np.zeros(len(I_mean))\n",
        "\n",
        "  for idx in range(len(I_mean)):\n",
        "      I_GWN = my_GWN(pars, mu=I_mean[idx], sig=sig_gwn, myseed=2020)\n",
        "      v, rec_spikes = run_LIF(pars, Iinj=I_GWN)\n",
        "      v_dc, rec_sp_dc = run_LIF(pars, Iinj=I_mean[idx])\n",
        "      spk_count[idx] = len(rec_spikes)\n",
        "      spk_count_dc[idx] = len(rec_sp_dc)\n",
        "\n",
        "  # Plot the F-I curve i.e. Output firing rate as a function of input mean.\n",
        "  plt.figure()\n",
        "  plt.plot(I_mean, spk_count, 'k',\n",
        "           label=r'$\\sigma_{\\mathrm{GWN}}=%.2f$' % sig_gwn)\n",
        "  plt.plot(I_mean, spk_count_dc, 'k--', alpha=0.5, lw=4, dashes=(2, 2),\n",
        "           label='DC input')\n",
        "  plt.ylabel('Spike count')\n",
        "  plt.xlabel('Average injected current (pA)')\n",
        "  plt.legend(loc='best')\n",
        "  plt.show()"
      ]
    },
    {
      "cell_type": "markdown",
      "source": [
        "If we use a DC input, the F-I curve is deterministic, and we can\n",
        "found its shape by solving the membrane equation of the neuron. If we have GWN,\n",
        "as we increase the sigma, the F-I curve has a more linear shape, and the neuron\n",
        "reaches its threshold using less average injected current."
      ],
      "metadata": {
        "id": "8RUaK-PubMp4"
      }
    },
    {
      "cell_type": "markdown",
      "metadata": {
        "execution": {},
        "id": "UkvVSpy-ShMK"
      },
      "source": [
        "## Coding Exercise 3: Compute $CV_{ISI}$ values\n",
        "\n",
        "As shown above, the F-I curve becomes smoother while increasing the amplitude of the fluctuation ($\\sigma$). In addition, the fluctuation can also change the irregularity of the spikes. Let's investigate the effect of $\\mu=250$ with $\\sigma=0.5$ vs $\\sigma=3$. \n",
        "\n",
        "Fill in the code below to compute ISI, then plot the histogram of the ISI and compute the $CV_{ISI}$. Note that, you can use `np.diff` to calculate ISI."
      ]
    },
    {
      "cell_type": "code",
      "execution_count": 15,
      "metadata": {
        "execution": {},
        "id": "ILGIpLdPShMK",
        "colab": {
          "base_uri": "https://localhost:8080/",
          "height": 286
        },
        "outputId": "982957a9-deb5-445c-b2ce-5d9fa155af27"
      },
      "outputs": [
        {
          "output_type": "display_data",
          "data": {
            "text/plain": [
              "<Figure size 792x288 with 2 Axes>"
            ],
            "image/png": "[encoded data removed]"
          },
          "metadata": {
            "image/png": {
              "width": 773,
              "height": 269
            },
            "needs_background": "light"
          }
        }
      ],
      "source": [
        "def isi_cv_LIF(spike_times):\n",
        "  \"\"\"\n",
        "  Calculates the interspike intervals (isi) and\n",
        "  the coefficient of variation (cv) for a given spike_train\n",
        "\n",
        "  Args:\n",
        "    spike_times : (n, ) vector with the spike times (ndarray)\n",
        "\n",
        "  Returns:\n",
        "    isi         : (n-1,) vector with the inter-spike intervals (ms)\n",
        "    cv          : coefficient of variation of isi (float)\n",
        "\n",
        "  \"\"\"\n",
        "  ########################################################################\n",
        "  ## TODO for students: compute the membrane potential v, spike train sp #\n",
        "  # Fill out function and remove\n",
        "  # raise NotImplementedError('Student Exercise: calculate the isi and the cv!')\n",
        "  ########################################################################\n",
        "  if len(spike_times) >= 2:\n",
        "    # Compute isi\n",
        "    isi = np.diff(spike_times)\n",
        "    # Compute cv\n",
        "    cv = np.std(isi) / np.mean(isi)\n",
        "  else:\n",
        "    isi = np.nan\n",
        "    cv = np.nan\n",
        "\n",
        "  return isi, cv\n",
        "\n",
        "\n",
        "# Set parameters\n",
        "pars = default_pars(T=1000.)\n",
        "mu_gwn = 250\n",
        "sig_gwn1 = 0.5\n",
        "sig_gwn2 = 3.0\n",
        "\n",
        "# Run LIF model for sigma = 0.5\n",
        "I_GWN1 = my_GWN(pars, mu=mu_gwn, sig=sig_gwn1, myseed=2020)\n",
        "_, sp1 = run_LIF(pars, Iinj=I_GWN1)\n",
        "\n",
        "# Run LIF model for sigma = 3\n",
        "I_GWN2 = my_GWN(pars, mu=mu_gwn, sig=sig_gwn2, myseed=2020)\n",
        "_, sp2 = run_LIF(pars, Iinj=I_GWN2)\n",
        "\n",
        "# Compute ISIs/CV\n",
        "isi1, cv1 = isi_cv_LIF(sp1)\n",
        "isi2, cv2 = isi_cv_LIF(sp2)\n",
        "\n",
        "# Visualize\n",
        "my_hists(isi1, isi2, cv1, cv2, sig_gwn1, sig_gwn2)"
      ]
    },
    {
      "cell_type": "markdown",
      "metadata": {
        "execution": {},
        "id": "_FARlMEyShMK"
      },
      "source": [
        "[*Click for solution*](https://github.com/NeuromatchAcademy/course-content/tree/main//tutorials/W2D3_BiologicalNeuronModels/solutions/W2D3_Tutorial1_Solution_27d69c89.py)\n",
        "\n",
        "*Example output:*\n",
        "\n",
        "<img alt='Solution hint' align='left' width=1078.0 height=378.0 src=https://raw.githubusercontent.com/NeuromatchAcademy/course-content/main/tutorials/W2D3_BiologicalNeuronModels/static/W2D3_Tutorial1_Solution_27d69c89_0.png>\n",
        "\n"
      ]
    },
    {
      "cell_type": "markdown",
      "metadata": {
        "execution": {},
        "id": "MMK8-5ElShMK"
      },
      "source": [
        "## Interactive Demo 3B: Spike irregularity explorer for different `sig_gwn`\n",
        "\n",
        "In the above illustration, we see that the CV of inter-spike-interval (ISI) distribution depends on $\\sigma$ of GWN. What about the mean of GWN, should that also affect the CV$_{\\rm ISI}$? If yes, how? Does the efficacy of $\\sigma$ in increasing the CV$_{\\rm ISI}$ depend on $\\mu$?\n",
        "\n",
        "In the following interactive demo, you will examine how different levels of fluctuation $\\sigma$ affect the CVs for different average injected currents ($\\mu$).\n",
        "\n",
        "1. Does the standard deviation of the injected current affect the F-I curve in any qualitative manner?\n",
        "2. Why does increasing the mean of GWN reduce the CV$_{\\rm ISI}$?\n",
        "3.  If you plot spike count (or rate) vs. CV$_{\\rm ISI}$, should there be a relationship between the two? Try out yourself."
      ]
    },
    {
      "cell_type": "code",
      "execution_count": 16,
      "metadata": {
        "cellView": "form",
        "execution": {},
        "id": "ckgdINWDShML",
        "colab": {
          "base_uri": "https://localhost:8080/",
          "height": 462,
          "referenced_widgets": [
            "805aab65750f4f3793c8ecf3e52354c9",
            "6d7735ab427f4dd7aa34b6923faa9a8b",
            "45ed27391cc6416bb3976c037396e8b8",
            "7ef94a1565d7414db448501da96ceb3c",
            "a91ab8c4c46d4f49b8f4da57276e5fad",
            "7fd73aacf93e4a11879950cf902a6744",
            "e99a475840f8442da39b380ec28c9bc1"
          ]
        },
        "outputId": "a5029bc0-1d98-454a-d7c8-313aef6e6b0a"
      },
      "outputs": [
        {
          "output_type": "display_data",
          "data": {
            "text/plain": [
              "interactive(children=(FloatSlider(value=0.0, description='sig_gwn', layout=Layout(width='450px'), max=10.0, st…"
            ],
            "application/vnd.jupyter.widget-view+json": {
              "version_major": 2,
              "version_minor": 0,
              "model_id": "805aab65750f4f3793c8ecf3e52354c9"
            }
          },
          "metadata": {}
        }
      ],
      "source": [
        "#@title\n",
        "\n",
        "#@markdown Make sure you execute this cell to enable the widget!\n",
        "\n",
        "my_layout.width = '450px'\n",
        "@widgets.interact(\n",
        "    sig_gwn=widgets.FloatSlider(0.0, min=0., max=10.,\n",
        "                                step=0.5, layout=my_layout)\n",
        ")\n",
        "\n",
        "\n",
        "def diff_std_affect_fI(sig_gwn):\n",
        "  pars = default_pars(T=1000.)\n",
        "  I_mean = np.arange(100., 400., 20)\n",
        "  spk_count = np.zeros(len(I_mean))\n",
        "  cv_isi = np.empty(len(I_mean))\n",
        "\n",
        "  for idx in range(len(I_mean)):\n",
        "    I_GWN = my_GWN(pars, mu=I_mean[idx], sig=sig_gwn)\n",
        "    v, rec_spikes = run_LIF(pars, Iinj=I_GWN)\n",
        "    spk_count[idx] = len(rec_spikes)\n",
        "    if len(rec_spikes) > 3:\n",
        "      isi = np.diff(rec_spikes)\n",
        "      cv_isi[idx] = np.std(isi) / np.mean(isi)\n",
        "\n",
        "  # Plot the F-I curve i.e. Output firing rate as a function of input mean.\n",
        "  plt.figure()\n",
        "  plt.plot(I_mean[spk_count > 5], cv_isi[spk_count > 5], 'bo', alpha=0.5)\n",
        "  plt.xlabel('Average injected current (pA)')\n",
        "  plt.ylabel(r'Spike irregularity ($\\mathrm{CV}_\\mathrm{ISI}$)')\n",
        "  plt.ylim(-0.1, 1.5)\n",
        "  plt.grid(True)\n",
        "  plt.show()"
      ]
    },
    {
      "cell_type": "markdown",
      "source": [
        "1. Yes, as when $\\sigma$ increases, DC input the F-I curve has displays non-linearity but with GWN, an increase in $\\sigma$ smooths out the non-linearity. Essentially, in GWN noise is acting to suppress the\n",
        "non-linearities and render a neuron as a linear system.\n",
        "2. When we increase the mean of the GWN, at some point\n",
        "effective input mean is above the spike threshold and then the neuron operates in the so called mean-driven regime -- as the input is so high all the neuron is does is charge up to the spike threshold and reset. This essentially gives\n",
        "almost regular spiking.\n",
        "3. In an LIF, high firing rates are achieved for high GWN mean. Higher the mean,\n",
        "higher the firing rate and lower the CV_ISI. So you will expect that as firing rate\n",
        "increases, spike irregularity decreases. This is because of the spike threshold.\n",
        "For a Poisson process there is no relationship between spike rate and spike\n",
        "irregularity."
      ],
      "metadata": {
        "id": "OmsT6BHxc68G"
      }
    },
    {
      "cell_type": "markdown",
      "metadata": {
        "execution": {},
        "id": "RiRYhXN7ShML"
      },
      "source": [
        "---\n",
        "# Summary\n",
        "\n",
        "*Estimated timing of tutorial: 1 hour, 10 min*\n",
        "\n",
        "Congratulations! You've just built a leaky integrate-and-fire (LIF) neuron model from scratch, and studied its dynamics in response to various types of inputs, having:\n",
        "\n",
        "- simulated the LIF neuron model\n",
        "\n",
        "- driven the LIF neuron with external inputs, such as direct current and Gaussian white noise\n",
        "\n",
        "- studied how different inputs affect the  LIF neuron's output (firing rate and spike time irregularity),\n",
        "\n",
        "with a special focus on low rate and irregular firing regime to mimic real cortical neurons. The next tutorial will look at how spiking statistics may be influenced by a neuron's input statistics.\n",
        "\n",
        "If you have extra time, look at the bonus sections below to explore a different type of noise input and learn about extensions to integrate-and-fire models.\n"
      ]
    },
    {
      "cell_type": "markdown",
      "metadata": {
        "execution": {},
        "id": "CSrhNglbShML"
      },
      "source": [
        "---\n",
        "# Bonus"
      ]
    },
    {
      "cell_type": "markdown",
      "metadata": {
        "execution": {},
        "id": "YUB_FMphShML"
      },
      "source": [
        "---\n",
        "## Bonus Section 1: Ornstein-Uhlenbeck Process\n",
        "\n",
        "When a neuron receives spiking input, the synaptic current is Shot Noise -- which is a kind of colored noise and the spectrum of the noise determined by the synaptic kernel time constant. That is, a neuron is driven by **colored noise** and not GWN.\n",
        "\n",
        "We can model colored noise using the Ornstein-Uhlenbeck process - filtered white noise. "
      ]
    },
    {
      "cell_type": "markdown",
      "metadata": {
        "execution": {},
        "id": "jqq_FgKXShML"
      },
      "source": [
        "We next study if the input current is temporally correlated and is modeled as an Ornstein-Uhlenbeck process $\\eta(t)$, i.e., low-pass filtered GWN with a time constant $\\tau_{\\eta}$: \n",
        "\n",
        "\\begin{equation}\n",
        "\\tau_\\eta \\frac{d}{dt}\\eta(t) = \\mu-\\eta(t) + \\sigma_\\eta\\sqrt{2\\tau_\\eta}\\xi(t)\n",
        "\\end{equation}\n",
        "\n",
        "**Hint:** An OU process as defined above has\n",
        "\n",
        "\\begin{equation}\n",
        "\\mathbb{E}[\\eta(t)]=\\mu\n",
        "\\end{equation}\n",
        "\n",
        "and autocovariance \n",
        "\n",
        "\\begin{equation}\n",
        "[\\eta(t)\\eta(t+\\tau)]=\\sigma_\\eta^2e^{-|t-\\tau|/\\tau_\\eta}\n",
        "\\end{equation}\n",
        "\n",
        "which can be used to check your code. "
      ]
    },
    {
      "cell_type": "code",
      "execution_count": 17,
      "metadata": {
        "cellView": "form",
        "execution": {},
        "id": "_kI3ae1oShMM",
        "colab": {
          "base_uri": "https://localhost:8080/"
        },
        "outputId": "af935095-b7db-435e-fde0-30cf4333702b"
      },
      "outputs": [
        {
          "output_type": "stream",
          "name": "stdout",
          "text": [
            "Help on function my_OU in module __main__:\n",
            "\n",
            "my_OU(pars, mu, sig, myseed=False)\n",
            "    Function that produces Ornstein-Uhlenbeck input\n",
            "    \n",
            "    Args:\n",
            "      pars       : parameter dictionary\n",
            "      sig        : noise amplitute\n",
            "      myseed     : random seed. int or boolean\n",
            "    \n",
            "    Returns:\n",
            "      I_ou       : Ornstein-Uhlenbeck input current\n",
            "\n"
          ]
        }
      ],
      "source": [
        "# @markdown Execute this cell to get helper function `my_OU`\n",
        "\n",
        "\n",
        "def my_OU(pars, mu, sig, myseed=False):\n",
        "  \"\"\"\n",
        "  Function that produces Ornstein-Uhlenbeck input\n",
        "\n",
        "  Args:\n",
        "    pars       : parameter dictionary\n",
        "    sig        : noise amplitute\n",
        "    myseed     : random seed. int or boolean\n",
        "\n",
        "  Returns:\n",
        "    I_ou       : Ornstein-Uhlenbeck input current\n",
        "  \"\"\"\n",
        "\n",
        "  # Retrieve simulation parameters\n",
        "  dt, range_t = pars['dt'], pars['range_t']\n",
        "  Lt = range_t.size\n",
        "  tau_ou = pars['tau_ou']  # [ms]\n",
        "\n",
        "  # set random seed\n",
        "  if myseed:\n",
        "    np.random.seed(seed=myseed)\n",
        "  else:\n",
        "    np.random.seed()\n",
        "\n",
        "  # Initialize\n",
        "  noise = np.random.randn(Lt)\n",
        "  I_ou = np.zeros(Lt)\n",
        "  I_ou[0] = noise[0] * sig\n",
        "\n",
        "  # generate OU\n",
        "  for it in range(Lt-1):\n",
        "    I_ou[it+1] = I_ou[it] + (dt / tau_ou) * (mu - I_ou[it]) + np.sqrt(2 * dt / tau_ou) * sig * noise[it + 1]\n",
        "\n",
        "  return I_ou\n",
        "\n",
        "\n",
        "help(my_OU)"
      ]
    },
    {
      "cell_type": "markdown",
      "metadata": {
        "execution": {},
        "id": "ARZkNYq_ShMM"
      },
      "source": [
        "### Bonus Interactive Demo 1: LIF Explorer with OU input\n",
        "In the following, we will check how a neuron responds to a noisy current that follows the statistics of an OU process.\n",
        "\n",
        "-  How does the OU type input change neuron responsiveness? \n",
        "-  What do you think will happen to the spike pattern and rate if you increased or decreased the time constant of the OU process?"
      ]
    },
    {
      "cell_type": "code",
      "execution_count": 20,
      "metadata": {
        "cellView": "form",
        "execution": {},
        "id": "2C9D-p_MShMM",
        "colab": {
          "base_uri": "https://localhost:8080/",
          "height": 383,
          "referenced_widgets": [
            "ae61685505fa48a792c7b81ef07a2308",
            "facf9e4704a147bcb65e3bab1b9087b9",
            "ab8812a08073442f9f18e163d5d359d8",
            "4477c82198034c9883d54c681d12e39d",
            "501b745518774caf84c0da1285b354f1",
            "da5a3e7c2eae400ab8719a4d4db4c21b",
            "a91ab8c4c46d4f49b8f4da57276e5fad",
            "e0a4326ba7c04ba98f4cc031671433cf",
            "d2e40e93f1744025925c6ce2edf35387",
            "64af2d4512d744289b66515825a5c158",
            "2be45a868e2348559d12ba3b1bd46573"
          ]
        },
        "outputId": "79f759de-0bad-41cf-f9bb-940542ccbc95"
      },
      "outputs": [
        {
          "output_type": "display_data",
          "data": {
            "text/plain": [
              "interactive(children=(FloatSlider(value=10.0, description='tau_ou', layout=Layout(width='450px'), max=20.0, mi…"
            ],
            "application/vnd.jupyter.widget-view+json": {
              "version_major": 2,
              "version_minor": 0,
              "model_id": "ae61685505fa48a792c7b81ef07a2308"
            }
          },
          "metadata": {}
        }
      ],
      "source": [
        "# @title\n",
        "\n",
        "# @markdown Remember to enable the widget by running the cell!\n",
        "\n",
        "my_layout.width = '450px'\n",
        "@widgets.interact(\n",
        "  tau_ou=widgets.FloatSlider(10.0, min=5., max=20.,\n",
        "                             step=2.5, layout=my_layout),\n",
        "  sig_ou=widgets.FloatSlider(10.0, min=5., max=40.,\n",
        "                             step=2.5, layout=my_layout),\n",
        "  mu_ou=widgets.FloatSlider(190.0, min=180., max=220.,\n",
        "                            step=2.5, layout=my_layout)\n",
        ")\n",
        "\n",
        "\n",
        "def LIF_with_OU(tau_ou=10., sig_ou=40., mu_ou=200.):\n",
        "  pars = default_pars(T=1000.)\n",
        "  pars['tau_ou'] = tau_ou  # [ms]\n",
        "\n",
        "  I_ou = my_OU(pars, mu_ou, sig_ou)\n",
        "\n",
        "  v, sp = run_LIF(pars, Iinj=I_ou)\n",
        "\n",
        "  plt.figure(figsize=(12, 4))\n",
        "  plt.subplot(121)\n",
        "  plt.plot(pars['range_t'], I_ou, 'b', lw=1.0)\n",
        "  plt.xlabel('Time (ms)')\n",
        "  plt.ylabel(r'$I_{\\mathrm{OU}}$ (pA)')\n",
        "  plt.subplot(122)\n",
        "  plot_volt_trace(pars, v, sp)\n",
        "  plt.tight_layout()\n",
        "  plt.show()"
      ]
    },
    {
      "cell_type": "markdown",
      "metadata": {
        "execution": {},
        "id": "rrfRSM7BShMM"
      },
      "source": [
        "[*Click for solution*](https://github.com/NeuromatchAcademy/course-content/tree/main//tutorials/W2D3_BiologicalNeuronModels/solutions/W2D3_Tutorial1_Solution_a0f797af.py)\n",
        "\n"
      ]
    },
    {
      "cell_type": "markdown",
      "metadata": {
        "execution": {},
        "id": "moMBveWSShMM"
      },
      "source": [
        "---\n",
        "## Bonus Section 2: Generalized Integrate-and-Fire models\n",
        "\n",
        "LIF model is not the only abstraction of real neurons. If you want to learn about more realistic types of neuronal models, watch the Bonus Video!"
      ]
    },
    {
      "cell_type": "code",
      "execution_count": 19,
      "metadata": {
        "cellView": "form",
        "execution": {},
        "id": "nrQ24GcGShMN",
        "colab": {
          "base_uri": "https://localhost:8080/",
          "height": 581,
          "referenced_widgets": [
            "d946af83bdb14228a0208be1f560299a",
            "31570a16e70f47179fc4ab6bae1e65f6",
            "75d791d636a541a7924b9c04e03eefa5",
            "c93f08e37dba41f7ae1187b8d4345e02",
            "c5f393331ae743fcaed76ccc0a70fa74",
            "dce69c2cfc6f43f689dcba9a9c5b32d0"
          ]
        },
        "outputId": "01050ba4-947d-4742-8008-6c5f805c48bc"
      },
      "outputs": [
        {
          "output_type": "display_data",
          "data": {
            "text/plain": [
              "Tab(children=(Output(), Output()), _titles={'0': 'Youtube', '1': 'Bilibili'})"
            ],
            "application/vnd.jupyter.widget-view+json": {
              "version_major": 2,
              "version_minor": 0,
              "model_id": "d946af83bdb14228a0208be1f560299a"
            }
          },
          "metadata": {}
        }
      ],
      "source": [
        "# @title Video 3 (Bonus): Extensions to Integrate-and-Fire models\n",
        "from ipywidgets import widgets\n",
        "\n",
        "out2 = widgets.Output()\n",
        "with out2:\n",
        "  from IPython.display import IFrame\n",
        "  class BiliVideo(IFrame):\n",
        "      def __init__(self, id, page=1, width=400, height=300, **kwargs):\n",
        "          self.id=id\n",
        "          src = 'https://player.bilibili.com/player.html?bvid={0}&page={1}'.format(id, page)\n",
        "          super(BiliVideo, self).__init__(src, width, height, **kwargs)\n",
        "\n",
        "  video = BiliVideo(id=\"\", width=854, height=480, fs=1)\n",
        "  print('Video available at https://www.bilibili.com/video/{0}'.format(video.id))\n",
        "  display(video)\n",
        "\n",
        "out1 = widgets.Output()\n",
        "with out1:\n",
        "  from IPython.display import YouTubeVideo\n",
        "  video = YouTubeVideo(id=\"G0b6wLhuQxE\", width=854, height=480, fs=1, rel=0)\n",
        "  print('Video available at https://youtube.com/watch?v=' + video.id)\n",
        "  display(video)\n",
        "\n",
        "out = widgets.Tab([out1, out2])\n",
        "out.set_title(0, 'Youtube')\n",
        "out.set_title(1, 'Bilibili')\n",
        "\n",
        "display(out)"
      ]
    }
  ],
  "metadata": {
    "colab": {
      "collapsed_sections": [],
      "name": "W2D3_Tutorial1",
      "provenance": [],
      "include_colab_link": true
    },
    "kernel": {
      "display_name": "Python 3",
      "language": "python",
      "name": "python3"
    },
    "kernelspec": {
      "display_name": "Python 3",
      "name": "python3"
    },
    "language_info": {
      "codemirror_mode": {
        "name": "ipython",
        "version": 3
      },
      "file_extension": ".py",
      "mimetype": "text/x-python",
      "name": "python",
      "nbconvert_exporter": "python",
      "pygments_lexer": "ipython3",
      "version": "3.7.13"
    },
    "widgets": {
      "application/vnd.jupyter.widget-state+json": {
        "68dee59750524180a69648021fcbc308": {
          "model_module": "@jupyter-widgets/controls",
          "model_name": "TabModel",
          "model_module_version": "1.5.0",
          "state": {
            "_dom_classes": [],
            "_model_module": "@jupyter-widgets/controls",
            "_model_module_version": "1.5.0",
            "_model_name": "TabModel",
            "_titles": {
              "0": "Youtube",
              "1": "Bilibili"
            },
            "_view_count": null,
            "_view_module": "@jupyter-widgets/controls",
            "_view_module_version": "1.5.0",
            "_view_name": "TabView",
            "box_style": "",
            "children": [
              "IPY_MODEL_c56f95b25ad8448f9e7d0b613cb62904",
              "IPY_MODEL_255b7679558147af8c0333369e685555"
            ],
            "layout": "IPY_MODEL_25ae2ae59e01442da86d1032630a0455",
            "selected_index": 0
          }
        },
        "c56f95b25ad8448f9e7d0b613cb62904": {
          "model_module": "@jupyter-widgets/output",
          "model_name": "OutputModel",
          "model_module_version": "1.0.0",
          "state": {
            "_dom_classes": [],
            "_model_module": "@jupyter-widgets/output",
            "_model_module_version": "1.0.0",
            "_model_name": "OutputModel",
            "_view_count": null,
            "_view_module": "@jupyter-widgets/output",
            "_view_module_version": "1.0.0",
            "_view_name": "OutputView",
            "layout": "IPY_MODEL_1902e3b37e584993b99ec617b45b61f1",
            "msg_id": "",
            "outputs": [
              {
                "output_type": "stream",
                "name": "stdout",
                "text": [
                  "Video available at https://youtube.com/watch?v=rSExvwCVRYg\n"
                ]
              },
              {
                "output_type": "display_data",
                "data": {
                  "text/plain": "<IPython.lib.display.YouTubeVideo at 0x7f5719092650>",
                  "text/html": "\n        <iframe\n            width=\"854\"\n            height=\"480\"\n            src=\"https://www.youtube.com/embed/rSExvwCVRYg?fs=1&rel=0\"\n            frameborder=\"0\"\n            allowfullscreen\n        ></iframe>\n        ",
                  "image/jpeg": "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\n"
                },
                "metadata": {}
              }
            ]
          }
        },
        "255b7679558147af8c0333369e685555": {
          "model_module": "@jupyter-widgets/output",
          "model_name": "OutputModel",
          "model_module_version": "1.0.0",
          "state": {
            "_dom_classes": [],
            "_model_module": "@jupyter-widgets/output",
            "_model_module_version": "1.0.0",
            "_model_name": "OutputModel",
            "_view_count": null,
            "_view_module": "@jupyter-widgets/output",
            "_view_module_version": "1.0.0",
            "_view_name": "OutputView",
            "layout": "IPY_MODEL_09b13e215fe449bbba2d181ea9f39162",
            "msg_id": "",
            "outputs": [
              {
                "output_type": "stream",
                "name": "stdout",
                "text": [
                  "Video available at https://www.bilibili.com/video/av456396195\n"
                ]
              },
              {
                "output_type": "display_data",
                "data": {
                  "text/plain": "<__main__.BiliVideo at 0x7f5712954d90>",
                  "text/html": "\n        <iframe\n            width=\"854\"\n            height=\"480\"\n            src=\"https://player.bilibili.com/player.html?bvid=av456396195&page=1?fs=1\"\n            frameborder=\"0\"\n            allowfullscreen\n        ></iframe>\n        "
                },
                "metadata": {}
              }
            ]
          }
        },
        "25ae2ae59e01442da86d1032630a0455": {
          "model_module": "@jupyter-widgets/base",
          "model_name": "LayoutModel",
          "model_module_version": "1.2.0",
          "state": {
            "_model_module": "@jupyter-widgets/base",
            "_model_module_version": "1.2.0",
            "_model_name": "LayoutModel",
            "_view_count": null,
            "_view_module": "@jupyter-widgets/base",
            "_view_module_version": "1.2.0",
            "_view_name": "LayoutView",
            "align_content": null,
            "align_items": null,
            "align_self": null,
            "border": null,
            "bottom": null,
            "display": null,
            "flex": null,
            "flex_flow": null,
            "grid_area": null,
            "grid_auto_columns": null,
            "grid_auto_flow": null,
            "grid_auto_rows": null,
            "grid_column": null,
            "grid_gap": null,
            "grid_row": null,
            "grid_template_areas": null,
            "grid_template_columns": null,
            "grid_template_rows": null,
            "height": null,
            "justify_content": null,
            "justify_items": null,
            "left": null,
            "margin": null,
            "max_height": null,
            "max_width": null,
            "min_height": null,
            "min_width": null,
            "object_fit": null,
            "object_position": null,
            "order": null,
            "overflow": null,
            "overflow_x": null,
            "overflow_y": null,
            "padding": null,
            "right": null,
            "top": null,
            "visibility": null,
            "width": null
          }
        },
        "1902e3b37e584993b99ec617b45b61f1": {
          "model_module": "@jupyter-widgets/base",
          "model_name": "LayoutModel",
          "model_module_version": "1.2.0",
          "state": {
            "_model_module": "@jupyter-widgets/base",
            "_model_module_version": "1.2.0",
            "_model_name": "LayoutModel",
            "_view_count": null,
            "_view_module": "@jupyter-widgets/base",
            "_view_module_version": "1.2.0",
            "_view_name": "LayoutView",
            "align_content": null,
            "align_items": null,
            "align_self": null,
            "border": null,
            "bottom": null,
            "display": null,
            "flex": null,
            "flex_flow": null,
            "grid_area": null,
            "grid_auto_columns": null,
            "grid_auto_flow": null,
            "grid_auto_rows": null,
            "grid_column": null,
            "grid_gap": null,
            "grid_row": null,
            "grid_template_areas": null,
            "grid_template_columns": null,
            "grid_template_rows": null,
            "height": null,
            "justify_content": null,
            "justify_items": null,
            "left": null,
            "margin": null,
            "max_height": null,
            "max_width": null,
            "min_height": null,
            "min_width": null,
            "object_fit": null,
            "object_position": null,
            "order": null,
            "overflow": null,
            "overflow_x": null,
            "overflow_y": null,
            "padding": null,
            "right": null,
            "top": null,
            "visibility": null,
            "width": null
          }
        },
        "09b13e215fe449bbba2d181ea9f39162": {
          "model_module": "@jupyter-widgets/base",
          "model_name": "LayoutModel",
          "model_module_version": "1.2.0",
          "state": {
            "_model_module": "@jupyter-widgets/base",
            "_model_module_version": "1.2.0",
            "_model_name": "LayoutModel",
            "_view_count": null,
            "_view_module": "@jupyter-widgets/base",
            "_view_module_version": "1.2.0",
            "_view_name": "LayoutView",
            "align_content": null,
            "align_items": null,
            "align_self": null,
            "border": null,
            "bottom": null,
            "display": null,
            "flex": null,
            "flex_flow": null,
            "grid_area": null,
            "grid_auto_columns": null,
            "grid_auto_flow": null,
            "grid_auto_rows": null,
            "grid_column": null,
            "grid_gap": null,
            "grid_row": null,
            "grid_template_areas": null,
            "grid_template_columns": null,
            "grid_template_rows": null,
            "height": null,
            "justify_content": null,
            "justify_items": null,
            "left": null,
            "margin": null,
            "max_height": null,
            "max_width": null,
            "min_height": null,
            "min_width": null,
            "object_fit": null,
            "object_position": null,
            "order": null,
            "overflow": null,
            "overflow_x": null,
            "overflow_y": null,
            "padding": null,
            "right": null,
            "top": null,
            "visibility": null,
            "width": null
          }
        },
        "e17127a0d54943f68eab5c09a1f0aece": {
          "model_module": "@jupyter-widgets/controls",
          "model_name": "TabModel",
          "model_module_version": "1.5.0",
          "state": {
            "_dom_classes": [],
            "_model_module": "@jupyter-widgets/controls",
            "_model_module_version": "1.5.0",
            "_model_name": "TabModel",
            "_titles": {
              "0": "Youtube",
              "1": "Bilibili"
            },
            "_view_count": null,
            "_view_module": "@jupyter-widgets/controls",
            "_view_module_version": "1.5.0",
            "_view_name": "TabView",
            "box_style": "",
            "children": [
              "IPY_MODEL_38bc8776ff15491faa952435d929f410",
              "IPY_MODEL_48a0d62588e44154a8e7ab3abcfa62cd"
            ],
            "layout": "IPY_MODEL_aced267813af45b59f0e64ebd1604f9f",
            "selected_index": 0
          }
        },
        "38bc8776ff15491faa952435d929f410": {
          "model_module": "@jupyter-widgets/output",
          "model_name": "OutputModel",
          "model_module_version": "1.0.0",
          "state": {
            "_dom_classes": [],
            "_model_module": "@jupyter-widgets/output",
            "_model_module_version": "1.0.0",
            "_model_name": "OutputModel",
            "_view_count": null,
            "_view_module": "@jupyter-widgets/output",
            "_view_module_version": "1.0.0",
            "_view_name": "OutputView",
            "layout": "IPY_MODEL_4840e94ada3e403985a099ed7249e6b0",
            "msg_id": "",
            "outputs": [
              {
                "output_type": "stream",
                "name": "stdout",
                "text": [
                  "Video available at https://youtube.com/watch?v=preNGdab7Kk\n"
                ]
              },
              {
                "output_type": "display_data",
                "data": {
                  "text/plain": "<IPython.lib.display.YouTubeVideo at 0x7f57102b1750>",
                  "text/html": "\n        <iframe\n            width=\"854\"\n            height=\"480\"\n            src=\"https://www.youtube.com/embed/preNGdab7Kk?fs=1&rel=0\"\n            frameborder=\"0\"\n            allowfullscreen\n        ></iframe>\n        ",
                  "image/jpeg": "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\n"
                },
                "metadata": {}
              }
            ]
          }
        },
        "48a0d62588e44154a8e7ab3abcfa62cd": {
          "model_module": "@jupyter-widgets/output",
          "model_name": "OutputModel",
          "model_module_version": "1.0.0",
          "state": {
            "_dom_classes": [],
            "_model_module": "@jupyter-widgets/output",
            "_model_module_version": "1.0.0",
            "_model_name": "OutputModel",
            "_view_count": null,
            "_view_module": "@jupyter-widgets/output",
            "_view_module_version": "1.0.0",
            "_view_name": "OutputView",
            "layout": "IPY_MODEL_28f5922b026d433f999ae27c966fa650",
            "msg_id": "",
            "outputs": [
              {
                "output_type": "stream",
                "name": "stdout",
                "text": [
                  "Video available at https://www.bilibili.com/video/av541417171\n"
                ]
              },
              {
                "output_type": "display_data",
                "data": {
                  "text/plain": "<__main__.BiliVideo at 0x7f57107bd410>",
                  "text/html": "\n        <iframe\n            width=\"854\"\n            height=\"480\"\n            src=\"https://player.bilibili.com/player.html?bvid=av541417171&page=1?fs=1\"\n            frameborder=\"0\"\n            allowfullscreen\n        ></iframe>\n        "
                },
                "metadata": {}
              }
            ]
          }
        },
        "aced267813af45b59f0e64ebd1604f9f": {
          "model_module": "@jupyter-widgets/base",
          "model_name": "LayoutModel",
          "model_module_version": "1.2.0",
          "state": {
            "_model_module": "@jupyter-widgets/base",
            "_model_module_version": "1.2.0",
            "_model_name": "LayoutModel",
            "_view_count": null,
            "_view_module": "@jupyter-widgets/base",
            "_view_module_version": "1.2.0",
            "_view_name": "LayoutView",
            "align_content": null,
            "align_items": null,
            "align_self": null,
            "border": null,
            "bottom": null,
            "display": null,
            "flex": null,
            "flex_flow": null,
            "grid_area": null,
            "grid_auto_columns": null,
            "grid_auto_flow": null,
            "grid_auto_rows": null,
            "grid_column": null,
            "grid_gap": null,
            "grid_row": null,
            "grid_template_areas": null,
            "grid_template_columns": null,
            "grid_template_rows": null,
            "height": null,
            "justify_content": null,
            "justify_items": null,
            "left": null,
            "margin": null,
            "max_height": null,
            "max_width": null,
            "min_height": null,
            "min_width": null,
            "object_fit": null,
            "object_position": null,
            "order": null,
            "overflow": null,
            "overflow_x": null,
            "overflow_y": null,
            "padding": null,
            "right": null,
            "top": null,
            "visibility": null,
            "width": null
          }
        },
        "4840e94ada3e403985a099ed7249e6b0": {
          "model_module": "@jupyter-widgets/base",
          "model_name": "LayoutModel",
          "model_module_version": "1.2.0",
          "state": {
            "_model_module": "@jupyter-widgets/base",
            "_model_module_version": "1.2.0",
            "_model_name": "LayoutModel",
            "_view_count": null,
            "_view_module": "@jupyter-widgets/base",
            "_view_module_version": "1.2.0",
            "_view_name": "LayoutView",
            "align_content": null,
            "align_items": null,
            "align_self": null,
            "border": null,
            "bottom": null,
            "display": null,
            "flex": null,
            "flex_flow": null,
            "grid_area": null,
            "grid_auto_columns": null,
            "grid_auto_flow": null,
            "grid_auto_rows": null,
            "grid_column": null,
            "grid_gap": null,
            "grid_row": null,
            "grid_template_areas": null,
            "grid_template_columns": null,
            "grid_template_rows": null,
            "height": null,
            "justify_content": null,
            "justify_items": null,
            "left": null,
            "margin": null,
            "max_height": null,
            "max_width": null,
            "min_height": null,
            "min_width": null,
            "object_fit": null,
            "object_position": null,
            "order": null,
            "overflow": null,
            "overflow_x": null,
            "overflow_y": null,
            "padding": null,
            "right": null,
            "top": null,
            "visibility": null,
            "width": null
          }
        },
        "28f5922b026d433f999ae27c966fa650": {
          "model_module": "@jupyter-widgets/base",
          "model_name": "LayoutModel",
          "model_module_version": "1.2.0",
          "state": {
            "_model_module": "@jupyter-widgets/base",
            "_model_module_version": "1.2.0",
            "_model_name": "LayoutModel",
            "_view_count": null,
            "_view_module": "@jupyter-widgets/base",
            "_view_module_version": "1.2.0",
            "_view_name": "LayoutView",
            "align_content": null,
            "align_items": null,
            "align_self": null,
            "border": null,
            "bottom": null,
            "display": null,
            "flex": null,
            "flex_flow": null,
            "grid_area": null,
            "grid_auto_columns": null,
            "grid_auto_flow": null,
            "grid_auto_rows": null,
            "grid_column": null,
            "grid_gap": null,
            "grid_row": null,
            "grid_template_areas": null,
            "grid_template_columns": null,
            "grid_template_rows": null,
            "height": null,
            "justify_content": null,
            "justify_items": null,
            "left": null,
            "margin": null,
            "max_height": null,
            "max_width": null,
            "min_height": null,
            "min_width": null,
            "object_fit": null,
            "object_position": null,
            "order": null,
            "overflow": null,
            "overflow_x": null,
            "overflow_y": null,
            "padding": null,
            "right": null,
            "top": null,
            "visibility": null,
            "width": null
          }
        },
        "7e38984a9aed45d19e19c74cfc213af8": {
          "model_module": "@jupyter-widgets/controls",
          "model_name": "VBoxModel",
          "model_module_version": "1.5.0",
          "state": {
            "_dom_classes": [
              "widget-interact"
            ],
            "_model_module": "@jupyter-widgets/controls",
            "_model_module_version": "1.5.0",
            "_model_name": "VBoxModel",
            "_view_count": null,
            "_view_module": "@jupyter-widgets/controls",
            "_view_module_version": "1.5.0",
            "_view_name": "VBoxView",
            "box_style": "",
            "children": [
              "IPY_MODEL_d08268bf72c14b55ac5a221664d401b0",
              "IPY_MODEL_45766347670a44a7b545f05908d0157e",
              "IPY_MODEL_e1ca1aa4427d4293ac82195aba09f6fa"
            ],
            "layout": "IPY_MODEL_11bf5f0ea7284226837a55d04cbcc7a7"
          }
        },
        "d08268bf72c14b55ac5a221664d401b0": {
          "model_module": "@jupyter-widgets/controls",
          "model_name": "FloatSliderModel",
          "model_module_version": "1.5.0",
          "state": {
            "_dom_classes": [],
            "_model_module": "@jupyter-widgets/controls",
            "_model_module_version": "1.5.0",
            "_model_name": "FloatSliderModel",
            "_view_count": null,
            "_view_module": "@jupyter-widgets/controls",
            "_view_module_version": "1.5.0",
            "_view_name": "FloatSliderView",
            "continuous_update": true,
            "description": "I_dc",
            "description_tooltip": null,
            "disabled": false,
            "layout": "IPY_MODEL_a91ab8c4c46d4f49b8f4da57276e5fad",
            "max": 300,
            "min": 0,
            "orientation": "horizontal",
            "readout": true,
            "readout_format": ".2f",
            "step": 10,
            "style": "IPY_MODEL_5065f13f83304f199f83474a39c20041",
            "value": 210
          }
        },
        "45766347670a44a7b545f05908d0157e": {
          "model_module": "@jupyter-widgets/controls",
          "model_name": "FloatSliderModel",
          "model_module_version": "1.5.0",
          "state": {
            "_dom_classes": [],
            "_model_module": "@jupyter-widgets/controls",
            "_model_module_version": "1.5.0",
            "_model_name": "FloatSliderModel",
            "_view_count": null,
            "_view_module": "@jupyter-widgets/controls",
            "_view_module_version": "1.5.0",
            "_view_name": "FloatSliderView",
            "continuous_update": true,
            "description": "tau_m",
            "description_tooltip": null,
            "disabled": false,
            "layout": "IPY_MODEL_a91ab8c4c46d4f49b8f4da57276e5fad",
            "max": 20,
            "min": 2,
            "orientation": "horizontal",
            "readout": true,
            "readout_format": ".2f",
            "step": 2,
            "style": "IPY_MODEL_84427f238fa341f4b693e245033a8d2e",
            "value": 20
          }
        },
        "e1ca1aa4427d4293ac82195aba09f6fa": {
          "model_module": "@jupyter-widgets/output",
          "model_name": "OutputModel",
          "model_module_version": "1.0.0",
          "state": {
            "_dom_classes": [],
            "_model_module": "@jupyter-widgets/output",
            "_model_module_version": "1.0.0",
            "_model_name": "OutputModel",
            "_view_count": null,
            "_view_module": "@jupyter-widgets/output",
            "_view_module_version": "1.0.0",
            "_view_name": "OutputView",
            "layout": "IPY_MODEL_41b026fc0a6a47168af05e75e267a79a",
            "msg_id": "",
            "outputs": [
              {
                "output_type": "display_data",
                "data": {
                  "text/plain": "<Figure size 576x432 with 1 Axes>",
                  "image/png": "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\n"
                },
                "metadata": {
                  "image/png": {
                    "width": 552,
                    "height": 414
                  },
                  "needs_background": "light"
                }
              }
            ]
          }
        },
        "11bf5f0ea7284226837a55d04cbcc7a7": {
          "model_module": "@jupyter-widgets/base",
          "model_name": "LayoutModel",
          "model_module_version": "1.2.0",
          "state": {
            "_model_module": "@jupyter-widgets/base",
            "_model_module_version": "1.2.0",
            "_model_name": "LayoutModel",
            "_view_count": null,
            "_view_module": "@jupyter-widgets/base",
            "_view_module_version": "1.2.0",
            "_view_name": "LayoutView",
            "align_content": null,
            "align_items": null,
            "align_self": null,
            "border": null,
            "bottom": null,
            "display": null,
            "flex": null,
            "flex_flow": null,
            "grid_area": null,
            "grid_auto_columns": null,
            "grid_auto_flow": null,
            "grid_auto_rows": null,
            "grid_column": null,
            "grid_gap": null,
            "grid_row": null,
            "grid_template_areas": null,
            "grid_template_columns": null,
            "grid_template_rows": null,
            "height": null,
            "justify_content": null,
            "justify_items": null,
            "left": null,
            "margin": null,
            "max_height": null,
            "max_width": null,
            "min_height": null,
            "min_width": null,
            "object_fit": null,
            "object_position": null,
            "order": null,
            "overflow": null,
            "overflow_x": null,
            "overflow_y": null,
            "padding": null,
            "right": null,
            "top": null,
            "visibility": null,
            "width": null
          }
        },
        "a91ab8c4c46d4f49b8f4da57276e5fad": {
          "model_module": "@jupyter-widgets/base",
          "model_name": "LayoutModel",
          "model_module_version": "1.2.0",
          "state": {
            "_model_module": "@jupyter-widgets/base",
            "_model_module_version": "1.2.0",
            "_model_name": "LayoutModel",
            "_view_count": null,
            "_view_module": "@jupyter-widgets/base",
            "_view_module_version": "1.2.0",
            "_view_name": "LayoutView",
            "align_content": null,
            "align_items": null,
            "align_self": null,
            "border": null,
            "bottom": null,
            "display": null,
            "flex": null,
            "flex_flow": null,
            "grid_area": null,
            "grid_auto_columns": null,
            "grid_auto_flow": null,
            "grid_auto_rows": null,
            "grid_column": null,
            "grid_gap": null,
            "grid_row": null,
            "grid_template_areas": null,
            "grid_template_columns": null,
            "grid_template_rows": null,
            "height": null,
            "justify_content": null,
            "justify_items": null,
            "left": null,
            "margin": null,
            "max_height": null,
            "max_width": null,
            "min_height": null,
            "min_width": null,
            "object_fit": null,
            "object_position": null,
            "order": null,
            "overflow": null,
            "overflow_x": null,
            "overflow_y": null,
            "padding": null,
            "right": null,
            "top": null,
            "visibility": null,
            "width": "450px"
          }
        },
        "5065f13f83304f199f83474a39c20041": {
          "model_module": "@jupyter-widgets/controls",
          "model_name": "SliderStyleModel",
          "model_module_version": "1.5.0",
          "state": {
            "_model_module": "@jupyter-widgets/controls",
            "_model_module_version": "1.5.0",
            "_model_name": "SliderStyleModel",
            "_view_count": null,
            "_view_module": "@jupyter-widgets/base",
            "_view_module_version": "1.2.0",
            "_view_name": "StyleView",
            "description_width": "",
            "handle_color": null
          }
        },
        "84427f238fa341f4b693e245033a8d2e": {
          "model_module": "@jupyter-widgets/controls",
          "model_name": "SliderStyleModel",
          "model_module_version": "1.5.0",
          "state": {
            "_model_module": "@jupyter-widgets/controls",
            "_model_module_version": "1.5.0",
            "_model_name": "SliderStyleModel",
            "_view_count": null,
            "_view_module": "@jupyter-widgets/base",
            "_view_module_version": "1.2.0",
            "_view_name": "StyleView",
            "description_width": "",
            "handle_color": null
          }
        },
        "41b026fc0a6a47168af05e75e267a79a": {
          "model_module": "@jupyter-widgets/base",
          "model_name": "LayoutModel",
          "model_module_version": "1.2.0",
          "state": {
            "_model_module": "@jupyter-widgets/base",
            "_model_module_version": "1.2.0",
            "_model_name": "LayoutModel",
            "_view_count": null,
            "_view_module": "@jupyter-widgets/base",
            "_view_module_version": "1.2.0",
            "_view_name": "LayoutView",
            "align_content": null,
            "align_items": null,
            "align_self": null,
            "border": null,
            "bottom": null,
            "display": null,
            "flex": null,
            "flex_flow": null,
            "grid_area": null,
            "grid_auto_columns": null,
            "grid_auto_flow": null,
            "grid_auto_rows": null,
            "grid_column": null,
            "grid_gap": null,
            "grid_row": null,
            "grid_template_areas": null,
            "grid_template_columns": null,
            "grid_template_rows": null,
            "height": null,
            "justify_content": null,
            "justify_items": null,
            "left": null,
            "margin": null,
            "max_height": null,
            "max_width": null,
            "min_height": null,
            "min_width": null,
            "object_fit": null,
            "object_position": null,
            "order": null,
            "overflow": null,
            "overflow_x": null,
            "overflow_y": null,
            "padding": null,
            "right": null,
            "top": null,
            "visibility": null,
            "width": null
          }
        },
        "b8a75bf8469b46199214cc0695c7b0de": {
          "model_module": "@jupyter-widgets/controls",
          "model_name": "VBoxModel",
          "model_module_version": "1.5.0",
          "state": {
            "_dom_classes": [
              "widget-interact"
            ],
            "_model_module": "@jupyter-widgets/controls",
            "_model_module_version": "1.5.0",
            "_model_name": "VBoxModel",
            "_view_count": null,
            "_view_module": "@jupyter-widgets/controls",
            "_view_module_version": "1.5.0",
            "_view_name": "VBoxView",
            "box_style": "",
            "children": [
              "IPY_MODEL_ae742dda3ce347e4b63e0ea478df3774",
              "IPY_MODEL_9d994e00db28414c99e719ddc9db3640",
              "IPY_MODEL_115c13bdd49447c3a5bd88e617d62d1c"
            ],
            "layout": "IPY_MODEL_9c7d59fa7fef4adfa5c893f4d947653e"
          }
        },
        "ae742dda3ce347e4b63e0ea478df3774": {
          "model_module": "@jupyter-widgets/controls",
          "model_name": "FloatSliderModel",
          "model_module_version": "1.5.0",
          "state": {
            "_dom_classes": [],
            "_model_module": "@jupyter-widgets/controls",
            "_model_module_version": "1.5.0",
            "_model_name": "FloatSliderModel",
            "_view_count": null,
            "_view_module": "@jupyter-widgets/controls",
            "_view_module_version": "1.5.0",
            "_view_name": "FloatSliderView",
            "continuous_update": true,
            "description": "mu_gwn",
            "description_tooltip": null,
            "disabled": false,
            "layout": "IPY_MODEL_a91ab8c4c46d4f49b8f4da57276e5fad",
            "max": 300,
            "min": 100,
            "orientation": "horizontal",
            "readout": true,
            "readout_format": ".2f",
            "step": 5,
            "style": "IPY_MODEL_3390b9b66d72469986d86e11d4d77580",
            "value": 295
          }
        },
        "9d994e00db28414c99e719ddc9db3640": {
          "model_module": "@jupyter-widgets/controls",
          "model_name": "FloatSliderModel",
          "model_module_version": "1.5.0",
          "state": {
            "_dom_classes": [],
            "_model_module": "@jupyter-widgets/controls",
            "_model_module_version": "1.5.0",
            "_model_name": "FloatSliderModel",
            "_view_count": null,
            "_view_module": "@jupyter-widgets/controls",
            "_view_module_version": "1.5.0",
            "_view_name": "FloatSliderView",
            "continuous_update": true,
            "description": "sig_gwn",
            "description_tooltip": null,
            "disabled": false,
            "layout": "IPY_MODEL_a91ab8c4c46d4f49b8f4da57276e5fad",
            "max": 5,
            "min": 0,
            "orientation": "horizontal",
            "readout": true,
            "readout_format": ".2f",
            "step": 0.5,
            "style": "IPY_MODEL_149592adb365428cb18356d77dc05ad4",
            "value": 2
          }
        },
        "115c13bdd49447c3a5bd88e617d62d1c": {
          "model_module": "@jupyter-widgets/output",
          "model_name": "OutputModel",
          "model_module_version": "1.0.0",
          "state": {
            "_dom_classes": [],
            "_model_module": "@jupyter-widgets/output",
            "_model_module_version": "1.0.0",
            "_model_name": "OutputModel",
            "_view_count": null,
            "_view_module": "@jupyter-widgets/output",
            "_view_module_version": "1.0.0",
            "_view_name": "OutputView",
            "layout": "IPY_MODEL_18ecce91e8f644c992aea326ab015caa",
            "msg_id": "",
            "outputs": [
              {
                "output_type": "display_data",
                "data": {
                  "text/plain": "<Figure size 864x288 with 2 Axes>",
                  "image/png": "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\n"
                },
                "metadata": {
                  "image/png": {
                    "width": 846,
                    "height": 270
                  },
                  "needs_background": "light"
                }
              }
            ]
          }
        },
        "9c7d59fa7fef4adfa5c893f4d947653e": {
          "model_module": "@jupyter-widgets/base",
          "model_name": "LayoutModel",
          "model_module_version": "1.2.0",
          "state": {
            "_model_module": "@jupyter-widgets/base",
            "_model_module_version": "1.2.0",
            "_model_name": "LayoutModel",
            "_view_count": null,
            "_view_module": "@jupyter-widgets/base",
            "_view_module_version": "1.2.0",
            "_view_name": "LayoutView",
            "align_content": null,
            "align_items": null,
            "align_self": null,
            "border": null,
            "bottom": null,
            "display": null,
            "flex": null,
            "flex_flow": null,
            "grid_area": null,
            "grid_auto_columns": null,
            "grid_auto_flow": null,
            "grid_auto_rows": null,
            "grid_column": null,
            "grid_gap": null,
            "grid_row": null,
            "grid_template_areas": null,
            "grid_template_columns": null,
            "grid_template_rows": null,
            "height": null,
            "justify_content": null,
            "justify_items": null,
            "left": null,
            "margin": null,
            "max_height": null,
            "max_width": null,
            "min_height": null,
            "min_width": null,
            "object_fit": null,
            "object_position": null,
            "order": null,
            "overflow": null,
            "overflow_x": null,
            "overflow_y": null,
            "padding": null,
            "right": null,
            "top": null,
            "visibility": null,
            "width": null
          }
        },
        "3390b9b66d72469986d86e11d4d77580": {
          "model_module": "@jupyter-widgets/controls",
          "model_name": "SliderStyleModel",
          "model_module_version": "1.5.0",
          "state": {
            "_model_module": "@jupyter-widgets/controls",
            "_model_module_version": "1.5.0",
            "_model_name": "SliderStyleModel",
            "_view_count": null,
            "_view_module": "@jupyter-widgets/base",
            "_view_module_version": "1.2.0",
            "_view_name": "StyleView",
            "description_width": "",
            "handle_color": null
          }
        },
        "149592adb365428cb18356d77dc05ad4": {
          "model_module": "@jupyter-widgets/controls",
          "model_name": "SliderStyleModel",
          "model_module_version": "1.5.0",
          "state": {
            "_model_module": "@jupyter-widgets/controls",
            "_model_module_version": "1.5.0",
            "_model_name": "SliderStyleModel",
            "_view_count": null,
            "_view_module": "@jupyter-widgets/base",
            "_view_module_version": "1.2.0",
            "_view_name": "StyleView",
            "description_width": "",
            "handle_color": null
          }
        },
        "18ecce91e8f644c992aea326ab015caa": {
          "model_module": "@jupyter-widgets/base",
          "model_name": "LayoutModel",
          "model_module_version": "1.2.0",
          "state": {
            "_model_module": "@jupyter-widgets/base",
            "_model_module_version": "1.2.0",
            "_model_name": "LayoutModel",
            "_view_count": null,
            "_view_module": "@jupyter-widgets/base",
            "_view_module_version": "1.2.0",
            "_view_name": "LayoutView",
            "align_content": null,
            "align_items": null,
            "align_self": null,
            "border": null,
            "bottom": null,
            "display": null,
            "flex": null,
            "flex_flow": null,
            "grid_area": null,
            "grid_auto_columns": null,
            "grid_auto_flow": null,
            "grid_auto_rows": null,
            "grid_column": null,
            "grid_gap": null,
            "grid_row": null,
            "grid_template_areas": null,
            "grid_template_columns": null,
            "grid_template_rows": null,
            "height": null,
            "justify_content": null,
            "justify_items": null,
            "left": null,
            "margin": null,
            "max_height": null,
            "max_width": null,
            "min_height": null,
            "min_width": null,
            "object_fit": null,
            "object_position": null,
            "order": null,
            "overflow": null,
            "overflow_x": null,
            "overflow_y": null,
            "padding": null,
            "right": null,
            "top": null,
            "visibility": null,
            "width": null
          }
        },
        "2fbfb1989bf24cc3abd84ad17b89dad2": {
          "model_module": "@jupyter-widgets/controls",
          "model_name": "VBoxModel",
          "model_module_version": "1.5.0",
          "state": {
            "_dom_classes": [
              "widget-interact"
            ],
            "_model_module": "@jupyter-widgets/controls",
            "_model_module_version": "1.5.0",
            "_model_name": "VBoxModel",
            "_view_count": null,
            "_view_module": "@jupyter-widgets/controls",
            "_view_module_version": "1.5.0",
            "_view_name": "VBoxView",
            "box_style": "",
            "children": [
              "IPY_MODEL_4a021bf256ce4cf19233bc3bfc7a5231",
              "IPY_MODEL_ebed9fb86f69453c82ec14a984800253"
            ],
            "layout": "IPY_MODEL_ffcd76334b9d466cb26dd4fd5930a730"
          }
        },
        "4a021bf256ce4cf19233bc3bfc7a5231": {
          "model_module": "@jupyter-widgets/controls",
          "model_name": "FloatSliderModel",
          "model_module_version": "1.5.0",
          "state": {
            "_dom_classes": [],
            "_model_module": "@jupyter-widgets/controls",
            "_model_module_version": "1.5.0",
            "_model_name": "FloatSliderModel",
            "_view_count": null,
            "_view_module": "@jupyter-widgets/controls",
            "_view_module_version": "1.5.0",
            "_view_name": "FloatSliderView",
            "continuous_update": true,
            "description": "sig_gwn",
            "description_tooltip": null,
            "disabled": false,
            "layout": "IPY_MODEL_a91ab8c4c46d4f49b8f4da57276e5fad",
            "max": 6,
            "min": 0,
            "orientation": "horizontal",
            "readout": true,
            "readout_format": ".2f",
            "step": 0.5,
            "style": "IPY_MODEL_da1719af16fc4af1b15aa39ab0e67425",
            "value": 6
          }
        },
        "ebed9fb86f69453c82ec14a984800253": {
          "model_module": "@jupyter-widgets/output",
          "model_name": "OutputModel",
          "model_module_version": "1.0.0",
          "state": {
            "_dom_classes": [],
            "_model_module": "@jupyter-widgets/output",
            "_model_module_version": "1.0.0",
            "_model_name": "OutputModel",
            "_view_count": null,
            "_view_module": "@jupyter-widgets/output",
            "_view_module_version": "1.0.0",
            "_view_name": "OutputView",
            "layout": "IPY_MODEL_15a11c2584774b528933fe42266118c9",
            "msg_id": "",
            "outputs": [
              {
                "output_type": "display_data",
                "data": {
                  "text/plain": "<Figure size 576x432 with 1 Axes>",
                  "image/png": "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\n"
                },
                "metadata": {
                  "image/png": {
                    "width": 557,
                    "height": 413
                  },
                  "needs_background": "light"
                }
              }
            ]
          }
        },
        "ffcd76334b9d466cb26dd4fd5930a730": {
          "model_module": "@jupyter-widgets/base",
          "model_name": "LayoutModel",
          "model_module_version": "1.2.0",
          "state": {
            "_model_module": "@jupyter-widgets/base",
            "_model_module_version": "1.2.0",
            "_model_name": "LayoutModel",
            "_view_count": null,
            "_view_module": "@jupyter-widgets/base",
            "_view_module_version": "1.2.0",
            "_view_name": "LayoutView",
            "align_content": null,
            "align_items": null,
            "align_self": null,
            "border": null,
            "bottom": null,
            "display": null,
            "flex": null,
            "flex_flow": null,
            "grid_area": null,
            "grid_auto_columns": null,
            "grid_auto_flow": null,
            "grid_auto_rows": null,
            "grid_column": null,
            "grid_gap": null,
            "grid_row": null,
            "grid_template_areas": null,
            "grid_template_columns": null,
            "grid_template_rows": null,
            "height": null,
            "justify_content": null,
            "justify_items": null,
            "left": null,
            "margin": null,
            "max_height": null,
            "max_width": null,
            "min_height": null,
            "min_width": null,
            "object_fit": null,
            "object_position": null,
            "order": null,
            "overflow": null,
            "overflow_x": null,
            "overflow_y": null,
            "padding": null,
            "right": null,
            "top": null,
            "visibility": null,
            "width": null
          }
        },
        "da1719af16fc4af1b15aa39ab0e67425": {
          "model_module": "@jupyter-widgets/controls",
          "model_name": "SliderStyleModel",
          "model_module_version": "1.5.0",
          "state": {
            "_model_module": "@jupyter-widgets/controls",
            "_model_module_version": "1.5.0",
            "_model_name": "SliderStyleModel",
            "_view_count": null,
            "_view_module": "@jupyter-widgets/base",
            "_view_module_version": "1.2.0",
            "_view_name": "StyleView",
            "description_width": "",
            "handle_color": null
          }
        },
        "15a11c2584774b528933fe42266118c9": {
          "model_module": "@jupyter-widgets/base",
          "model_name": "LayoutModel",
          "model_module_version": "1.2.0",
          "state": {
            "_model_module": "@jupyter-widgets/base",
            "_model_module_version": "1.2.0",
            "_model_name": "LayoutModel",
            "_view_count": null,
            "_view_module": "@jupyter-widgets/base",
            "_view_module_version": "1.2.0",
            "_view_name": "LayoutView",
            "align_content": null,
            "align_items": null,
            "align_self": null,
            "border": null,
            "bottom": null,
            "display": null,
            "flex": null,
            "flex_flow": null,
            "grid_area": null,
            "grid_auto_columns": null,
            "grid_auto_flow": null,
            "grid_auto_rows": null,
            "grid_column": null,
            "grid_gap": null,
            "grid_row": null,
            "grid_template_areas": null,
            "grid_template_columns": null,
            "grid_template_rows": null,
            "height": null,
            "justify_content": null,
            "justify_items": null,
            "left": null,
            "margin": null,
            "max_height": null,
            "max_width": null,
            "min_height": null,
            "min_width": null,
            "object_fit": null,
            "object_position": null,
            "order": null,
            "overflow": null,
            "overflow_x": null,
            "overflow_y": null,
            "padding": null,
            "right": null,
            "top": null,
            "visibility": null,
            "width": null
          }
        },
        "805aab65750f4f3793c8ecf3e52354c9": {
          "model_module": "@jupyter-widgets/controls",
          "model_name": "VBoxModel",
          "model_module_version": "1.5.0",
          "state": {
            "_dom_classes": [
              "widget-interact"
            ],
            "_model_module": "@jupyter-widgets/controls",
            "_model_module_version": "1.5.0",
            "_model_name": "VBoxModel",
            "_view_count": null,
            "_view_module": "@jupyter-widgets/controls",
            "_view_module_version": "1.5.0",
            "_view_name": "VBoxView",
            "box_style": "",
            "children": [
              "IPY_MODEL_6d7735ab427f4dd7aa34b6923faa9a8b",
              "IPY_MODEL_45ed27391cc6416bb3976c037396e8b8"
            ],
            "layout": "IPY_MODEL_7ef94a1565d7414db448501da96ceb3c"
          }
        },
        "6d7735ab427f4dd7aa34b6923faa9a8b": {
          "model_module": "@jupyter-widgets/controls",
          "model_name": "FloatSliderModel",
          "model_module_version": "1.5.0",
          "state": {
            "_dom_classes": [],
            "_model_module": "@jupyter-widgets/controls",
            "_model_module_version": "1.5.0",
            "_model_name": "FloatSliderModel",
            "_view_count": null,
            "_view_module": "@jupyter-widgets/controls",
            "_view_module_version": "1.5.0",
            "_view_name": "FloatSliderView",
            "continuous_update": true,
            "description": "sig_gwn",
            "description_tooltip": null,
            "disabled": false,
            "layout": "IPY_MODEL_a91ab8c4c46d4f49b8f4da57276e5fad",
            "max": 10,
            "min": 0,
            "orientation": "horizontal",
            "readout": true,
            "readout_format": ".2f",
            "step": 0.5,
            "style": "IPY_MODEL_7fd73aacf93e4a11879950cf902a6744",
            "value": 3
          }
        },
        "45ed27391cc6416bb3976c037396e8b8": {
          "model_module": "@jupyter-widgets/output",
          "model_name": "OutputModel",
          "model_module_version": "1.0.0",
          "state": {
            "_dom_classes": [],
            "_model_module": "@jupyter-widgets/output",
            "_model_module_version": "1.0.0",
            "_model_name": "OutputModel",
            "_view_count": null,
            "_view_module": "@jupyter-widgets/output",
            "_view_module_version": "1.0.0",
            "_view_name": "OutputView",
            "layout": "IPY_MODEL_e99a475840f8442da39b380ec28c9bc1",
            "msg_id": "",
            "outputs": [
              {
                "output_type": "display_data",
                "data": {
                  "text/plain": "<Figure size 576x432 with 1 Axes>",
                  "image/png": "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\n"
                },
                "metadata": {
                  "image/png": {
                    "width": 558,
                    "height": 413
                  },
                  "needs_background": "light"
                }
              }
            ]
          }
        },
        "7ef94a1565d7414db448501da96ceb3c": {
          "model_module": "@jupyter-widgets/base",
          "model_name": "LayoutModel",
          "model_module_version": "1.2.0",
          "state": {
            "_model_module": "@jupyter-widgets/base",
            "_model_module_version": "1.2.0",
            "_model_name": "LayoutModel",
            "_view_count": null,
            "_view_module": "@jupyter-widgets/base",
            "_view_module_version": "1.2.0",
            "_view_name": "LayoutView",
            "align_content": null,
            "align_items": null,
            "align_self": null,
            "border": null,
            "bottom": null,
            "display": null,
            "flex": null,
            "flex_flow": null,
            "grid_area": null,
            "grid_auto_columns": null,
            "grid_auto_flow": null,
            "grid_auto_rows": null,
            "grid_column": null,
            "grid_gap": null,
            "grid_row": null,
            "grid_template_areas": null,
            "grid_template_columns": null,
            "grid_template_rows": null,
            "height": null,
            "justify_content": null,
            "justify_items": null,
            "left": null,
            "margin": null,
            "max_height": null,
            "max_width": null,
            "min_height": null,
            "min_width": null,
            "object_fit": null,
            "object_position": null,
            "order": null,
            "overflow": null,
            "overflow_x": null,
            "overflow_y": null,
            "padding": null,
            "right": null,
            "top": null,
            "visibility": null,
            "width": null
          }
        },
        "7fd73aacf93e4a11879950cf902a6744": {
          "model_module": "@jupyter-widgets/controls",
          "model_name": "SliderStyleModel",
          "model_module_version": "1.5.0",
          "state": {
            "_model_module": "@jupyter-widgets/controls",
            "_model_module_version": "1.5.0",
            "_model_name": "SliderStyleModel",
            "_view_count": null,
            "_view_module": "@jupyter-widgets/base",
            "_view_module_version": "1.2.0",
            "_view_name": "StyleView",
            "description_width": "",
            "handle_color": null
          }
        },
        "e99a475840f8442da39b380ec28c9bc1": {
          "model_module": "@jupyter-widgets/base",
          "model_name": "LayoutModel",
          "model_module_version": "1.2.0",
          "state": {
            "_model_module": "@jupyter-widgets/base",
            "_model_module_version": "1.2.0",
            "_model_name": "LayoutModel",
            "_view_count": null,
            "_view_module": "@jupyter-widgets/base",
            "_view_module_version": "1.2.0",
            "_view_name": "LayoutView",
            "align_content": null,
            "align_items": null,
            "align_self": null,
            "border": null,
            "bottom": null,
            "display": null,
            "flex": null,
            "flex_flow": null,
            "grid_area": null,
            "grid_auto_columns": null,
            "grid_auto_flow": null,
            "grid_auto_rows": null,
            "grid_column": null,
            "grid_gap": null,
            "grid_row": null,
            "grid_template_areas": null,
            "grid_template_columns": null,
            "grid_template_rows": null,
            "height": null,
            "justify_content": null,
            "justify_items": null,
            "left": null,
            "margin": null,
            "max_height": null,
            "max_width": null,
            "min_height": null,
            "min_width": null,
            "object_fit": null,
            "object_position": null,
            "order": null,
            "overflow": null,
            "overflow_x": null,
            "overflow_y": null,
            "padding": null,
            "right": null,
            "top": null,
            "visibility": null,
            "width": null
          }
        },
        "ae61685505fa48a792c7b81ef07a2308": {
          "model_module": "@jupyter-widgets/controls",
          "model_name": "VBoxModel",
          "model_module_version": "1.5.0",
          "state": {
            "_dom_classes": [
              "widget-interact"
            ],
            "_model_module": "@jupyter-widgets/controls",
            "_model_module_version": "1.5.0",
            "_model_name": "VBoxModel",
            "_view_count": null,
            "_view_module": "@jupyter-widgets/controls",
            "_view_module_version": "1.5.0",
            "_view_name": "VBoxView",
            "box_style": "",
            "children": [
              "IPY_MODEL_facf9e4704a147bcb65e3bab1b9087b9",
              "IPY_MODEL_ab8812a08073442f9f18e163d5d359d8",
              "IPY_MODEL_4477c82198034c9883d54c681d12e39d",
              "IPY_MODEL_501b745518774caf84c0da1285b354f1"
            ],
            "layout": "IPY_MODEL_da5a3e7c2eae400ab8719a4d4db4c21b"
          }
        },
        "facf9e4704a147bcb65e3bab1b9087b9": {
          "model_module": "@jupyter-widgets/controls",
          "model_name": "FloatSliderModel",
          "model_module_version": "1.5.0",
          "state": {
            "_dom_classes": [],
            "_model_module": "@jupyter-widgets/controls",
            "_model_module_version": "1.5.0",
            "_model_name": "FloatSliderModel",
            "_view_count": null,
            "_view_module": "@jupyter-widgets/controls",
            "_view_module_version": "1.5.0",
            "_view_name": "FloatSliderView",
            "continuous_update": true,
            "description": "tau_ou",
            "description_tooltip": null,
            "disabled": false,
            "layout": "IPY_MODEL_a91ab8c4c46d4f49b8f4da57276e5fad",
            "max": 20,
            "min": 5,
            "orientation": "horizontal",
            "readout": true,
            "readout_format": ".2f",
            "step": 2.5,
            "style": "IPY_MODEL_e0a4326ba7c04ba98f4cc031671433cf",
            "value": 10
          }
        },
        "ab8812a08073442f9f18e163d5d359d8": {
          "model_module": "@jupyter-widgets/controls",
          "model_name": "FloatSliderModel",
          "model_module_version": "1.5.0",
          "state": {
            "_dom_classes": [],
            "_model_module": "@jupyter-widgets/controls",
            "_model_module_version": "1.5.0",
            "_model_name": "FloatSliderModel",
            "_view_count": null,
            "_view_module": "@jupyter-widgets/controls",
            "_view_module_version": "1.5.0",
            "_view_name": "FloatSliderView",
            "continuous_update": true,
            "description": "sig_ou",
            "description_tooltip": null,
            "disabled": false,
            "layout": "IPY_MODEL_a91ab8c4c46d4f49b8f4da57276e5fad",
            "max": 40,
            "min": 5,
            "orientation": "horizontal",
            "readout": true,
            "readout_format": ".2f",
            "step": 2.5,
            "style": "IPY_MODEL_d2e40e93f1744025925c6ce2edf35387",
            "value": 10
          }
        },
        "4477c82198034c9883d54c681d12e39d": {
          "model_module": "@jupyter-widgets/controls",
          "model_name": "FloatSliderModel",
          "model_module_version": "1.5.0",
          "state": {
            "_dom_classes": [],
            "_model_module": "@jupyter-widgets/controls",
            "_model_module_version": "1.5.0",
            "_model_name": "FloatSliderModel",
            "_view_count": null,
            "_view_module": "@jupyter-widgets/controls",
            "_view_module_version": "1.5.0",
            "_view_name": "FloatSliderView",
            "continuous_update": true,
            "description": "mu_ou",
            "description_tooltip": null,
            "disabled": false,
            "layout": "IPY_MODEL_a91ab8c4c46d4f49b8f4da57276e5fad",
            "max": 220,
            "min": 180,
            "orientation": "horizontal",
            "readout": true,
            "readout_format": ".2f",
            "step": 2.5,
            "style": "IPY_MODEL_64af2d4512d744289b66515825a5c158",
            "value": 190
          }
        },
        "501b745518774caf84c0da1285b354f1": {
          "model_module": "@jupyter-widgets/output",
          "model_name": "OutputModel",
          "model_module_version": "1.0.0",
          "state": {
            "_dom_classes": [],
            "_model_module": "@jupyter-widgets/output",
            "_model_module_version": "1.0.0",
            "_model_name": "OutputModel",
            "_view_count": null,
            "_view_module": "@jupyter-widgets/output",
            "_view_module_version": "1.0.0",
            "_view_name": "OutputView",
            "layout": "IPY_MODEL_2be45a868e2348559d12ba3b1bd46573",
            "msg_id": "",
            "outputs": [
              {
                "output_type": "display_data",
                "data": {
                  "text/plain": "<Figure size 864x288 with 2 Axes>",
                  "image/png": "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\n"
                },
                "metadata": {
                  "image/png": {
                    "width": 846,
                    "height": 270
                  },
                  "needs_background": "light"
                }
              }
            ]
          }
        },
        "da5a3e7c2eae400ab8719a4d4db4c21b": {
          "model_module": "@jupyter-widgets/base",
          "model_name": "LayoutModel",
          "model_module_version": "1.2.0",
          "state": {
            "_model_module": "@jupyter-widgets/base",
            "_model_module_version": "1.2.0",
            "_model_name": "LayoutModel",
            "_view_count": null,
            "_view_module": "@jupyter-widgets/base",
            "_view_module_version": "1.2.0",
            "_view_name": "LayoutView",
            "align_content": null,
            "align_items": null,
            "align_self": null,
            "border": null,
            "bottom": null,
            "display": null,
            "flex": null,
            "flex_flow": null,
            "grid_area": null,
            "grid_auto_columns": null,
            "grid_auto_flow": null,
            "grid_auto_rows": null,
            "grid_column": null,
            "grid_gap": null,
            "grid_row": null,
            "grid_template_areas": null,
            "grid_template_columns": null,
            "grid_template_rows": null,
            "height": null,
            "justify_content": null,
            "justify_items": null,
            "left": null,
            "margin": null,
            "max_height": null,
            "max_width": null,
            "min_height": null,
            "min_width": null,
            "object_fit": null,
            "object_position": null,
            "order": null,
            "overflow": null,
            "overflow_x": null,
            "overflow_y": null,
            "padding": null,
            "right": null,
            "top": null,
            "visibility": null,
            "width": null
          }
        },
        "e0a4326ba7c04ba98f4cc031671433cf": {
          "model_module": "@jupyter-widgets/controls",
          "model_name": "SliderStyleModel",
          "model_module_version": "1.5.0",
          "state": {
            "_model_module": "@jupyter-widgets/controls",
            "_model_module_version": "1.5.0",
            "_model_name": "SliderStyleModel",
            "_view_count": null,
            "_view_module": "@jupyter-widgets/base",
            "_view_module_version": "1.2.0",
            "_view_name": "StyleView",
            "description_width": "",
            "handle_color": null
          }
        },
        "d2e40e93f1744025925c6ce2edf35387": {
          "model_module": "@jupyter-widgets/controls",
          "model_name": "SliderStyleModel",
          "model_module_version": "1.5.0",
          "state": {
            "_model_module": "@jupyter-widgets/controls",
            "_model_module_version": "1.5.0",
            "_model_name": "SliderStyleModel",
            "_view_count": null,
            "_view_module": "@jupyter-widgets/base",
            "_view_module_version": "1.2.0",
            "_view_name": "StyleView",
            "description_width": "",
            "handle_color": null
          }
        },
        "64af2d4512d744289b66515825a5c158": {
          "model_module": "@jupyter-widgets/controls",
          "model_name": "SliderStyleModel",
          "model_module_version": "1.5.0",
          "state": {
            "_model_module": "@jupyter-widgets/controls",
            "_model_module_version": "1.5.0",
            "_model_name": "SliderStyleModel",
            "_view_count": null,
            "_view_module": "@jupyter-widgets/base",
            "_view_module_version": "1.2.0",
            "_view_name": "StyleView",
            "description_width": "",
            "handle_color": null
          }
        },
        "2be45a868e2348559d12ba3b1bd46573": {
          "model_module": "@jupyter-widgets/base",
          "model_name": "LayoutModel",
          "model_module_version": "1.2.0",
          "state": {
            "_model_module": "@jupyter-widgets/base",
            "_model_module_version": "1.2.0",
            "_model_name": "LayoutModel",
            "_view_count": null,
            "_view_module": "@jupyter-widgets/base",
            "_view_module_version": "1.2.0",
            "_view_name": "LayoutView",
            "align_content": null,
            "align_items": null,
            "align_self": null,
            "border": null,
            "bottom": null,
            "display": null,
            "flex": null,
            "flex_flow": null,
            "grid_area": null,
            "grid_auto_columns": null,
            "grid_auto_flow": null,
            "grid_auto_rows": null,
            "grid_column": null,
            "grid_gap": null,
            "grid_row": null,
            "grid_template_areas": null,
            "grid_template_columns": null,
            "grid_template_rows": null,
            "height": null,
            "justify_content": null,
            "justify_items": null,
            "left": null,
            "margin": null,
            "max_height": null,
            "max_width": null,
            "min_height": null,
            "min_width": null,
            "object_fit": null,
            "object_position": null,
            "order": null,
            "overflow": null,
            "overflow_x": null,
            "overflow_y": null,
            "padding": null,
            "right": null,
            "top": null,
            "visibility": null,
            "width": null
          }
        },
        "d946af83bdb14228a0208be1f560299a": {
          "model_module": "@jupyter-widgets/controls",
          "model_name": "TabModel",
          "model_module_version": "1.5.0",
          "state": {
            "_dom_classes": [],
            "_model_module": "@jupyter-widgets/controls",
            "_model_module_version": "1.5.0",
            "_model_name": "TabModel",
            "_titles": {
              "0": "Youtube",
              "1": "Bilibili"
            },
            "_view_count": null,
            "_view_module": "@jupyter-widgets/controls",
            "_view_module_version": "1.5.0",
            "_view_name": "TabView",
            "box_style": "",
            "children": [
              "IPY_MODEL_31570a16e70f47179fc4ab6bae1e65f6",
              "IPY_MODEL_75d791d636a541a7924b9c04e03eefa5"
            ],
            "layout": "IPY_MODEL_c93f08e37dba41f7ae1187b8d4345e02",
            "selected_index": 0
          }
        },
        "31570a16e70f47179fc4ab6bae1e65f6": {
          "model_module": "@jupyter-widgets/output",
          "model_name": "OutputModel",
          "model_module_version": "1.0.0",
          "state": {
            "_dom_classes": [],
            "_model_module": "@jupyter-widgets/output",
            "_model_module_version": "1.0.0",
            "_model_name": "OutputModel",
            "_view_count": null,
            "_view_module": "@jupyter-widgets/output",
            "_view_module_version": "1.0.0",
            "_view_name": "OutputView",
            "layout": "IPY_MODEL_c5f393331ae743fcaed76ccc0a70fa74",
            "msg_id": "",
            "outputs": [
              {
                "output_type": "stream",
                "name": "stdout",
                "text": [
                  "Video available at https://youtube.com/watch?v=G0b6wLhuQxE\n"
                ]
              },
              {
                "output_type": "display_data",
                "data": {
                  "text/plain": "<IPython.lib.display.YouTubeVideo at 0x7f570eb9ea90>",
                  "text/html": "\n        <iframe\n            width=\"854\"\n            height=\"480\"\n            src=\"https://www.youtube.com/embed/G0b6wLhuQxE?fs=1&rel=0\"\n            frameborder=\"0\"\n            allowfullscreen\n        ></iframe>\n        ",
                  "image/jpeg": "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\n"
                },
                "metadata": {}
              }
            ]
          }
        },
        "75d791d636a541a7924b9c04e03eefa5": {
          "model_module": "@jupyter-widgets/output",
          "model_name": "OutputModel",
          "model_module_version": "1.0.0",
          "state": {
            "_dom_classes": [],
            "_model_module": "@jupyter-widgets/output",
            "_model_module_version": "1.0.0",
            "_model_name": "OutputModel",
            "_view_count": null,
            "_view_module": "@jupyter-widgets/output",
            "_view_module_version": "1.0.0",
            "_view_name": "OutputView",
            "layout": "IPY_MODEL_dce69c2cfc6f43f689dcba9a9c5b32d0",
            "msg_id": "",
            "outputs": [
              {
                "output_type": "stream",
                "name": "stdout",
                "text": [
                  "Video available at https://www.bilibili.com/video/\n"
                ]
              },
              {
                "output_type": "display_data",
                "data": {
                  "text/plain": "<__main__.BiliVideo at 0x7f570edba410>",
                  "text/html": "\n        <iframe\n            width=\"854\"\n            height=\"480\"\n            src=\"https://player.bilibili.com/player.html?bvid=&page=1?fs=1\"\n            frameborder=\"0\"\n            allowfullscreen\n        ></iframe>\n        "
                },
                "metadata": {}
              }
            ]
          }
        },
        "c93f08e37dba41f7ae1187b8d4345e02": {
          "model_module": "@jupyter-widgets/base",
          "model_name": "LayoutModel",
          "model_module_version": "1.2.0",
          "state": {
            "_model_module": "@jupyter-widgets/base",
            "_model_module_version": "1.2.0",
            "_model_name": "LayoutModel",
            "_view_count": null,
            "_view_module": "@jupyter-widgets/base",
            "_view_module_version": "1.2.0",
            "_view_name": "LayoutView",
            "align_content": null,
            "align_items": null,
            "align_self": null,
            "border": null,
            "bottom": null,
            "display": null,
            "flex": null,
            "flex_flow": null,
            "grid_area": null,
            "grid_auto_columns": null,
            "grid_auto_flow": null,
            "grid_auto_rows": null,
            "grid_column": null,
            "grid_gap": null,
            "grid_row": null,
            "grid_template_areas": null,
            "grid_template_columns": null,
            "grid_template_rows": null,
            "height": null,
            "justify_content": null,
            "justify_items": null,
            "left": null,
            "margin": null,
            "max_height": null,
            "max_width": null,
            "min_height": null,
            "min_width": null,
            "object_fit": null,
            "object_position": null,
            "order": null,
            "overflow": null,
            "overflow_x": null,
            "overflow_y": null,
            "padding": null,
            "right": null,
            "top": null,
            "visibility": null,
            "width": null
          }
        },
        "c5f393331ae743fcaed76ccc0a70fa74": {
          "model_module": "@jupyter-widgets/base",
          "model_name": "LayoutModel",
          "model_module_version": "1.2.0",
          "state": {
            "_model_module": "@jupyter-widgets/base",
            "_model_module_version": "1.2.0",
            "_model_name": "LayoutModel",
            "_view_count": null,
            "_view_module": "@jupyter-widgets/base",
            "_view_module_version": "1.2.0",
            "_view_name": "LayoutView",
            "align_content": null,
            "align_items": null,
            "align_self": null,
            "border": null,
            "bottom": null,
            "display": null,
            "flex": null,
            "flex_flow": null,
            "grid_area": null,
            "grid_auto_columns": null,
            "grid_auto_flow": null,
            "grid_auto_rows": null,
            "grid_column": null,
            "grid_gap": null,
            "grid_row": null,
            "grid_template_areas": null,
            "grid_template_columns": null,
            "grid_template_rows": null,
            "height": null,
            "justify_content": null,
            "justify_items": null,
            "left": null,
            "margin": null,
            "max_height": null,
            "max_width": null,
            "min_height": null,
            "min_width": null,
            "object_fit": null,
            "object_position": null,
            "order": null,
            "overflow": null,
            "overflow_x": null,
            "overflow_y": null,
            "padding": null,
            "right": null,
            "top": null,
            "visibility": null,
            "width": null
          }
        },
        "dce69c2cfc6f43f689dcba9a9c5b32d0": {
          "model_module": "@jupyter-widgets/base",
          "model_name": "LayoutModel",
          "model_module_version": "1.2.0",
          "state": {
            "_model_module": "@jupyter-widgets/base",
            "_model_module_version": "1.2.0",
            "_model_name": "LayoutModel",
            "_view_count": null,
            "_view_module": "@jupyter-widgets/base",
            "_view_module_version": "1.2.0",
            "_view_name": "LayoutView",
            "align_content": null,
            "align_items": null,
            "align_self": null,
            "border": null,
            "bottom": null,
            "display": null,
            "flex": null,
            "flex_flow": null,
            "grid_area": null,
            "grid_auto_columns": null,
            "grid_auto_flow": null,
            "grid_auto_rows": null,
            "grid_column": null,
            "grid_gap": null,
            "grid_row": null,
            "grid_template_areas": null,
            "grid_template_columns": null,
            "grid_template_rows": null,
            "height": null,
            "justify_content": null,
            "justify_items": null,
            "left": null,
            "margin": null,
            "max_height": null,
            "max_width": null,
            "min_height": null,
            "min_width": null,
            "object_fit": null,
            "object_position": null,
            "order": null,
            "overflow": null,
            "overflow_x": null,
            "overflow_y": null,
            "padding": null,
            "right": null,
            "top": null,
            "visibility": null,
            "width": null
          }
        }
      }
    }
  },
  "nbformat": 4,
  "nbformat_minor": 0
}